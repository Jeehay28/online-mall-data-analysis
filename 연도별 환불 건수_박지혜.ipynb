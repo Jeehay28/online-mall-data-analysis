{
 "cells": [
  {
   "cell_type": "code",
   "execution_count": 1,
   "id": "003ea647",
   "metadata": {},
   "outputs": [],
   "source": [
    "import pandas as pd\n",
    "import matplotlib.pyplot as plt\n",
    "\n",
    "# 그래프에 한글 설정\n",
    "plt.rcParams['font.family']='Malgun Gothic'\n",
    "\n",
    "# 그래프에 마이너스 기호 깨지는 문제 해결\n",
    "plt.rcParams['axes.unicode_minus'] = False\n",
    "\n",
    "#df_order1 = pd.read_excel (r'3.1 주문정보(개인정보 제외)_추출.xlsx')\n",
    "#df_payment1 = pd.read_excel (r'4.1 결제정보(개인정보 제외)_추출.xlsx')\n",
    "#df_customer1 = pd.read_excel (r'1.1 고객기본정보(개인정보 제외)_추출.xlsx')\n",
    "df_item1 = pd.read_excel (r'2.1 상품정보_추출.xlsx')\n",
    "df_refund1 = pd.read_excel (r'5.1 환불정보(개인정보 제외)_추출.xlsx')\n"
   ]
  },
  {
   "cell_type": "markdown",
   "id": "7730c395",
   "metadata": {},
   "source": [
    "# 주문 정보\n",
    "- 주문 건수 : 24766\n",
    "- 구매 확정 : 19161"
   ]
  },
  {
   "cell_type": "code",
   "execution_count": 2,
   "id": "2b3a1224",
   "metadata": {},
   "outputs": [
    {
     "data": {
      "text/html": [
       "<div>\n",
       "<style scoped>\n",
       "    .dataframe tbody tr th:only-of-type {\n",
       "        vertical-align: middle;\n",
       "    }\n",
       "\n",
       "    .dataframe tbody tr th {\n",
       "        vertical-align: top;\n",
       "    }\n",
       "\n",
       "    .dataframe thead th {\n",
       "        text-align: right;\n",
       "    }\n",
       "</style>\n",
       "<table border=\"1\" class=\"dataframe\">\n",
       "  <thead>\n",
       "    <tr style=\"text-align: right;\">\n",
       "      <th></th>\n",
       "      <th>주문번호</th>\n",
       "      <th>환불번호</th>\n",
       "      <th>진행구분</th>\n",
       "      <th>결제수단</th>\n",
       "      <th>환불금액</th>\n",
       "      <th>할부개월</th>\n",
       "      <th>환불일자</th>\n",
       "    </tr>\n",
       "  </thead>\n",
       "  <tbody>\n",
       "    <tr>\n",
       "      <th>0</th>\n",
       "      <td>1709061012340050</td>\n",
       "      <td>17</td>\n",
       "      <td>취소</td>\n",
       "      <td>신용카드</td>\n",
       "      <td>37000.0</td>\n",
       "      <td>0.0</td>\n",
       "      <td>2017-09-06 10:14:22</td>\n",
       "    </tr>\n",
       "    <tr>\n",
       "      <th>1</th>\n",
       "      <td>1709111558160149</td>\n",
       "      <td>48</td>\n",
       "      <td>취소</td>\n",
       "      <td>가상계좌</td>\n",
       "      <td>6850.0</td>\n",
       "      <td>NaN</td>\n",
       "      <td>2017-09-12 16:42:22</td>\n",
       "    </tr>\n",
       "    <tr>\n",
       "      <th>2</th>\n",
       "      <td>1709121552530178</td>\n",
       "      <td>71</td>\n",
       "      <td>취소</td>\n",
       "      <td>가상계좌</td>\n",
       "      <td>249500.0</td>\n",
       "      <td>NaN</td>\n",
       "      <td>2017-09-12 15:56:20</td>\n",
       "    </tr>\n",
       "    <tr>\n",
       "      <th>3</th>\n",
       "      <td>1709211749040335</td>\n",
       "      <td>121</td>\n",
       "      <td>취소</td>\n",
       "      <td>가상계좌</td>\n",
       "      <td>409200.0</td>\n",
       "      <td>NaN</td>\n",
       "      <td>2017-09-21 17:51:50</td>\n",
       "    </tr>\n",
       "    <tr>\n",
       "      <th>4</th>\n",
       "      <td>1709221305150350</td>\n",
       "      <td>128</td>\n",
       "      <td>취소</td>\n",
       "      <td>신용카드</td>\n",
       "      <td>12060.0</td>\n",
       "      <td>0.0</td>\n",
       "      <td>2017-09-22 13:12:27</td>\n",
       "    </tr>\n",
       "  </tbody>\n",
       "</table>\n",
       "</div>"
      ],
      "text/plain": [
       "               주문번호  환불번호 진행구분  결제수단      환불금액  할부개월                환불일자\n",
       "0  1709061012340050    17   취소  신용카드   37000.0   0.0 2017-09-06 10:14:22\n",
       "1  1709111558160149    48   취소  가상계좌    6850.0   NaN 2017-09-12 16:42:22\n",
       "2  1709121552530178    71   취소  가상계좌  249500.0   NaN 2017-09-12 15:56:20\n",
       "3  1709211749040335   121   취소  가상계좌  409200.0   NaN 2017-09-21 17:51:50\n",
       "4  1709221305150350   128   취소  신용카드   12060.0   0.0 2017-09-22 13:12:27"
      ]
     },
     "execution_count": 2,
     "metadata": {},
     "output_type": "execute_result"
    }
   ],
   "source": [
    "# 환불 정보\n",
    "df_refund1.head()"
   ]
  },
  {
   "cell_type": "code",
   "execution_count": 3,
   "id": "fe4fdfa6",
   "metadata": {},
   "outputs": [
    {
     "data": {
      "text/plain": [
       "주문번호             int64\n",
       "환불번호             int64\n",
       "진행구분            object\n",
       "결제수단            object\n",
       "환불금액           float64\n",
       "할부개월           float64\n",
       "환불일자    datetime64[ns]\n",
       "dtype: object"
      ]
     },
     "execution_count": 3,
     "metadata": {},
     "output_type": "execute_result"
    }
   ],
   "source": [
    "df_refund1.dtypes"
   ]
  },
  {
   "cell_type": "code",
   "execution_count": 4,
   "id": "a7ac6d16",
   "metadata": {},
   "outputs": [
    {
     "data": {
      "text/plain": [
       "(3790, 7)"
      ]
     },
     "execution_count": 4,
     "metadata": {},
     "output_type": "execute_result"
    }
   ],
   "source": [
    "df_refund1.shape"
   ]
  },
  {
   "cell_type": "code",
   "execution_count": 5,
   "id": "00539e37",
   "metadata": {},
   "outputs": [
    {
     "data": {
      "text/plain": [
       "주문번호       0\n",
       "환불번호       0\n",
       "진행구분       0\n",
       "결제수단       0\n",
       "환불금액       0\n",
       "할부개월    1941\n",
       "환불일자       0\n",
       "dtype: int64"
      ]
     },
     "execution_count": 5,
     "metadata": {},
     "output_type": "execute_result"
    }
   ],
   "source": [
    "df_refund1.isnull().sum()"
   ]
  },
  {
   "cell_type": "code",
   "execution_count": 6,
   "id": "9525167f",
   "metadata": {},
   "outputs": [],
   "source": [
    "df_refund1['환불일'] = df_refund1['환불일자'].dt.date\n",
    "df_refund1['환불월'] = df_refund1['환불일자'].dt.month\n",
    "df_refund1['환불년도'] = df_refund1['환불일자'].dt.year"
   ]
  },
  {
   "cell_type": "code",
   "execution_count": 7,
   "id": "77970f8a",
   "metadata": {},
   "outputs": [
    {
     "data": {
      "text/html": [
       "<div>\n",
       "<style scoped>\n",
       "    .dataframe tbody tr th:only-of-type {\n",
       "        vertical-align: middle;\n",
       "    }\n",
       "\n",
       "    .dataframe tbody tr th {\n",
       "        vertical-align: top;\n",
       "    }\n",
       "\n",
       "    .dataframe thead th {\n",
       "        text-align: right;\n",
       "    }\n",
       "</style>\n",
       "<table border=\"1\" class=\"dataframe\">\n",
       "  <thead>\n",
       "    <tr style=\"text-align: right;\">\n",
       "      <th></th>\n",
       "      <th>주문번호</th>\n",
       "      <th>환불번호</th>\n",
       "      <th>진행구분</th>\n",
       "      <th>결제수단</th>\n",
       "      <th>환불금액</th>\n",
       "      <th>할부개월</th>\n",
       "      <th>환불일자</th>\n",
       "      <th>환불일</th>\n",
       "      <th>환불월</th>\n",
       "      <th>환불년도</th>\n",
       "    </tr>\n",
       "  </thead>\n",
       "  <tbody>\n",
       "    <tr>\n",
       "      <th>0</th>\n",
       "      <td>1709061012340050</td>\n",
       "      <td>17</td>\n",
       "      <td>취소</td>\n",
       "      <td>신용카드</td>\n",
       "      <td>37000.0</td>\n",
       "      <td>0.0</td>\n",
       "      <td>2017-09-06 10:14:22</td>\n",
       "      <td>2017-09-06</td>\n",
       "      <td>9</td>\n",
       "      <td>2017</td>\n",
       "    </tr>\n",
       "    <tr>\n",
       "      <th>1</th>\n",
       "      <td>1709111558160149</td>\n",
       "      <td>48</td>\n",
       "      <td>취소</td>\n",
       "      <td>가상계좌</td>\n",
       "      <td>6850.0</td>\n",
       "      <td>NaN</td>\n",
       "      <td>2017-09-12 16:42:22</td>\n",
       "      <td>2017-09-12</td>\n",
       "      <td>9</td>\n",
       "      <td>2017</td>\n",
       "    </tr>\n",
       "    <tr>\n",
       "      <th>2</th>\n",
       "      <td>1709121552530178</td>\n",
       "      <td>71</td>\n",
       "      <td>취소</td>\n",
       "      <td>가상계좌</td>\n",
       "      <td>249500.0</td>\n",
       "      <td>NaN</td>\n",
       "      <td>2017-09-12 15:56:20</td>\n",
       "      <td>2017-09-12</td>\n",
       "      <td>9</td>\n",
       "      <td>2017</td>\n",
       "    </tr>\n",
       "    <tr>\n",
       "      <th>3</th>\n",
       "      <td>1709211749040335</td>\n",
       "      <td>121</td>\n",
       "      <td>취소</td>\n",
       "      <td>가상계좌</td>\n",
       "      <td>409200.0</td>\n",
       "      <td>NaN</td>\n",
       "      <td>2017-09-21 17:51:50</td>\n",
       "      <td>2017-09-21</td>\n",
       "      <td>9</td>\n",
       "      <td>2017</td>\n",
       "    </tr>\n",
       "    <tr>\n",
       "      <th>4</th>\n",
       "      <td>1709221305150350</td>\n",
       "      <td>128</td>\n",
       "      <td>취소</td>\n",
       "      <td>신용카드</td>\n",
       "      <td>12060.0</td>\n",
       "      <td>0.0</td>\n",
       "      <td>2017-09-22 13:12:27</td>\n",
       "      <td>2017-09-22</td>\n",
       "      <td>9</td>\n",
       "      <td>2017</td>\n",
       "    </tr>\n",
       "  </tbody>\n",
       "</table>\n",
       "</div>"
      ],
      "text/plain": [
       "               주문번호  환불번호 진행구분  결제수단      환불금액  할부개월                환불일자  \\\n",
       "0  1709061012340050    17   취소  신용카드   37000.0   0.0 2017-09-06 10:14:22   \n",
       "1  1709111558160149    48   취소  가상계좌    6850.0   NaN 2017-09-12 16:42:22   \n",
       "2  1709121552530178    71   취소  가상계좌  249500.0   NaN 2017-09-12 15:56:20   \n",
       "3  1709211749040335   121   취소  가상계좌  409200.0   NaN 2017-09-21 17:51:50   \n",
       "4  1709221305150350   128   취소  신용카드   12060.0   0.0 2017-09-22 13:12:27   \n",
       "\n",
       "          환불일  환불월  환불년도  \n",
       "0  2017-09-06    9  2017  \n",
       "1  2017-09-12    9  2017  \n",
       "2  2017-09-12    9  2017  \n",
       "3  2017-09-21    9  2017  \n",
       "4  2017-09-22    9  2017  "
      ]
     },
     "execution_count": 7,
     "metadata": {},
     "output_type": "execute_result"
    }
   ],
   "source": [
    "df_refund1.head()"
   ]
  },
  {
   "cell_type": "code",
   "execution_count": 8,
   "id": "0693494b",
   "metadata": {},
   "outputs": [
    {
     "data": {
      "text/plain": [
       "환불일\n",
       "2017-08-25     1\n",
       "2017-09-06     3\n",
       "2017-09-11     3\n",
       "2017-09-12     9\n",
       "2017-09-21     5\n",
       "              ..\n",
       "2018-11-03     4\n",
       "2018-11-04     4\n",
       "2018-11-05    23\n",
       "2018-11-06    30\n",
       "2018-11-07     4\n",
       "Name: 환불일자, Length: 324, dtype: int64"
      ]
     },
     "execution_count": 8,
     "metadata": {},
     "output_type": "execute_result"
    }
   ],
   "source": [
    "df_refund1.groupby('환불일').환불일자.count()"
   ]
  },
  {
   "cell_type": "code",
   "execution_count": 9,
   "id": "bbede754",
   "metadata": {},
   "outputs": [
    {
     "data": {
      "text/html": [
       "<div>\n",
       "<style scoped>\n",
       "    .dataframe tbody tr th:only-of-type {\n",
       "        vertical-align: middle;\n",
       "    }\n",
       "\n",
       "    .dataframe tbody tr th {\n",
       "        vertical-align: top;\n",
       "    }\n",
       "\n",
       "    .dataframe thead th {\n",
       "        text-align: right;\n",
       "    }\n",
       "</style>\n",
       "<table border=\"1\" class=\"dataframe\">\n",
       "  <thead>\n",
       "    <tr style=\"text-align: right;\">\n",
       "      <th></th>\n",
       "      <th>환불일자</th>\n",
       "    </tr>\n",
       "    <tr>\n",
       "      <th>환불일</th>\n",
       "      <th></th>\n",
       "    </tr>\n",
       "  </thead>\n",
       "  <tbody>\n",
       "    <tr>\n",
       "      <th>2017-08-25</th>\n",
       "      <td>1</td>\n",
       "    </tr>\n",
       "    <tr>\n",
       "      <th>2017-09-06</th>\n",
       "      <td>3</td>\n",
       "    </tr>\n",
       "    <tr>\n",
       "      <th>2017-09-11</th>\n",
       "      <td>3</td>\n",
       "    </tr>\n",
       "    <tr>\n",
       "      <th>2017-09-12</th>\n",
       "      <td>9</td>\n",
       "    </tr>\n",
       "    <tr>\n",
       "      <th>2017-09-21</th>\n",
       "      <td>5</td>\n",
       "    </tr>\n",
       "    <tr>\n",
       "      <th>...</th>\n",
       "      <td>...</td>\n",
       "    </tr>\n",
       "    <tr>\n",
       "      <th>2018-11-03</th>\n",
       "      <td>4</td>\n",
       "    </tr>\n",
       "    <tr>\n",
       "      <th>2018-11-04</th>\n",
       "      <td>4</td>\n",
       "    </tr>\n",
       "    <tr>\n",
       "      <th>2018-11-05</th>\n",
       "      <td>23</td>\n",
       "    </tr>\n",
       "    <tr>\n",
       "      <th>2018-11-06</th>\n",
       "      <td>30</td>\n",
       "    </tr>\n",
       "    <tr>\n",
       "      <th>2018-11-07</th>\n",
       "      <td>4</td>\n",
       "    </tr>\n",
       "  </tbody>\n",
       "</table>\n",
       "<p>324 rows × 1 columns</p>\n",
       "</div>"
      ],
      "text/plain": [
       "            환불일자\n",
       "환불일             \n",
       "2017-08-25     1\n",
       "2017-09-06     3\n",
       "2017-09-11     3\n",
       "2017-09-12     9\n",
       "2017-09-21     5\n",
       "...          ...\n",
       "2018-11-03     4\n",
       "2018-11-04     4\n",
       "2018-11-05    23\n",
       "2018-11-06    30\n",
       "2018-11-07     4\n",
       "\n",
       "[324 rows x 1 columns]"
      ]
     },
     "execution_count": 9,
     "metadata": {},
     "output_type": "execute_result"
    }
   ],
   "source": [
    "# 환부일시 별 주문 건수 추출\n",
    "df_refund1_count = df_refund1.groupby('환불일').환불일자.count().to_frame()\n",
    "df_refund1_count"
   ]
  },
  {
   "cell_type": "code",
   "execution_count": 10,
   "id": "d970a475",
   "metadata": {},
   "outputs": [
    {
     "data": {
      "text/html": [
       "<div>\n",
       "<style scoped>\n",
       "    .dataframe tbody tr th:only-of-type {\n",
       "        vertical-align: middle;\n",
       "    }\n",
       "\n",
       "    .dataframe tbody tr th {\n",
       "        vertical-align: top;\n",
       "    }\n",
       "\n",
       "    .dataframe thead th {\n",
       "        text-align: right;\n",
       "    }\n",
       "</style>\n",
       "<table border=\"1\" class=\"dataframe\">\n",
       "  <thead>\n",
       "    <tr style=\"text-align: right;\">\n",
       "      <th></th>\n",
       "      <th>환불건수</th>\n",
       "    </tr>\n",
       "    <tr>\n",
       "      <th>환불일</th>\n",
       "      <th></th>\n",
       "    </tr>\n",
       "  </thead>\n",
       "  <tbody>\n",
       "    <tr>\n",
       "      <th>2017-08-25</th>\n",
       "      <td>1</td>\n",
       "    </tr>\n",
       "    <tr>\n",
       "      <th>2017-09-06</th>\n",
       "      <td>3</td>\n",
       "    </tr>\n",
       "    <tr>\n",
       "      <th>2017-09-11</th>\n",
       "      <td>3</td>\n",
       "    </tr>\n",
       "    <tr>\n",
       "      <th>2017-09-12</th>\n",
       "      <td>9</td>\n",
       "    </tr>\n",
       "    <tr>\n",
       "      <th>2017-09-21</th>\n",
       "      <td>5</td>\n",
       "    </tr>\n",
       "    <tr>\n",
       "      <th>...</th>\n",
       "      <td>...</td>\n",
       "    </tr>\n",
       "    <tr>\n",
       "      <th>2018-11-03</th>\n",
       "      <td>4</td>\n",
       "    </tr>\n",
       "    <tr>\n",
       "      <th>2018-11-04</th>\n",
       "      <td>4</td>\n",
       "    </tr>\n",
       "    <tr>\n",
       "      <th>2018-11-05</th>\n",
       "      <td>23</td>\n",
       "    </tr>\n",
       "    <tr>\n",
       "      <th>2018-11-06</th>\n",
       "      <td>30</td>\n",
       "    </tr>\n",
       "    <tr>\n",
       "      <th>2018-11-07</th>\n",
       "      <td>4</td>\n",
       "    </tr>\n",
       "  </tbody>\n",
       "</table>\n",
       "<p>324 rows × 1 columns</p>\n",
       "</div>"
      ],
      "text/plain": [
       "            환불건수\n",
       "환불일             \n",
       "2017-08-25     1\n",
       "2017-09-06     3\n",
       "2017-09-11     3\n",
       "2017-09-12     9\n",
       "2017-09-21     5\n",
       "...          ...\n",
       "2018-11-03     4\n",
       "2018-11-04     4\n",
       "2018-11-05    23\n",
       "2018-11-06    30\n",
       "2018-11-07     4\n",
       "\n",
       "[324 rows x 1 columns]"
      ]
     },
     "execution_count": 10,
     "metadata": {},
     "output_type": "execute_result"
    }
   ],
   "source": [
    "# 주문일자별 주문건수 시각화\n",
    "df_refund1_count.columns = ['환불건수']\n",
    "df_refund1_count"
   ]
  },
  {
   "cell_type": "code",
   "execution_count": 11,
   "id": "f5b2fcdd",
   "metadata": {},
   "outputs": [
    {
     "data": {
      "text/plain": [
       "Index([2017-08-25, 2017-09-06, 2017-09-11, 2017-09-12, 2017-09-21, 2017-09-22,\n",
       "       2017-09-24, 2017-09-25, 2017-09-26, 2017-09-27,\n",
       "       ...\n",
       "       2018-10-29, 2018-10-30, 2018-10-31, 2018-11-01, 2018-11-02, 2018-11-03,\n",
       "       2018-11-04, 2018-11-05, 2018-11-06, 2018-11-07],\n",
       "      dtype='object', name='환불일', length=324)"
      ]
     },
     "execution_count": 11,
     "metadata": {},
     "output_type": "execute_result"
    }
   ],
   "source": [
    "df_refund1_count.index"
   ]
  },
  {
   "cell_type": "code",
   "execution_count": 12,
   "id": "2685b435",
   "metadata": {},
   "outputs": [
    {
     "data": {
      "image/png": "[encoded data removed]",
      "text/plain": [
       "<Figure size 720x360 with 1 Axes>"
      ]
     },
     "metadata": {
      "needs_background": "light"
     },
     "output_type": "display_data"
    }
   ],
   "source": [
    "plt.rcParams['figure.figsize']=(10,5)\n",
    "\n",
    "plt.scatter(df_refund1_count.index, df_refund1_count, marker = 'o', color = 'c')\n",
    "plt.title('XX 온라인 쇼핑몰 일자 별 환불건수')\n",
    "plt.show()"
   ]
  },
  {
   "cell_type": "code",
   "execution_count": 13,
   "id": "4ed0dcc7",
   "metadata": {},
   "outputs": [],
   "source": [
    "# 년도 별 환불\n",
    "df_refund1_2017 = df_refund1 [df_refund1['환불년도'] == 2017]\n",
    "df_refund1_2018 = df_refund1 [df_refund1['환불년도'] == 2018]"
   ]
  },
  {
   "cell_type": "code",
   "execution_count": 14,
   "id": "abdcfd49",
   "metadata": {},
   "outputs": [],
   "source": [
    "# 년도 별 환불 건수 추출\n",
    "df_refund1_2017_count = df_refund1_2017.groupby('환불월').환불일자.count().to_frame()\n",
    "df_refund1_2018_count = df_refund1_2018.groupby('환불월').환불일자.count().to_frame()"
   ]
  },
  {
   "cell_type": "code",
   "execution_count": 15,
   "id": "bb7e48ba",
   "metadata": {},
   "outputs": [
    {
     "data": {
      "text/html": [
       "<div>\n",
       "<style scoped>\n",
       "    .dataframe tbody tr th:only-of-type {\n",
       "        vertical-align: middle;\n",
       "    }\n",
       "\n",
       "    .dataframe tbody tr th {\n",
       "        vertical-align: top;\n",
       "    }\n",
       "\n",
       "    .dataframe thead th {\n",
       "        text-align: right;\n",
       "    }\n",
       "</style>\n",
       "<table border=\"1\" class=\"dataframe\">\n",
       "  <thead>\n",
       "    <tr style=\"text-align: right;\">\n",
       "      <th></th>\n",
       "      <th>환불일자</th>\n",
       "    </tr>\n",
       "    <tr>\n",
       "      <th>환불월</th>\n",
       "      <th></th>\n",
       "    </tr>\n",
       "  </thead>\n",
       "  <tbody>\n",
       "    <tr>\n",
       "      <th>8</th>\n",
       "      <td>1</td>\n",
       "    </tr>\n",
       "    <tr>\n",
       "      <th>9</th>\n",
       "      <td>103</td>\n",
       "    </tr>\n",
       "    <tr>\n",
       "      <th>10</th>\n",
       "      <td>30</td>\n",
       "    </tr>\n",
       "    <tr>\n",
       "      <th>11</th>\n",
       "      <td>172</td>\n",
       "    </tr>\n",
       "    <tr>\n",
       "      <th>12</th>\n",
       "      <td>102</td>\n",
       "    </tr>\n",
       "  </tbody>\n",
       "</table>\n",
       "</div>"
      ],
      "text/plain": [
       "     환불일자\n",
       "환불월      \n",
       "8       1\n",
       "9     103\n",
       "10     30\n",
       "11    172\n",
       "12    102"
      ]
     },
     "execution_count": 15,
     "metadata": {},
     "output_type": "execute_result"
    }
   ],
   "source": [
    "df_refund1_2017_count"
   ]
  },
  {
   "cell_type": "code",
   "execution_count": 16,
   "id": "7a8a6d72",
   "metadata": {},
   "outputs": [
    {
     "data": {
      "text/html": [
       "<div>\n",
       "<style scoped>\n",
       "    .dataframe tbody tr th:only-of-type {\n",
       "        vertical-align: middle;\n",
       "    }\n",
       "\n",
       "    .dataframe tbody tr th {\n",
       "        vertical-align: top;\n",
       "    }\n",
       "\n",
       "    .dataframe thead th {\n",
       "        text-align: right;\n",
       "    }\n",
       "</style>\n",
       "<table border=\"1\" class=\"dataframe\">\n",
       "  <thead>\n",
       "    <tr style=\"text-align: right;\">\n",
       "      <th></th>\n",
       "      <th>환불일자</th>\n",
       "    </tr>\n",
       "    <tr>\n",
       "      <th>환불월</th>\n",
       "      <th></th>\n",
       "    </tr>\n",
       "  </thead>\n",
       "  <tbody>\n",
       "    <tr>\n",
       "      <th>1</th>\n",
       "      <td>159</td>\n",
       "    </tr>\n",
       "    <tr>\n",
       "      <th>2</th>\n",
       "      <td>43</td>\n",
       "    </tr>\n",
       "    <tr>\n",
       "      <th>3</th>\n",
       "      <td>98</td>\n",
       "    </tr>\n",
       "    <tr>\n",
       "      <th>4</th>\n",
       "      <td>105</td>\n",
       "    </tr>\n",
       "    <tr>\n",
       "      <th>5</th>\n",
       "      <td>405</td>\n",
       "    </tr>\n",
       "  </tbody>\n",
       "</table>\n",
       "</div>"
      ],
      "text/plain": [
       "     환불일자\n",
       "환불월      \n",
       "1     159\n",
       "2      43\n",
       "3      98\n",
       "4     105\n",
       "5     405"
      ]
     },
     "execution_count": 16,
     "metadata": {},
     "output_type": "execute_result"
    }
   ],
   "source": [
    "df_refund1_2018_count.head()"
   ]
  },
  {
   "cell_type": "code",
   "execution_count": 17,
   "id": "2551638c",
   "metadata": {},
   "outputs": [
    {
     "data": {
      "text/html": [
       "<div>\n",
       "<style scoped>\n",
       "    .dataframe tbody tr th:only-of-type {\n",
       "        vertical-align: middle;\n",
       "    }\n",
       "\n",
       "    .dataframe tbody tr th {\n",
       "        vertical-align: top;\n",
       "    }\n",
       "\n",
       "    .dataframe thead th {\n",
       "        text-align: right;\n",
       "    }\n",
       "</style>\n",
       "<table border=\"1\" class=\"dataframe\">\n",
       "  <thead>\n",
       "    <tr style=\"text-align: right;\">\n",
       "      <th></th>\n",
       "      <th>환불건수</th>\n",
       "    </tr>\n",
       "    <tr>\n",
       "      <th>환불월</th>\n",
       "      <th></th>\n",
       "    </tr>\n",
       "  </thead>\n",
       "  <tbody>\n",
       "    <tr>\n",
       "      <th>1</th>\n",
       "      <td>159</td>\n",
       "    </tr>\n",
       "    <tr>\n",
       "      <th>2</th>\n",
       "      <td>43</td>\n",
       "    </tr>\n",
       "    <tr>\n",
       "      <th>3</th>\n",
       "      <td>98</td>\n",
       "    </tr>\n",
       "    <tr>\n",
       "      <th>4</th>\n",
       "      <td>105</td>\n",
       "    </tr>\n",
       "    <tr>\n",
       "      <th>5</th>\n",
       "      <td>405</td>\n",
       "    </tr>\n",
       "    <tr>\n",
       "      <th>6</th>\n",
       "      <td>327</td>\n",
       "    </tr>\n",
       "    <tr>\n",
       "      <th>7</th>\n",
       "      <td>459</td>\n",
       "    </tr>\n",
       "    <tr>\n",
       "      <th>8</th>\n",
       "      <td>411</td>\n",
       "    </tr>\n",
       "    <tr>\n",
       "      <th>9</th>\n",
       "      <td>549</td>\n",
       "    </tr>\n",
       "    <tr>\n",
       "      <th>10</th>\n",
       "      <td>719</td>\n",
       "    </tr>\n",
       "    <tr>\n",
       "      <th>11</th>\n",
       "      <td>107</td>\n",
       "    </tr>\n",
       "  </tbody>\n",
       "</table>\n",
       "</div>"
      ],
      "text/plain": [
       "     환불건수\n",
       "환불월      \n",
       "1     159\n",
       "2      43\n",
       "3      98\n",
       "4     105\n",
       "5     405\n",
       "6     327\n",
       "7     459\n",
       "8     411\n",
       "9     549\n",
       "10    719\n",
       "11    107"
      ]
     },
     "execution_count": 17,
     "metadata": {},
     "output_type": "execute_result"
    }
   ],
   "source": [
    "# 년도 별 주문건수 시각화\n",
    "df_refund1_2017_count.columns = ['환불건수']\n",
    "df_refund1_2018_count.columns = ['환불건수']\n",
    "df_refund1_2018_count"
   ]
  },
  {
   "cell_type": "code",
   "execution_count": 18,
   "id": "757be4bc",
   "metadata": {},
   "outputs": [
    {
     "data": {
      "image/png": "[encoded data removed]",
      "text/plain": [
       "<Figure size 1080x360 with 2 Axes>"
      ]
     },
     "metadata": {
      "needs_background": "light"
     },
     "output_type": "display_data"
    }
   ],
   "source": [
    "fig = plt.figure(figsize=(15,5))\n",
    "ax1 = fig.add_subplot(1,2,1)\n",
    "ax2 = fig.add_subplot(1,2,2)\n",
    "\n",
    "ax1.scatter(df_refund1_2017_count.index, df_refund1_2017_count.values, marker = 'o', color = 'c')\n",
    "ax2.scatter(df_refund1_2018_count.index, df_refund1_2018_count.values, marker = 'o', color = 'm')\n",
    "\n",
    "ax1.set_xticks(range(1,13))\n",
    "ax2.set_xticks(range(1,13))\n",
    "\n",
    "ax1.set_yticks(range(0,1000,100))\n",
    "ax2.set_yticks(range(0,1000,100))\n",
    "\n",
    "fig.suptitle('XX 온라인 쇼핑몰 연도 별 환불건수', size=20)\n",
    "fig.tight_layout()\n",
    "\n",
    "plt.show()"
   ]
  }
 ],
 "metadata": {
  "kernelspec": {
   "display_name": "Python 3 (ipykernel)",
   "language": "python",
   "name": "python3"
  },
  "language_info": {
   "codemirror_mode": {
    "name": "ipython",
    "version": 3
   },
   "file_extension": ".py",
   "mimetype": "text/x-python",
   "name": "python",
   "nbconvert_exporter": "python",
   "pygments_lexer": "ipython3",
   "version": "3.9.12"
  },
  "toc": {
   "base_numbering": 1,
   "nav_menu": {},
   "number_sections": true,
   "sideBar": true,
   "skip_h1_title": false,
   "title_cell": "Table of Contents",
   "title_sidebar": "Contents",
   "toc_cell": false,
   "toc_position": {},
   "toc_section_display": true,
   "toc_window_display": false
  }
 },
 "nbformat": 4,
 "nbformat_minor": 5
}
