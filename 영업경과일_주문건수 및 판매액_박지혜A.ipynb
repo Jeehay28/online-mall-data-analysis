{
 "cells": [
  {
   "cell_type": "markdown",
   "id": "cbe12a13",
   "metadata": {},
   "source": [
    "# EDA (Exploratory Data Analysis) 탐색적 데이터 분석\n",
    "- Data Collection & Integration\n",
    "- Data Preparing & Cleaning\n",
    "- Data Visualization & Analysis\n",
    "\n",
    "\n",
    "* 주문, 상품, 회원정보 데이터 결합\n",
    "* 주분 구분에서 4가지 값(환불완료, 결제취소, 주문취소, 환불신청)은 제외"
   ]
  },
  {
   "cell_type": "code",
   "execution_count": 1,
   "id": "ea1c6620",
   "metadata": {},
   "outputs": [],
   "source": [
    "import pandas as pd\n",
    "import matplotlib.pyplot as plt\n",
    "\n",
    "# 그래프에 한글 설정\n",
    "plt.rcParams['font.family']='Malgun Gothic'\n",
    "\n",
    "# 그래프에 마이너스 기호 깨지는 문제 해결\n",
    "plt.rcParams['axes.unicode_minus'] = False\n",
    "\n",
    "df_order1 = pd.read_excel (r'3.1 주문정보(개인정보 제외)_추출.xlsx')\n",
    "df_items1 = pd.read_excel (r'2.1 상품정보_추출.xlsx')\n",
    "df_customer1 = pd.read_excel (r'1.1 고객기본정보(개인정보 제외)_추출.xlsx')\n"
   ]
  },
  {
   "cell_type": "code",
   "execution_count": 2,
   "id": "0347704b",
   "metadata": {},
   "outputs": [
    {
     "data": {
      "text/html": [
       "<div>\n",
       "<style scoped>\n",
       "    .dataframe tbody tr th:only-of-type {\n",
       "        vertical-align: middle;\n",
       "    }\n",
       "\n",
       "    .dataframe tbody tr th {\n",
       "        vertical-align: top;\n",
       "    }\n",
       "\n",
       "    .dataframe thead th {\n",
       "        text-align: right;\n",
       "    }\n",
       "</style>\n",
       "<table border=\"1\" class=\"dataframe\">\n",
       "  <thead>\n",
       "    <tr style=\"text-align: right;\">\n",
       "      <th></th>\n",
       "      <th>주문번호</th>\n",
       "      <th>순번</th>\n",
       "      <th>주문일시</th>\n",
       "      <th>진행구분</th>\n",
       "      <th>배송지</th>\n",
       "      <th>상품번호</th>\n",
       "      <th>상품명</th>\n",
       "      <th>옵션명</th>\n",
       "      <th>수량</th>\n",
       "      <th>판매가</th>\n",
       "      <th>배송비</th>\n",
       "      <th>쿠폰할인액</th>\n",
       "      <th>회원주문여부</th>\n",
       "      <th>회원번호</th>\n",
       "    </tr>\n",
       "  </thead>\n",
       "  <tbody>\n",
       "    <tr>\n",
       "      <th>0</th>\n",
       "      <td>1711080845542139</td>\n",
       "      <td>1</td>\n",
       "      <td>2017-11-08 08:46:26</td>\n",
       "      <td>환불완료</td>\n",
       "      <td>서울 영등포구 국제금융로2길 32</td>\n",
       "      <td>G1710311847_6746</td>\n",
       "      <td>(임직원 전용)[케라미카] 바뎀 2인홈세트 (11p)</td>\n",
       "      <td>NaN</td>\n",
       "      <td>1</td>\n",
       "      <td>48840.0</td>\n",
       "      <td>0.0</td>\n",
       "      <td>9760.0</td>\n",
       "      <td>Y</td>\n",
       "      <td>1876</td>\n",
       "    </tr>\n",
       "    <tr>\n",
       "      <th>1</th>\n",
       "      <td>1711080902432145</td>\n",
       "      <td>1</td>\n",
       "      <td>2017-11-08 09:04:28</td>\n",
       "      <td>결제취소</td>\n",
       "      <td>서울 영등포구 국제금융로2길 32</td>\n",
       "      <td>G1710311849_6973</td>\n",
       "      <td>(임직원 전용)[아름다운공간] 스윗도자기 원형디스펜서 (2color/400ml)</td>\n",
       "      <td>색상:핑크</td>\n",
       "      <td>1</td>\n",
       "      <td>7800.0</td>\n",
       "      <td>2500.0</td>\n",
       "      <td>1560.0</td>\n",
       "      <td>Y</td>\n",
       "      <td>1876</td>\n",
       "    </tr>\n",
       "    <tr>\n",
       "      <th>2</th>\n",
       "      <td>1711080932562165</td>\n",
       "      <td>1</td>\n",
       "      <td>2017-11-08 09:33:20</td>\n",
       "      <td>결제취소</td>\n",
       "      <td>서울 영등포구 국제금융로2길 32</td>\n",
       "      <td>G1710311843_6700</td>\n",
       "      <td>(임직원 전용)[런드레스] 울 캐시미어 스프레이 세다 cedar (4 fl.oz)</td>\n",
       "      <td>NaN</td>\n",
       "      <td>1</td>\n",
       "      <td>16200.0</td>\n",
       "      <td>0.0</td>\n",
       "      <td>3240.0</td>\n",
       "      <td>Y</td>\n",
       "      <td>1882</td>\n",
       "    </tr>\n",
       "    <tr>\n",
       "      <th>3</th>\n",
       "      <td>1711080934572167</td>\n",
       "      <td>1</td>\n",
       "      <td>2017-11-08 09:35:19</td>\n",
       "      <td>환불완료</td>\n",
       "      <td>서울 영등포구 국제금융로2길 32</td>\n",
       "      <td>G1710311906_7061</td>\n",
       "      <td>(임직원 전용)[트레비앙] 전동 와인 오프너_DM-503</td>\n",
       "      <td>NaN</td>\n",
       "      <td>1</td>\n",
       "      <td>35040.0</td>\n",
       "      <td>3000.0</td>\n",
       "      <td>7000.0</td>\n",
       "      <td>Y</td>\n",
       "      <td>1882</td>\n",
       "    </tr>\n",
       "    <tr>\n",
       "      <th>4</th>\n",
       "      <td>1711080944432170</td>\n",
       "      <td>1</td>\n",
       "      <td>2017-11-08 09:45:08</td>\n",
       "      <td>결제취소</td>\n",
       "      <td>서울 영등포구 국제금융로2길 32</td>\n",
       "      <td>G1710311843_6698</td>\n",
       "      <td>(임직원 전용)[런드레스] 패브릭 프레쉬 베이비 Baby (4 fl.oz.)</td>\n",
       "      <td>NaN</td>\n",
       "      <td>1</td>\n",
       "      <td>16200.0</td>\n",
       "      <td>0.0</td>\n",
       "      <td>3240.0</td>\n",
       "      <td>Y</td>\n",
       "      <td>1882</td>\n",
       "    </tr>\n",
       "  </tbody>\n",
       "</table>\n",
       "</div>"
      ],
      "text/plain": [
       "               주문번호  순번                 주문일시  진행구분                 배송지  \\\n",
       "0  1711080845542139   1  2017-11-08 08:46:26  환불완료  서울 영등포구 국제금융로2길 32   \n",
       "1  1711080902432145   1  2017-11-08 09:04:28  결제취소  서울 영등포구 국제금융로2길 32   \n",
       "2  1711080932562165   1  2017-11-08 09:33:20  결제취소  서울 영등포구 국제금융로2길 32   \n",
       "3  1711080934572167   1  2017-11-08 09:35:19  환불완료  서울 영등포구 국제금융로2길 32   \n",
       "4  1711080944432170   1  2017-11-08 09:45:08  결제취소  서울 영등포구 국제금융로2길 32   \n",
       "\n",
       "               상품번호                                            상품명    옵션명  수량  \\\n",
       "0  G1710311847_6746                  (임직원 전용)[케라미카] 바뎀 2인홈세트 (11p)    NaN   1   \n",
       "1  G1710311849_6973   (임직원 전용)[아름다운공간] 스윗도자기 원형디스펜서 (2color/400ml)  색상:핑크   1   \n",
       "2  G1710311843_6700  (임직원 전용)[런드레스] 울 캐시미어 스프레이 세다 cedar (4 fl.oz)    NaN   1   \n",
       "3  G1710311906_7061               (임직원 전용)[트레비앙] 전동 와인 오프너_DM-503     NaN   1   \n",
       "4  G1710311843_6698     (임직원 전용)[런드레스] 패브릭 프레쉬 베이비 Baby (4 fl.oz.)    NaN   1   \n",
       "\n",
       "       판매가     배송비   쿠폰할인액 회원주문여부  회원번호  \n",
       "0  48840.0     0.0  9760.0      Y  1876  \n",
       "1   7800.0  2500.0  1560.0      Y  1876  \n",
       "2  16200.0     0.0  3240.0      Y  1882  \n",
       "3  35040.0  3000.0  7000.0      Y  1882  \n",
       "4  16200.0     0.0  3240.0      Y  1882  "
      ]
     },
     "execution_count": 2,
     "metadata": {},
     "output_type": "execute_result"
    }
   ],
   "source": [
    "df_order1.head()"
   ]
  },
  {
   "cell_type": "code",
   "execution_count": 3,
   "id": "6492e553",
   "metadata": {},
   "outputs": [
    {
     "data": {
      "text/plain": [
       "주문번호        int64\n",
       "순번          int64\n",
       "주문일시       object\n",
       "진행구분       object\n",
       "배송지        object\n",
       "상품번호       object\n",
       "상품명        object\n",
       "옵션명        object\n",
       "수량          int64\n",
       "판매가       float64\n",
       "배송비       float64\n",
       "쿠폰할인액     float64\n",
       "회원주문여부     object\n",
       "회원번호        int64\n",
       "dtype: object"
      ]
     },
     "execution_count": 3,
     "metadata": {},
     "output_type": "execute_result"
    }
   ],
   "source": [
    "df_order1.dtypes"
   ]
  },
  {
   "cell_type": "code",
   "execution_count": 4,
   "id": "d2b93e0e",
   "metadata": {},
   "outputs": [],
   "source": [
    "# datetime형으로 변경 : 주문일시\n",
    "df_order1['주문일시'] = pd.to_datetime(df_order1['주문일시'])"
   ]
  },
  {
   "cell_type": "code",
   "execution_count": 5,
   "id": "2690ac64",
   "metadata": {},
   "outputs": [],
   "source": [
    "df_order1['주문일자'] = df_order1['주문일시'].dt.date"
   ]
  },
  {
   "cell_type": "code",
   "execution_count": 6,
   "id": "b783dd69",
   "metadata": {},
   "outputs": [
    {
     "data": {
      "text/html": [
       "<div>\n",
       "<style scoped>\n",
       "    .dataframe tbody tr th:only-of-type {\n",
       "        vertical-align: middle;\n",
       "    }\n",
       "\n",
       "    .dataframe tbody tr th {\n",
       "        vertical-align: top;\n",
       "    }\n",
       "\n",
       "    .dataframe thead th {\n",
       "        text-align: right;\n",
       "    }\n",
       "</style>\n",
       "<table border=\"1\" class=\"dataframe\">\n",
       "  <thead>\n",
       "    <tr style=\"text-align: right;\">\n",
       "      <th></th>\n",
       "      <th>상품번호</th>\n",
       "      <th>상품명</th>\n",
       "      <th>업체명</th>\n",
       "      <th>카테고리명</th>\n",
       "      <th>브랜드명</th>\n",
       "      <th>상품구분</th>\n",
       "      <th>대표판매가</th>\n",
       "      <th>배송비</th>\n",
       "      <th>판매상태</th>\n",
       "      <th>전시상태</th>\n",
       "    </tr>\n",
       "  </thead>\n",
       "  <tbody>\n",
       "    <tr>\n",
       "      <th>0</th>\n",
       "      <td>G1708291036_0216</td>\n",
       "      <td>[라이마스] 에어_630630</td>\n",
       "      <td>(주)라이마스</td>\n",
       "      <td>홈데코레이션</td>\n",
       "      <td>LIMAS</td>\n",
       "      <td>일반</td>\n",
       "      <td>220000.0</td>\n",
       "      <td>50000.00 이하 5500.00</td>\n",
       "      <td>품절</td>\n",
       "      <td>N</td>\n",
       "    </tr>\n",
       "    <tr>\n",
       "      <th>1</th>\n",
       "      <td>G1708291049_0217</td>\n",
       "      <td>[라이마스] 에어_730350</td>\n",
       "      <td>(주)라이마스</td>\n",
       "      <td>홈데코레이션</td>\n",
       "      <td>LIMAS</td>\n",
       "      <td>일반</td>\n",
       "      <td>275000.0</td>\n",
       "      <td>50000.00 이하 5500.00</td>\n",
       "      <td>품절</td>\n",
       "      <td>N</td>\n",
       "    </tr>\n",
       "    <tr>\n",
       "      <th>2</th>\n",
       "      <td>G1708291054_0220</td>\n",
       "      <td>[라이마스] 에어_1200190</td>\n",
       "      <td>(주)라이마스</td>\n",
       "      <td>홈데코레이션</td>\n",
       "      <td>LIMAS</td>\n",
       "      <td>일반</td>\n",
       "      <td>270000.0</td>\n",
       "      <td>50000.00 이하 5500.00</td>\n",
       "      <td>판매중</td>\n",
       "      <td>Y</td>\n",
       "    </tr>\n",
       "    <tr>\n",
       "      <th>3</th>\n",
       "      <td>G1708291058_0221</td>\n",
       "      <td>[라이마스] 에어_730190</td>\n",
       "      <td>(주)라이마스</td>\n",
       "      <td>홈데코레이션</td>\n",
       "      <td>LIMAS</td>\n",
       "      <td>일반</td>\n",
       "      <td>165000.0</td>\n",
       "      <td>50000.00 이하 5500.00</td>\n",
       "      <td>판매중</td>\n",
       "      <td>Y</td>\n",
       "    </tr>\n",
       "    <tr>\n",
       "      <th>4</th>\n",
       "      <td>G1708291109_0222</td>\n",
       "      <td>[라이마스] 에어_730750</td>\n",
       "      <td>(주)라이마스</td>\n",
       "      <td>홈데코레이션</td>\n",
       "      <td>LIMAS</td>\n",
       "      <td>일반</td>\n",
       "      <td>565000.0</td>\n",
       "      <td>50000.00 이하 5500.00</td>\n",
       "      <td>품절</td>\n",
       "      <td>N</td>\n",
       "    </tr>\n",
       "  </tbody>\n",
       "</table>\n",
       "</div>"
      ],
      "text/plain": [
       "               상품번호                상품명      업체명   카테고리명   브랜드명 상품구분     대표판매가  \\\n",
       "0  G1708291036_0216   [라이마스] 에어_630630  (주)라이마스  홈데코레이션  LIMAS   일반  220000.0   \n",
       "1  G1708291049_0217   [라이마스] 에어_730350  (주)라이마스  홈데코레이션  LIMAS   일반  275000.0   \n",
       "2  G1708291054_0220  [라이마스] 에어_1200190  (주)라이마스  홈데코레이션  LIMAS   일반  270000.0   \n",
       "3  G1708291058_0221   [라이마스] 에어_730190  (주)라이마스  홈데코레이션  LIMAS   일반  165000.0   \n",
       "4  G1708291109_0222   [라이마스] 에어_730750  (주)라이마스  홈데코레이션  LIMAS   일반  565000.0   \n",
       "\n",
       "                   배송비 판매상태 전시상태  \n",
       "0  50000.00 이하 5500.00   품절    N  \n",
       "1  50000.00 이하 5500.00   품절    N  \n",
       "2  50000.00 이하 5500.00  판매중    Y  \n",
       "3  50000.00 이하 5500.00  판매중    Y  \n",
       "4  50000.00 이하 5500.00   품절    N  "
      ]
     },
     "execution_count": 6,
     "metadata": {},
     "output_type": "execute_result"
    }
   ],
   "source": [
    "df_items1.head()"
   ]
  },
  {
   "cell_type": "code",
   "execution_count": 7,
   "id": "246254b7",
   "metadata": {},
   "outputs": [
    {
     "data": {
      "text/plain": [
       "(110798, 10)"
      ]
     },
     "execution_count": 7,
     "metadata": {},
     "output_type": "execute_result"
    }
   ],
   "source": [
    "df_items1.shape"
   ]
  },
  {
   "cell_type": "code",
   "execution_count": 8,
   "id": "77052dbe",
   "metadata": {},
   "outputs": [
    {
     "data": {
      "text/plain": [
       "(24766, 15)"
      ]
     },
     "execution_count": 8,
     "metadata": {},
     "output_type": "execute_result"
    }
   ],
   "source": [
    "df_order1.shape"
   ]
  },
  {
   "cell_type": "code",
   "execution_count": 9,
   "id": "04ebc715",
   "metadata": {},
   "outputs": [
    {
     "data": {
      "text/html": [
       "<div>\n",
       "<style scoped>\n",
       "    .dataframe tbody tr th:only-of-type {\n",
       "        vertical-align: middle;\n",
       "    }\n",
       "\n",
       "    .dataframe tbody tr th {\n",
       "        vertical-align: top;\n",
       "    }\n",
       "\n",
       "    .dataframe thead th {\n",
       "        text-align: right;\n",
       "    }\n",
       "</style>\n",
       "<table border=\"1\" class=\"dataframe\">\n",
       "  <thead>\n",
       "    <tr style=\"text-align: right;\">\n",
       "      <th></th>\n",
       "      <th>상품번호</th>\n",
       "      <th>상품명</th>\n",
       "      <th>업체명</th>\n",
       "      <th>카테고리명</th>\n",
       "      <th>브랜드명</th>\n",
       "      <th>상품구분</th>\n",
       "      <th>대표판매가</th>\n",
       "      <th>배송비</th>\n",
       "      <th>판매상태</th>\n",
       "      <th>전시상태</th>\n",
       "    </tr>\n",
       "  </thead>\n",
       "  <tbody>\n",
       "    <tr>\n",
       "      <th>0</th>\n",
       "      <td>G1708291036_0216</td>\n",
       "      <td>[라이마스] 에어_630630</td>\n",
       "      <td>(주)라이마스</td>\n",
       "      <td>홈데코레이션</td>\n",
       "      <td>LIMAS</td>\n",
       "      <td>일반</td>\n",
       "      <td>220000.0</td>\n",
       "      <td>50000.00 이하 5500.00</td>\n",
       "      <td>품절</td>\n",
       "      <td>N</td>\n",
       "    </tr>\n",
       "    <tr>\n",
       "      <th>1</th>\n",
       "      <td>G1708291049_0217</td>\n",
       "      <td>[라이마스] 에어_730350</td>\n",
       "      <td>(주)라이마스</td>\n",
       "      <td>홈데코레이션</td>\n",
       "      <td>LIMAS</td>\n",
       "      <td>일반</td>\n",
       "      <td>275000.0</td>\n",
       "      <td>50000.00 이하 5500.00</td>\n",
       "      <td>품절</td>\n",
       "      <td>N</td>\n",
       "    </tr>\n",
       "  </tbody>\n",
       "</table>\n",
       "</div>"
      ],
      "text/plain": [
       "               상품번호               상품명      업체명   카테고리명   브랜드명 상품구분     대표판매가  \\\n",
       "0  G1708291036_0216  [라이마스] 에어_630630  (주)라이마스  홈데코레이션  LIMAS   일반  220000.0   \n",
       "1  G1708291049_0217  [라이마스] 에어_730350  (주)라이마스  홈데코레이션  LIMAS   일반  275000.0   \n",
       "\n",
       "                   배송비 판매상태 전시상태  \n",
       "0  50000.00 이하 5500.00   품절    N  \n",
       "1  50000.00 이하 5500.00   품절    N  "
      ]
     },
     "execution_count": 9,
     "metadata": {},
     "output_type": "execute_result"
    }
   ],
   "source": [
    "df_items2 = df_items1.copy()\n",
    "df_items2.head(2)"
   ]
  },
  {
   "cell_type": "code",
   "execution_count": 10,
   "id": "286976da",
   "metadata": {},
   "outputs": [],
   "source": [
    "df_items2.drop(columns = ['상품명', '배송비'], inplace = True) # 상품정보의 상품명/배송비 컬럼 삭제"
   ]
  },
  {
   "cell_type": "code",
   "execution_count": 11,
   "id": "ed15e536",
   "metadata": {},
   "outputs": [
    {
     "data": {
      "text/html": [
       "<div>\n",
       "<style scoped>\n",
       "    .dataframe tbody tr th:only-of-type {\n",
       "        vertical-align: middle;\n",
       "    }\n",
       "\n",
       "    .dataframe tbody tr th {\n",
       "        vertical-align: top;\n",
       "    }\n",
       "\n",
       "    .dataframe thead th {\n",
       "        text-align: right;\n",
       "    }\n",
       "</style>\n",
       "<table border=\"1\" class=\"dataframe\">\n",
       "  <thead>\n",
       "    <tr style=\"text-align: right;\">\n",
       "      <th></th>\n",
       "      <th>상품번호</th>\n",
       "      <th>업체명</th>\n",
       "      <th>카테고리명</th>\n",
       "      <th>브랜드명</th>\n",
       "      <th>상품구분</th>\n",
       "      <th>대표판매가</th>\n",
       "      <th>판매상태</th>\n",
       "      <th>전시상태</th>\n",
       "    </tr>\n",
       "  </thead>\n",
       "  <tbody>\n",
       "    <tr>\n",
       "      <th>0</th>\n",
       "      <td>G1708291036_0216</td>\n",
       "      <td>(주)라이마스</td>\n",
       "      <td>홈데코레이션</td>\n",
       "      <td>LIMAS</td>\n",
       "      <td>일반</td>\n",
       "      <td>220000.0</td>\n",
       "      <td>품절</td>\n",
       "      <td>N</td>\n",
       "    </tr>\n",
       "    <tr>\n",
       "      <th>1</th>\n",
       "      <td>G1708291049_0217</td>\n",
       "      <td>(주)라이마스</td>\n",
       "      <td>홈데코레이션</td>\n",
       "      <td>LIMAS</td>\n",
       "      <td>일반</td>\n",
       "      <td>275000.0</td>\n",
       "      <td>품절</td>\n",
       "      <td>N</td>\n",
       "    </tr>\n",
       "    <tr>\n",
       "      <th>2</th>\n",
       "      <td>G1708291054_0220</td>\n",
       "      <td>(주)라이마스</td>\n",
       "      <td>홈데코레이션</td>\n",
       "      <td>LIMAS</td>\n",
       "      <td>일반</td>\n",
       "      <td>270000.0</td>\n",
       "      <td>판매중</td>\n",
       "      <td>Y</td>\n",
       "    </tr>\n",
       "    <tr>\n",
       "      <th>3</th>\n",
       "      <td>G1708291058_0221</td>\n",
       "      <td>(주)라이마스</td>\n",
       "      <td>홈데코레이션</td>\n",
       "      <td>LIMAS</td>\n",
       "      <td>일반</td>\n",
       "      <td>165000.0</td>\n",
       "      <td>판매중</td>\n",
       "      <td>Y</td>\n",
       "    </tr>\n",
       "    <tr>\n",
       "      <th>4</th>\n",
       "      <td>G1708291109_0222</td>\n",
       "      <td>(주)라이마스</td>\n",
       "      <td>홈데코레이션</td>\n",
       "      <td>LIMAS</td>\n",
       "      <td>일반</td>\n",
       "      <td>565000.0</td>\n",
       "      <td>품절</td>\n",
       "      <td>N</td>\n",
       "    </tr>\n",
       "  </tbody>\n",
       "</table>\n",
       "</div>"
      ],
      "text/plain": [
       "               상품번호      업체명   카테고리명   브랜드명 상품구분     대표판매가 판매상태 전시상태\n",
       "0  G1708291036_0216  (주)라이마스  홈데코레이션  LIMAS   일반  220000.0   품절    N\n",
       "1  G1708291049_0217  (주)라이마스  홈데코레이션  LIMAS   일반  275000.0   품절    N\n",
       "2  G1708291054_0220  (주)라이마스  홈데코레이션  LIMAS   일반  270000.0  판매중    Y\n",
       "3  G1708291058_0221  (주)라이마스  홈데코레이션  LIMAS   일반  165000.0  판매중    Y\n",
       "4  G1708291109_0222  (주)라이마스  홈데코레이션  LIMAS   일반  565000.0   품절    N"
      ]
     },
     "execution_count": 11,
     "metadata": {},
     "output_type": "execute_result"
    }
   ],
   "source": [
    "df_items2.head()"
   ]
  },
  {
   "cell_type": "code",
   "execution_count": 12,
   "id": "de14b8a6",
   "metadata": {},
   "outputs": [
    {
     "data": {
      "text/html": [
       "<div>\n",
       "<style scoped>\n",
       "    .dataframe tbody tr th:only-of-type {\n",
       "        vertical-align: middle;\n",
       "    }\n",
       "\n",
       "    .dataframe tbody tr th {\n",
       "        vertical-align: top;\n",
       "    }\n",
       "\n",
       "    .dataframe thead th {\n",
       "        text-align: right;\n",
       "    }\n",
       "</style>\n",
       "<table border=\"1\" class=\"dataframe\">\n",
       "  <thead>\n",
       "    <tr style=\"text-align: right;\">\n",
       "      <th></th>\n",
       "      <th>주문번호</th>\n",
       "      <th>순번</th>\n",
       "      <th>주문일시</th>\n",
       "      <th>진행구분</th>\n",
       "      <th>배송지</th>\n",
       "      <th>상품번호</th>\n",
       "      <th>상품명</th>\n",
       "      <th>옵션명</th>\n",
       "      <th>수량</th>\n",
       "      <th>판매가</th>\n",
       "      <th>...</th>\n",
       "      <th>회원주문여부</th>\n",
       "      <th>회원번호</th>\n",
       "      <th>주문일자</th>\n",
       "      <th>업체명</th>\n",
       "      <th>카테고리명</th>\n",
       "      <th>브랜드명</th>\n",
       "      <th>상품구분</th>\n",
       "      <th>대표판매가</th>\n",
       "      <th>판매상태</th>\n",
       "      <th>전시상태</th>\n",
       "    </tr>\n",
       "  </thead>\n",
       "  <tbody>\n",
       "    <tr>\n",
       "      <th>0</th>\n",
       "      <td>1711080845542139</td>\n",
       "      <td>1</td>\n",
       "      <td>2017-11-08 08:46:26</td>\n",
       "      <td>환불완료</td>\n",
       "      <td>서울 영등포구 국제금융로2길 32</td>\n",
       "      <td>G1710311847_6746</td>\n",
       "      <td>(임직원 전용)[케라미카] 바뎀 2인홈세트 (11p)</td>\n",
       "      <td>NaN</td>\n",
       "      <td>1</td>\n",
       "      <td>48840.0</td>\n",
       "      <td>...</td>\n",
       "      <td>Y</td>\n",
       "      <td>1876</td>\n",
       "      <td>2017-11-08</td>\n",
       "      <td>에이젯</td>\n",
       "      <td>임직원 매장</td>\n",
       "      <td>KERAMIKA</td>\n",
       "      <td>일반</td>\n",
       "      <td>48840.0</td>\n",
       "      <td>판매중지</td>\n",
       "      <td>Y</td>\n",
       "    </tr>\n",
       "    <tr>\n",
       "      <th>1</th>\n",
       "      <td>1711080902432145</td>\n",
       "      <td>1</td>\n",
       "      <td>2017-11-08 09:04:28</td>\n",
       "      <td>결제취소</td>\n",
       "      <td>서울 영등포구 국제금융로2길 32</td>\n",
       "      <td>G1710311849_6973</td>\n",
       "      <td>(임직원 전용)[아름다운공간] 스윗도자기 원형디스펜서 (2color/400ml)</td>\n",
       "      <td>색상:핑크</td>\n",
       "      <td>1</td>\n",
       "      <td>7800.0</td>\n",
       "      <td>...</td>\n",
       "      <td>Y</td>\n",
       "      <td>1876</td>\n",
       "      <td>2017-11-08</td>\n",
       "      <td>NaN</td>\n",
       "      <td>NaN</td>\n",
       "      <td>NaN</td>\n",
       "      <td>NaN</td>\n",
       "      <td>NaN</td>\n",
       "      <td>NaN</td>\n",
       "      <td>NaN</td>\n",
       "    </tr>\n",
       "    <tr>\n",
       "      <th>2</th>\n",
       "      <td>1711080932562165</td>\n",
       "      <td>1</td>\n",
       "      <td>2017-11-08 09:33:20</td>\n",
       "      <td>결제취소</td>\n",
       "      <td>서울 영등포구 국제금융로2길 32</td>\n",
       "      <td>G1710311843_6700</td>\n",
       "      <td>(임직원 전용)[런드레스] 울 캐시미어 스프레이 세다 cedar (4 fl.oz)</td>\n",
       "      <td>NaN</td>\n",
       "      <td>1</td>\n",
       "      <td>16200.0</td>\n",
       "      <td>...</td>\n",
       "      <td>Y</td>\n",
       "      <td>1882</td>\n",
       "      <td>2017-11-08</td>\n",
       "      <td>(주)캔디코퍼레이션</td>\n",
       "      <td>임직원 매장</td>\n",
       "      <td>Laundress</td>\n",
       "      <td>일반</td>\n",
       "      <td>16200.0</td>\n",
       "      <td>판매중지</td>\n",
       "      <td>Y</td>\n",
       "    </tr>\n",
       "    <tr>\n",
       "      <th>3</th>\n",
       "      <td>1711080934572167</td>\n",
       "      <td>1</td>\n",
       "      <td>2017-11-08 09:35:19</td>\n",
       "      <td>환불완료</td>\n",
       "      <td>서울 영등포구 국제금융로2길 32</td>\n",
       "      <td>G1710311906_7061</td>\n",
       "      <td>(임직원 전용)[트레비앙] 전동 와인 오프너_DM-503</td>\n",
       "      <td>NaN</td>\n",
       "      <td>1</td>\n",
       "      <td>35040.0</td>\n",
       "      <td>...</td>\n",
       "      <td>Y</td>\n",
       "      <td>1882</td>\n",
       "      <td>2017-11-08</td>\n",
       "      <td>에스피플</td>\n",
       "      <td>임직원 매장</td>\n",
       "      <td>TREBIEN</td>\n",
       "      <td>일반</td>\n",
       "      <td>35040.0</td>\n",
       "      <td>판매중지</td>\n",
       "      <td>Y</td>\n",
       "    </tr>\n",
       "    <tr>\n",
       "      <th>4</th>\n",
       "      <td>1711080944432170</td>\n",
       "      <td>1</td>\n",
       "      <td>2017-11-08 09:45:08</td>\n",
       "      <td>결제취소</td>\n",
       "      <td>서울 영등포구 국제금융로2길 32</td>\n",
       "      <td>G1710311843_6698</td>\n",
       "      <td>(임직원 전용)[런드레스] 패브릭 프레쉬 베이비 Baby (4 fl.oz.)</td>\n",
       "      <td>NaN</td>\n",
       "      <td>1</td>\n",
       "      <td>16200.0</td>\n",
       "      <td>...</td>\n",
       "      <td>Y</td>\n",
       "      <td>1882</td>\n",
       "      <td>2017-11-08</td>\n",
       "      <td>(주)캔디코퍼레이션</td>\n",
       "      <td>임직원 매장</td>\n",
       "      <td>Laundress</td>\n",
       "      <td>일반</td>\n",
       "      <td>16200.0</td>\n",
       "      <td>판매중지</td>\n",
       "      <td>Y</td>\n",
       "    </tr>\n",
       "    <tr>\n",
       "      <th>5</th>\n",
       "      <td>1711080950452173</td>\n",
       "      <td>1</td>\n",
       "      <td>2017-11-08 09:51:13</td>\n",
       "      <td>주문취소</td>\n",
       "      <td>서울 영등포구 국제금융로 10</td>\n",
       "      <td>G1710311906_7080</td>\n",
       "      <td>(임직원 전용)[쉐우드가구] 발레린 원목 침대 Q퀸(독립스프링 매트리스 포함)</td>\n",
       "      <td>NaN</td>\n",
       "      <td>1</td>\n",
       "      <td>960000.0</td>\n",
       "      <td>...</td>\n",
       "      <td>Y</td>\n",
       "      <td>1873</td>\n",
       "      <td>2017-11-08</td>\n",
       "      <td>쉐우드</td>\n",
       "      <td>임직원 매장</td>\n",
       "      <td>SHERWOOD</td>\n",
       "      <td>일반</td>\n",
       "      <td>960000.0</td>\n",
       "      <td>판매중지</td>\n",
       "      <td>N</td>\n",
       "    </tr>\n",
       "    <tr>\n",
       "      <th>6</th>\n",
       "      <td>1711081128212184</td>\n",
       "      <td>1</td>\n",
       "      <td>2017-11-08 11:28:47</td>\n",
       "      <td>주문취소</td>\n",
       "      <td>서울 영등포구 국제금융로 10</td>\n",
       "      <td>G1710311848_6934</td>\n",
       "      <td>(임직원 전용)[하츠] 직접 설치하는 이지 셀프 주방 렌지후드 (DIY 후드)</td>\n",
       "      <td>색상:아쿠아블루_ES-60AB</td>\n",
       "      <td>1</td>\n",
       "      <td>84000.0</td>\n",
       "      <td>...</td>\n",
       "      <td>Y</td>\n",
       "      <td>1873</td>\n",
       "      <td>2017-11-08</td>\n",
       "      <td>하츠</td>\n",
       "      <td>임직원 매장</td>\n",
       "      <td>HAATZ</td>\n",
       "      <td>일반</td>\n",
       "      <td>84000.0</td>\n",
       "      <td>판매중</td>\n",
       "      <td>N</td>\n",
       "    </tr>\n",
       "    <tr>\n",
       "      <th>7</th>\n",
       "      <td>1711081303002187</td>\n",
       "      <td>1</td>\n",
       "      <td>2017-11-08 13:04:02</td>\n",
       "      <td>환불완료</td>\n",
       "      <td>서울 영등포구 국제금융로2길 32</td>\n",
       "      <td>G1710131404_3328</td>\n",
       "      <td>[전동댐퍼] MDD-P100DP-P</td>\n",
       "      <td>NaN</td>\n",
       "      <td>1</td>\n",
       "      <td>39900.0</td>\n",
       "      <td>...</td>\n",
       "      <td>Y</td>\n",
       "      <td>1877</td>\n",
       "      <td>2017-11-08</td>\n",
       "      <td>힘펠</td>\n",
       "      <td>공구/철물/목재/리폼</td>\n",
       "      <td>HIMPEL</td>\n",
       "      <td>일반</td>\n",
       "      <td>40000.0</td>\n",
       "      <td>판매중</td>\n",
       "      <td>Y</td>\n",
       "    </tr>\n",
       "    <tr>\n",
       "      <th>8</th>\n",
       "      <td>1711081500162192</td>\n",
       "      <td>1</td>\n",
       "      <td>2017-11-08 15:00:34</td>\n",
       "      <td>주문취소</td>\n",
       "      <td>서울 영등포구 국제금융로 10</td>\n",
       "      <td>G1710171320_3622</td>\n",
       "      <td>(임직원 전용)[아름다운공간] 르리에 원목받침 스텐수저통 2 style (1단/2단)</td>\n",
       "      <td>구성:2단(원목받침+수저통2P)</td>\n",
       "      <td>1</td>\n",
       "      <td>18000.0</td>\n",
       "      <td>...</td>\n",
       "      <td>Y</td>\n",
       "      <td>1873</td>\n",
       "      <td>2017-11-08</td>\n",
       "      <td>아름다운공간</td>\n",
       "      <td>임직원 매장</td>\n",
       "      <td>BEAUTIFULROOM</td>\n",
       "      <td>일반</td>\n",
       "      <td>18000.0</td>\n",
       "      <td>품절</td>\n",
       "      <td>N</td>\n",
       "    </tr>\n",
       "    <tr>\n",
       "      <th>9</th>\n",
       "      <td>1711081622542202</td>\n",
       "      <td>1</td>\n",
       "      <td>2017-11-08 16:23:17</td>\n",
       "      <td>주문취소</td>\n",
       "      <td>경기 부천시 신흥로 150-1</td>\n",
       "      <td>G1711011727_7485</td>\n",
       "      <td>(임직원 전용)[루나스퀘어] 루나스피어 북유럽풍 국민수유등_IoT 감성조명</td>\n",
       "      <td>NaN</td>\n",
       "      <td>1</td>\n",
       "      <td>59400.0</td>\n",
       "      <td>...</td>\n",
       "      <td>Y</td>\n",
       "      <td>1888</td>\n",
       "      <td>2017-11-08</td>\n",
       "      <td>(주)엠앤지인터내셔널</td>\n",
       "      <td>임직원 매장</td>\n",
       "      <td>LUNASQUARE</td>\n",
       "      <td>일반</td>\n",
       "      <td>59400.0</td>\n",
       "      <td>판매중지</td>\n",
       "      <td>N</td>\n",
       "    </tr>\n",
       "  </tbody>\n",
       "</table>\n",
       "<p>10 rows × 22 columns</p>\n",
       "</div>"
      ],
      "text/plain": [
       "               주문번호  순번                주문일시  진행구분                 배송지  \\\n",
       "0  1711080845542139   1 2017-11-08 08:46:26  환불완료  서울 영등포구 국제금융로2길 32   \n",
       "1  1711080902432145   1 2017-11-08 09:04:28  결제취소  서울 영등포구 국제금융로2길 32   \n",
       "2  1711080932562165   1 2017-11-08 09:33:20  결제취소  서울 영등포구 국제금융로2길 32   \n",
       "3  1711080934572167   1 2017-11-08 09:35:19  환불완료  서울 영등포구 국제금융로2길 32   \n",
       "4  1711080944432170   1 2017-11-08 09:45:08  결제취소  서울 영등포구 국제금융로2길 32   \n",
       "5  1711080950452173   1 2017-11-08 09:51:13  주문취소    서울 영등포구 국제금융로 10   \n",
       "6  1711081128212184   1 2017-11-08 11:28:47  주문취소    서울 영등포구 국제금융로 10   \n",
       "7  1711081303002187   1 2017-11-08 13:04:02  환불완료  서울 영등포구 국제금융로2길 32   \n",
       "8  1711081500162192   1 2017-11-08 15:00:34  주문취소    서울 영등포구 국제금융로 10   \n",
       "9  1711081622542202   1 2017-11-08 16:23:17  주문취소    경기 부천시 신흥로 150-1   \n",
       "\n",
       "               상품번호                                              상품명  \\\n",
       "0  G1710311847_6746                    (임직원 전용)[케라미카] 바뎀 2인홈세트 (11p)   \n",
       "1  G1710311849_6973     (임직원 전용)[아름다운공간] 스윗도자기 원형디스펜서 (2color/400ml)   \n",
       "2  G1710311843_6700    (임직원 전용)[런드레스] 울 캐시미어 스프레이 세다 cedar (4 fl.oz)   \n",
       "3  G1710311906_7061                 (임직원 전용)[트레비앙] 전동 와인 오프너_DM-503    \n",
       "4  G1710311843_6698       (임직원 전용)[런드레스] 패브릭 프레쉬 베이비 Baby (4 fl.oz.)   \n",
       "5  G1710311906_7080      (임직원 전용)[쉐우드가구] 발레린 원목 침대 Q퀸(독립스프링 매트리스 포함)   \n",
       "6  G1710311848_6934      (임직원 전용)[하츠] 직접 설치하는 이지 셀프 주방 렌지후드 (DIY 후드)   \n",
       "7  G1710131404_3328                             [전동댐퍼] MDD-P100DP-P    \n",
       "8  G1710171320_3622  (임직원 전용)[아름다운공간] 르리에 원목받침 스텐수저통 2 style (1단/2단)   \n",
       "9  G1711011727_7485        (임직원 전용)[루나스퀘어] 루나스피어 북유럽풍 국민수유등_IoT 감성조명   \n",
       "\n",
       "                 옵션명  수량       판매가  ...  회원주문여부  회원번호        주문일자  \\\n",
       "0                NaN   1   48840.0  ...       Y  1876  2017-11-08   \n",
       "1              색상:핑크   1    7800.0  ...       Y  1876  2017-11-08   \n",
       "2                NaN   1   16200.0  ...       Y  1882  2017-11-08   \n",
       "3                NaN   1   35040.0  ...       Y  1882  2017-11-08   \n",
       "4                NaN   1   16200.0  ...       Y  1882  2017-11-08   \n",
       "5                NaN   1  960000.0  ...       Y  1873  2017-11-08   \n",
       "6   색상:아쿠아블루_ES-60AB   1   84000.0  ...       Y  1873  2017-11-08   \n",
       "7                NaN   1   39900.0  ...       Y  1877  2017-11-08   \n",
       "8  구성:2단(원목받침+수저통2P)   1   18000.0  ...       Y  1873  2017-11-08   \n",
       "9                NaN   1   59400.0  ...       Y  1888  2017-11-08   \n",
       "\n",
       "           업체명        카테고리명           브랜드명 상품구분     대표판매가  판매상태  전시상태  \n",
       "0          에이젯       임직원 매장       KERAMIKA   일반   48840.0  판매중지     Y  \n",
       "1          NaN          NaN            NaN  NaN       NaN   NaN   NaN  \n",
       "2   (주)캔디코퍼레이션       임직원 매장      Laundress   일반   16200.0  판매중지     Y  \n",
       "3         에스피플       임직원 매장        TREBIEN   일반   35040.0  판매중지     Y  \n",
       "4   (주)캔디코퍼레이션       임직원 매장      Laundress   일반   16200.0  판매중지     Y  \n",
       "5          쉐우드       임직원 매장       SHERWOOD   일반  960000.0  판매중지     N  \n",
       "6           하츠       임직원 매장          HAATZ   일반   84000.0   판매중     N  \n",
       "7           힘펠  공구/철물/목재/리폼         HIMPEL   일반   40000.0   판매중     Y  \n",
       "8       아름다운공간       임직원 매장  BEAUTIFULROOM   일반   18000.0    품절     N  \n",
       "9  (주)엠앤지인터내셔널       임직원 매장     LUNASQUARE   일반   59400.0  판매중지     N  \n",
       "\n",
       "[10 rows x 22 columns]"
      ]
     },
     "execution_count": 12,
     "metadata": {},
     "output_type": "execute_result"
    }
   ],
   "source": [
    "# 주문과 상품정보 결합\n",
    "\n",
    "df_solditems1 = pd.merge(df_order1, df_items2, on = '상품번호', how='left')\n",
    "df_solditems1.head(10)"
   ]
  },
  {
   "cell_type": "code",
   "execution_count": 13,
   "id": "15adb2b4",
   "metadata": {},
   "outputs": [
    {
     "data": {
      "text/plain": [
       "(24766, 22)"
      ]
     },
     "execution_count": 13,
     "metadata": {},
     "output_type": "execute_result"
    }
   ],
   "source": [
    "df_solditems1.shape"
   ]
  },
  {
   "cell_type": "code",
   "execution_count": 14,
   "id": "239719b2",
   "metadata": {},
   "outputs": [
    {
     "data": {
      "text/html": [
       "<div>\n",
       "<style scoped>\n",
       "    .dataframe tbody tr th:only-of-type {\n",
       "        vertical-align: middle;\n",
       "    }\n",
       "\n",
       "    .dataframe tbody tr th {\n",
       "        vertical-align: top;\n",
       "    }\n",
       "\n",
       "    .dataframe thead th {\n",
       "        text-align: right;\n",
       "    }\n",
       "</style>\n",
       "<table border=\"1\" class=\"dataframe\">\n",
       "  <thead>\n",
       "    <tr style=\"text-align: right;\">\n",
       "      <th></th>\n",
       "      <th>회원번호</th>\n",
       "      <th>회원등급</th>\n",
       "      <th>가입일</th>\n",
       "      <th>최종방문일</th>\n",
       "      <th>본인인증</th>\n",
       "      <th>성별</th>\n",
       "      <th>나이</th>\n",
       "      <th>자주쓰는배송지 도로명</th>\n",
       "      <th>자주쓰는배송지 지번</th>\n",
       "    </tr>\n",
       "  </thead>\n",
       "  <tbody>\n",
       "    <tr>\n",
       "      <th>0</th>\n",
       "      <td>1476</td>\n",
       "      <td>임직원</td>\n",
       "      <td>2016-11-05 00:00:00</td>\n",
       "      <td>2018-04-30 17:34:58</td>\n",
       "      <td>-</td>\n",
       "      <td>M</td>\n",
       "      <td>31</td>\n",
       "      <td>서울 금천구 가마산로 70</td>\n",
       "      <td>-</td>\n",
       "    </tr>\n",
       "    <tr>\n",
       "      <th>1</th>\n",
       "      <td>1873</td>\n",
       "      <td>임직원</td>\n",
       "      <td>2017-11-02 15:54:32</td>\n",
       "      <td>2018-11-05 10:12:51</td>\n",
       "      <td>MOBILE</td>\n",
       "      <td>M</td>\n",
       "      <td>32</td>\n",
       "      <td>경기 고양시 일산서구 고양대로 620</td>\n",
       "      <td>경기 고양시 일산서구 일산동 960-6</td>\n",
       "    </tr>\n",
       "  </tbody>\n",
       "</table>\n",
       "</div>"
      ],
      "text/plain": [
       "   회원번호 회원등급                  가입일                최종방문일    본인인증 성별  나이  \\\n",
       "0  1476  임직원  2016-11-05 00:00:00  2018-04-30 17:34:58       -  M  31   \n",
       "1  1873  임직원  2017-11-02 15:54:32  2018-11-05 10:12:51  MOBILE  M  32   \n",
       "\n",
       "            자주쓰는배송지 도로명             자주쓰는배송지 지번  \n",
       "0        서울 금천구 가마산로 70                      -  \n",
       "1  경기 고양시 일산서구 고양대로 620  경기 고양시 일산서구 일산동 960-6  "
      ]
     },
     "execution_count": 14,
     "metadata": {},
     "output_type": "execute_result"
    }
   ],
   "source": [
    "df_customer1.head(2)"
   ]
  },
  {
   "cell_type": "code",
   "execution_count": 15,
   "id": "5bcc9dfd",
   "metadata": {},
   "outputs": [
    {
     "data": {
      "text/html": [
       "<div>\n",
       "<style scoped>\n",
       "    .dataframe tbody tr th:only-of-type {\n",
       "        vertical-align: middle;\n",
       "    }\n",
       "\n",
       "    .dataframe tbody tr th {\n",
       "        vertical-align: top;\n",
       "    }\n",
       "\n",
       "    .dataframe thead th {\n",
       "        text-align: right;\n",
       "    }\n",
       "</style>\n",
       "<table border=\"1\" class=\"dataframe\">\n",
       "  <thead>\n",
       "    <tr style=\"text-align: right;\">\n",
       "      <th></th>\n",
       "      <th>회원번호</th>\n",
       "      <th>회원등급</th>\n",
       "      <th>가입일</th>\n",
       "      <th>최종방문일</th>\n",
       "      <th>본인인증</th>\n",
       "      <th>성별</th>\n",
       "      <th>나이</th>\n",
       "      <th>자주쓰는배송지 도로명</th>\n",
       "      <th>자주쓰는배송지 지번</th>\n",
       "    </tr>\n",
       "  </thead>\n",
       "  <tbody>\n",
       "    <tr>\n",
       "      <th>0</th>\n",
       "      <td>1476</td>\n",
       "      <td>임직원</td>\n",
       "      <td>2016-11-05 00:00:00</td>\n",
       "      <td>2018-04-30 17:34:58</td>\n",
       "      <td>-</td>\n",
       "      <td>M</td>\n",
       "      <td>31</td>\n",
       "      <td>서울 금천구 가마산로 70</td>\n",
       "      <td>-</td>\n",
       "    </tr>\n",
       "    <tr>\n",
       "      <th>1</th>\n",
       "      <td>1873</td>\n",
       "      <td>임직원</td>\n",
       "      <td>2017-11-02 15:54:32</td>\n",
       "      <td>2018-11-05 10:12:51</td>\n",
       "      <td>MOBILE</td>\n",
       "      <td>M</td>\n",
       "      <td>32</td>\n",
       "      <td>경기 고양시 일산서구 고양대로 620</td>\n",
       "      <td>경기 고양시 일산서구 일산동 960-6</td>\n",
       "    </tr>\n",
       "  </tbody>\n",
       "</table>\n",
       "</div>"
      ],
      "text/plain": [
       "   회원번호 회원등급                  가입일                최종방문일    본인인증 성별  나이  \\\n",
       "0  1476  임직원  2016-11-05 00:00:00  2018-04-30 17:34:58       -  M  31   \n",
       "1  1873  임직원  2017-11-02 15:54:32  2018-11-05 10:12:51  MOBILE  M  32   \n",
       "\n",
       "            자주쓰는배송지 도로명             자주쓰는배송지 지번  \n",
       "0        서울 금천구 가마산로 70                      -  \n",
       "1  경기 고양시 일산서구 고양대로 620  경기 고양시 일산서구 일산동 960-6  "
      ]
     },
     "execution_count": 15,
     "metadata": {},
     "output_type": "execute_result"
    }
   ],
   "source": [
    "df_customer2 = df_customer1.copy()\n",
    "df_customer2.head(2)"
   ]
  },
  {
   "cell_type": "code",
   "execution_count": 16,
   "id": "87623d46",
   "metadata": {},
   "outputs": [
    {
     "data": {
      "text/plain": [
       "Index(['주문번호', '순번', '주문일시', '진행구분', '배송지', '상품번호', '상품명', '옵션명', '수량', '판매가',\n",
       "       '배송비', '쿠폰할인액', '회원주문여부', '회원번호', '주문일자', '업체명', '카테고리명', '브랜드명',\n",
       "       '상품구분', '대표판매가', '판매상태', '전시상태'],\n",
       "      dtype='object')"
      ]
     },
     "execution_count": 16,
     "metadata": {},
     "output_type": "execute_result"
    }
   ],
   "source": [
    "df_solditems1.columns.unique()"
   ]
  },
  {
   "cell_type": "code",
   "execution_count": 17,
   "id": "026a189e",
   "metadata": {},
   "outputs": [
    {
     "data": {
      "text/plain": [
       "Index(['회원번호', '회원등급', '가입일', '최종방문일', '본인인증', '성별', '나이', '자주쓰는배송지 도로명',\n",
       "       '자주쓰는배송지 지번'],\n",
       "      dtype='object')"
      ]
     },
     "execution_count": 17,
     "metadata": {},
     "output_type": "execute_result"
    }
   ],
   "source": [
    "df_customer2.columns.unique()"
   ]
  },
  {
   "cell_type": "code",
   "execution_count": 18,
   "id": "8e17732c",
   "metadata": {},
   "outputs": [],
   "source": [
    "df_customer2.drop (columns = ['가입일', '최종방문일', '본인인증', '자주쓰는배송지 도로명', '자주쓰는배송지 지번'], inplace = True)"
   ]
  },
  {
   "cell_type": "code",
   "execution_count": 19,
   "id": "908d0de1",
   "metadata": {},
   "outputs": [
    {
     "data": {
      "text/html": [
       "<div>\n",
       "<style scoped>\n",
       "    .dataframe tbody tr th:only-of-type {\n",
       "        vertical-align: middle;\n",
       "    }\n",
       "\n",
       "    .dataframe tbody tr th {\n",
       "        vertical-align: top;\n",
       "    }\n",
       "\n",
       "    .dataframe thead th {\n",
       "        text-align: right;\n",
       "    }\n",
       "</style>\n",
       "<table border=\"1\" class=\"dataframe\">\n",
       "  <thead>\n",
       "    <tr style=\"text-align: right;\">\n",
       "      <th></th>\n",
       "      <th>회원번호</th>\n",
       "      <th>회원등급</th>\n",
       "      <th>성별</th>\n",
       "      <th>나이</th>\n",
       "    </tr>\n",
       "  </thead>\n",
       "  <tbody>\n",
       "    <tr>\n",
       "      <th>0</th>\n",
       "      <td>1476</td>\n",
       "      <td>임직원</td>\n",
       "      <td>M</td>\n",
       "      <td>31</td>\n",
       "    </tr>\n",
       "    <tr>\n",
       "      <th>1</th>\n",
       "      <td>1873</td>\n",
       "      <td>임직원</td>\n",
       "      <td>M</td>\n",
       "      <td>32</td>\n",
       "    </tr>\n",
       "  </tbody>\n",
       "</table>\n",
       "</div>"
      ],
      "text/plain": [
       "   회원번호 회원등급 성별  나이\n",
       "0  1476  임직원  M  31\n",
       "1  1873  임직원  M  32"
      ]
     },
     "execution_count": 19,
     "metadata": {},
     "output_type": "execute_result"
    }
   ],
   "source": [
    "df_customer2.head(2)"
   ]
  },
  {
   "cell_type": "code",
   "execution_count": 20,
   "id": "284b8916",
   "metadata": {},
   "outputs": [
    {
     "data": {
      "text/html": [
       "<div>\n",
       "<style scoped>\n",
       "    .dataframe tbody tr th:only-of-type {\n",
       "        vertical-align: middle;\n",
       "    }\n",
       "\n",
       "    .dataframe tbody tr th {\n",
       "        vertical-align: top;\n",
       "    }\n",
       "\n",
       "    .dataframe thead th {\n",
       "        text-align: right;\n",
       "    }\n",
       "</style>\n",
       "<table border=\"1\" class=\"dataframe\">\n",
       "  <thead>\n",
       "    <tr style=\"text-align: right;\">\n",
       "      <th></th>\n",
       "      <th>주문번호</th>\n",
       "      <th>순번</th>\n",
       "      <th>주문일시</th>\n",
       "      <th>진행구분</th>\n",
       "      <th>배송지</th>\n",
       "      <th>상품번호</th>\n",
       "      <th>상품명</th>\n",
       "      <th>옵션명</th>\n",
       "      <th>수량</th>\n",
       "      <th>판매가</th>\n",
       "      <th>...</th>\n",
       "      <th>업체명</th>\n",
       "      <th>카테고리명</th>\n",
       "      <th>브랜드명</th>\n",
       "      <th>상품구분</th>\n",
       "      <th>대표판매가</th>\n",
       "      <th>판매상태</th>\n",
       "      <th>전시상태</th>\n",
       "      <th>회원등급</th>\n",
       "      <th>성별</th>\n",
       "      <th>나이</th>\n",
       "    </tr>\n",
       "  </thead>\n",
       "  <tbody>\n",
       "    <tr>\n",
       "      <th>0</th>\n",
       "      <td>1711080845542139</td>\n",
       "      <td>1</td>\n",
       "      <td>2017-11-08 08:46:26</td>\n",
       "      <td>환불완료</td>\n",
       "      <td>서울 영등포구 국제금융로2길 32</td>\n",
       "      <td>G1710311847_6746</td>\n",
       "      <td>(임직원 전용)[케라미카] 바뎀 2인홈세트 (11p)</td>\n",
       "      <td>NaN</td>\n",
       "      <td>1</td>\n",
       "      <td>48840.0</td>\n",
       "      <td>...</td>\n",
       "      <td>에이젯</td>\n",
       "      <td>임직원 매장</td>\n",
       "      <td>KERAMIKA</td>\n",
       "      <td>일반</td>\n",
       "      <td>48840.0</td>\n",
       "      <td>판매중지</td>\n",
       "      <td>Y</td>\n",
       "      <td>임직원</td>\n",
       "      <td>M</td>\n",
       "      <td>30</td>\n",
       "    </tr>\n",
       "    <tr>\n",
       "      <th>1</th>\n",
       "      <td>1711080902432145</td>\n",
       "      <td>1</td>\n",
       "      <td>2017-11-08 09:04:28</td>\n",
       "      <td>결제취소</td>\n",
       "      <td>서울 영등포구 국제금융로2길 32</td>\n",
       "      <td>G1710311849_6973</td>\n",
       "      <td>(임직원 전용)[아름다운공간] 스윗도자기 원형디스펜서 (2color/400ml)</td>\n",
       "      <td>색상:핑크</td>\n",
       "      <td>1</td>\n",
       "      <td>7800.0</td>\n",
       "      <td>...</td>\n",
       "      <td>NaN</td>\n",
       "      <td>NaN</td>\n",
       "      <td>NaN</td>\n",
       "      <td>NaN</td>\n",
       "      <td>NaN</td>\n",
       "      <td>NaN</td>\n",
       "      <td>NaN</td>\n",
       "      <td>임직원</td>\n",
       "      <td>M</td>\n",
       "      <td>30</td>\n",
       "    </tr>\n",
       "  </tbody>\n",
       "</table>\n",
       "<p>2 rows × 25 columns</p>\n",
       "</div>"
      ],
      "text/plain": [
       "               주문번호  순번                주문일시  진행구분                 배송지  \\\n",
       "0  1711080845542139   1 2017-11-08 08:46:26  환불완료  서울 영등포구 국제금융로2길 32   \n",
       "1  1711080902432145   1 2017-11-08 09:04:28  결제취소  서울 영등포구 국제금융로2길 32   \n",
       "\n",
       "               상품번호                                           상품명    옵션명  수량  \\\n",
       "0  G1710311847_6746                 (임직원 전용)[케라미카] 바뎀 2인홈세트 (11p)    NaN   1   \n",
       "1  G1710311849_6973  (임직원 전용)[아름다운공간] 스윗도자기 원형디스펜서 (2color/400ml)  색상:핑크   1   \n",
       "\n",
       "       판매가  ...  업체명   카테고리명      브랜드명  상품구분    대표판매가  판매상태 전시상태 회원등급 성별  나이  \n",
       "0  48840.0  ...  에이젯  임직원 매장  KERAMIKA    일반  48840.0  판매중지    Y  임직원  M  30  \n",
       "1   7800.0  ...  NaN     NaN       NaN   NaN      NaN   NaN  NaN  임직원  M  30  \n",
       "\n",
       "[2 rows x 25 columns]"
      ]
     },
     "execution_count": 20,
     "metadata": {},
     "output_type": "execute_result"
    }
   ],
   "source": [
    "df_solditems2 = pd.merge(df_solditems1, df_customer2,on = '회원번호', how='left' )\n",
    "df_solditems2.head(2)"
   ]
  },
  {
   "cell_type": "code",
   "execution_count": 21,
   "id": "b95ccac8",
   "metadata": {},
   "outputs": [
    {
     "data": {
      "text/plain": [
       "(24766, 25)"
      ]
     },
     "execution_count": 21,
     "metadata": {},
     "output_type": "execute_result"
    }
   ],
   "source": [
    "df_solditems2.shape"
   ]
  },
  {
   "cell_type": "code",
   "execution_count": 22,
   "id": "cf045184",
   "metadata": {},
   "outputs": [
    {
     "data": {
      "text/plain": [
       "주문번호          0\n",
       "순번            0\n",
       "주문일시          0\n",
       "진행구분          0\n",
       "배송지          64\n",
       "상품번호          0\n",
       "상품명           0\n",
       "옵션명       15195\n",
       "수량            0\n",
       "판매가           0\n",
       "배송비           0\n",
       "쿠폰할인액         0\n",
       "회원주문여부        0\n",
       "회원번호          0\n",
       "주문일자          0\n",
       "업체명         248\n",
       "카테고리명       288\n",
       "브랜드명        933\n",
       "상품구분       1758\n",
       "대표판매가       248\n",
       "판매상태        248\n",
       "전시상태        248\n",
       "회원등급       4430\n",
       "성별         4430\n",
       "나이        17959\n",
       "dtype: int64"
      ]
     },
     "execution_count": 22,
     "metadata": {},
     "output_type": "execute_result"
    }
   ],
   "source": [
    "df_solditems2.isnull().sum()"
   ]
  },
  {
   "cell_type": "code",
   "execution_count": 23,
   "id": "deb317a2",
   "metadata": {},
   "outputs": [],
   "source": [
    "df_solditems3 = df_solditems2.copy()"
   ]
  },
  {
   "cell_type": "code",
   "execution_count": 24,
   "id": "68440ddc",
   "metadata": {},
   "outputs": [],
   "source": [
    "df_solditems3.drop(df_solditems3[df_solditems3['진행구분'] == '환불완료'].index, inplace=True)\n",
    "df_solditems3.drop(df_solditems3[df_solditems3['진행구분'] == '결제취소'].index, inplace=True)\n",
    "df_solditems3.drop(df_solditems3[df_solditems3['진행구분'] == '환불신청'].index, inplace=True)\n",
    "df_solditems3.drop(df_solditems3[df_solditems3['진행구분'] == '주문취소'].index, inplace=True)"
   ]
  },
  {
   "cell_type": "code",
   "execution_count": 25,
   "id": "4a44248d",
   "metadata": {},
   "outputs": [],
   "source": [
    "# 주분 구분 제외 항목(환불완료, 결제취소, 주문취소, 환불신청)\n",
    "#df.drop(df_order1[df_order1[\"진행구분\"] == '환불완료'].index, inplace=True)\n",
    "\n",
    "#langs = ['구매확정','교환완료','배송준비중','배송완료','주문완료']\n",
    "#filt = df1['진행구분'].isin(langs)\n",
    "#df10 = df1[filt]\n",
    "#df10"
   ]
  },
  {
   "cell_type": "code",
   "execution_count": 26,
   "id": "143241ca",
   "metadata": {},
   "outputs": [
    {
     "data": {
      "text/html": [
       "<div>\n",
       "<style scoped>\n",
       "    .dataframe tbody tr th:only-of-type {\n",
       "        vertical-align: middle;\n",
       "    }\n",
       "\n",
       "    .dataframe tbody tr th {\n",
       "        vertical-align: top;\n",
       "    }\n",
       "\n",
       "    .dataframe thead th {\n",
       "        text-align: right;\n",
       "    }\n",
       "</style>\n",
       "<table border=\"1\" class=\"dataframe\">\n",
       "  <thead>\n",
       "    <tr style=\"text-align: right;\">\n",
       "      <th></th>\n",
       "      <th>주문번호</th>\n",
       "      <th>순번</th>\n",
       "      <th>주문일시</th>\n",
       "      <th>진행구분</th>\n",
       "      <th>배송지</th>\n",
       "      <th>상품번호</th>\n",
       "      <th>상품명</th>\n",
       "      <th>옵션명</th>\n",
       "      <th>수량</th>\n",
       "      <th>판매가</th>\n",
       "      <th>...</th>\n",
       "      <th>업체명</th>\n",
       "      <th>카테고리명</th>\n",
       "      <th>브랜드명</th>\n",
       "      <th>상품구분</th>\n",
       "      <th>대표판매가</th>\n",
       "      <th>판매상태</th>\n",
       "      <th>전시상태</th>\n",
       "      <th>회원등급</th>\n",
       "      <th>성별</th>\n",
       "      <th>나이</th>\n",
       "    </tr>\n",
       "  </thead>\n",
       "  <tbody>\n",
       "    <tr>\n",
       "      <th>12</th>\n",
       "      <td>1711091120092237</td>\n",
       "      <td>1</td>\n",
       "      <td>2017-11-09 11:23:07</td>\n",
       "      <td>구매확정</td>\n",
       "      <td>강원 춘천시 동산면 영서로 915</td>\n",
       "      <td>G1709201602_1482</td>\n",
       "      <td>[3M] 작업용 보호안경</td>\n",
       "      <td>NaN</td>\n",
       "      <td>5</td>\n",
       "      <td>16000.0</td>\n",
       "      <td>...</td>\n",
       "      <td>하우스플러스(주)</td>\n",
       "      <td>벽지/바닥재/타일</td>\n",
       "      <td>책임 크레텍</td>\n",
       "      <td>일반</td>\n",
       "      <td>3200.0</td>\n",
       "      <td>판매중지</td>\n",
       "      <td>N</td>\n",
       "      <td>임직원</td>\n",
       "      <td>M</td>\n",
       "      <td>46</td>\n",
       "    </tr>\n",
       "    <tr>\n",
       "      <th>13</th>\n",
       "      <td>1711091146582243</td>\n",
       "      <td>1</td>\n",
       "      <td>2017-11-09 11:49:04</td>\n",
       "      <td>구매확정</td>\n",
       "      <td>경기 고양시 일산서구 고양대로 633</td>\n",
       "      <td>G1710161420_3420</td>\n",
       "      <td>[씨원] 듀얼 프리미엄 3단요추의자</td>\n",
       "      <td>색상:와인</td>\n",
       "      <td>1</td>\n",
       "      <td>52900.0</td>\n",
       "      <td>...</td>\n",
       "      <td>에이젯</td>\n",
       "      <td>학생/사무/유아동가구</td>\n",
       "      <td>CONE</td>\n",
       "      <td>일반</td>\n",
       "      <td>52900.0</td>\n",
       "      <td>판매중</td>\n",
       "      <td>N</td>\n",
       "      <td>임직원</td>\n",
       "      <td>M</td>\n",
       "      <td>45</td>\n",
       "    </tr>\n",
       "  </tbody>\n",
       "</table>\n",
       "<p>2 rows × 25 columns</p>\n",
       "</div>"
      ],
      "text/plain": [
       "                주문번호  순번                주문일시  진행구분                   배송지  \\\n",
       "12  1711091120092237   1 2017-11-09 11:23:07  구매확정    강원 춘천시 동산면 영서로 915   \n",
       "13  1711091146582243   1 2017-11-09 11:49:04  구매확정  경기 고양시 일산서구 고양대로 633   \n",
       "\n",
       "                상품번호                  상품명    옵션명  수량      판매가  ...        업체명  \\\n",
       "12  G1709201602_1482        [3M] 작업용 보호안경    NaN   5  16000.0  ...  하우스플러스(주)   \n",
       "13  G1710161420_3420  [씨원] 듀얼 프리미엄 3단요추의자  색상:와인   1  52900.0  ...        에이젯   \n",
       "\n",
       "          카테고리명    브랜드명  상품구분    대표판매가  판매상태 전시상태 회원등급 성별  나이  \n",
       "12    벽지/바닥재/타일  책임 크레텍    일반   3200.0  판매중지    N  임직원  M  46  \n",
       "13  학생/사무/유아동가구    CONE    일반  52900.0   판매중    N  임직원  M  45  \n",
       "\n",
       "[2 rows x 25 columns]"
      ]
     },
     "execution_count": 26,
     "metadata": {},
     "output_type": "execute_result"
    }
   ],
   "source": [
    "df_solditems3.head(2)"
   ]
  },
  {
   "cell_type": "code",
   "execution_count": 27,
   "id": "81cef3e1",
   "metadata": {},
   "outputs": [
    {
     "data": {
      "text/plain": [
       "(20712, 25)"
      ]
     },
     "execution_count": 27,
     "metadata": {},
     "output_type": "execute_result"
    }
   ],
   "source": [
    "df_solditems3.shape # 주분 구분 제외 항목(환불완료, 결제취소, 주문취소, 환불신청) : 4054 건 제외 됨"
   ]
  },
  {
   "cell_type": "code",
   "execution_count": 28,
   "id": "d0a3ca82",
   "metadata": {},
   "outputs": [
    {
     "data": {
      "text/plain": [
       "Index(['주문번호', '순번', '주문일시', '진행구분', '배송지', '상품번호', '상품명', '옵션명', '수량', '판매가',\n",
       "       '배송비', '쿠폰할인액', '회원주문여부', '회원번호', '주문일자', '업체명', '카테고리명', '브랜드명',\n",
       "       '상품구분', '대표판매가', '판매상태', '전시상태', '회원등급', '성별', '나이'],\n",
       "      dtype='object')"
      ]
     },
     "execution_count": 28,
     "metadata": {},
     "output_type": "execute_result"
    }
   ],
   "source": [
    "df_solditems3.columns.unique()"
   ]
  },
  {
   "cell_type": "code",
   "execution_count": 29,
   "id": "a4dc4959",
   "metadata": {},
   "outputs": [],
   "source": [
    "df_solditems3 = \\\n",
    "df_solditems3.drop(columns = ['순번', '상품번호', '옵션명', '배송비', '쿠폰할인액', '회원주문여부', '상품구분', '대표판매가', '판매상태', '전시상태', '회원등급'])\n",
    "# 불필요 컬럼 정리"
   ]
  },
  {
   "cell_type": "code",
   "execution_count": 30,
   "id": "a654987c",
   "metadata": {},
   "outputs": [
    {
     "data": {
      "text/html": [
       "<div>\n",
       "<style scoped>\n",
       "    .dataframe tbody tr th:only-of-type {\n",
       "        vertical-align: middle;\n",
       "    }\n",
       "\n",
       "    .dataframe tbody tr th {\n",
       "        vertical-align: top;\n",
       "    }\n",
       "\n",
       "    .dataframe thead th {\n",
       "        text-align: right;\n",
       "    }\n",
       "</style>\n",
       "<table border=\"1\" class=\"dataframe\">\n",
       "  <thead>\n",
       "    <tr style=\"text-align: right;\">\n",
       "      <th></th>\n",
       "      <th>주문번호</th>\n",
       "      <th>주문일시</th>\n",
       "      <th>진행구분</th>\n",
       "      <th>배송지</th>\n",
       "      <th>상품명</th>\n",
       "      <th>수량</th>\n",
       "      <th>판매가</th>\n",
       "      <th>회원번호</th>\n",
       "      <th>주문일자</th>\n",
       "      <th>업체명</th>\n",
       "      <th>카테고리명</th>\n",
       "      <th>브랜드명</th>\n",
       "      <th>성별</th>\n",
       "      <th>나이</th>\n",
       "    </tr>\n",
       "  </thead>\n",
       "  <tbody>\n",
       "    <tr>\n",
       "      <th>12</th>\n",
       "      <td>1711091120092237</td>\n",
       "      <td>2017-11-09 11:23:07</td>\n",
       "      <td>구매확정</td>\n",
       "      <td>강원 춘천시 동산면 영서로 915</td>\n",
       "      <td>[3M] 작업용 보호안경</td>\n",
       "      <td>5</td>\n",
       "      <td>16000.0</td>\n",
       "      <td>1972</td>\n",
       "      <td>2017-11-09</td>\n",
       "      <td>하우스플러스(주)</td>\n",
       "      <td>벽지/바닥재/타일</td>\n",
       "      <td>책임 크레텍</td>\n",
       "      <td>M</td>\n",
       "      <td>46</td>\n",
       "    </tr>\n",
       "    <tr>\n",
       "      <th>13</th>\n",
       "      <td>1711091146582243</td>\n",
       "      <td>2017-11-09 11:49:04</td>\n",
       "      <td>구매확정</td>\n",
       "      <td>경기 고양시 일산서구 고양대로 633</td>\n",
       "      <td>[씨원] 듀얼 프리미엄 3단요추의자</td>\n",
       "      <td>1</td>\n",
       "      <td>52900.0</td>\n",
       "      <td>2005</td>\n",
       "      <td>2017-11-09</td>\n",
       "      <td>에이젯</td>\n",
       "      <td>학생/사무/유아동가구</td>\n",
       "      <td>CONE</td>\n",
       "      <td>M</td>\n",
       "      <td>45</td>\n",
       "    </tr>\n",
       "  </tbody>\n",
       "</table>\n",
       "</div>"
      ],
      "text/plain": [
       "                주문번호                주문일시  진행구분                   배송지  \\\n",
       "12  1711091120092237 2017-11-09 11:23:07  구매확정    강원 춘천시 동산면 영서로 915   \n",
       "13  1711091146582243 2017-11-09 11:49:04  구매확정  경기 고양시 일산서구 고양대로 633   \n",
       "\n",
       "                    상품명  수량      판매가  회원번호        주문일자        업체명  \\\n",
       "12        [3M] 작업용 보호안경   5  16000.0  1972  2017-11-09  하우스플러스(주)   \n",
       "13  [씨원] 듀얼 프리미엄 3단요추의자   1  52900.0  2005  2017-11-09        에이젯   \n",
       "\n",
       "          카테고리명    브랜드명 성별  나이  \n",
       "12    벽지/바닥재/타일  책임 크레텍  M  46  \n",
       "13  학생/사무/유아동가구    CONE  M  45  "
      ]
     },
     "execution_count": 30,
     "metadata": {},
     "output_type": "execute_result"
    }
   ],
   "source": [
    "df_solditems3.head(2)"
   ]
  },
  {
   "cell_type": "code",
   "execution_count": 31,
   "id": "658b4153",
   "metadata": {},
   "outputs": [
    {
     "data": {
      "text/plain": [
       "12          강원 춘천시 동산면 영서로 915\n",
       "13        경기 고양시 일산서구 고양대로 633\n",
       "14         인천 연수구 송도과학로27번길 30\n",
       "16          서울 영등포구 국제금융로2길 32\n",
       "17        세종특별자치시 금남면 두만길 12-1\n",
       "                 ...          \n",
       "24761    경남 진주시 내동면 순환로 425-61\n",
       "24762       충북 청주시 상당구 단재로 316\n",
       "24763       충북 청주시 상당구 단재로 316\n",
       "24764       충북 청주시 상당구 단재로 316\n",
       "24765           전남 광양시 진등2길 13\n",
       "Name: 배송지, Length: 20712, dtype: object"
      ]
     },
     "execution_count": 31,
     "metadata": {},
     "output_type": "execute_result"
    }
   ],
   "source": [
    "df_solditems3.배송지"
   ]
  },
  {
   "cell_type": "code",
   "execution_count": 32,
   "id": "e857624e",
   "metadata": {},
   "outputs": [],
   "source": [
    "df_solditems3['배송지역'] = df_solditems3['배송지'].str.split(' ').str[0]"
   ]
  },
  {
   "cell_type": "code",
   "execution_count": 33,
   "id": "2d195f09",
   "metadata": {},
   "outputs": [
    {
     "data": {
      "text/plain": [
       "array(['강원', '경기', '인천', '서울', '세종특별자치시', '전남', '대전', '충남', '광주', '경기도',\n",
       "       '경남', '전북', '충북', '경북', '부산', nan, '대구', '울산', '서울특별시', '인천광역시',\n",
       "       '제주특별자치도', '호계e편한세상아파트', '전라북도', '라도무스', '죽전벽산5단지', '테헤란로',\n",
       "       '102*301', '서울시', '대구광역시'], dtype=object)"
      ]
     },
     "execution_count": 33,
     "metadata": {},
     "output_type": "execute_result"
    }
   ],
   "source": [
    "df_solditems3['배송지역'].unique()"
   ]
  },
  {
   "cell_type": "code",
   "execution_count": 34,
   "id": "914b2e48",
   "metadata": {},
   "outputs": [],
   "source": [
    "df_solditems3.replace({'배송지역':{'세종특별자치시':'세종'}}, inplace = True)\n",
    "df_solditems3.replace({'배송지역':{'인천광역시':'인천'}}, inplace = True)\n",
    "df_solditems3.replace({'배송지역':{'제주특별자치도':'제주'}}, inplace = True)\n",
    "df_solditems3.replace({'배송지역':{'서울시':'서울'}}, inplace = True)\n",
    "df_solditems3.replace({'배송지역':{'대구광역시':'대구'}}, inplace = True)\n",
    "df_solditems3.replace({'배송지역':{'전라북도':'전북'}}, inplace = True)\n",
    "df_solditems3.replace({'배송지역':{'테헤란로':'서울'}}, inplace = True)\n",
    "df_solditems3.replace({'배송지역':{'경기도':'경기'}}, inplace = True)"
   ]
  },
  {
   "cell_type": "code",
   "execution_count": 100,
   "id": "ac2d48b8",
   "metadata": {},
   "outputs": [
    {
     "data": {
      "text/plain": [
       "array(['강원', '경기', '인천', '서울', '세종', '전남', '대전', '충남', '광주', '경남', '전북',\n",
       "       '충북', '경북', '부산', nan, '대구', '울산', '제주'], dtype=object)"
      ]
     },
     "execution_count": 100,
     "metadata": {},
     "output_type": "execute_result"
    }
   ],
   "source": [
    "df_solditems3['배송지역'].unique()"
   ]
  },
  {
   "cell_type": "code",
   "execution_count": 36,
   "id": "2dc1ad0f",
   "metadata": {},
   "outputs": [
    {
     "data": {
      "text/html": [
       "<div>\n",
       "<style scoped>\n",
       "    .dataframe tbody tr th:only-of-type {\n",
       "        vertical-align: middle;\n",
       "    }\n",
       "\n",
       "    .dataframe tbody tr th {\n",
       "        vertical-align: top;\n",
       "    }\n",
       "\n",
       "    .dataframe thead th {\n",
       "        text-align: right;\n",
       "    }\n",
       "</style>\n",
       "<table border=\"1\" class=\"dataframe\">\n",
       "  <thead>\n",
       "    <tr style=\"text-align: right;\">\n",
       "      <th></th>\n",
       "      <th>주문번호</th>\n",
       "      <th>주문일시</th>\n",
       "      <th>진행구분</th>\n",
       "      <th>배송지</th>\n",
       "      <th>상품명</th>\n",
       "      <th>수량</th>\n",
       "      <th>판매가</th>\n",
       "      <th>회원번호</th>\n",
       "      <th>주문일자</th>\n",
       "      <th>업체명</th>\n",
       "      <th>카테고리명</th>\n",
       "      <th>브랜드명</th>\n",
       "      <th>성별</th>\n",
       "      <th>나이</th>\n",
       "      <th>배송지역</th>\n",
       "    </tr>\n",
       "  </thead>\n",
       "  <tbody>\n",
       "    <tr>\n",
       "      <th>3493</th>\n",
       "      <td>1805181000457907</td>\n",
       "      <td>2018-05-18 10:01:21</td>\n",
       "      <td>구매확정</td>\n",
       "      <td>호계e편한세상아파트</td>\n",
       "      <td>[반반데이특가] [SONY] PlayStation4 Slim 500GB 블랙_CUH...</td>\n",
       "      <td>1</td>\n",
       "      <td>219000.0</td>\n",
       "      <td>39407</td>\n",
       "      <td>2018-05-18</td>\n",
       "      <td>(주)라이온그룹코리아</td>\n",
       "      <td>생활가전</td>\n",
       "      <td>SONY</td>\n",
       "      <td>-</td>\n",
       "      <td>NaN</td>\n",
       "      <td>호계e편한세상아파트</td>\n",
       "    </tr>\n",
       "  </tbody>\n",
       "</table>\n",
       "</div>"
      ],
      "text/plain": [
       "                  주문번호                주문일시  진행구분          배송지  \\\n",
       "3493  1805181000457907 2018-05-18 10:01:21  구매확정  호계e편한세상아파트    \n",
       "\n",
       "                                                    상품명  수량       판매가   회원번호  \\\n",
       "3493  [반반데이특가] [SONY] PlayStation4 Slim 500GB 블랙_CUH...   1  219000.0  39407   \n",
       "\n",
       "            주문일자          업체명 카테고리명  브랜드명 성별   나이        배송지역  \n",
       "3493  2018-05-18  (주)라이온그룹코리아  생활가전  SONY  -  NaN  호계e편한세상아파트  "
      ]
     },
     "execution_count": 36,
     "metadata": {},
     "output_type": "execute_result"
    }
   ],
   "source": [
    "df_solditems3 [df_solditems3['배송지역'] == '호계e편한세상아파트' ] # 경기"
   ]
  },
  {
   "cell_type": "code",
   "execution_count": null,
   "id": "5d23ac25",
   "metadata": {},
   "outputs": [],
   "source": []
  },
  {
   "cell_type": "code",
   "execution_count": 37,
   "id": "0ccd5015",
   "metadata": {},
   "outputs": [
    {
     "data": {
      "text/html": [
       "<div>\n",
       "<style scoped>\n",
       "    .dataframe tbody tr th:only-of-type {\n",
       "        vertical-align: middle;\n",
       "    }\n",
       "\n",
       "    .dataframe tbody tr th {\n",
       "        vertical-align: top;\n",
       "    }\n",
       "\n",
       "    .dataframe thead th {\n",
       "        text-align: right;\n",
       "    }\n",
       "</style>\n",
       "<table border=\"1\" class=\"dataframe\">\n",
       "  <thead>\n",
       "    <tr style=\"text-align: right;\">\n",
       "      <th></th>\n",
       "      <th>회원번호</th>\n",
       "      <th>회원등급</th>\n",
       "      <th>가입일</th>\n",
       "      <th>최종방문일</th>\n",
       "      <th>본인인증</th>\n",
       "      <th>성별</th>\n",
       "      <th>나이</th>\n",
       "      <th>자주쓰는배송지 도로명</th>\n",
       "      <th>자주쓰는배송지 지번</th>\n",
       "    </tr>\n",
       "  </thead>\n",
       "  <tbody>\n",
       "    <tr>\n",
       "      <th>32652</th>\n",
       "      <td>39407</td>\n",
       "      <td>일반</td>\n",
       "      <td>2018-05-17 17:02:18</td>\n",
       "      <td>2018-05-25 09:22:05</td>\n",
       "      <td>MOBILE</td>\n",
       "      <td>-</td>\n",
       "      <td>NaN</td>\n",
       "      <td>호계e편한세상아파트</td>\n",
       "      <td>경기 안양시 동안구 호계동 813</td>\n",
       "    </tr>\n",
       "  </tbody>\n",
       "</table>\n",
       "</div>"
      ],
      "text/plain": [
       "        회원번호 회원등급                  가입일                최종방문일    본인인증 성별   나이  \\\n",
       "32652  39407   일반  2018-05-17 17:02:18  2018-05-25 09:22:05  MOBILE  -  NaN   \n",
       "\n",
       "       자주쓰는배송지 도로명          자주쓰는배송지 지번  \n",
       "32652  호계e편한세상아파트   경기 안양시 동안구 호계동 813  "
      ]
     },
     "execution_count": 37,
     "metadata": {},
     "output_type": "execute_result"
    }
   ],
   "source": [
    "df_customer1 [df_customer1['회원번호'] == 39407] "
   ]
  },
  {
   "cell_type": "code",
   "execution_count": 38,
   "id": "07d811b1",
   "metadata": {},
   "outputs": [
    {
     "data": {
      "text/html": [
       "<div>\n",
       "<style scoped>\n",
       "    .dataframe tbody tr th:only-of-type {\n",
       "        vertical-align: middle;\n",
       "    }\n",
       "\n",
       "    .dataframe tbody tr th {\n",
       "        vertical-align: top;\n",
       "    }\n",
       "\n",
       "    .dataframe thead th {\n",
       "        text-align: right;\n",
       "    }\n",
       "</style>\n",
       "<table border=\"1\" class=\"dataframe\">\n",
       "  <thead>\n",
       "    <tr style=\"text-align: right;\">\n",
       "      <th></th>\n",
       "      <th>주문번호</th>\n",
       "      <th>주문일시</th>\n",
       "      <th>진행구분</th>\n",
       "      <th>배송지</th>\n",
       "      <th>상품명</th>\n",
       "      <th>수량</th>\n",
       "      <th>판매가</th>\n",
       "      <th>회원번호</th>\n",
       "      <th>주문일자</th>\n",
       "      <th>업체명</th>\n",
       "      <th>카테고리명</th>\n",
       "      <th>브랜드명</th>\n",
       "      <th>성별</th>\n",
       "      <th>나이</th>\n",
       "      <th>배송지역</th>\n",
       "    </tr>\n",
       "  </thead>\n",
       "  <tbody>\n",
       "    <tr>\n",
       "      <th>6203</th>\n",
       "      <td>1806241002447669</td>\n",
       "      <td>2018-06-24 10:02:58</td>\n",
       "      <td>구매확정</td>\n",
       "      <td>라도무스</td>\n",
       "      <td>[Hot Deal][LG전자] 미니빔 프로젝터 TV_PF50KA</td>\n",
       "      <td>1</td>\n",
       "      <td>799000.0</td>\n",
       "      <td>39978</td>\n",
       "      <td>2018-06-24</td>\n",
       "      <td>(주)이파트너스</td>\n",
       "      <td>생활가전</td>\n",
       "      <td>LG ELECTRONICS</td>\n",
       "      <td>-</td>\n",
       "      <td>NaN</td>\n",
       "      <td>라도무스</td>\n",
       "    </tr>\n",
       "    <tr>\n",
       "      <th>10235</th>\n",
       "      <td>1807231000148665</td>\n",
       "      <td>2018-07-23 10:00:42</td>\n",
       "      <td>구매확정</td>\n",
       "      <td>라도무스</td>\n",
       "      <td>[게릴라특가][소니] 액션캠_FDR-X3000R</td>\n",
       "      <td>1</td>\n",
       "      <td>529000.0</td>\n",
       "      <td>39978</td>\n",
       "      <td>2018-07-23</td>\n",
       "      <td>(주)디카몰</td>\n",
       "      <td>NaN</td>\n",
       "      <td>SONY</td>\n",
       "      <td>-</td>\n",
       "      <td>NaN</td>\n",
       "      <td>라도무스</td>\n",
       "    </tr>\n",
       "    <tr>\n",
       "      <th>15686</th>\n",
       "      <td>1809081001544589</td>\n",
       "      <td>2018-09-08 10:02:07</td>\n",
       "      <td>구매확정</td>\n",
       "      <td>라도무스</td>\n",
       "      <td>[할인대첩][소니]WH-1000XM2 무선 노이즈캔슬링 헤드폰</td>\n",
       "      <td>1</td>\n",
       "      <td>389000.0</td>\n",
       "      <td>39978</td>\n",
       "      <td>2018-09-08</td>\n",
       "      <td>현민무역 주식회사</td>\n",
       "      <td>생활가전</td>\n",
       "      <td>SONY</td>\n",
       "      <td>-</td>\n",
       "      <td>NaN</td>\n",
       "      <td>라도무스</td>\n",
       "    </tr>\n",
       "  </tbody>\n",
       "</table>\n",
       "</div>"
      ],
      "text/plain": [
       "                   주문번호                주문일시  진행구분   배송지  \\\n",
       "6203   1806241002447669 2018-06-24 10:02:58  구매확정  라도무스   \n",
       "10235  1807231000148665 2018-07-23 10:00:42  구매확정  라도무스   \n",
       "15686  1809081001544589 2018-09-08 10:02:07  구매확정  라도무스   \n",
       "\n",
       "                                       상품명  수량       판매가   회원번호        주문일자  \\\n",
       "6203   [Hot Deal][LG전자] 미니빔 프로젝터 TV_PF50KA   1  799000.0  39978  2018-06-24   \n",
       "10235           [게릴라특가][소니] 액션캠_FDR-X3000R   1  529000.0  39978  2018-07-23   \n",
       "15686   [할인대첩][소니]WH-1000XM2 무선 노이즈캔슬링 헤드폰   1  389000.0  39978  2018-09-08   \n",
       "\n",
       "             업체명 카테고리명            브랜드명 성별   나이  배송지역  \n",
       "6203    (주)이파트너스  생활가전  LG ELECTRONICS  -  NaN  라도무스  \n",
       "10235     (주)디카몰   NaN            SONY  -  NaN  라도무스  \n",
       "15686  현민무역 주식회사  생활가전            SONY  -  NaN  라도무스  "
      ]
     },
     "execution_count": 38,
     "metadata": {},
     "output_type": "execute_result"
    }
   ],
   "source": [
    "df_solditems3 [df_solditems3['배송지역'] == '라도무스' ] # 경기"
   ]
  },
  {
   "cell_type": "code",
   "execution_count": 39,
   "id": "55db9090",
   "metadata": {},
   "outputs": [
    {
     "data": {
      "text/html": [
       "<div>\n",
       "<style scoped>\n",
       "    .dataframe tbody tr th:only-of-type {\n",
       "        vertical-align: middle;\n",
       "    }\n",
       "\n",
       "    .dataframe tbody tr th {\n",
       "        vertical-align: top;\n",
       "    }\n",
       "\n",
       "    .dataframe thead th {\n",
       "        text-align: right;\n",
       "    }\n",
       "</style>\n",
       "<table border=\"1\" class=\"dataframe\">\n",
       "  <thead>\n",
       "    <tr style=\"text-align: right;\">\n",
       "      <th></th>\n",
       "      <th>회원번호</th>\n",
       "      <th>회원등급</th>\n",
       "      <th>가입일</th>\n",
       "      <th>최종방문일</th>\n",
       "      <th>본인인증</th>\n",
       "      <th>성별</th>\n",
       "      <th>나이</th>\n",
       "      <th>자주쓰는배송지 도로명</th>\n",
       "      <th>자주쓰는배송지 지번</th>\n",
       "    </tr>\n",
       "  </thead>\n",
       "  <tbody>\n",
       "    <tr>\n",
       "      <th>33112</th>\n",
       "      <td>39978</td>\n",
       "      <td>일반</td>\n",
       "      <td>2018-05-21 10:03:17</td>\n",
       "      <td>2018-10-15 18:53:29</td>\n",
       "      <td>MOBILE</td>\n",
       "      <td>-</td>\n",
       "      <td>NaN</td>\n",
       "      <td>경기 광주 이배재로 277-15번길</td>\n",
       "      <td>경기 광주 이배재로 277-15번길</td>\n",
       "    </tr>\n",
       "  </tbody>\n",
       "</table>\n",
       "</div>"
      ],
      "text/plain": [
       "        회원번호 회원등급                  가입일                최종방문일    본인인증 성별   나이  \\\n",
       "33112  39978   일반  2018-05-21 10:03:17  2018-10-15 18:53:29  MOBILE  -  NaN   \n",
       "\n",
       "               자주쓰는배송지 도로명           자주쓰는배송지 지번  \n",
       "33112  경기 광주 이배재로 277-15번길  경기 광주 이배재로 277-15번길  "
      ]
     },
     "execution_count": 39,
     "metadata": {},
     "output_type": "execute_result"
    }
   ],
   "source": [
    "df_customer1 [df_customer1['회원번호'] == 39978] "
   ]
  },
  {
   "cell_type": "code",
   "execution_count": 40,
   "id": "73dd1be1",
   "metadata": {},
   "outputs": [
    {
     "data": {
      "text/html": [
       "<div>\n",
       "<style scoped>\n",
       "    .dataframe tbody tr th:only-of-type {\n",
       "        vertical-align: middle;\n",
       "    }\n",
       "\n",
       "    .dataframe tbody tr th {\n",
       "        vertical-align: top;\n",
       "    }\n",
       "\n",
       "    .dataframe thead th {\n",
       "        text-align: right;\n",
       "    }\n",
       "</style>\n",
       "<table border=\"1\" class=\"dataframe\">\n",
       "  <thead>\n",
       "    <tr style=\"text-align: right;\">\n",
       "      <th></th>\n",
       "      <th>주문번호</th>\n",
       "      <th>주문일시</th>\n",
       "      <th>진행구분</th>\n",
       "      <th>배송지</th>\n",
       "      <th>상품명</th>\n",
       "      <th>수량</th>\n",
       "      <th>판매가</th>\n",
       "      <th>회원번호</th>\n",
       "      <th>주문일자</th>\n",
       "      <th>업체명</th>\n",
       "      <th>카테고리명</th>\n",
       "      <th>브랜드명</th>\n",
       "      <th>성별</th>\n",
       "      <th>나이</th>\n",
       "      <th>배송지역</th>\n",
       "    </tr>\n",
       "  </thead>\n",
       "  <tbody>\n",
       "    <tr>\n",
       "      <th>9361</th>\n",
       "      <td>1807192137386489</td>\n",
       "      <td>2018-07-19 21:41:44</td>\n",
       "      <td>구매확정</td>\n",
       "      <td>죽전벽산5단지 501동 502호</td>\n",
       "      <td>[게릴라특가][샤오미] 드라이버 세트_JXLSD01XH</td>\n",
       "      <td>1</td>\n",
       "      <td>22200.0</td>\n",
       "      <td>44423</td>\n",
       "      <td>2018-07-19</td>\n",
       "      <td>(주)여우미</td>\n",
       "      <td>공구/철물/목재/리폼</td>\n",
       "      <td>XIAOMI</td>\n",
       "      <td>M</td>\n",
       "      <td>NaN</td>\n",
       "      <td>죽전벽산5단지</td>\n",
       "    </tr>\n",
       "  </tbody>\n",
       "</table>\n",
       "</div>"
      ],
      "text/plain": [
       "                  주문번호                주문일시  진행구분                배송지  \\\n",
       "9361  1807192137386489 2018-07-19 21:41:44  구매확정  죽전벽산5단지 501동 502호   \n",
       "\n",
       "                                 상품명  수량      판매가   회원번호        주문일자     업체명  \\\n",
       "9361  [게릴라특가][샤오미] 드라이버 세트_JXLSD01XH   1  22200.0  44423  2018-07-19  (주)여우미   \n",
       "\n",
       "            카테고리명    브랜드명 성별   나이     배송지역  \n",
       "9361  공구/철물/목재/리폼  XIAOMI  M  NaN  죽전벽산5단지  "
      ]
     },
     "execution_count": 40,
     "metadata": {},
     "output_type": "execute_result"
    }
   ],
   "source": [
    "df_solditems3 [df_solditems3['배송지역'] == '죽전벽산5단지' ] # 경기 "
   ]
  },
  {
   "cell_type": "code",
   "execution_count": 41,
   "id": "6cb1bc69",
   "metadata": {},
   "outputs": [
    {
     "data": {
      "text/html": [
       "<div>\n",
       "<style scoped>\n",
       "    .dataframe tbody tr th:only-of-type {\n",
       "        vertical-align: middle;\n",
       "    }\n",
       "\n",
       "    .dataframe tbody tr th {\n",
       "        vertical-align: top;\n",
       "    }\n",
       "\n",
       "    .dataframe thead th {\n",
       "        text-align: right;\n",
       "    }\n",
       "</style>\n",
       "<table border=\"1\" class=\"dataframe\">\n",
       "  <thead>\n",
       "    <tr style=\"text-align: right;\">\n",
       "      <th></th>\n",
       "      <th>회원번호</th>\n",
       "      <th>회원등급</th>\n",
       "      <th>가입일</th>\n",
       "      <th>최종방문일</th>\n",
       "      <th>본인인증</th>\n",
       "      <th>성별</th>\n",
       "      <th>나이</th>\n",
       "      <th>자주쓰는배송지 도로명</th>\n",
       "      <th>자주쓰는배송지 지번</th>\n",
       "    </tr>\n",
       "  </thead>\n",
       "  <tbody>\n",
       "    <tr>\n",
       "      <th>37286</th>\n",
       "      <td>44423</td>\n",
       "      <td>일반</td>\n",
       "      <td>2018-07-19 21:31:38</td>\n",
       "      <td>2018-07-19 21:31:51</td>\n",
       "      <td>MOBILE</td>\n",
       "      <td>M</td>\n",
       "      <td>NaN</td>\n",
       "      <td>경기 용인시 수지구 용구대로2801번길 29</td>\n",
       "      <td>경기 용인시 수지구 죽전동 947-1</td>\n",
       "    </tr>\n",
       "  </tbody>\n",
       "</table>\n",
       "</div>"
      ],
      "text/plain": [
       "        회원번호 회원등급                  가입일                최종방문일    본인인증 성별   나이  \\\n",
       "37286  44423   일반  2018-07-19 21:31:38  2018-07-19 21:31:51  MOBILE  M  NaN   \n",
       "\n",
       "                    자주쓰는배송지 도로명            자주쓰는배송지 지번  \n",
       "37286  경기 용인시 수지구 용구대로2801번길 29  경기 용인시 수지구 죽전동 947-1  "
      ]
     },
     "execution_count": 41,
     "metadata": {},
     "output_type": "execute_result"
    }
   ],
   "source": [
    "df_customer1 [df_customer1['회원번호'] == 44423] "
   ]
  },
  {
   "cell_type": "code",
   "execution_count": 42,
   "id": "7ebaca76",
   "metadata": {},
   "outputs": [
    {
     "data": {
      "text/html": [
       "<div>\n",
       "<style scoped>\n",
       "    .dataframe tbody tr th:only-of-type {\n",
       "        vertical-align: middle;\n",
       "    }\n",
       "\n",
       "    .dataframe tbody tr th {\n",
       "        vertical-align: top;\n",
       "    }\n",
       "\n",
       "    .dataframe thead th {\n",
       "        text-align: right;\n",
       "    }\n",
       "</style>\n",
       "<table border=\"1\" class=\"dataframe\">\n",
       "  <thead>\n",
       "    <tr style=\"text-align: right;\">\n",
       "      <th></th>\n",
       "      <th>주문번호</th>\n",
       "      <th>주문일시</th>\n",
       "      <th>진행구분</th>\n",
       "      <th>배송지</th>\n",
       "      <th>상품명</th>\n",
       "      <th>수량</th>\n",
       "      <th>판매가</th>\n",
       "      <th>회원번호</th>\n",
       "      <th>주문일자</th>\n",
       "      <th>업체명</th>\n",
       "      <th>카테고리명</th>\n",
       "      <th>브랜드명</th>\n",
       "      <th>성별</th>\n",
       "      <th>나이</th>\n",
       "      <th>배송지역</th>\n",
       "    </tr>\n",
       "  </thead>\n",
       "  <tbody>\n",
       "    <tr>\n",
       "      <th>16794</th>\n",
       "      <td>1809131748407655</td>\n",
       "      <td>2018-09-13 17:49:02</td>\n",
       "      <td>구매확정</td>\n",
       "      <td>102*301</td>\n",
       "      <td>[창신리빙] 새싹빨래판</td>\n",
       "      <td>1</td>\n",
       "      <td>4900.0</td>\n",
       "      <td>39978</td>\n",
       "      <td>2018-09-13</td>\n",
       "      <td>창신리빙</td>\n",
       "      <td>주방/욕실/청소용품</td>\n",
       "      <td>창신리빙</td>\n",
       "      <td>-</td>\n",
       "      <td>NaN</td>\n",
       "      <td>102*301</td>\n",
       "    </tr>\n",
       "  </tbody>\n",
       "</table>\n",
       "</div>"
      ],
      "text/plain": [
       "                   주문번호                주문일시  진행구분      배송지           상품명  수량  \\\n",
       "16794  1809131748407655 2018-09-13 17:49:02  구매확정  102*301  [창신리빙] 새싹빨래판   1   \n",
       "\n",
       "          판매가   회원번호        주문일자   업체명       카테고리명  브랜드명 성별   나이     배송지역  \n",
       "16794  4900.0  39978  2018-09-13  창신리빙  주방/욕실/청소용품  창신리빙  -  NaN  102*301  "
      ]
     },
     "execution_count": 42,
     "metadata": {},
     "output_type": "execute_result"
    }
   ],
   "source": [
    "df_solditems3 [df_solditems3['배송지역'] == '102*301' ]  # 경기"
   ]
  },
  {
   "cell_type": "code",
   "execution_count": 43,
   "id": "4bdc0222",
   "metadata": {},
   "outputs": [
    {
     "data": {
      "text/html": [
       "<div>\n",
       "<style scoped>\n",
       "    .dataframe tbody tr th:only-of-type {\n",
       "        vertical-align: middle;\n",
       "    }\n",
       "\n",
       "    .dataframe tbody tr th {\n",
       "        vertical-align: top;\n",
       "    }\n",
       "\n",
       "    .dataframe thead th {\n",
       "        text-align: right;\n",
       "    }\n",
       "</style>\n",
       "<table border=\"1\" class=\"dataframe\">\n",
       "  <thead>\n",
       "    <tr style=\"text-align: right;\">\n",
       "      <th></th>\n",
       "      <th>회원번호</th>\n",
       "      <th>회원등급</th>\n",
       "      <th>가입일</th>\n",
       "      <th>최종방문일</th>\n",
       "      <th>본인인증</th>\n",
       "      <th>성별</th>\n",
       "      <th>나이</th>\n",
       "      <th>자주쓰는배송지 도로명</th>\n",
       "      <th>자주쓰는배송지 지번</th>\n",
       "    </tr>\n",
       "  </thead>\n",
       "  <tbody>\n",
       "    <tr>\n",
       "      <th>33112</th>\n",
       "      <td>39978</td>\n",
       "      <td>일반</td>\n",
       "      <td>2018-05-21 10:03:17</td>\n",
       "      <td>2018-10-15 18:53:29</td>\n",
       "      <td>MOBILE</td>\n",
       "      <td>-</td>\n",
       "      <td>NaN</td>\n",
       "      <td>경기 광주 이배재로 277-15번길</td>\n",
       "      <td>경기 광주 이배재로 277-15번길</td>\n",
       "    </tr>\n",
       "  </tbody>\n",
       "</table>\n",
       "</div>"
      ],
      "text/plain": [
       "        회원번호 회원등급                  가입일                최종방문일    본인인증 성별   나이  \\\n",
       "33112  39978   일반  2018-05-21 10:03:17  2018-10-15 18:53:29  MOBILE  -  NaN   \n",
       "\n",
       "               자주쓰는배송지 도로명           자주쓰는배송지 지번  \n",
       "33112  경기 광주 이배재로 277-15번길  경기 광주 이배재로 277-15번길  "
      ]
     },
     "execution_count": 43,
     "metadata": {},
     "output_type": "execute_result"
    }
   ],
   "source": [
    "df_customer1 [df_customer1['회원번호'] == 39978] "
   ]
  },
  {
   "cell_type": "code",
   "execution_count": 44,
   "id": "cb326fb9",
   "metadata": {},
   "outputs": [],
   "source": [
    "df_solditems3.replace({'배송지역':{'호계e편한세상아파트':'경기'}}, inplace = True)\n",
    "df_solditems3.replace({'배송지역':{'라도무스':'경기'}}, inplace = True)\n",
    "df_solditems3.replace({'배송지역':{'죽전벽산5단지':'경기'}}, inplace = True)\n",
    "df_solditems3.replace({'배송지역':{'102*301':'경기'}}, inplace = True)"
   ]
  },
  {
   "cell_type": "code",
   "execution_count": 45,
   "id": "ce1b78ef",
   "metadata": {},
   "outputs": [],
   "source": [
    "df_solditems3.replace({'배송지역':{'서울특별시':'서울'}}, inplace = True)"
   ]
  },
  {
   "cell_type": "code",
   "execution_count": 101,
   "id": "2cb6e7c1",
   "metadata": {},
   "outputs": [
    {
     "data": {
      "text/plain": [
       "array(['강원', '경기', '인천', '서울', '세종', '전남', '대전', '충남', '광주', '경남', '전북',\n",
       "       '충북', '경북', '부산', nan, '대구', '울산', '제주'], dtype=object)"
      ]
     },
     "execution_count": 101,
     "metadata": {},
     "output_type": "execute_result"
    }
   ],
   "source": [
    "df_solditems3['배송지역'].unique()"
   ]
  },
  {
   "cell_type": "code",
   "execution_count": 102,
   "id": "e61d1447",
   "metadata": {},
   "outputs": [
    {
     "data": {
      "text/plain": [
       "17"
      ]
     },
     "execution_count": 102,
     "metadata": {},
     "output_type": "execute_result"
    }
   ],
   "source": [
    "df_solditems3['배송지역'].nunique()"
   ]
  },
  {
   "cell_type": "code",
   "execution_count": 109,
   "id": "1842d94b",
   "metadata": {},
   "outputs": [
    {
     "data": {
      "text/plain": [
       "(20712, 15)"
      ]
     },
     "execution_count": 109,
     "metadata": {},
     "output_type": "execute_result"
    }
   ],
   "source": [
    "df_solditems3.shape"
   ]
  },
  {
   "cell_type": "code",
   "execution_count": 115,
   "id": "8da25f61",
   "metadata": {},
   "outputs": [
    {
     "data": {
      "text/plain": [
       "주문번호         0\n",
       "주문일시         0\n",
       "진행구분         0\n",
       "배송지         54\n",
       "상품명          0\n",
       "수량           0\n",
       "판매가          0\n",
       "회원번호         0\n",
       "주문일자         0\n",
       "업체명         81\n",
       "카테고리명      117\n",
       "브랜드명       628\n",
       "성별        3657\n",
       "나이       15605\n",
       "배송지역        54\n",
       "dtype: int64"
      ]
     },
     "execution_count": 115,
     "metadata": {},
     "output_type": "execute_result"
    }
   ],
   "source": [
    "df_solditems3.isnull().sum()"
   ]
  },
  {
   "cell_type": "code",
   "execution_count": 47,
   "id": "53dfec26",
   "metadata": {},
   "outputs": [
    {
     "data": {
      "text/html": [
       "<div>\n",
       "<style scoped>\n",
       "    .dataframe tbody tr th:only-of-type {\n",
       "        vertical-align: middle;\n",
       "    }\n",
       "\n",
       "    .dataframe tbody tr th {\n",
       "        vertical-align: top;\n",
       "    }\n",
       "\n",
       "    .dataframe thead th {\n",
       "        text-align: right;\n",
       "    }\n",
       "</style>\n",
       "<table border=\"1\" class=\"dataframe\">\n",
       "  <thead>\n",
       "    <tr style=\"text-align: right;\">\n",
       "      <th></th>\n",
       "      <th>주문번호</th>\n",
       "      <th>주문일시</th>\n",
       "      <th>진행구분</th>\n",
       "      <th>배송지</th>\n",
       "      <th>상품명</th>\n",
       "      <th>수량</th>\n",
       "      <th>판매가</th>\n",
       "      <th>회원번호</th>\n",
       "      <th>주문일자</th>\n",
       "      <th>업체명</th>\n",
       "      <th>카테고리명</th>\n",
       "      <th>브랜드명</th>\n",
       "      <th>성별</th>\n",
       "      <th>나이</th>\n",
       "      <th>배송지역</th>\n",
       "    </tr>\n",
       "  </thead>\n",
       "  <tbody>\n",
       "    <tr>\n",
       "      <th>12</th>\n",
       "      <td>1711091120092237</td>\n",
       "      <td>2017-11-09 11:23:07</td>\n",
       "      <td>구매확정</td>\n",
       "      <td>강원 춘천시 동산면 영서로 915</td>\n",
       "      <td>[3M] 작업용 보호안경</td>\n",
       "      <td>5</td>\n",
       "      <td>16000.0</td>\n",
       "      <td>1972</td>\n",
       "      <td>2017-11-09</td>\n",
       "      <td>하우스플러스(주)</td>\n",
       "      <td>벽지/바닥재/타일</td>\n",
       "      <td>책임 크레텍</td>\n",
       "      <td>M</td>\n",
       "      <td>46</td>\n",
       "      <td>강원</td>\n",
       "    </tr>\n",
       "    <tr>\n",
       "      <th>13</th>\n",
       "      <td>1711091146582243</td>\n",
       "      <td>2017-11-09 11:49:04</td>\n",
       "      <td>구매확정</td>\n",
       "      <td>경기 고양시 일산서구 고양대로 633</td>\n",
       "      <td>[씨원] 듀얼 프리미엄 3단요추의자</td>\n",
       "      <td>1</td>\n",
       "      <td>52900.0</td>\n",
       "      <td>2005</td>\n",
       "      <td>2017-11-09</td>\n",
       "      <td>에이젯</td>\n",
       "      <td>학생/사무/유아동가구</td>\n",
       "      <td>CONE</td>\n",
       "      <td>M</td>\n",
       "      <td>45</td>\n",
       "      <td>경기</td>\n",
       "    </tr>\n",
       "    <tr>\n",
       "      <th>14</th>\n",
       "      <td>1711091330402269</td>\n",
       "      <td>2017-11-09 13:33:28</td>\n",
       "      <td>구매확정</td>\n",
       "      <td>인천 연수구 송도과학로27번길 30</td>\n",
       "      <td>[케라미카] 바뎀 도자기 시리즈 파티 세트 (8p)</td>\n",
       "      <td>1</td>\n",
       "      <td>43000.0</td>\n",
       "      <td>1953</td>\n",
       "      <td>2017-11-09</td>\n",
       "      <td>에이젯</td>\n",
       "      <td>주방/욕실/청소용품</td>\n",
       "      <td>KERAMIKA</td>\n",
       "      <td>M</td>\n",
       "      <td>50</td>\n",
       "      <td>인천</td>\n",
       "    </tr>\n",
       "  </tbody>\n",
       "</table>\n",
       "</div>"
      ],
      "text/plain": [
       "                주문번호                주문일시  진행구분                   배송지  \\\n",
       "12  1711091120092237 2017-11-09 11:23:07  구매확정    강원 춘천시 동산면 영서로 915   \n",
       "13  1711091146582243 2017-11-09 11:49:04  구매확정  경기 고양시 일산서구 고양대로 633   \n",
       "14  1711091330402269 2017-11-09 13:33:28  구매확정   인천 연수구 송도과학로27번길 30   \n",
       "\n",
       "                             상품명  수량      판매가  회원번호        주문일자        업체명  \\\n",
       "12                 [3M] 작업용 보호안경   5  16000.0  1972  2017-11-09  하우스플러스(주)   \n",
       "13           [씨원] 듀얼 프리미엄 3단요추의자   1  52900.0  2005  2017-11-09        에이젯   \n",
       "14  [케라미카] 바뎀 도자기 시리즈 파티 세트 (8p)   1  43000.0  1953  2017-11-09        에이젯   \n",
       "\n",
       "          카테고리명      브랜드명 성별  나이 배송지역  \n",
       "12    벽지/바닥재/타일    책임 크레텍  M  46   강원  \n",
       "13  학생/사무/유아동가구      CONE  M  45   경기  \n",
       "14   주방/욕실/청소용품  KERAMIKA  M  50   인천  "
      ]
     },
     "execution_count": 47,
     "metadata": {},
     "output_type": "execute_result"
    }
   ],
   "source": [
    "df_solditems3.head(3)"
   ]
  },
  {
   "cell_type": "code",
   "execution_count": 48,
   "id": "f318d42f",
   "metadata": {},
   "outputs": [
    {
     "data": {
      "text/plain": [
       "주문번호         0\n",
       "주문일시         0\n",
       "진행구분         0\n",
       "배송지         54\n",
       "상품명          0\n",
       "수량           0\n",
       "판매가          0\n",
       "회원번호         0\n",
       "주문일자         0\n",
       "업체명         81\n",
       "카테고리명      117\n",
       "브랜드명       628\n",
       "성별        3657\n",
       "나이       15605\n",
       "배송지역        54\n",
       "dtype: int64"
      ]
     },
     "execution_count": 48,
     "metadata": {},
     "output_type": "execute_result"
    }
   ],
   "source": [
    "df_solditems3.isnull().sum()"
   ]
  },
  {
   "cell_type": "code",
   "execution_count": 49,
   "id": "1b20f782",
   "metadata": {},
   "outputs": [
    {
     "data": {
      "text/html": [
       "<div>\n",
       "<style scoped>\n",
       "    .dataframe tbody tr th:only-of-type {\n",
       "        vertical-align: middle;\n",
       "    }\n",
       "\n",
       "    .dataframe tbody tr th {\n",
       "        vertical-align: top;\n",
       "    }\n",
       "\n",
       "    .dataframe thead th {\n",
       "        text-align: right;\n",
       "    }\n",
       "</style>\n",
       "<table border=\"1\" class=\"dataframe\">\n",
       "  <thead>\n",
       "    <tr style=\"text-align: right;\">\n",
       "      <th></th>\n",
       "      <th>주문일시</th>\n",
       "    </tr>\n",
       "    <tr>\n",
       "      <th>주문일자</th>\n",
       "      <th></th>\n",
       "    </tr>\n",
       "  </thead>\n",
       "  <tbody>\n",
       "    <tr>\n",
       "      <th>2017-11-09</th>\n",
       "      <td>3</td>\n",
       "    </tr>\n",
       "    <tr>\n",
       "      <th>2017-11-10</th>\n",
       "      <td>1</td>\n",
       "    </tr>\n",
       "    <tr>\n",
       "      <th>2017-11-11</th>\n",
       "      <td>43</td>\n",
       "    </tr>\n",
       "    <tr>\n",
       "      <th>2017-11-12</th>\n",
       "      <td>11</td>\n",
       "    </tr>\n",
       "    <tr>\n",
       "      <th>2017-11-13</th>\n",
       "      <td>59</td>\n",
       "    </tr>\n",
       "  </tbody>\n",
       "</table>\n",
       "</div>"
      ],
      "text/plain": [
       "            주문일시\n",
       "주문일자            \n",
       "2017-11-09     3\n",
       "2017-11-10     1\n",
       "2017-11-11    43\n",
       "2017-11-12    11\n",
       "2017-11-13    59"
      ]
     },
     "execution_count": 49,
     "metadata": {},
     "output_type": "execute_result"
    }
   ],
   "source": [
    "# 주문일자 별 주문 건수 추출\n",
    "df_dailyorder = df_solditems3.groupby('주문일자').주문일시.count().to_frame()\n",
    "df_dailyorder.head()"
   ]
  },
  {
   "cell_type": "code",
   "execution_count": 50,
   "id": "bdcfeef7",
   "metadata": {},
   "outputs": [
    {
     "data": {
      "text/html": [
       "<div>\n",
       "<style scoped>\n",
       "    .dataframe tbody tr th:only-of-type {\n",
       "        vertical-align: middle;\n",
       "    }\n",
       "\n",
       "    .dataframe tbody tr th {\n",
       "        vertical-align: top;\n",
       "    }\n",
       "\n",
       "    .dataframe thead th {\n",
       "        text-align: right;\n",
       "    }\n",
       "</style>\n",
       "<table border=\"1\" class=\"dataframe\">\n",
       "  <thead>\n",
       "    <tr style=\"text-align: right;\">\n",
       "      <th></th>\n",
       "      <th>주문건수</th>\n",
       "    </tr>\n",
       "    <tr>\n",
       "      <th>주문일자</th>\n",
       "      <th></th>\n",
       "    </tr>\n",
       "  </thead>\n",
       "  <tbody>\n",
       "    <tr>\n",
       "      <th>2017-11-09</th>\n",
       "      <td>3</td>\n",
       "    </tr>\n",
       "    <tr>\n",
       "      <th>2017-11-10</th>\n",
       "      <td>1</td>\n",
       "    </tr>\n",
       "    <tr>\n",
       "      <th>2017-11-11</th>\n",
       "      <td>43</td>\n",
       "    </tr>\n",
       "    <tr>\n",
       "      <th>2017-11-12</th>\n",
       "      <td>11</td>\n",
       "    </tr>\n",
       "    <tr>\n",
       "      <th>2017-11-13</th>\n",
       "      <td>59</td>\n",
       "    </tr>\n",
       "    <tr>\n",
       "      <th>...</th>\n",
       "      <td>...</td>\n",
       "    </tr>\n",
       "    <tr>\n",
       "      <th>2018-11-03</th>\n",
       "      <td>58</td>\n",
       "    </tr>\n",
       "    <tr>\n",
       "      <th>2018-11-04</th>\n",
       "      <td>61</td>\n",
       "    </tr>\n",
       "    <tr>\n",
       "      <th>2018-11-05</th>\n",
       "      <td>138</td>\n",
       "    </tr>\n",
       "    <tr>\n",
       "      <th>2018-11-06</th>\n",
       "      <td>145</td>\n",
       "    </tr>\n",
       "    <tr>\n",
       "      <th>2018-11-07</th>\n",
       "      <td>25</td>\n",
       "    </tr>\n",
       "  </tbody>\n",
       "</table>\n",
       "<p>359 rows × 1 columns</p>\n",
       "</div>"
      ],
      "text/plain": [
       "            주문건수\n",
       "주문일자            \n",
       "2017-11-09     3\n",
       "2017-11-10     1\n",
       "2017-11-11    43\n",
       "2017-11-12    11\n",
       "2017-11-13    59\n",
       "...          ...\n",
       "2018-11-03    58\n",
       "2018-11-04    61\n",
       "2018-11-05   138\n",
       "2018-11-06   145\n",
       "2018-11-07    25\n",
       "\n",
       "[359 rows x 1 columns]"
      ]
     },
     "execution_count": 50,
     "metadata": {},
     "output_type": "execute_result"
    }
   ],
   "source": [
    "# 주문일자별 주문건수 시각화\n",
    "df_dailyorder.columns = ['주문건수']\n",
    "df_dailyorder"
   ]
  },
  {
   "cell_type": "code",
   "execution_count": 51,
   "id": "b019309a",
   "metadata": {},
   "outputs": [
    {
     "data": {
      "image/png": "[encoded data removed]",
      "text/plain": [
       "<Figure size 720x360 with 1 Axes>"
      ]
     },
     "metadata": {
      "needs_background": "light"
     },
     "output_type": "display_data"
    }
   ],
   "source": [
    "plt.rcParams['figure.figsize']=(10,5)\n",
    "\n",
    "plt.scatter(df_dailyorder.index, df_dailyorder.values, marker = 'o', color = 'c')\n",
    "plt.grid()\n",
    "plt.title('XX 온라인 쇼핑몰 일일 주문건수')\n",
    "plt.show()"
   ]
  },
  {
   "cell_type": "code",
   "execution_count": 52,
   "id": "bc28e449",
   "metadata": {},
   "outputs": [
    {
     "data": {
      "text/html": [
       "<div>\n",
       "<style scoped>\n",
       "    .dataframe tbody tr th:only-of-type {\n",
       "        vertical-align: middle;\n",
       "    }\n",
       "\n",
       "    .dataframe tbody tr th {\n",
       "        vertical-align: top;\n",
       "    }\n",
       "\n",
       "    .dataframe thead th {\n",
       "        text-align: right;\n",
       "    }\n",
       "</style>\n",
       "<table border=\"1\" class=\"dataframe\">\n",
       "  <thead>\n",
       "    <tr style=\"text-align: right;\">\n",
       "      <th></th>\n",
       "      <th>판매가</th>\n",
       "    </tr>\n",
       "    <tr>\n",
       "      <th>주문일자</th>\n",
       "      <th></th>\n",
       "    </tr>\n",
       "  </thead>\n",
       "  <tbody>\n",
       "    <tr>\n",
       "      <th>2017-11-09</th>\n",
       "      <td>111900.0</td>\n",
       "    </tr>\n",
       "    <tr>\n",
       "      <th>2017-11-10</th>\n",
       "      <td>59400.0</td>\n",
       "    </tr>\n",
       "    <tr>\n",
       "      <th>2017-11-11</th>\n",
       "      <td>2139248.0</td>\n",
       "    </tr>\n",
       "    <tr>\n",
       "      <th>2017-11-12</th>\n",
       "      <td>1061900.0</td>\n",
       "    </tr>\n",
       "    <tr>\n",
       "      <th>2017-11-13</th>\n",
       "      <td>3073850.0</td>\n",
       "    </tr>\n",
       "  </tbody>\n",
       "</table>\n",
       "</div>"
      ],
      "text/plain": [
       "                  판매가\n",
       "주문일자                 \n",
       "2017-11-09   111900.0\n",
       "2017-11-10    59400.0\n",
       "2017-11-11  2139248.0\n",
       "2017-11-12  1061900.0\n",
       "2017-11-13  3073850.0"
      ]
     },
     "execution_count": 52,
     "metadata": {},
     "output_type": "execute_result"
    }
   ],
   "source": [
    "# 주문일자 별 판매액 추출\n",
    "df_dailysales = df_solditems3.groupby('주문일자').판매가.sum().to_frame()\n",
    "df_dailysales.head()"
   ]
  },
  {
   "cell_type": "code",
   "execution_count": 53,
   "id": "07abe7a8",
   "metadata": {},
   "outputs": [
    {
     "data": {
      "text/html": [
       "<div>\n",
       "<style scoped>\n",
       "    .dataframe tbody tr th:only-of-type {\n",
       "        vertical-align: middle;\n",
       "    }\n",
       "\n",
       "    .dataframe tbody tr th {\n",
       "        vertical-align: top;\n",
       "    }\n",
       "\n",
       "    .dataframe thead th {\n",
       "        text-align: right;\n",
       "    }\n",
       "</style>\n",
       "<table border=\"1\" class=\"dataframe\">\n",
       "  <thead>\n",
       "    <tr style=\"text-align: right;\">\n",
       "      <th></th>\n",
       "      <th>판매액</th>\n",
       "    </tr>\n",
       "    <tr>\n",
       "      <th>주문일자</th>\n",
       "      <th></th>\n",
       "    </tr>\n",
       "  </thead>\n",
       "  <tbody>\n",
       "    <tr>\n",
       "      <th>2017-11-09</th>\n",
       "      <td>111900.0</td>\n",
       "    </tr>\n",
       "    <tr>\n",
       "      <th>2017-11-10</th>\n",
       "      <td>59400.0</td>\n",
       "    </tr>\n",
       "    <tr>\n",
       "      <th>2017-11-11</th>\n",
       "      <td>2139248.0</td>\n",
       "    </tr>\n",
       "    <tr>\n",
       "      <th>2017-11-12</th>\n",
       "      <td>1061900.0</td>\n",
       "    </tr>\n",
       "    <tr>\n",
       "      <th>2017-11-13</th>\n",
       "      <td>3073850.0</td>\n",
       "    </tr>\n",
       "    <tr>\n",
       "      <th>...</th>\n",
       "      <td>...</td>\n",
       "    </tr>\n",
       "    <tr>\n",
       "      <th>2018-11-03</th>\n",
       "      <td>3134453.0</td>\n",
       "    </tr>\n",
       "    <tr>\n",
       "      <th>2018-11-04</th>\n",
       "      <td>3438570.0</td>\n",
       "    </tr>\n",
       "    <tr>\n",
       "      <th>2018-11-05</th>\n",
       "      <td>9387570.0</td>\n",
       "    </tr>\n",
       "    <tr>\n",
       "      <th>2018-11-06</th>\n",
       "      <td>16132494.0</td>\n",
       "    </tr>\n",
       "    <tr>\n",
       "      <th>2018-11-07</th>\n",
       "      <td>1076300.0</td>\n",
       "    </tr>\n",
       "  </tbody>\n",
       "</table>\n",
       "<p>359 rows × 1 columns</p>\n",
       "</div>"
      ],
      "text/plain": [
       "                   판매액\n",
       "주문일자                  \n",
       "2017-11-09    111900.0\n",
       "2017-11-10     59400.0\n",
       "2017-11-11   2139248.0\n",
       "2017-11-12   1061900.0\n",
       "2017-11-13   3073850.0\n",
       "...                ...\n",
       "2018-11-03   3134453.0\n",
       "2018-11-04   3438570.0\n",
       "2018-11-05   9387570.0\n",
       "2018-11-06  16132494.0\n",
       "2018-11-07   1076300.0\n",
       "\n",
       "[359 rows x 1 columns]"
      ]
     },
     "execution_count": 53,
     "metadata": {},
     "output_type": "execute_result"
    }
   ],
   "source": [
    "# 주문일자별 주문건수 시각화\n",
    "df_dailysales.columns = ['판매액']\n",
    "df_dailysales"
   ]
  },
  {
   "cell_type": "code",
   "execution_count": 54,
   "id": "7c539bda",
   "metadata": {},
   "outputs": [
    {
     "data": {
      "image/png": "[encoded data removed]",
      "text/plain": [
       "<Figure size 720x360 with 1 Axes>"
      ]
     },
     "metadata": {
      "needs_background": "light"
     },
     "output_type": "display_data"
    }
   ],
   "source": [
    "plt.rcParams['figure.figsize']=(10,5)\n",
    "\n",
    "plt.scatter(df_dailysales.index, df_dailysales.values, marker = 'o', color = 'm')\n",
    "plt.grid()\n",
    "plt.title('XX 온라인 쇼핑몰 일일 판매액')\n",
    "plt.show()"
   ]
  },
  {
   "cell_type": "code",
   "execution_count": 55,
   "id": "cb7357eb",
   "metadata": {},
   "outputs": [
    {
     "data": {
      "text/plain": [
       "주문번호         0\n",
       "주문일시         0\n",
       "진행구분         0\n",
       "배송지         54\n",
       "상품명          0\n",
       "수량           0\n",
       "판매가          0\n",
       "회원번호         0\n",
       "주문일자         0\n",
       "업체명         81\n",
       "카테고리명      117\n",
       "브랜드명       628\n",
       "성별        3657\n",
       "나이       15605\n",
       "배송지역        54\n",
       "dtype: int64"
      ]
     },
     "execution_count": 55,
     "metadata": {},
     "output_type": "execute_result"
    }
   ],
   "source": [
    "df_solditems3.isnull().sum()"
   ]
  },
  {
   "cell_type": "code",
   "execution_count": 56,
   "id": "a0609cd5",
   "metadata": {},
   "outputs": [
    {
     "data": {
      "text/plain": [
       "(20712, 15)"
      ]
     },
     "execution_count": 56,
     "metadata": {},
     "output_type": "execute_result"
    }
   ],
   "source": [
    "df_solditems3.shape"
   ]
  },
  {
   "cell_type": "code",
   "execution_count": 57,
   "id": "9f41a9eb",
   "metadata": {},
   "outputs": [
    {
     "name": "stdout",
     "output_type": "stream",
     "text": [
      "배송지역 누락 값 비율 :  0.26\n",
      "업체명 누락 값 비율 :  0.39\n",
      "카테고리명 누락 값 비율 :  0.56\n",
      "브랜드명 누락 값 비율 :  3\n",
      "성별 누락 값 비율 :  18\n",
      "나이 누락 값 비율 :  75\n"
     ]
    }
   ],
   "source": [
    "# 컬럼별 결측값 비율 (%)\n",
    "\n",
    "print('배송지역 누락 값 비율 : ', '{0:.2g}'.format((54/20712)*100))\n",
    "print('업체명 누락 값 비율 : ', '{0:.2g}'.format((81/20712)*100))\n",
    "print('카테고리명 누락 값 비율 : ', '{0:.2g}'.format((117/20712)*100))\n",
    "print('브랜드명 누락 값 비율 : ', '{0:.2g}'.format((628/20712)*100))\n",
    "print('성별 누락 값 비율 : ', '{0:.2g}'.format((3657/20712)*100))\n",
    "print('나이 누락 값 비율 : ', '{0:.2g}'.format((15605/20712)*100))"
   ]
  },
  {
   "cell_type": "code",
   "execution_count": 58,
   "id": "c9b9f18e",
   "metadata": {},
   "outputs": [
    {
     "data": {
      "text/plain": [
       "17"
      ]
     },
     "execution_count": 58,
     "metadata": {},
     "output_type": "execute_result"
    }
   ],
   "source": [
    "df_solditems3.배송지역.nunique()"
   ]
  },
  {
   "cell_type": "code",
   "execution_count": 59,
   "id": "2e82efec",
   "metadata": {},
   "outputs": [
    {
     "data": {
      "text/plain": [
       "265"
      ]
     },
     "execution_count": 59,
     "metadata": {},
     "output_type": "execute_result"
    }
   ],
   "source": [
    "df_solditems3.업체명.nunique()"
   ]
  },
  {
   "cell_type": "code",
   "execution_count": 60,
   "id": "daf20b46",
   "metadata": {},
   "outputs": [
    {
     "data": {
      "text/plain": [
       "19"
      ]
     },
     "execution_count": 60,
     "metadata": {},
     "output_type": "execute_result"
    }
   ],
   "source": [
    "df_solditems3.카테고리명.nunique()"
   ]
  },
  {
   "cell_type": "code",
   "execution_count": 61,
   "id": "36cc6607",
   "metadata": {},
   "outputs": [
    {
     "data": {
      "text/plain": [
       "(19, 1)"
      ]
     },
     "execution_count": 61,
     "metadata": {},
     "output_type": "execute_result"
    }
   ],
   "source": [
    "# 카테고리별 주문 건수 추출\n",
    "df_category = df_solditems3.groupby('카테고리명').주문번호.count().to_frame()\n",
    "df_category.columns = ['주문건수']\n",
    "df_category.shape"
   ]
  },
  {
   "cell_type": "code",
   "execution_count": 62,
   "id": "860dbfb6",
   "metadata": {},
   "outputs": [],
   "source": [
    "df_category_sort = df_category.sort_values(by='주문건수', ascending=False)"
   ]
  },
  {
   "cell_type": "code",
   "execution_count": 63,
   "id": "8f7e1f86",
   "metadata": {},
   "outputs": [
    {
     "data": {
      "image/png": "[encoded data removed]",
      "text/plain": [
       "<Figure size 1440x360 with 1 Axes>"
      ]
     },
     "metadata": {
      "needs_background": "light"
     },
     "output_type": "display_data"
    }
   ],
   "source": [
    "plt.rcParams['figure.figsize']=(20,5)\n",
    "\n",
    "plt.scatter(df_category_sort.index, df_category_sort.values, marker = 'o', color = 'g')\n",
    "plt.xticks(df_category_sort.index, rotation = 90 )\n",
    "plt.grid()\n",
    "plt.title('XX 온라인 쇼핑몰 카테고리별 주문건수')\n",
    "plt.show()"
   ]
  },
  {
   "cell_type": "code",
   "execution_count": 64,
   "id": "42c27bfd",
   "metadata": {},
   "outputs": [
    {
     "data": {
      "text/plain": [
       "(17, 1)"
      ]
     },
     "execution_count": 64,
     "metadata": {},
     "output_type": "execute_result"
    }
   ],
   "source": [
    "# 배송지역별 주문 건수 추출\n",
    "df_areas = df_solditems3.groupby('배송지역').주문번호.count().to_frame()\n",
    "df_areas.columns = ['주문건수']\n",
    "df_areas.shape"
   ]
  },
  {
   "cell_type": "code",
   "execution_count": 65,
   "id": "4595b23e",
   "metadata": {},
   "outputs": [],
   "source": [
    "df_areas_sort = df_areas.sort_values(by='주문건수', ascending=False)"
   ]
  },
  {
   "cell_type": "code",
   "execution_count": 66,
   "id": "3ca51015",
   "metadata": {},
   "outputs": [
    {
     "data": {
      "image/png": "[encoded data removed]",
      "text/plain": [
       "<Figure size 1440x360 with 1 Axes>"
      ]
     },
     "metadata": {
      "needs_background": "light"
     },
     "output_type": "display_data"
    }
   ],
   "source": [
    "plt.rcParams['figure.figsize']=(20,5)\n",
    "\n",
    "plt.scatter(df_areas_sort.index, df_areas_sort.values, marker = 'o', color = 'b')\n",
    "plt.xticks(df_areas_sort.index, rotation = 90 )\n",
    "plt.grid()\n",
    "plt.title('XX 온라인 쇼핑몰 배송지역 별 주문건수')\n",
    "plt.show()"
   ]
  },
  {
   "cell_type": "code",
   "execution_count": 67,
   "id": "d36f525c",
   "metadata": {},
   "outputs": [
    {
     "data": {
      "text/plain": [
       "(17, 1)"
      ]
     },
     "execution_count": 67,
     "metadata": {},
     "output_type": "execute_result"
    }
   ],
   "source": [
    "# 배송지역별 주문 건수 추출\n",
    "df_areasales = df_solditems3.groupby('배송지역').판매가.sum().to_frame()\n",
    "df_areasales.columns = ['판매액']\n",
    "df_areasales.shape"
   ]
  },
  {
   "cell_type": "code",
   "execution_count": 68,
   "id": "dbd991a2",
   "metadata": {},
   "outputs": [],
   "source": [
    "df_areasales = df_areasales.sort_values(by='판매액', ascending=False)"
   ]
  },
  {
   "cell_type": "code",
   "execution_count": 69,
   "id": "04bfaf7e",
   "metadata": {},
   "outputs": [
    {
     "data": {
      "text/html": [
       "<div>\n",
       "<style scoped>\n",
       "    .dataframe tbody tr th:only-of-type {\n",
       "        vertical-align: middle;\n",
       "    }\n",
       "\n",
       "    .dataframe tbody tr th {\n",
       "        vertical-align: top;\n",
       "    }\n",
       "\n",
       "    .dataframe thead th {\n",
       "        text-align: right;\n",
       "    }\n",
       "</style>\n",
       "<table border=\"1\" class=\"dataframe\">\n",
       "  <thead>\n",
       "    <tr style=\"text-align: right;\">\n",
       "      <th></th>\n",
       "      <th>판매액</th>\n",
       "    </tr>\n",
       "    <tr>\n",
       "      <th>배송지역</th>\n",
       "      <th></th>\n",
       "    </tr>\n",
       "  </thead>\n",
       "  <tbody>\n",
       "    <tr>\n",
       "      <th>서울</th>\n",
       "      <td>607670804.0</td>\n",
       "    </tr>\n",
       "    <tr>\n",
       "      <th>경기</th>\n",
       "      <td>541347666.0</td>\n",
       "    </tr>\n",
       "    <tr>\n",
       "      <th>인천</th>\n",
       "      <td>140314108.0</td>\n",
       "    </tr>\n",
       "    <tr>\n",
       "      <th>부산</th>\n",
       "      <td>78905224.0</td>\n",
       "    </tr>\n",
       "    <tr>\n",
       "      <th>경남</th>\n",
       "      <td>66735161.0</td>\n",
       "    </tr>\n",
       "  </tbody>\n",
       "</table>\n",
       "</div>"
      ],
      "text/plain": [
       "              판매액\n",
       "배송지역             \n",
       "서울    607670804.0\n",
       "경기    541347666.0\n",
       "인천    140314108.0\n",
       "부산     78905224.0\n",
       "경남     66735161.0"
      ]
     },
     "execution_count": 69,
     "metadata": {},
     "output_type": "execute_result"
    }
   ],
   "source": [
    "df_areasales.head()"
   ]
  },
  {
   "cell_type": "code",
   "execution_count": 70,
   "id": "da5c1faa",
   "metadata": {},
   "outputs": [
    {
     "data": {
      "text/html": [
       "<div>\n",
       "<style scoped>\n",
       "    .dataframe tbody tr th:only-of-type {\n",
       "        vertical-align: middle;\n",
       "    }\n",
       "\n",
       "    .dataframe tbody tr th {\n",
       "        vertical-align: top;\n",
       "    }\n",
       "\n",
       "    .dataframe thead th {\n",
       "        text-align: right;\n",
       "    }\n",
       "</style>\n",
       "<table border=\"1\" class=\"dataframe\">\n",
       "  <thead>\n",
       "    <tr style=\"text-align: right;\">\n",
       "      <th></th>\n",
       "      <th>판매액</th>\n",
       "    </tr>\n",
       "    <tr>\n",
       "      <th>배송지역</th>\n",
       "      <th></th>\n",
       "    </tr>\n",
       "  </thead>\n",
       "  <tbody>\n",
       "    <tr>\n",
       "      <th>광주</th>\n",
       "      <td>35503044.0</td>\n",
       "    </tr>\n",
       "    <tr>\n",
       "      <th>전남</th>\n",
       "      <td>31676650.0</td>\n",
       "    </tr>\n",
       "    <tr>\n",
       "      <th>울산</th>\n",
       "      <td>21696830.0</td>\n",
       "    </tr>\n",
       "    <tr>\n",
       "      <th>제주</th>\n",
       "      <td>13813340.0</td>\n",
       "    </tr>\n",
       "    <tr>\n",
       "      <th>세종</th>\n",
       "      <td>11408217.0</td>\n",
       "    </tr>\n",
       "  </tbody>\n",
       "</table>\n",
       "</div>"
      ],
      "text/plain": [
       "             판매액\n",
       "배송지역            \n",
       "광주    35503044.0\n",
       "전남    31676650.0\n",
       "울산    21696830.0\n",
       "제주    13813340.0\n",
       "세종    11408217.0"
      ]
     },
     "execution_count": 70,
     "metadata": {},
     "output_type": "execute_result"
    }
   ],
   "source": [
    "df_areasales.tail()"
   ]
  },
  {
   "cell_type": "code",
   "execution_count": 71,
   "id": "298dc443",
   "metadata": {},
   "outputs": [],
   "source": [
    "df_areasales_sort = df_areasales.sort_values(by='판매액', ascending=False)"
   ]
  },
  {
   "cell_type": "code",
   "execution_count": 72,
   "id": "3bfc5cd6",
   "metadata": {},
   "outputs": [
    {
     "data": {
      "image/png": "[encoded data removed]",
      "text/plain": [
       "<Figure size 1440x360 with 1 Axes>"
      ]
     },
     "metadata": {
      "needs_background": "light"
     },
     "output_type": "display_data"
    }
   ],
   "source": [
    "plt.rcParams['figure.figsize']=(20,5)\n",
    "\n",
    "\n",
    "plt.scatter(df_areasales_sort.index, df_areasales_sort.values, marker = 'o', color = 'g')\n",
    "plt.xticks(df_areasales_sort.index, rotation = 90 )\n",
    "plt.grid()\n",
    "plt.title('XX 온라인 쇼핑몰 배송지역 별 판매액')\n",
    "plt.show()"
   ]
  },
  {
   "cell_type": "code",
   "execution_count": 73,
   "id": "91919a9b",
   "metadata": {},
   "outputs": [
    {
     "data": {
      "text/plain": [
       "(359, 1)"
      ]
     },
     "execution_count": 73,
     "metadata": {},
     "output_type": "execute_result"
    }
   ],
   "source": [
    "df_dailyorder.shape"
   ]
  },
  {
   "cell_type": "code",
   "execution_count": 74,
   "id": "2db27099",
   "metadata": {},
   "outputs": [
    {
     "data": {
      "text/html": [
       "<div>\n",
       "<style scoped>\n",
       "    .dataframe tbody tr th:only-of-type {\n",
       "        vertical-align: middle;\n",
       "    }\n",
       "\n",
       "    .dataframe tbody tr th {\n",
       "        vertical-align: top;\n",
       "    }\n",
       "\n",
       "    .dataframe thead th {\n",
       "        text-align: right;\n",
       "    }\n",
       "</style>\n",
       "<table border=\"1\" class=\"dataframe\">\n",
       "  <thead>\n",
       "    <tr style=\"text-align: right;\">\n",
       "      <th></th>\n",
       "      <th>주문건수</th>\n",
       "    </tr>\n",
       "    <tr>\n",
       "      <th>주문일자</th>\n",
       "      <th></th>\n",
       "    </tr>\n",
       "  </thead>\n",
       "  <tbody>\n",
       "    <tr>\n",
       "      <th>2017-11-09</th>\n",
       "      <td>3</td>\n",
       "    </tr>\n",
       "    <tr>\n",
       "      <th>2017-11-10</th>\n",
       "      <td>1</td>\n",
       "    </tr>\n",
       "    <tr>\n",
       "      <th>2017-11-11</th>\n",
       "      <td>43</td>\n",
       "    </tr>\n",
       "    <tr>\n",
       "      <th>2017-11-12</th>\n",
       "      <td>11</td>\n",
       "    </tr>\n",
       "    <tr>\n",
       "      <th>2017-11-13</th>\n",
       "      <td>59</td>\n",
       "    </tr>\n",
       "  </tbody>\n",
       "</table>\n",
       "</div>"
      ],
      "text/plain": [
       "            주문건수\n",
       "주문일자            \n",
       "2017-11-09     3\n",
       "2017-11-10     1\n",
       "2017-11-11    43\n",
       "2017-11-12    11\n",
       "2017-11-13    59"
      ]
     },
     "execution_count": 74,
     "metadata": {},
     "output_type": "execute_result"
    }
   ],
   "source": [
    "df_dailyorder.head()"
   ]
  },
  {
   "cell_type": "code",
   "execution_count": 75,
   "id": "c95f0df4",
   "metadata": {},
   "outputs": [
    {
     "data": {
      "text/html": [
       "<div>\n",
       "<style scoped>\n",
       "    .dataframe tbody tr th:only-of-type {\n",
       "        vertical-align: middle;\n",
       "    }\n",
       "\n",
       "    .dataframe tbody tr th {\n",
       "        vertical-align: top;\n",
       "    }\n",
       "\n",
       "    .dataframe thead th {\n",
       "        text-align: right;\n",
       "    }\n",
       "</style>\n",
       "<table border=\"1\" class=\"dataframe\">\n",
       "  <thead>\n",
       "    <tr style=\"text-align: right;\">\n",
       "      <th></th>\n",
       "      <th>판매액</th>\n",
       "    </tr>\n",
       "    <tr>\n",
       "      <th>주문일자</th>\n",
       "      <th></th>\n",
       "    </tr>\n",
       "  </thead>\n",
       "  <tbody>\n",
       "    <tr>\n",
       "      <th>2017-11-09</th>\n",
       "      <td>111900.0</td>\n",
       "    </tr>\n",
       "    <tr>\n",
       "      <th>2017-11-10</th>\n",
       "      <td>59400.0</td>\n",
       "    </tr>\n",
       "    <tr>\n",
       "      <th>2017-11-11</th>\n",
       "      <td>2139248.0</td>\n",
       "    </tr>\n",
       "    <tr>\n",
       "      <th>2017-11-12</th>\n",
       "      <td>1061900.0</td>\n",
       "    </tr>\n",
       "    <tr>\n",
       "      <th>2017-11-13</th>\n",
       "      <td>3073850.0</td>\n",
       "    </tr>\n",
       "  </tbody>\n",
       "</table>\n",
       "</div>"
      ],
      "text/plain": [
       "                  판매액\n",
       "주문일자                 \n",
       "2017-11-09   111900.0\n",
       "2017-11-10    59400.0\n",
       "2017-11-11  2139248.0\n",
       "2017-11-12  1061900.0\n",
       "2017-11-13  3073850.0"
      ]
     },
     "execution_count": 75,
     "metadata": {},
     "output_type": "execute_result"
    }
   ],
   "source": [
    "df_dailysales.head()"
   ]
  },
  {
   "cell_type": "code",
   "execution_count": 76,
   "id": "fb825e8a",
   "metadata": {},
   "outputs": [
    {
     "data": {
      "text/plain": [
       "(359, 1)"
      ]
     },
     "execution_count": 76,
     "metadata": {},
     "output_type": "execute_result"
    }
   ],
   "source": [
    "df_dailysales.shape"
   ]
  },
  {
   "cell_type": "code",
   "execution_count": 77,
   "id": "3213fa31",
   "metadata": {},
   "outputs": [
    {
     "data": {
      "text/html": [
       "<div>\n",
       "<style scoped>\n",
       "    .dataframe tbody tr th:only-of-type {\n",
       "        vertical-align: middle;\n",
       "    }\n",
       "\n",
       "    .dataframe tbody tr th {\n",
       "        vertical-align: top;\n",
       "    }\n",
       "\n",
       "    .dataframe thead th {\n",
       "        text-align: right;\n",
       "    }\n",
       "</style>\n",
       "<table border=\"1\" class=\"dataframe\">\n",
       "  <thead>\n",
       "    <tr style=\"text-align: right;\">\n",
       "      <th></th>\n",
       "      <th>주문건수</th>\n",
       "      <th>판매액</th>\n",
       "    </tr>\n",
       "    <tr>\n",
       "      <th>주문일자</th>\n",
       "      <th></th>\n",
       "      <th></th>\n",
       "    </tr>\n",
       "  </thead>\n",
       "  <tbody>\n",
       "    <tr>\n",
       "      <th>2017-11-09</th>\n",
       "      <td>3</td>\n",
       "      <td>111900.0</td>\n",
       "    </tr>\n",
       "    <tr>\n",
       "      <th>2017-11-10</th>\n",
       "      <td>1</td>\n",
       "      <td>59400.0</td>\n",
       "    </tr>\n",
       "    <tr>\n",
       "      <th>2017-11-11</th>\n",
       "      <td>43</td>\n",
       "      <td>2139248.0</td>\n",
       "    </tr>\n",
       "    <tr>\n",
       "      <th>2017-11-12</th>\n",
       "      <td>11</td>\n",
       "      <td>1061900.0</td>\n",
       "    </tr>\n",
       "    <tr>\n",
       "      <th>2017-11-13</th>\n",
       "      <td>59</td>\n",
       "      <td>3073850.0</td>\n",
       "    </tr>\n",
       "  </tbody>\n",
       "</table>\n",
       "</div>"
      ],
      "text/plain": [
       "            주문건수        판매액\n",
       "주문일자                       \n",
       "2017-11-09     3   111900.0\n",
       "2017-11-10     1    59400.0\n",
       "2017-11-11    43  2139248.0\n",
       "2017-11-12    11  1061900.0\n",
       "2017-11-13    59  3073850.0"
      ]
     },
     "execution_count": 77,
     "metadata": {},
     "output_type": "execute_result"
    }
   ],
   "source": [
    "df_daily = pd.merge(df_dailyorder, df_dailysales, on = '주문일자')\n",
    "df_daily.head()\n",
    "#df_solditems2 = pd.merge(df_solditems, df_customer2,on = '회원번호', how='left' )"
   ]
  },
  {
   "cell_type": "code",
   "execution_count": 78,
   "id": "c88c6ec6",
   "metadata": {},
   "outputs": [
    {
     "data": {
      "text/html": [
       "<div>\n",
       "<style scoped>\n",
       "    .dataframe tbody tr th:only-of-type {\n",
       "        vertical-align: middle;\n",
       "    }\n",
       "\n",
       "    .dataframe tbody tr th {\n",
       "        vertical-align: top;\n",
       "    }\n",
       "\n",
       "    .dataframe thead th {\n",
       "        text-align: right;\n",
       "    }\n",
       "</style>\n",
       "<table border=\"1\" class=\"dataframe\">\n",
       "  <thead>\n",
       "    <tr style=\"text-align: right;\">\n",
       "      <th></th>\n",
       "      <th>주문건수</th>\n",
       "      <th>판매액</th>\n",
       "    </tr>\n",
       "    <tr>\n",
       "      <th>주문일자</th>\n",
       "      <th></th>\n",
       "      <th></th>\n",
       "    </tr>\n",
       "  </thead>\n",
       "  <tbody>\n",
       "    <tr>\n",
       "      <th>2018-11-03</th>\n",
       "      <td>58</td>\n",
       "      <td>3134453.0</td>\n",
       "    </tr>\n",
       "    <tr>\n",
       "      <th>2018-11-04</th>\n",
       "      <td>61</td>\n",
       "      <td>3438570.0</td>\n",
       "    </tr>\n",
       "    <tr>\n",
       "      <th>2018-11-05</th>\n",
       "      <td>138</td>\n",
       "      <td>9387570.0</td>\n",
       "    </tr>\n",
       "    <tr>\n",
       "      <th>2018-11-06</th>\n",
       "      <td>145</td>\n",
       "      <td>16132494.0</td>\n",
       "    </tr>\n",
       "    <tr>\n",
       "      <th>2018-11-07</th>\n",
       "      <td>25</td>\n",
       "      <td>1076300.0</td>\n",
       "    </tr>\n",
       "  </tbody>\n",
       "</table>\n",
       "</div>"
      ],
      "text/plain": [
       "            주문건수         판매액\n",
       "주문일자                        \n",
       "2018-11-03    58   3134453.0\n",
       "2018-11-04    61   3438570.0\n",
       "2018-11-05   138   9387570.0\n",
       "2018-11-06   145  16132494.0\n",
       "2018-11-07    25   1076300.0"
      ]
     },
     "execution_count": 78,
     "metadata": {},
     "output_type": "execute_result"
    }
   ],
   "source": [
    "df_daily.tail()"
   ]
  },
  {
   "cell_type": "code",
   "execution_count": 79,
   "id": "2c1351a0",
   "metadata": {},
   "outputs": [],
   "source": [
    "df_daily.reset_index(drop=False, inplace =True)"
   ]
  },
  {
   "cell_type": "code",
   "execution_count": 80,
   "id": "71a869a7",
   "metadata": {},
   "outputs": [],
   "source": [
    "# 영업일이 없는 경우도 있어서 주문일자 시작을 기준으로 경과일수 산출\n",
    "\n",
    "days = []\n",
    "for i in range(359) :\n",
    "    d= df_daily['주문일자'][i] - df_daily['주문일자'][0]\n",
    "    days.append(d)"
   ]
  },
  {
   "cell_type": "code",
   "execution_count": 81,
   "id": "b5bdef8f",
   "metadata": {},
   "outputs": [],
   "source": [
    "df_daily['영업일수경과'] = days"
   ]
  },
  {
   "cell_type": "code",
   "execution_count": 82,
   "id": "b0d3c950",
   "metadata": {},
   "outputs": [
    {
     "data": {
      "text/html": [
       "<div>\n",
       "<style scoped>\n",
       "    .dataframe tbody tr th:only-of-type {\n",
       "        vertical-align: middle;\n",
       "    }\n",
       "\n",
       "    .dataframe tbody tr th {\n",
       "        vertical-align: top;\n",
       "    }\n",
       "\n",
       "    .dataframe thead th {\n",
       "        text-align: right;\n",
       "    }\n",
       "</style>\n",
       "<table border=\"1\" class=\"dataframe\">\n",
       "  <thead>\n",
       "    <tr style=\"text-align: right;\">\n",
       "      <th></th>\n",
       "      <th>주문일자</th>\n",
       "      <th>주문건수</th>\n",
       "      <th>판매액</th>\n",
       "      <th>영업일수경과</th>\n",
       "    </tr>\n",
       "  </thead>\n",
       "  <tbody>\n",
       "    <tr>\n",
       "      <th>0</th>\n",
       "      <td>2017-11-09</td>\n",
       "      <td>3</td>\n",
       "      <td>111900.0</td>\n",
       "      <td>0 days</td>\n",
       "    </tr>\n",
       "    <tr>\n",
       "      <th>1</th>\n",
       "      <td>2017-11-10</td>\n",
       "      <td>1</td>\n",
       "      <td>59400.0</td>\n",
       "      <td>1 days</td>\n",
       "    </tr>\n",
       "    <tr>\n",
       "      <th>2</th>\n",
       "      <td>2017-11-11</td>\n",
       "      <td>43</td>\n",
       "      <td>2139248.0</td>\n",
       "      <td>2 days</td>\n",
       "    </tr>\n",
       "    <tr>\n",
       "      <th>3</th>\n",
       "      <td>2017-11-12</td>\n",
       "      <td>11</td>\n",
       "      <td>1061900.0</td>\n",
       "      <td>3 days</td>\n",
       "    </tr>\n",
       "    <tr>\n",
       "      <th>4</th>\n",
       "      <td>2017-11-13</td>\n",
       "      <td>59</td>\n",
       "      <td>3073850.0</td>\n",
       "      <td>4 days</td>\n",
       "    </tr>\n",
       "  </tbody>\n",
       "</table>\n",
       "</div>"
      ],
      "text/plain": [
       "         주문일자  주문건수        판매액 영업일수경과\n",
       "0  2017-11-09     3   111900.0 0 days\n",
       "1  2017-11-10     1    59400.0 1 days\n",
       "2  2017-11-11    43  2139248.0 2 days\n",
       "3  2017-11-12    11  1061900.0 3 days\n",
       "4  2017-11-13    59  3073850.0 4 days"
      ]
     },
     "execution_count": 82,
     "metadata": {},
     "output_type": "execute_result"
    }
   ],
   "source": [
    "df_daily.head()"
   ]
  },
  {
   "cell_type": "code",
   "execution_count": 83,
   "id": "1eeeeee2",
   "metadata": {},
   "outputs": [
    {
     "data": {
      "text/html": [
       "<div>\n",
       "<style scoped>\n",
       "    .dataframe tbody tr th:only-of-type {\n",
       "        vertical-align: middle;\n",
       "    }\n",
       "\n",
       "    .dataframe tbody tr th {\n",
       "        vertical-align: top;\n",
       "    }\n",
       "\n",
       "    .dataframe thead th {\n",
       "        text-align: right;\n",
       "    }\n",
       "</style>\n",
       "<table border=\"1\" class=\"dataframe\">\n",
       "  <thead>\n",
       "    <tr style=\"text-align: right;\">\n",
       "      <th></th>\n",
       "      <th>주문일자</th>\n",
       "      <th>주문건수</th>\n",
       "      <th>판매액</th>\n",
       "      <th>영업일수경과</th>\n",
       "    </tr>\n",
       "  </thead>\n",
       "  <tbody>\n",
       "    <tr>\n",
       "      <th>354</th>\n",
       "      <td>2018-11-03</td>\n",
       "      <td>58</td>\n",
       "      <td>3134453.0</td>\n",
       "      <td>359 days</td>\n",
       "    </tr>\n",
       "    <tr>\n",
       "      <th>355</th>\n",
       "      <td>2018-11-04</td>\n",
       "      <td>61</td>\n",
       "      <td>3438570.0</td>\n",
       "      <td>360 days</td>\n",
       "    </tr>\n",
       "    <tr>\n",
       "      <th>356</th>\n",
       "      <td>2018-11-05</td>\n",
       "      <td>138</td>\n",
       "      <td>9387570.0</td>\n",
       "      <td>361 days</td>\n",
       "    </tr>\n",
       "    <tr>\n",
       "      <th>357</th>\n",
       "      <td>2018-11-06</td>\n",
       "      <td>145</td>\n",
       "      <td>16132494.0</td>\n",
       "      <td>362 days</td>\n",
       "    </tr>\n",
       "    <tr>\n",
       "      <th>358</th>\n",
       "      <td>2018-11-07</td>\n",
       "      <td>25</td>\n",
       "      <td>1076300.0</td>\n",
       "      <td>363 days</td>\n",
       "    </tr>\n",
       "  </tbody>\n",
       "</table>\n",
       "</div>"
      ],
      "text/plain": [
       "           주문일자  주문건수         판매액   영업일수경과\n",
       "354  2018-11-03    58   3134453.0 359 days\n",
       "355  2018-11-04    61   3438570.0 360 days\n",
       "356  2018-11-05   138   9387570.0 361 days\n",
       "357  2018-11-06   145  16132494.0 362 days\n",
       "358  2018-11-07    25   1076300.0 363 days"
      ]
     },
     "execution_count": 83,
     "metadata": {},
     "output_type": "execute_result"
    }
   ],
   "source": [
    "df_daily.tail()"
   ]
  },
  {
   "cell_type": "code",
   "execution_count": 84,
   "id": "09d76d28",
   "metadata": {},
   "outputs": [
    {
     "data": {
      "text/plain": [
       "0       0 days\n",
       "1       1 days\n",
       "2       2 days\n",
       "3       3 days\n",
       "4       4 days\n",
       "        ...   \n",
       "354   359 days\n",
       "355   360 days\n",
       "356   361 days\n",
       "357   362 days\n",
       "358   363 days\n",
       "Name: 영업일수경과, Length: 359, dtype: timedelta64[ns]"
      ]
     },
     "execution_count": 84,
     "metadata": {},
     "output_type": "execute_result"
    }
   ],
   "source": [
    "df_daily['영업일수경과'][0:359]"
   ]
  },
  {
   "cell_type": "code",
   "execution_count": 85,
   "id": "c6370c61",
   "metadata": {},
   "outputs": [
    {
     "name": "stdout",
     "output_type": "stream",
     "text": [
      "successful\n"
     ]
    }
   ],
   "source": [
    "ftest = open('days.txt', mode='r')\n",
    "lines = ftest.readlines()\n",
    "print('successful')"
   ]
  },
  {
   "cell_type": "code",
   "execution_count": 86,
   "id": "162973e8",
   "metadata": {},
   "outputs": [
    {
     "data": {
      "text/plain": [
       "'358   363 days'"
      ]
     },
     "execution_count": 86,
     "metadata": {},
     "output_type": "execute_result"
    }
   ],
   "source": [
    "lines[358]"
   ]
  },
  {
   "cell_type": "code",
   "execution_count": 87,
   "id": "ad173bfd",
   "metadata": {},
   "outputs": [],
   "source": [
    "l = []\n",
    "for line in lines : \n",
    "    a = line.split('   ')\n",
    "    l.append(a)\n",
    "l1=[]\n",
    "for j in l : \n",
    "    a = j[1]\n",
    "    l1.append(a)\n",
    "l2=[]\n",
    "for k in l1 : \n",
    "    a = k.split('days\\n')\n",
    "    l2.append(a)\n",
    "l3 = []\n",
    "for m in l2 :\n",
    "    a= m[0]\n",
    "    l3.append(a)"
   ]
  },
  {
   "cell_type": "code",
   "execution_count": 88,
   "id": "59f70ed3",
   "metadata": {},
   "outputs": [],
   "source": [
    "l3[358] = '363'"
   ]
  },
  {
   "cell_type": "code",
   "execution_count": 89,
   "id": "4a38ac26",
   "metadata": {},
   "outputs": [],
   "source": [
    "l4 = []\n",
    "for i in range(359) :\n",
    "    a = float(l3[i])\n",
    "    b = int(a)\n",
    "    l4.append(b)"
   ]
  },
  {
   "cell_type": "code",
   "execution_count": 90,
   "id": "c20c1bb6",
   "metadata": {},
   "outputs": [
    {
     "data": {
      "text/plain": [
       "363"
      ]
     },
     "execution_count": 90,
     "metadata": {},
     "output_type": "execute_result"
    }
   ],
   "source": [
    "l4[358]"
   ]
  },
  {
   "cell_type": "code",
   "execution_count": 91,
   "id": "5a9db7b4",
   "metadata": {},
   "outputs": [],
   "source": [
    "df_daily['days'] = l4"
   ]
  },
  {
   "cell_type": "markdown",
   "id": "8aadb88e",
   "metadata": {},
   "source": [
    "# Linear regression\n",
    "- 회귀선 그래프 및 결정계수\n",
    "  \n",
    "  1) 영업경과일수-주문건수\n",
    "  \n",
    "  2) 영업경과일수-판매액"
   ]
  },
  {
   "cell_type": "code",
   "execution_count": 92,
   "id": "132d5991",
   "metadata": {},
   "outputs": [
    {
     "name": "stdout",
     "output_type": "stream",
     "text": [
      "[  0.42954135 -20.91127671]\n"
     ]
    }
   ],
   "source": [
    "# 선형 회귀식 구하기 : 영업경과일수와 주문건수\n",
    "\n",
    "import numpy as np\n",
    "\n",
    "x = df_daily.days # 경과일수\n",
    "y = df_daily['주문건수'] #주문건수\n",
    "\n",
    "fit_line = np.polyfit(x, y, 1) # x,y 1차원 그래프\n",
    "\n",
    "print(fit_line) "
   ]
  },
  {
   "cell_type": "code",
   "execution_count": 93,
   "id": "12544c2c",
   "metadata": {},
   "outputs": [
    {
     "data": {
      "image/png": "[encoded data removed]",
      "text/plain": [
       "<Figure size 1440x360 with 1 Axes>"
      ]
     },
     "metadata": {
      "needs_background": "light"
     },
     "output_type": "display_data"
    }
   ],
   "source": [
    "# 회귀선 그래프 그리기\n",
    "x_minmax = np.array([min(x), max(x)]) # x축 최소값, 최대값\n",
    "\n",
    "fit_y = x_minmax * fit_line[0] + fit_line[1] # x축 최소, 최대값을 회귀식에 대입한 값\n",
    "\n",
    "plt.scatter(x, y, color = 'g', s = 20)\n",
    "plt.plot(x_minmax, fit_y, color = 'r') # 회귀선 그래프 그리기\n",
    "plt.xlabel('영업 경과 일수')\n",
    "plt.ylabel('주문 건수')\n",
    "\n",
    "plt.show()"
   ]
  },
  {
   "cell_type": "code",
   "execution_count": 94,
   "id": "a0fe9fcb",
   "metadata": {},
   "outputs": [
    {
     "name": "stdout",
     "output_type": "stream",
     "text": [
      "0.46804909047877674\n"
     ]
    }
   ],
   "source": [
    "# 결정계수(R2) 값 구하기\n",
    "from sklearn.metrics import r2_score\n",
    "\n",
    "est_y = np.array(x) * fit_line[0] + fit_line[1] # x의 실제 값들을 회귀식에 대입한 y 추정치\n",
    "\n",
    "r2 = r2_score(y, est_y) \n",
    "print(r2)"
   ]
  },
  {
   "cell_type": "code",
   "execution_count": 95,
   "id": "8db48099",
   "metadata": {},
   "outputs": [
    {
     "data": {
      "text/plain": [
       "Text(150, 250, 'y = 0.4295x -20')"
      ]
     },
     "execution_count": 95,
     "metadata": {},
     "output_type": "execute_result"
    },
    {
     "data": {
      "image/png": "[encoded data removed]",
      "text/plain": [
       "<Figure size 1440x360 with 1 Axes>"
      ]
     },
     "metadata": {
      "needs_background": "light"
     },
     "output_type": "display_data"
    }
   ],
   "source": [
    "# 결정계수 값과 추세식 텍스트 그래프에 새기기\n",
    "x_minmax = np.array([min(x), max(x)]) # x축 최소값, 최대값\n",
    "\n",
    "fit_y = x_minmax * fit_line[0] + fit_line[1] # x축 최소, 최대값을 회귀식에 대입한 값\n",
    "\n",
    "plt.scatter(x, y, color = 'g', s = 20)\n",
    "plt.plot(x_minmax, fit_y, color = 'r') # 회귀선 그래프 그리기\n",
    "plt.xlabel('영업 경과 일수')\n",
    "plt.ylabel('주문 건수')\n",
    "plt.text(150, 200, '$R^2$ = %.4f'%r2, size = 15, color = 'r') \n",
    "plt.text(150, 250, 'y = %.4fx %d'%(fit_line[0], fit_line[1]), size = 15)\n"
   ]
  },
  {
   "cell_type": "code",
   "execution_count": null,
   "id": "d65dabf1",
   "metadata": {},
   "outputs": [],
   "source": []
  },
  {
   "cell_type": "code",
   "execution_count": 96,
   "id": "da11d2fd",
   "metadata": {},
   "outputs": [
    {
     "name": "stdout",
     "output_type": "stream",
     "text": [
      "[   34983.12432663 -1177263.17203897]\n"
     ]
    }
   ],
   "source": [
    "# 선형 회귀식 구하기 : 영업경과일수와 판매액\n",
    "\n",
    "import numpy as np\n",
    "\n",
    "x = df_daily.days # 경과일수\n",
    "y = df_daily['판매액'] #주문건수\n",
    "\n",
    "fit_line = np.polyfit(x, y, 1) # x,y 1차원 그래프\n",
    "\n",
    "print(fit_line) "
   ]
  },
  {
   "cell_type": "code",
   "execution_count": 97,
   "id": "3feda034",
   "metadata": {},
   "outputs": [
    {
     "data": {
      "image/png": "[encoded data removed]",
      "text/plain": [
       "<Figure size 1440x360 with 1 Axes>"
      ]
     },
     "metadata": {
      "needs_background": "light"
     },
     "output_type": "display_data"
    }
   ],
   "source": [
    "# 회귀선 그래프 그리기\n",
    "x_minmax = np.array([min(x), max(x)]) # x축 최소값, 최대값\n",
    "\n",
    "fit_y = x_minmax * fit_line[0] + fit_line[1] # x축 최소, 최대값을 회귀식에 대입한 값\n",
    "\n",
    "plt.scatter(x, y, color = 'orange', s = 20)\n",
    "plt.plot(x_minmax, fit_y, color = 'b') # 회귀선 그래프 그리기\n",
    "plt.xlabel('영업 경과 일수')\n",
    "plt.ylabel('판매액')\n",
    "\n",
    "plt.show()"
   ]
  },
  {
   "cell_type": "code",
   "execution_count": 98,
   "id": "26e95643",
   "metadata": {},
   "outputs": [
    {
     "name": "stdout",
     "output_type": "stream",
     "text": [
      "0.35585932601728365\n"
     ]
    }
   ],
   "source": [
    "# 결정계수(R2) 값 구하기\n",
    "from sklearn.metrics import r2_score\n",
    "\n",
    "est_y = np.array(x) * fit_line[0] + fit_line[1] # x의 실제 값들을 회귀식에 대입한 y 추정치\n",
    "\n",
    "r2 = r2_score(y, est_y) \n",
    "print(r2)"
   ]
  },
  {
   "cell_type": "code",
   "execution_count": 99,
   "id": "29e9ddb5",
   "metadata": {},
   "outputs": [
    {
     "data": {
      "text/plain": [
       "Text(150, 20000000, 'y = 34983.1243x -1177263')"
      ]
     },
     "execution_count": 99,
     "metadata": {},
     "output_type": "execute_result"
    },
    {
     "data": {
      "image/png": "[encoded data removed]",
      "text/plain": [
       "<Figure size 1440x360 with 1 Axes>"
      ]
     },
     "metadata": {
      "needs_background": "light"
     },
     "output_type": "display_data"
    }
   ],
   "source": [
    "# 결정계수 값과 추세식 텍스트 그래프에 새기기\n",
    "x_minmax = np.array([min(x), max(x)]) # x축 최소값, 최대값\n",
    "\n",
    "fit_y = x_minmax * fit_line[0] + fit_line[1] # x축 최소, 최대값을 회귀식에 대입한 값\n",
    "\n",
    "plt.scatter(x, y, color = 'orange', s = 20)\n",
    "plt.plot(x_minmax, fit_y, color = 'r') # 회귀선 그래프 그리기\n",
    "plt.xlabel('영업 경과 일수')\n",
    "plt.ylabel('판매액')\n",
    "plt.text(150, 25000000, '$R^2$ = %.4f'%r2, size = 15, color = 'r') \n",
    "plt.text(150, 20000000, 'y = %.4fx %d'%(fit_line[0], fit_line[1]), size = 15)\n"
   ]
  }
 ],
 "metadata": {
  "kernelspec": {
   "display_name": "Python 3 (ipykernel)",
   "language": "python",
   "name": "python3"
  },
  "language_info": {
   "codemirror_mode": {
    "name": "ipython",
    "version": 3
   },
   "file_extension": ".py",
   "mimetype": "text/x-python",
   "name": "python",
   "nbconvert_exporter": "python",
   "pygments_lexer": "ipython3",
   "version": "3.9.12"
  },
  "toc": {
   "base_numbering": 1,
   "nav_menu": {},
   "number_sections": true,
   "sideBar": true,
   "skip_h1_title": false,
   "title_cell": "Table of Contents",
   "title_sidebar": "Contents",
   "toc_cell": false,
   "toc_position": {},
   "toc_section_display": true,
   "toc_window_display": false
  }
 },
 "nbformat": 4,
 "nbformat_minor": 5
}
