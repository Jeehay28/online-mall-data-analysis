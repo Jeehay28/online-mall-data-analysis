{
 "cells": [
  {
   "cell_type": "markdown",
   "id": "dfc3732a",
   "metadata": {},
   "source": [
    "# 전국 지점별 유통량 데이터 예측 분석"
   ]
  },
  {
   "cell_type": "code",
   "execution_count": 1,
   "id": "25e6a0f8",
   "metadata": {},
   "outputs": [],
   "source": [
    "import pandas as pd\n",
    "import os \n",
    "import matplotlib.pyplot as plt\n",
    "import random\n",
    "import math\n",
    "import seaborn as sns\n",
    "import numpy as np\n",
    "\n",
    "plt.rcParams['font.family']='Malgun Gothic'\n",
    "plt.rcParams['axes.unicode_minus'] = False\n",
    "\n",
    "고객정보 = pd.read_excel('1.1 고객기본정보(개인정보 제외)_추출.xlsx')#\n",
    "c_ques = pd.read_excel('1.2 고객상담정보(개인정보 제외)_추출.xlsx')#\n",
    "item_info = pd.read_excel('2.1 상품정보_추출.xlsx')#\n",
    "i_ques = pd.read_excel('2.2 상품문의정보(개인정보 제외)_추출.xlsx')#\n",
    "i_review = pd.read_excel('2.3 상품평정보(개인정보 제외)_추출.xlsx')#\n",
    "o_info = pd.read_excel('3.1 주문정보(개인정보 제외)_추출.xlsx')#\n",
    "p_info = pd.read_excel('4.1 결제정보(개인정보 제외)_추출.xlsx')#\n",
    "r_info = pd.read_excel('5.1 환불정보(개인정보 제외)_추출.xlsx')\n",
    "op_info = pd.read_excel('6.1 옵션정보_추출.xlsx')\n"
   ]
  },
  {
   "cell_type": "markdown",
   "id": "2f6d97c7",
   "metadata": {},
   "source": [
    "## 데이터 불러오기 및 특징"
   ]
  },
  {
   "cell_type": "code",
   "execution_count": 2,
   "id": "57216757",
   "metadata": {},
   "outputs": [],
   "source": [
    "#Table of Contents 기능 이용해서 검색"
   ]
  },
  {
   "cell_type": "markdown",
   "id": "dc0fafd4",
   "metadata": {},
   "source": [
    "### 각 데이터의 특징"
   ]
  },
  {
   "cell_type": "markdown",
   "id": "b4c1d33a",
   "metadata": {},
   "source": [
    "#### 1-1 고객 정보"
   ]
  },
  {
   "cell_type": "code",
   "execution_count": 3,
   "id": "42e9eca1",
   "metadata": {},
   "outputs": [
    {
     "data": {
      "text/html": [
       "<div>\n",
       "<style scoped>\n",
       "    .dataframe tbody tr th:only-of-type {\n",
       "        vertical-align: middle;\n",
       "    }\n",
       "\n",
       "    .dataframe tbody tr th {\n",
       "        vertical-align: top;\n",
       "    }\n",
       "\n",
       "    .dataframe thead th {\n",
       "        text-align: right;\n",
       "    }\n",
       "</style>\n",
       "<table border=\"1\" class=\"dataframe\">\n",
       "  <thead>\n",
       "    <tr style=\"text-align: right;\">\n",
       "      <th></th>\n",
       "      <th>회원번호</th>\n",
       "      <th>회원등급</th>\n",
       "      <th>가입일</th>\n",
       "      <th>최종방문일</th>\n",
       "      <th>본인인증</th>\n",
       "      <th>성별</th>\n",
       "      <th>나이</th>\n",
       "      <th>자주쓰는배송지 도로명</th>\n",
       "      <th>자주쓰는배송지 지번</th>\n",
       "    </tr>\n",
       "  </thead>\n",
       "  <tbody>\n",
       "    <tr>\n",
       "      <th>0</th>\n",
       "      <td>1476</td>\n",
       "      <td>임직원</td>\n",
       "      <td>2016-11-05 00:00:00</td>\n",
       "      <td>2018-04-30 17:34:58</td>\n",
       "      <td>-</td>\n",
       "      <td>M</td>\n",
       "      <td>31</td>\n",
       "      <td>서울 금천구 가마산로 70</td>\n",
       "      <td>-</td>\n",
       "    </tr>\n",
       "    <tr>\n",
       "      <th>1</th>\n",
       "      <td>1873</td>\n",
       "      <td>임직원</td>\n",
       "      <td>2017-11-02 15:54:32</td>\n",
       "      <td>2018-11-05 10:12:51</td>\n",
       "      <td>MOBILE</td>\n",
       "      <td>M</td>\n",
       "      <td>32</td>\n",
       "      <td>경기 고양시 일산서구 고양대로 620</td>\n",
       "      <td>경기 고양시 일산서구 일산동 960-6</td>\n",
       "    </tr>\n",
       "    <tr>\n",
       "      <th>2</th>\n",
       "      <td>1874</td>\n",
       "      <td>임직원</td>\n",
       "      <td>2017-11-02 15:55:11</td>\n",
       "      <td>2018-11-07 07:27:31</td>\n",
       "      <td>MOBILE</td>\n",
       "      <td>M</td>\n",
       "      <td>39</td>\n",
       "      <td>경기 성남시 분당구 판교역로 4</td>\n",
       "      <td>경기 성남시 분당구 백현동 582-7</td>\n",
       "    </tr>\n",
       "    <tr>\n",
       "      <th>3</th>\n",
       "      <td>1875</td>\n",
       "      <td>임직원</td>\n",
       "      <td>2017-11-02 16:08:18</td>\n",
       "      <td>2018-11-05 08:35:48</td>\n",
       "      <td>MOBILE</td>\n",
       "      <td>F</td>\n",
       "      <td>29</td>\n",
       "      <td>서울 은평구 연서로34가길 10-16</td>\n",
       "      <td>서울 은평구 불광동 346-87</td>\n",
       "    </tr>\n",
       "    <tr>\n",
       "      <th>4</th>\n",
       "      <td>1876</td>\n",
       "      <td>임직원</td>\n",
       "      <td>2017-11-02 16:10:06</td>\n",
       "      <td>2018-11-06 14:51:02</td>\n",
       "      <td>MOBILE</td>\n",
       "      <td>M</td>\n",
       "      <td>30</td>\n",
       "      <td>서울 영등포구 국제금융로2길 32</td>\n",
       "      <td>서울 영등포구 여의도동 23-8</td>\n",
       "    </tr>\n",
       "    <tr>\n",
       "      <th>...</th>\n",
       "      <td>...</td>\n",
       "      <td>...</td>\n",
       "      <td>...</td>\n",
       "      <td>...</td>\n",
       "      <td>...</td>\n",
       "      <td>...</td>\n",
       "      <td>...</td>\n",
       "      <td>...</td>\n",
       "      <td>...</td>\n",
       "    </tr>\n",
       "    <tr>\n",
       "      <th>50283</th>\n",
       "      <td>57789</td>\n",
       "      <td>일반</td>\n",
       "      <td>2018-11-07 08:57:25</td>\n",
       "      <td>2018-11-07 08:57:41</td>\n",
       "      <td>MOBILE</td>\n",
       "      <td>M</td>\n",
       "      <td>NaN</td>\n",
       "      <td>-</td>\n",
       "      <td>-</td>\n",
       "    </tr>\n",
       "    <tr>\n",
       "      <th>50284</th>\n",
       "      <td>57790</td>\n",
       "      <td>일반</td>\n",
       "      <td>2018-11-07 08:58:23</td>\n",
       "      <td>2018-11-07 08:58:38</td>\n",
       "      <td>NaN</td>\n",
       "      <td>-</td>\n",
       "      <td>NaN</td>\n",
       "      <td>-</td>\n",
       "      <td>-</td>\n",
       "    </tr>\n",
       "    <tr>\n",
       "      <th>50285</th>\n",
       "      <td>57791</td>\n",
       "      <td>일반</td>\n",
       "      <td>2018-11-07 09:33:48</td>\n",
       "      <td>2018-11-07 09:34:10</td>\n",
       "      <td>MOBILE</td>\n",
       "      <td>F</td>\n",
       "      <td>NaN</td>\n",
       "      <td>-</td>\n",
       "      <td>-</td>\n",
       "    </tr>\n",
       "    <tr>\n",
       "      <th>50286</th>\n",
       "      <td>57792</td>\n",
       "      <td>일반</td>\n",
       "      <td>2018-11-07 09:49:43</td>\n",
       "      <td>2018-11-07 09:49:43</td>\n",
       "      <td>NaN</td>\n",
       "      <td>-</td>\n",
       "      <td>NaN</td>\n",
       "      <td>-</td>\n",
       "      <td>-</td>\n",
       "    </tr>\n",
       "    <tr>\n",
       "      <th>50287</th>\n",
       "      <td>57793</td>\n",
       "      <td>일반</td>\n",
       "      <td>2018-11-07 10:06:54</td>\n",
       "      <td>2018-11-07 10:07:07</td>\n",
       "      <td>MOBILE</td>\n",
       "      <td>M</td>\n",
       "      <td>NaN</td>\n",
       "      <td>-</td>\n",
       "      <td>-</td>\n",
       "    </tr>\n",
       "  </tbody>\n",
       "</table>\n",
       "<p>50288 rows × 9 columns</p>\n",
       "</div>"
      ],
      "text/plain": [
       "        회원번호 회원등급                  가입일                최종방문일    본인인증 성별   나이  \\\n",
       "0       1476  임직원  2016-11-05 00:00:00  2018-04-30 17:34:58       -  M   31   \n",
       "1       1873  임직원  2017-11-02 15:54:32  2018-11-05 10:12:51  MOBILE  M   32   \n",
       "2       1874  임직원  2017-11-02 15:55:11  2018-11-07 07:27:31  MOBILE  M   39   \n",
       "3       1875  임직원  2017-11-02 16:08:18  2018-11-05 08:35:48  MOBILE  F   29   \n",
       "4       1876  임직원  2017-11-02 16:10:06  2018-11-06 14:51:02  MOBILE  M   30   \n",
       "...      ...  ...                  ...                  ...     ... ..  ...   \n",
       "50283  57789   일반  2018-11-07 08:57:25  2018-11-07 08:57:41  MOBILE  M  NaN   \n",
       "50284  57790   일반  2018-11-07 08:58:23  2018-11-07 08:58:38     NaN  -  NaN   \n",
       "50285  57791   일반  2018-11-07 09:33:48  2018-11-07 09:34:10  MOBILE  F  NaN   \n",
       "50286  57792   일반  2018-11-07 09:49:43  2018-11-07 09:49:43     NaN  -  NaN   \n",
       "50287  57793   일반  2018-11-07 10:06:54  2018-11-07 10:07:07  MOBILE  M  NaN   \n",
       "\n",
       "                자주쓰는배송지 도로명             자주쓰는배송지 지번  \n",
       "0            서울 금천구 가마산로 70                      -  \n",
       "1      경기 고양시 일산서구 고양대로 620  경기 고양시 일산서구 일산동 960-6  \n",
       "2         경기 성남시 분당구 판교역로 4   경기 성남시 분당구 백현동 582-7  \n",
       "3      서울 은평구 연서로34가길 10-16      서울 은평구 불광동 346-87  \n",
       "4        서울 영등포구 국제금융로2길 32      서울 영등포구 여의도동 23-8  \n",
       "...                     ...                    ...  \n",
       "50283                     -                      -  \n",
       "50284                     -                      -  \n",
       "50285                     -                      -  \n",
       "50286                     -                      -  \n",
       "50287                     -                      -  \n",
       "\n",
       "[50288 rows x 9 columns]"
      ]
     },
     "execution_count": 3,
     "metadata": {},
     "output_type": "execute_result"
    }
   ],
   "source": [
    "고객정보 "
   ]
  },
  {
   "cell_type": "markdown",
   "id": "55d83b52",
   "metadata": {},
   "source": [
    "회원번호 : 회원들의 정보를 기준으로 생성한 번호"
   ]
  },
  {
   "cell_type": "markdown",
   "id": "95f94f7e",
   "metadata": {},
   "source": [
    "회원등급 : 회원 별 등급을 나눔 ('임직원', '일반' 등)"
   ]
  },
  {
   "cell_type": "markdown",
   "id": "594cda0d",
   "metadata": {},
   "source": [
    "가입일 : 회원들의 가입일"
   ]
  },
  {
   "cell_type": "markdown",
   "id": "6bdd1ea6",
   "metadata": {},
   "source": [
    "최종방문일 : 회원이 최종 방문한 시간"
   ]
  },
  {
   "cell_type": "markdown",
   "id": "776e5d8e",
   "metadata": {},
   "source": [
    "본인인증 : 회원들의 본인 인증 방식('휴대전화', 'IPIN' , 'BTOB')"
   ]
  },
  {
   "cell_type": "markdown",
   "id": "145cbd95",
   "metadata": {},
   "source": [
    "성별 : 회원들의 성별('M', 'F')"
   ]
  },
  {
   "cell_type": "markdown",
   "id": "45a31963",
   "metadata": {},
   "source": [
    "나이 : 회원들의 나이"
   ]
  },
  {
   "cell_type": "markdown",
   "id": "1431e38c",
   "metadata": {},
   "source": [
    "배송지 도로명 : 회원들의 도로명 주소"
   ]
  },
  {
   "cell_type": "markdown",
   "id": "d4db93a4",
   "metadata": {},
   "source": [
    "배송지 지번 : 회원들의 지번 주소"
   ]
  },
  {
   "cell_type": "markdown",
   "id": "a6c03a21",
   "metadata": {},
   "source": [
    "#### 1-2 고객상담정보"
   ]
  },
  {
   "cell_type": "code",
   "execution_count": 4,
   "id": "f9ad8bf8",
   "metadata": {},
   "outputs": [
    {
     "data": {
      "text/html": [
       "<div>\n",
       "<style scoped>\n",
       "    .dataframe tbody tr th:only-of-type {\n",
       "        vertical-align: middle;\n",
       "    }\n",
       "\n",
       "    .dataframe tbody tr th {\n",
       "        vertical-align: top;\n",
       "    }\n",
       "\n",
       "    .dataframe thead th {\n",
       "        text-align: right;\n",
       "    }\n",
       "</style>\n",
       "<table border=\"1\" class=\"dataframe\">\n",
       "  <thead>\n",
       "    <tr style=\"text-align: right;\">\n",
       "      <th></th>\n",
       "      <th>상담번호</th>\n",
       "      <th>주문번호</th>\n",
       "      <th>상품번호</th>\n",
       "      <th>회원번호</th>\n",
       "      <th>상담구분</th>\n",
       "      <th>상담유형</th>\n",
       "      <th>상담유형2</th>\n",
       "      <th>상담채널</th>\n",
       "      <th>상담결과</th>\n",
       "      <th>문의내용</th>\n",
       "      <th>답변내용</th>\n",
       "      <th>Unnamed: 11</th>\n",
       "    </tr>\n",
       "  </thead>\n",
       "  <tbody>\n",
       "    <tr>\n",
       "      <th>0</th>\n",
       "      <td>46</td>\n",
       "      <td>1711290939024083</td>\n",
       "      <td>NaN</td>\n",
       "      <td>1899</td>\n",
       "      <td>NaN</td>\n",
       "      <td>NaN</td>\n",
       "      <td>NaN</td>\n",
       "      <td>NaN</td>\n",
       "      <td>처리완료</td>\n",
       "      <td>dkcifgarkjk</td>\n",
       "      <td>jdtoijxljcdsoazjfoiwajrcnf</td>\n",
       "      <td>NaN</td>\n",
       "    </tr>\n",
       "    <tr>\n",
       "      <th>1</th>\n",
       "      <td>48</td>\n",
       "      <td>1711291005424091</td>\n",
       "      <td>NaN</td>\n",
       "      <td>1902</td>\n",
       "      <td>NaN</td>\n",
       "      <td>NaN</td>\n",
       "      <td>NaN</td>\n",
       "      <td>NaN</td>\n",
       "      <td>처리완료</td>\n",
       "      <td>배송일자확인</td>\n",
       "      <td>평균배송일 7일 소요/배송전 해피콜 진행 됨 안내</td>\n",
       "      <td>NaN</td>\n",
       "    </tr>\n",
       "    <tr>\n",
       "      <th>2</th>\n",
       "      <td>53</td>\n",
       "      <td>1711290941454084</td>\n",
       "      <td>NaN</td>\n",
       "      <td>1899</td>\n",
       "      <td>NaN</td>\n",
       "      <td>NaN</td>\n",
       "      <td>NaN</td>\n",
       "      <td>NaN</td>\n",
       "      <td>처리완료</td>\n",
       "      <td>해당 상품 용량 확인</td>\n",
       "      <td>몇밀리 어느정도 사용 안내</td>\n",
       "      <td>NaN</td>\n",
       "    </tr>\n",
       "    <tr>\n",
       "      <th>3</th>\n",
       "      <td>55</td>\n",
       "      <td>1711290915134078</td>\n",
       "      <td>NaN</td>\n",
       "      <td>1896</td>\n",
       "      <td>NaN</td>\n",
       "      <td>NaN</td>\n",
       "      <td>NaN</td>\n",
       "      <td>NaN</td>\n",
       "      <td>처리완료</td>\n",
       "      <td>환불기간</td>\n",
       "      <td>test</td>\n",
       "      <td>NaN</td>\n",
       "    </tr>\n",
       "    <tr>\n",
       "      <th>4</th>\n",
       "      <td>59</td>\n",
       "      <td>1711231537223717</td>\n",
       "      <td>NaN</td>\n",
       "      <td>1940</td>\n",
       "      <td>NaN</td>\n",
       "      <td>NaN</td>\n",
       "      <td>NaN</td>\n",
       "      <td>NaN</td>\n",
       "      <td>처리완료</td>\n",
       "      <td>배송준비중으로 확인 되어 언제 발송되는지 문의</td>\n",
       "      <td>해당상품 재고가 없어 구성품은 같지만 한단계 업그레이드된 500W 제품으로 대체발송...</td>\n",
       "      <td>NaN</td>\n",
       "    </tr>\n",
       "    <tr>\n",
       "      <th>...</th>\n",
       "      <td>...</td>\n",
       "      <td>...</td>\n",
       "      <td>...</td>\n",
       "      <td>...</td>\n",
       "      <td>...</td>\n",
       "      <td>...</td>\n",
       "      <td>...</td>\n",
       "      <td>...</td>\n",
       "      <td>...</td>\n",
       "      <td>...</td>\n",
       "      <td>...</td>\n",
       "      <td>...</td>\n",
       "    </tr>\n",
       "    <tr>\n",
       "      <th>7376</th>\n",
       "      <td>7553</td>\n",
       "      <td>1811061738069362</td>\n",
       "      <td>G1801301010_8818</td>\n",
       "      <td>57340</td>\n",
       "      <td>업체(O/B)</td>\n",
       "      <td>주문</td>\n",
       "      <td>주문내역확인</td>\n",
       "      <td>Call</td>\n",
       "      <td>처리완료</td>\n",
       "      <td>오더 확인</td>\n",
       "      <td>[코니페블] 로폴드 마블 테이블 A형 (S) 역방향으로 주문 들어 갔는지 확인/역방...</td>\n",
       "      <td>NaN</td>\n",
       "    </tr>\n",
       "    <tr>\n",
       "      <th>7377</th>\n",
       "      <td>7554</td>\n",
       "      <td>1811031529058279</td>\n",
       "      <td>G1808311524_9232</td>\n",
       "      <td>0</td>\n",
       "      <td>업체(O/B)</td>\n",
       "      <td>교환</td>\n",
       "      <td>오배송</td>\n",
       "      <td>Call</td>\n",
       "      <td>처리완료</td>\n",
       "      <td>오배송 처리 방법 확인</td>\n",
       "      <td>이미지 접수 요청/고객님 부재/문자발송/[홈데이몰] 안녕하세요. 홈데이몰 고객센터입...</td>\n",
       "      <td>NaN</td>\n",
       "    </tr>\n",
       "    <tr>\n",
       "      <th>7378</th>\n",
       "      <td>7555</td>\n",
       "      <td>1811020852507735</td>\n",
       "      <td>G1807040956_9000</td>\n",
       "      <td>55045</td>\n",
       "      <td>업체(O/B)</td>\n",
       "      <td>교환</td>\n",
       "      <td>상품하자</td>\n",
       "      <td>Call</td>\n",
       "      <td>처리완료</td>\n",
       "      <td>교환 접수 요청</td>\n",
       "      <td>이미지 전송완료/교환 접수 완료/오늘~내일 출고 예정</td>\n",
       "      <td>NaN</td>\n",
       "    </tr>\n",
       "    <tr>\n",
       "      <th>7379</th>\n",
       "      <td>7556</td>\n",
       "      <td>1810141242199477</td>\n",
       "      <td>G1806051842_0920</td>\n",
       "      <td>0</td>\n",
       "      <td>회원(I/B)</td>\n",
       "      <td>배송</td>\n",
       "      <td>배송누락</td>\n",
       "      <td>Call</td>\n",
       "      <td>처리완료</td>\n",
       "      <td>1+1으로 주문했는데 1개 받으셨음</td>\n",
       "      <td>1번 단품하셔서 1개 발송 된 것</td>\n",
       "      <td>NaN</td>\n",
       "    </tr>\n",
       "    <tr>\n",
       "      <th>7380</th>\n",
       "      <td>7557</td>\n",
       "      <td>1811052010128936</td>\n",
       "      <td>G1807210012_6536</td>\n",
       "      <td>0</td>\n",
       "      <td>회원(I/B)</td>\n",
       "      <td>취소</td>\n",
       "      <td>품절</td>\n",
       "      <td>Call</td>\n",
       "      <td>처리완료</td>\n",
       "      <td>품절로인한 결제취소 문자 받으시고 인입 / 재입고일 문의하심</td>\n",
       "      <td>고객동의 후 결제취소 완료 / 재입고는 2달후 임 / 문자안내_x000D_\\n[홈데...</td>\n",
       "      <td>NaN</td>\n",
       "    </tr>\n",
       "  </tbody>\n",
       "</table>\n",
       "<p>7381 rows × 12 columns</p>\n",
       "</div>"
      ],
      "text/plain": [
       "      상담번호              주문번호              상품번호   회원번호     상담구분 상담유형   상담유형2  \\\n",
       "0       46  1711290939024083               NaN   1899      NaN  NaN     NaN   \n",
       "1       48  1711291005424091               NaN   1902      NaN  NaN     NaN   \n",
       "2       53  1711290941454084               NaN   1899      NaN  NaN     NaN   \n",
       "3       55  1711290915134078               NaN   1896      NaN  NaN     NaN   \n",
       "4       59  1711231537223717               NaN   1940      NaN  NaN     NaN   \n",
       "...    ...               ...               ...    ...      ...  ...     ...   \n",
       "7376  7553  1811061738069362  G1801301010_8818  57340  업체(O/B)   주문  주문내역확인   \n",
       "7377  7554  1811031529058279  G1808311524_9232      0  업체(O/B)   교환     오배송   \n",
       "7378  7555  1811020852507735  G1807040956_9000  55045  업체(O/B)   교환    상품하자   \n",
       "7379  7556  1810141242199477  G1806051842_0920      0  회원(I/B)   배송    배송누락   \n",
       "7380  7557  1811052010128936  G1807210012_6536      0  회원(I/B)   취소      품절   \n",
       "\n",
       "      상담채널  상담결과                               문의내용  \\\n",
       "0      NaN  처리완료                        dkcifgarkjk   \n",
       "1      NaN  처리완료                             배송일자확인   \n",
       "2      NaN  처리완료                        해당 상품 용량 확인   \n",
       "3      NaN  처리완료                               환불기간   \n",
       "4      NaN  처리완료          배송준비중으로 확인 되어 언제 발송되는지 문의   \n",
       "...    ...   ...                                ...   \n",
       "7376  Call  처리완료                              오더 확인   \n",
       "7377  Call  처리완료                       오배송 처리 방법 확인   \n",
       "7378  Call  처리완료                           교환 접수 요청   \n",
       "7379  Call  처리완료                1+1으로 주문했는데 1개 받으셨음   \n",
       "7380  Call  처리완료  품절로인한 결제취소 문자 받으시고 인입 / 재입고일 문의하심   \n",
       "\n",
       "                                                   답변내용 Unnamed: 11  \n",
       "0                            jdtoijxljcdsoazjfoiwajrcnf         NaN  \n",
       "1                           평균배송일 7일 소요/배송전 해피콜 진행 됨 안내         NaN  \n",
       "2                                        몇밀리 어느정도 사용 안내         NaN  \n",
       "3                                                  test         NaN  \n",
       "4     해당상품 재고가 없어 구성품은 같지만 한단계 업그레이드된 500W 제품으로 대체발송...         NaN  \n",
       "...                                                 ...         ...  \n",
       "7376  [코니페블] 로폴드 마블 테이블 A형 (S) 역방향으로 주문 들어 갔는지 확인/역방...         NaN  \n",
       "7377  이미지 접수 요청/고객님 부재/문자발송/[홈데이몰] 안녕하세요. 홈데이몰 고객센터입...         NaN  \n",
       "7378                      이미지 전송완료/교환 접수 완료/오늘~내일 출고 예정         NaN  \n",
       "7379                                 1번 단품하셔서 1개 발송 된 것         NaN  \n",
       "7380  고객동의 후 결제취소 완료 / 재입고는 2달후 임 / 문자안내_x000D_\\n[홈데...         NaN  \n",
       "\n",
       "[7381 rows x 12 columns]"
      ]
     },
     "execution_count": 4,
     "metadata": {},
     "output_type": "execute_result"
    }
   ],
   "source": [
    "c_ques"
   ]
  },
  {
   "cell_type": "markdown",
   "id": "26b4e517",
   "metadata": {},
   "source": [
    "상담번호 :  상담 들어온 순서대로 번호를 매긴 것"
   ]
  },
  {
   "cell_type": "markdown",
   "id": "3135cc99",
   "metadata": {},
   "source": [
    "주문번호 : 회원의 상품 주문정보를 담은 번호"
   ]
  },
  {
   "cell_type": "markdown",
   "id": "c419809a",
   "metadata": {},
   "source": [
    "상품번호 : 상품의 정보를 담은 번호"
   ]
  },
  {
   "cell_type": "markdown",
   "id": "bc47311e",
   "metadata": {},
   "source": [
    "회원번호 : 1-1 회원번호 참고"
   ]
  },
  {
   "cell_type": "markdown",
   "id": "50b343b5",
   "metadata": {},
   "source": [
    "상담구분 : 회원인지 업체인지 구분하기 위한 항목"
   ]
  },
  {
   "cell_type": "markdown",
   "id": "55386c8b",
   "metadata": {},
   "source": [
    "상담유형 : 상담 유형의 1차 카테고리"
   ]
  },
  {
   "cell_type": "markdown",
   "id": "40e40a36",
   "metadata": {},
   "source": [
    "상담유형2 : 상담 유형의 세부적인 2차 카테고리"
   ]
  },
  {
   "cell_type": "markdown",
   "id": "7df268d2",
   "metadata": {},
   "source": [
    "상담채널 : 전화, 홈페이지 등의 상담 방법"
   ]
  },
  {
   "cell_type": "markdown",
   "id": "803d0cd3",
   "metadata": {},
   "source": [
    "상담결과 : 처리 여부를 확인하는 항목"
   ]
  },
  {
   "cell_type": "markdown",
   "id": "6a46de65",
   "metadata": {},
   "source": [
    "문의내용 : 회원들의 문의 내용을 담은 항목"
   ]
  },
  {
   "cell_type": "markdown",
   "id": "e1784257",
   "metadata": {},
   "source": [
    "답변내용 : 상담사의 답변 내용을 담은 항목"
   ]
  },
  {
   "cell_type": "markdown",
   "id": "d9551943",
   "metadata": {},
   "source": [
    "Unnamed: 11 : 임시로 만든 항목"
   ]
  },
  {
   "cell_type": "markdown",
   "id": "790ba44a",
   "metadata": {},
   "source": [
    "#### 2-1 상품정보"
   ]
  },
  {
   "cell_type": "code",
   "execution_count": 5,
   "id": "0b9f1a59",
   "metadata": {},
   "outputs": [
    {
     "data": {
      "text/html": [
       "<div>\n",
       "<style scoped>\n",
       "    .dataframe tbody tr th:only-of-type {\n",
       "        vertical-align: middle;\n",
       "    }\n",
       "\n",
       "    .dataframe tbody tr th {\n",
       "        vertical-align: top;\n",
       "    }\n",
       "\n",
       "    .dataframe thead th {\n",
       "        text-align: right;\n",
       "    }\n",
       "</style>\n",
       "<table border=\"1\" class=\"dataframe\">\n",
       "  <thead>\n",
       "    <tr style=\"text-align: right;\">\n",
       "      <th></th>\n",
       "      <th>상품번호</th>\n",
       "      <th>상품명</th>\n",
       "      <th>업체명</th>\n",
       "      <th>카테고리명</th>\n",
       "      <th>브랜드명</th>\n",
       "      <th>상품구분</th>\n",
       "      <th>대표판매가</th>\n",
       "      <th>배송비</th>\n",
       "      <th>판매상태</th>\n",
       "      <th>전시상태</th>\n",
       "    </tr>\n",
       "  </thead>\n",
       "  <tbody>\n",
       "    <tr>\n",
       "      <th>0</th>\n",
       "      <td>G1708291036_0216</td>\n",
       "      <td>[라이마스] 에어_630630</td>\n",
       "      <td>(주)라이마스</td>\n",
       "      <td>홈데코레이션</td>\n",
       "      <td>LIMAS</td>\n",
       "      <td>일반</td>\n",
       "      <td>220000.0</td>\n",
       "      <td>50000.00 이하 5500.00</td>\n",
       "      <td>품절</td>\n",
       "      <td>N</td>\n",
       "    </tr>\n",
       "    <tr>\n",
       "      <th>1</th>\n",
       "      <td>G1708291049_0217</td>\n",
       "      <td>[라이마스] 에어_730350</td>\n",
       "      <td>(주)라이마스</td>\n",
       "      <td>홈데코레이션</td>\n",
       "      <td>LIMAS</td>\n",
       "      <td>일반</td>\n",
       "      <td>275000.0</td>\n",
       "      <td>50000.00 이하 5500.00</td>\n",
       "      <td>품절</td>\n",
       "      <td>N</td>\n",
       "    </tr>\n",
       "    <tr>\n",
       "      <th>2</th>\n",
       "      <td>G1708291054_0220</td>\n",
       "      <td>[라이마스] 에어_1200190</td>\n",
       "      <td>(주)라이마스</td>\n",
       "      <td>홈데코레이션</td>\n",
       "      <td>LIMAS</td>\n",
       "      <td>일반</td>\n",
       "      <td>270000.0</td>\n",
       "      <td>50000.00 이하 5500.00</td>\n",
       "      <td>판매중</td>\n",
       "      <td>Y</td>\n",
       "    </tr>\n",
       "    <tr>\n",
       "      <th>3</th>\n",
       "      <td>G1708291058_0221</td>\n",
       "      <td>[라이마스] 에어_730190</td>\n",
       "      <td>(주)라이마스</td>\n",
       "      <td>홈데코레이션</td>\n",
       "      <td>LIMAS</td>\n",
       "      <td>일반</td>\n",
       "      <td>165000.0</td>\n",
       "      <td>50000.00 이하 5500.00</td>\n",
       "      <td>판매중</td>\n",
       "      <td>Y</td>\n",
       "    </tr>\n",
       "    <tr>\n",
       "      <th>4</th>\n",
       "      <td>G1708291109_0222</td>\n",
       "      <td>[라이마스] 에어_730750</td>\n",
       "      <td>(주)라이마스</td>\n",
       "      <td>홈데코레이션</td>\n",
       "      <td>LIMAS</td>\n",
       "      <td>일반</td>\n",
       "      <td>565000.0</td>\n",
       "      <td>50000.00 이하 5500.00</td>\n",
       "      <td>품절</td>\n",
       "      <td>N</td>\n",
       "    </tr>\n",
       "    <tr>\n",
       "      <th>...</th>\n",
       "      <td>...</td>\n",
       "      <td>...</td>\n",
       "      <td>...</td>\n",
       "      <td>...</td>\n",
       "      <td>...</td>\n",
       "      <td>...</td>\n",
       "      <td>...</td>\n",
       "      <td>...</td>\n",
       "      <td>...</td>\n",
       "      <td>...</td>\n",
       "    </tr>\n",
       "    <tr>\n",
       "      <th>110793</th>\n",
       "      <td>G1811061735_7415</td>\n",
       "      <td>[가이타이너] 1.8리터 미스틱 티포트_GT-TK578G</td>\n",
       "      <td>에이젯</td>\n",
       "      <td>생활가전</td>\n",
       "      <td>GEITHAINER</td>\n",
       "      <td>일반</td>\n",
       "      <td>39000.0</td>\n",
       "      <td>0</td>\n",
       "      <td>판매중</td>\n",
       "      <td>Y</td>\n",
       "    </tr>\n",
       "    <tr>\n",
       "      <th>110794</th>\n",
       "      <td>G1811061752_7419</td>\n",
       "      <td>[보랄] MILAN 커피 드립 포트_HNZ-T770DK</td>\n",
       "      <td>에이젯</td>\n",
       "      <td>생활가전</td>\n",
       "      <td>BORAL</td>\n",
       "      <td>일반</td>\n",
       "      <td>31000.0</td>\n",
       "      <td>0</td>\n",
       "      <td>판매중</td>\n",
       "      <td>Y</td>\n",
       "    </tr>\n",
       "    <tr>\n",
       "      <th>110795</th>\n",
       "      <td>G1811061752_7420</td>\n",
       "      <td>[가이타이너] CLASSY  1.8L 보온 티포트_GT-E975TGK</td>\n",
       "      <td>에이젯</td>\n",
       "      <td>생활가전</td>\n",
       "      <td>GEITHAINER</td>\n",
       "      <td>일반</td>\n",
       "      <td>49000.0</td>\n",
       "      <td>0</td>\n",
       "      <td>판매중</td>\n",
       "      <td>Y</td>\n",
       "    </tr>\n",
       "    <tr>\n",
       "      <th>110796</th>\n",
       "      <td>G1811061756_7421</td>\n",
       "      <td>[비스카] UFO 로봇청소기_HNZ-R5000VC</td>\n",
       "      <td>에이젯</td>\n",
       "      <td>생활가전</td>\n",
       "      <td>VISKA</td>\n",
       "      <td>일반</td>\n",
       "      <td>59000.0</td>\n",
       "      <td>0</td>\n",
       "      <td>판매중</td>\n",
       "      <td>Y</td>\n",
       "    </tr>\n",
       "    <tr>\n",
       "      <th>110797</th>\n",
       "      <td>G1811070837_7429</td>\n",
       "      <td>[홈앤하우스] 프리미엄 H 타올 10P (30수연사 170g) 무료배송</td>\n",
       "      <td>홈앤하우스</td>\n",
       "      <td>주방/욕실/청소용품</td>\n",
       "      <td>homenhouse</td>\n",
       "      <td>일반</td>\n",
       "      <td>36900.0</td>\n",
       "      <td>0</td>\n",
       "      <td>판매중</td>\n",
       "      <td>Y</td>\n",
       "    </tr>\n",
       "  </tbody>\n",
       "</table>\n",
       "<p>110798 rows × 10 columns</p>\n",
       "</div>"
      ],
      "text/plain": [
       "                    상품번호                                      상품명      업체명  \\\n",
       "0       G1708291036_0216                         [라이마스] 에어_630630  (주)라이마스   \n",
       "1       G1708291049_0217                         [라이마스] 에어_730350  (주)라이마스   \n",
       "2       G1708291054_0220                        [라이마스] 에어_1200190  (주)라이마스   \n",
       "3       G1708291058_0221                         [라이마스] 에어_730190  (주)라이마스   \n",
       "4       G1708291109_0222                         [라이마스] 에어_730750  (주)라이마스   \n",
       "...                  ...                                      ...      ...   \n",
       "110793  G1811061735_7415          [가이타이너] 1.8리터 미스틱 티포트_GT-TK578G      에이젯   \n",
       "110794  G1811061752_7419           [보랄] MILAN 커피 드립 포트_HNZ-T770DK      에이젯   \n",
       "110795  G1811061752_7420   [가이타이너] CLASSY  1.8L 보온 티포트_GT-E975TGK      에이젯   \n",
       "110796  G1811061756_7421              [비스카] UFO 로봇청소기_HNZ-R5000VC      에이젯   \n",
       "110797  G1811070837_7429  [홈앤하우스] 프리미엄 H 타올 10P (30수연사 170g) 무료배송    홈앤하우스   \n",
       "\n",
       "             카테고리명        브랜드명 상품구분     대표판매가                  배송비 판매상태 전시상태  \n",
       "0           홈데코레이션       LIMAS   일반  220000.0  50000.00 이하 5500.00   품절    N  \n",
       "1           홈데코레이션       LIMAS   일반  275000.0  50000.00 이하 5500.00   품절    N  \n",
       "2           홈데코레이션       LIMAS   일반  270000.0  50000.00 이하 5500.00  판매중    Y  \n",
       "3           홈데코레이션       LIMAS   일반  165000.0  50000.00 이하 5500.00  판매중    Y  \n",
       "4           홈데코레이션       LIMAS   일반  565000.0  50000.00 이하 5500.00   품절    N  \n",
       "...            ...         ...  ...       ...                  ...  ...  ...  \n",
       "110793        생활가전  GEITHAINER   일반   39000.0                    0  판매중    Y  \n",
       "110794        생활가전       BORAL   일반   31000.0                    0  판매중    Y  \n",
       "110795        생활가전  GEITHAINER   일반   49000.0                    0  판매중    Y  \n",
       "110796        생활가전       VISKA   일반   59000.0                    0  판매중    Y  \n",
       "110797  주방/욕실/청소용품  homenhouse   일반   36900.0                    0  판매중    Y  \n",
       "\n",
       "[110798 rows x 10 columns]"
      ]
     },
     "execution_count": 5,
     "metadata": {},
     "output_type": "execute_result"
    }
   ],
   "source": [
    "item_info"
   ]
  },
  {
   "cell_type": "markdown",
   "id": "c97d0c4f",
   "metadata": {},
   "source": [
    "상품번호 : 상품의 정보를 기준으로 생성한 번호"
   ]
  },
  {
   "cell_type": "markdown",
   "id": "502e0746",
   "metadata": {},
   "source": [
    "상품명 : 상품의 이름"
   ]
  },
  {
   "cell_type": "markdown",
   "id": "19627670",
   "metadata": {},
   "source": [
    "업체명 : 상품을 만든 업체 이름"
   ]
  },
  {
   "cell_type": "markdown",
   "id": "de0755f1",
   "metadata": {},
   "source": [
    "카테고리명 : 상품의 카테고리(가구, 가전, 등..)"
   ]
  },
  {
   "cell_type": "markdown",
   "id": "0abd2389",
   "metadata": {},
   "source": [
    "브랜드명 : 상품의 브랜드명"
   ]
  },
  {
   "cell_type": "markdown",
   "id": "05364509",
   "metadata": {},
   "source": [
    "상품구분 : 일반 구매, 렌탈, 기업MRO를 인지 구분하기 위한 항목"
   ]
  },
  {
   "cell_type": "markdown",
   "id": "37018ccd",
   "metadata": {},
   "source": [
    "대표판매가 : 상품의 판매가격"
   ]
  },
  {
   "cell_type": "markdown",
   "id": "1e9ed847",
   "metadata": {},
   "source": [
    "배송비 : 거리에 따른 배송비 정보를 담은 항목"
   ]
  },
  {
   "cell_type": "markdown",
   "id": "0f309419",
   "metadata": {},
   "source": [
    "판매상태 : 상품의 판매 상태를 담은 항목"
   ]
  },
  {
   "cell_type": "markdown",
   "id": "c105a243",
   "metadata": {},
   "source": [
    "전시상태 : 상품이 전시상태를 담은 항목 "
   ]
  },
  {
   "cell_type": "markdown",
   "id": "65ac1893",
   "metadata": {},
   "source": [
    "#### 2-2 상품문의정보"
   ]
  },
  {
   "cell_type": "code",
   "execution_count": 6,
   "id": "6a2ff893",
   "metadata": {},
   "outputs": [
    {
     "data": {
      "text/html": [
       "<div>\n",
       "<style scoped>\n",
       "    .dataframe tbody tr th:only-of-type {\n",
       "        vertical-align: middle;\n",
       "    }\n",
       "\n",
       "    .dataframe tbody tr th {\n",
       "        vertical-align: top;\n",
       "    }\n",
       "\n",
       "    .dataframe thead th {\n",
       "        text-align: right;\n",
       "    }\n",
       "</style>\n",
       "<table border=\"1\" class=\"dataframe\">\n",
       "  <thead>\n",
       "    <tr style=\"text-align: right;\">\n",
       "      <th></th>\n",
       "      <th>상품번호</th>\n",
       "      <th>상품문의번호</th>\n",
       "      <th>입점업체명</th>\n",
       "      <th>회원번호</th>\n",
       "      <th>등록일</th>\n",
       "      <th>답변여부</th>\n",
       "    </tr>\n",
       "  </thead>\n",
       "  <tbody>\n",
       "    <tr>\n",
       "      <th>0</th>\n",
       "      <td>G1708250952_0085</td>\n",
       "      <td>119</td>\n",
       "      <td>YT쇼핑1</td>\n",
       "      <td>1699</td>\n",
       "      <td>2017-08-25 10:02:35</td>\n",
       "      <td>N</td>\n",
       "    </tr>\n",
       "    <tr>\n",
       "      <th>1</th>\n",
       "      <td>G1709050949_0672</td>\n",
       "      <td>120</td>\n",
       "      <td>(주)캔디코퍼레이션</td>\n",
       "      <td>1722</td>\n",
       "      <td>2017-09-11 15:36:54</td>\n",
       "      <td>N</td>\n",
       "    </tr>\n",
       "    <tr>\n",
       "      <th>2</th>\n",
       "      <td>G1709111053_0888</td>\n",
       "      <td>121</td>\n",
       "      <td>(주)라이마스</td>\n",
       "      <td>1476</td>\n",
       "      <td>2017-09-12 14:37:55</td>\n",
       "      <td>N</td>\n",
       "    </tr>\n",
       "    <tr>\n",
       "      <th>3</th>\n",
       "      <td>G1708291036_0216</td>\n",
       "      <td>123</td>\n",
       "      <td>(주)라이마스</td>\n",
       "      <td>1476</td>\n",
       "      <td>2017-09-20 17:55:53</td>\n",
       "      <td>Y</td>\n",
       "    </tr>\n",
       "    <tr>\n",
       "      <th>4</th>\n",
       "      <td>G1708291036_0216</td>\n",
       "      <td>124</td>\n",
       "      <td>(주)라이마스</td>\n",
       "      <td>1476</td>\n",
       "      <td>2017-09-20 17:58:08</td>\n",
       "      <td>N</td>\n",
       "    </tr>\n",
       "    <tr>\n",
       "      <th>...</th>\n",
       "      <td>...</td>\n",
       "      <td>...</td>\n",
       "      <td>...</td>\n",
       "      <td>...</td>\n",
       "      <td>...</td>\n",
       "      <td>...</td>\n",
       "    </tr>\n",
       "    <tr>\n",
       "      <th>1326</th>\n",
       "      <td>G1806010933_9050</td>\n",
       "      <td>3922</td>\n",
       "      <td>월플랜</td>\n",
       "      <td>57776</td>\n",
       "      <td>2018-11-07 10:08:38</td>\n",
       "      <td>N</td>\n",
       "    </tr>\n",
       "    <tr>\n",
       "      <th>1327</th>\n",
       "      <td>G1806041540_0335</td>\n",
       "      <td>3923</td>\n",
       "      <td>월플랜</td>\n",
       "      <td>57776</td>\n",
       "      <td>2018-11-07 10:09:00</td>\n",
       "      <td>N</td>\n",
       "    </tr>\n",
       "    <tr>\n",
       "      <th>1328</th>\n",
       "      <td>G1806251439_7300</td>\n",
       "      <td>3924</td>\n",
       "      <td>HANDZ</td>\n",
       "      <td>57579</td>\n",
       "      <td>2018-11-07 10:14:15</td>\n",
       "      <td>N</td>\n",
       "    </tr>\n",
       "    <tr>\n",
       "      <th>1329</th>\n",
       "      <td>G1806251439_7300</td>\n",
       "      <td>3925</td>\n",
       "      <td>HANDZ</td>\n",
       "      <td>57579</td>\n",
       "      <td>2018-11-07 10:15:34</td>\n",
       "      <td>N</td>\n",
       "    </tr>\n",
       "    <tr>\n",
       "      <th>1330</th>\n",
       "      <td>G1808311524_9232</td>\n",
       "      <td>3926</td>\n",
       "      <td>오름</td>\n",
       "      <td>57775</td>\n",
       "      <td>2018-11-07 10:18:27</td>\n",
       "      <td>N</td>\n",
       "    </tr>\n",
       "  </tbody>\n",
       "</table>\n",
       "<p>1331 rows × 6 columns</p>\n",
       "</div>"
      ],
      "text/plain": [
       "                  상품번호  상품문의번호       입점업체명   회원번호                 등록일 답변여부\n",
       "0     G1708250952_0085     119       YT쇼핑1   1699 2017-08-25 10:02:35    N\n",
       "1     G1709050949_0672     120  (주)캔디코퍼레이션   1722 2017-09-11 15:36:54    N\n",
       "2     G1709111053_0888     121     (주)라이마스   1476 2017-09-12 14:37:55    N\n",
       "3     G1708291036_0216     123     (주)라이마스   1476 2017-09-20 17:55:53    Y\n",
       "4     G1708291036_0216     124     (주)라이마스   1476 2017-09-20 17:58:08    N\n",
       "...                ...     ...         ...    ...                 ...  ...\n",
       "1326  G1806010933_9050    3922         월플랜  57776 2018-11-07 10:08:38    N\n",
       "1327  G1806041540_0335    3923         월플랜  57776 2018-11-07 10:09:00    N\n",
       "1328  G1806251439_7300    3924       HANDZ  57579 2018-11-07 10:14:15    N\n",
       "1329  G1806251439_7300    3925       HANDZ  57579 2018-11-07 10:15:34    N\n",
       "1330  G1808311524_9232    3926          오름  57775 2018-11-07 10:18:27    N\n",
       "\n",
       "[1331 rows x 6 columns]"
      ]
     },
     "execution_count": 6,
     "metadata": {},
     "output_type": "execute_result"
    }
   ],
   "source": [
    "i_ques"
   ]
  },
  {
   "cell_type": "markdown",
   "id": "28731044",
   "metadata": {},
   "source": [
    "상품번호 : 2-1상품정보 참고"
   ]
  },
  {
   "cell_type": "markdown",
   "id": "229005e6",
   "metadata": {},
   "source": [
    "상품문의번호 : 회원들이 상품에 대해 문의한 것을 순서대로 담은 항목"
   ]
  },
  {
   "cell_type": "markdown",
   "id": "227f8144",
   "metadata": {},
   "source": [
    "입점업체명 : 해당 상품을 판매하는 업체를 담은 항목"
   ]
  },
  {
   "cell_type": "markdown",
   "id": "410e406c",
   "metadata": {},
   "source": [
    "회원번호 : 1-1 회원번호 참고"
   ]
  },
  {
   "cell_type": "markdown",
   "id": "1b17cc79",
   "metadata": {},
   "source": [
    "등록일 :  회원들의 문의 시간을 담은 항목"
   ]
  },
  {
   "cell_type": "markdown",
   "id": "bc5b587b",
   "metadata": {},
   "source": [
    "답변여부 : 상담사의 문의 답변 여부를 담은 항목"
   ]
  },
  {
   "cell_type": "markdown",
   "id": "0d0cbedc",
   "metadata": {},
   "source": [
    "#### 2-3 상품평정보"
   ]
  },
  {
   "cell_type": "code",
   "execution_count": 7,
   "id": "d56f7583",
   "metadata": {},
   "outputs": [
    {
     "data": {
      "text/html": [
       "<div>\n",
       "<style scoped>\n",
       "    .dataframe tbody tr th:only-of-type {\n",
       "        vertical-align: middle;\n",
       "    }\n",
       "\n",
       "    .dataframe tbody tr th {\n",
       "        vertical-align: top;\n",
       "    }\n",
       "\n",
       "    .dataframe thead th {\n",
       "        text-align: right;\n",
       "    }\n",
       "</style>\n",
       "<table border=\"1\" class=\"dataframe\">\n",
       "  <thead>\n",
       "    <tr style=\"text-align: right;\">\n",
       "      <th></th>\n",
       "      <th>상품번호</th>\n",
       "      <th>상품평번호</th>\n",
       "      <th>입점업체명</th>\n",
       "      <th>회원번호</th>\n",
       "      <th>별점</th>\n",
       "      <th>등록일</th>\n",
       "    </tr>\n",
       "  </thead>\n",
       "  <tbody>\n",
       "    <tr>\n",
       "      <th>0</th>\n",
       "      <td>G1708301108_0332</td>\n",
       "      <td>122</td>\n",
       "      <td>(주)라이마스</td>\n",
       "      <td>1714</td>\n",
       "      <td>4</td>\n",
       "      <td>2017-09-13 13:01:31</td>\n",
       "    </tr>\n",
       "    <tr>\n",
       "      <th>1</th>\n",
       "      <td>G1709111052_0885</td>\n",
       "      <td>125</td>\n",
       "      <td>(주)라이마스</td>\n",
       "      <td>1476</td>\n",
       "      <td>5</td>\n",
       "      <td>2017-09-20 18:05:32</td>\n",
       "    </tr>\n",
       "    <tr>\n",
       "      <th>2</th>\n",
       "      <td>G1709201021_1385</td>\n",
       "      <td>138</td>\n",
       "      <td>하우스플러스(주)</td>\n",
       "      <td>1741</td>\n",
       "      <td>5</td>\n",
       "      <td>2017-09-21 18:35:04</td>\n",
       "    </tr>\n",
       "    <tr>\n",
       "      <th>3</th>\n",
       "      <td>G1709201039_1390</td>\n",
       "      <td>140</td>\n",
       "      <td>하우스플러스(주)</td>\n",
       "      <td>1741</td>\n",
       "      <td>5</td>\n",
       "      <td>2017-09-22 08:54:48</td>\n",
       "    </tr>\n",
       "    <tr>\n",
       "      <th>4</th>\n",
       "      <td>G1709201039_1390</td>\n",
       "      <td>141</td>\n",
       "      <td>하우스플러스(주)</td>\n",
       "      <td>1476</td>\n",
       "      <td>5</td>\n",
       "      <td>2017-09-22 08:59:25</td>\n",
       "    </tr>\n",
       "    <tr>\n",
       "      <th>...</th>\n",
       "      <td>...</td>\n",
       "      <td>...</td>\n",
       "      <td>...</td>\n",
       "      <td>...</td>\n",
       "      <td>...</td>\n",
       "      <td>...</td>\n",
       "    </tr>\n",
       "    <tr>\n",
       "      <th>1282</th>\n",
       "      <td>G1810221659_3562</td>\n",
       "      <td>3910</td>\n",
       "      <td>(주)에이치앤케이커머스</td>\n",
       "      <td>54266</td>\n",
       "      <td>5</td>\n",
       "      <td>2018-11-06 19:25:43</td>\n",
       "    </tr>\n",
       "    <tr>\n",
       "      <th>1283</th>\n",
       "      <td>G1810171004_1128</td>\n",
       "      <td>3911</td>\n",
       "      <td>오름</td>\n",
       "      <td>54277</td>\n",
       "      <td>5</td>\n",
       "      <td>2018-11-06 19:37:07</td>\n",
       "    </tr>\n",
       "    <tr>\n",
       "      <th>1284</th>\n",
       "      <td>G1802281006_6603</td>\n",
       "      <td>3917</td>\n",
       "      <td>바이올</td>\n",
       "      <td>1906</td>\n",
       "      <td>5</td>\n",
       "      <td>2018-11-07 07:18:49</td>\n",
       "    </tr>\n",
       "    <tr>\n",
       "      <th>1285</th>\n",
       "      <td>G1810041038_7094</td>\n",
       "      <td>3927</td>\n",
       "      <td>오름</td>\n",
       "      <td>2143</td>\n",
       "      <td>5</td>\n",
       "      <td>2018-11-07 10:32:31</td>\n",
       "    </tr>\n",
       "    <tr>\n",
       "      <th>1286</th>\n",
       "      <td>G1806260930_7444</td>\n",
       "      <td>3928</td>\n",
       "      <td>(주)에스엠퓨처스</td>\n",
       "      <td>55106</td>\n",
       "      <td>5</td>\n",
       "      <td>2018-11-07 10:49:33</td>\n",
       "    </tr>\n",
       "  </tbody>\n",
       "</table>\n",
       "<p>1287 rows × 6 columns</p>\n",
       "</div>"
      ],
      "text/plain": [
       "                  상품번호  상품평번호         입점업체명   회원번호  별점                 등록일\n",
       "0     G1708301108_0332    122       (주)라이마스   1714   4 2017-09-13 13:01:31\n",
       "1     G1709111052_0885    125       (주)라이마스   1476   5 2017-09-20 18:05:32\n",
       "2     G1709201021_1385    138     하우스플러스(주)   1741   5 2017-09-21 18:35:04\n",
       "3     G1709201039_1390    140     하우스플러스(주)   1741   5 2017-09-22 08:54:48\n",
       "4     G1709201039_1390    141     하우스플러스(주)   1476   5 2017-09-22 08:59:25\n",
       "...                ...    ...           ...    ...  ..                 ...\n",
       "1282  G1810221659_3562   3910  (주)에이치앤케이커머스  54266   5 2018-11-06 19:25:43\n",
       "1283  G1810171004_1128   3911            오름  54277   5 2018-11-06 19:37:07\n",
       "1284  G1802281006_6603   3917           바이올   1906   5 2018-11-07 07:18:49\n",
       "1285  G1810041038_7094   3927            오름   2143   5 2018-11-07 10:32:31\n",
       "1286  G1806260930_7444   3928     (주)에스엠퓨처스  55106   5 2018-11-07 10:49:33\n",
       "\n",
       "[1287 rows x 6 columns]"
      ]
     },
     "execution_count": 7,
     "metadata": {},
     "output_type": "execute_result"
    }
   ],
   "source": [
    "i_review"
   ]
  },
  {
   "cell_type": "markdown",
   "id": "22db8b81",
   "metadata": {},
   "source": [
    "상품번호 : 2-1 상품번호 참고"
   ]
  },
  {
   "cell_type": "markdown",
   "id": "3042b2fc",
   "metadata": {},
   "source": [
    "상품평번호 : 회원들이 상품평을 한 시간을 기준으로 저장한 항목"
   ]
  },
  {
   "cell_type": "markdown",
   "id": "5f102a22",
   "metadata": {},
   "source": [
    "입점업체명 : 2-2 입점업체명 참고"
   ]
  },
  {
   "cell_type": "markdown",
   "id": "410337ee",
   "metadata": {},
   "source": [
    "회원번호 : 1-1 회원번호 참고"
   ]
  },
  {
   "cell_type": "markdown",
   "id": "bde58838",
   "metadata": {},
   "source": [
    "별점 : 상품평을 별점으로 메긴 항목"
   ]
  },
  {
   "cell_type": "markdown",
   "id": "521c8cec",
   "metadata": {},
   "source": [
    "등록일 :  상품평 등록 시간"
   ]
  },
  {
   "cell_type": "markdown",
   "id": "1ca5fd20",
   "metadata": {},
   "source": [
    "#### 3-1 주문정보"
   ]
  },
  {
   "cell_type": "code",
   "execution_count": 8,
   "id": "e881f87a",
   "metadata": {},
   "outputs": [
    {
     "data": {
      "text/html": [
       "<div>\n",
       "<style scoped>\n",
       "    .dataframe tbody tr th:only-of-type {\n",
       "        vertical-align: middle;\n",
       "    }\n",
       "\n",
       "    .dataframe tbody tr th {\n",
       "        vertical-align: top;\n",
       "    }\n",
       "\n",
       "    .dataframe thead th {\n",
       "        text-align: right;\n",
       "    }\n",
       "</style>\n",
       "<table border=\"1\" class=\"dataframe\">\n",
       "  <thead>\n",
       "    <tr style=\"text-align: right;\">\n",
       "      <th></th>\n",
       "      <th>주문번호</th>\n",
       "      <th>순번</th>\n",
       "      <th>주문일시</th>\n",
       "      <th>진행구분</th>\n",
       "      <th>배송지</th>\n",
       "      <th>상품번호</th>\n",
       "      <th>상품명</th>\n",
       "      <th>옵션명</th>\n",
       "      <th>수량</th>\n",
       "      <th>판매가</th>\n",
       "      <th>배송비</th>\n",
       "      <th>쿠폰할인액</th>\n",
       "      <th>회원주문여부</th>\n",
       "      <th>회원번호</th>\n",
       "    </tr>\n",
       "  </thead>\n",
       "  <tbody>\n",
       "    <tr>\n",
       "      <th>0</th>\n",
       "      <td>1711080845542139</td>\n",
       "      <td>1</td>\n",
       "      <td>2017-11-08 08:46:26</td>\n",
       "      <td>환불완료</td>\n",
       "      <td>서울 영등포구 국제금융로2길 32</td>\n",
       "      <td>G1710311847_6746</td>\n",
       "      <td>(임직원 전용)[케라미카] 바뎀 2인홈세트 (11p)</td>\n",
       "      <td>NaN</td>\n",
       "      <td>1</td>\n",
       "      <td>48840.0</td>\n",
       "      <td>0.0</td>\n",
       "      <td>9760.0</td>\n",
       "      <td>Y</td>\n",
       "      <td>1876</td>\n",
       "    </tr>\n",
       "    <tr>\n",
       "      <th>1</th>\n",
       "      <td>1711080902432145</td>\n",
       "      <td>1</td>\n",
       "      <td>2017-11-08 09:04:28</td>\n",
       "      <td>결제취소</td>\n",
       "      <td>서울 영등포구 국제금융로2길 32</td>\n",
       "      <td>G1710311849_6973</td>\n",
       "      <td>(임직원 전용)[아름다운공간] 스윗도자기 원형디스펜서 (2color/400ml)</td>\n",
       "      <td>색상:핑크</td>\n",
       "      <td>1</td>\n",
       "      <td>7800.0</td>\n",
       "      <td>2500.0</td>\n",
       "      <td>1560.0</td>\n",
       "      <td>Y</td>\n",
       "      <td>1876</td>\n",
       "    </tr>\n",
       "    <tr>\n",
       "      <th>2</th>\n",
       "      <td>1711080932562165</td>\n",
       "      <td>1</td>\n",
       "      <td>2017-11-08 09:33:20</td>\n",
       "      <td>결제취소</td>\n",
       "      <td>서울 영등포구 국제금융로2길 32</td>\n",
       "      <td>G1710311843_6700</td>\n",
       "      <td>(임직원 전용)[런드레스] 울 캐시미어 스프레이 세다 cedar (4 fl.oz)</td>\n",
       "      <td>NaN</td>\n",
       "      <td>1</td>\n",
       "      <td>16200.0</td>\n",
       "      <td>0.0</td>\n",
       "      <td>3240.0</td>\n",
       "      <td>Y</td>\n",
       "      <td>1882</td>\n",
       "    </tr>\n",
       "    <tr>\n",
       "      <th>3</th>\n",
       "      <td>1711080934572167</td>\n",
       "      <td>1</td>\n",
       "      <td>2017-11-08 09:35:19</td>\n",
       "      <td>환불완료</td>\n",
       "      <td>서울 영등포구 국제금융로2길 32</td>\n",
       "      <td>G1710311906_7061</td>\n",
       "      <td>(임직원 전용)[트레비앙] 전동 와인 오프너_DM-503</td>\n",
       "      <td>NaN</td>\n",
       "      <td>1</td>\n",
       "      <td>35040.0</td>\n",
       "      <td>3000.0</td>\n",
       "      <td>7000.0</td>\n",
       "      <td>Y</td>\n",
       "      <td>1882</td>\n",
       "    </tr>\n",
       "    <tr>\n",
       "      <th>4</th>\n",
       "      <td>1711080944432170</td>\n",
       "      <td>1</td>\n",
       "      <td>2017-11-08 09:45:08</td>\n",
       "      <td>결제취소</td>\n",
       "      <td>서울 영등포구 국제금융로2길 32</td>\n",
       "      <td>G1710311843_6698</td>\n",
       "      <td>(임직원 전용)[런드레스] 패브릭 프레쉬 베이비 Baby (4 fl.oz.)</td>\n",
       "      <td>NaN</td>\n",
       "      <td>1</td>\n",
       "      <td>16200.0</td>\n",
       "      <td>0.0</td>\n",
       "      <td>3240.0</td>\n",
       "      <td>Y</td>\n",
       "      <td>1882</td>\n",
       "    </tr>\n",
       "    <tr>\n",
       "      <th>...</th>\n",
       "      <td>...</td>\n",
       "      <td>...</td>\n",
       "      <td>...</td>\n",
       "      <td>...</td>\n",
       "      <td>...</td>\n",
       "      <td>...</td>\n",
       "      <td>...</td>\n",
       "      <td>...</td>\n",
       "      <td>...</td>\n",
       "      <td>...</td>\n",
       "      <td>...</td>\n",
       "      <td>...</td>\n",
       "      <td>...</td>\n",
       "      <td>...</td>\n",
       "    </tr>\n",
       "    <tr>\n",
       "      <th>24761</th>\n",
       "      <td>1811062357169433</td>\n",
       "      <td>5</td>\n",
       "      <td>2018-11-06 23:59:03</td>\n",
       "      <td>결제완료</td>\n",
       "      <td>경남 진주시 내동면 순환로 425-61</td>\n",
       "      <td>G1805311432_8296</td>\n",
       "      <td>[월플랜] 셀프도배 전문가세트_(풀바른벽지 /롤벽지 택1)</td>\n",
       "      <td>종류:전문가세트(풀바른벽지편)</td>\n",
       "      <td>1</td>\n",
       "      <td>28000.0</td>\n",
       "      <td>0.0</td>\n",
       "      <td>0.0</td>\n",
       "      <td>Y</td>\n",
       "      <td>57778</td>\n",
       "    </tr>\n",
       "    <tr>\n",
       "      <th>24762</th>\n",
       "      <td>1811070212309446</td>\n",
       "      <td>2</td>\n",
       "      <td>2018-11-07 02:21:54</td>\n",
       "      <td>결제완료</td>\n",
       "      <td>충북 청주시 상당구 단재로 316</td>\n",
       "      <td>G1805311443_8348</td>\n",
       "      <td>[월플랜] 풀바른실크벽지 (뮬리 트윙클화이트)_H7011-1</td>\n",
       "      <td>종류:만능풀바른벽지,벽높이 선택:230cm</td>\n",
       "      <td>3</td>\n",
       "      <td>29700.0</td>\n",
       "      <td>0.0</td>\n",
       "      <td>4460.0</td>\n",
       "      <td>Y</td>\n",
       "      <td>54164</td>\n",
       "    </tr>\n",
       "    <tr>\n",
       "      <th>24763</th>\n",
       "      <td>1811070212309446</td>\n",
       "      <td>3</td>\n",
       "      <td>2018-11-07 02:21:54</td>\n",
       "      <td>결제완료</td>\n",
       "      <td>충북 청주시 상당구 단재로 316</td>\n",
       "      <td>G1805311729_8951</td>\n",
       "      <td>[월플랜] 정배솔</td>\n",
       "      <td>NaN</td>\n",
       "      <td>1</td>\n",
       "      <td>12000.0</td>\n",
       "      <td>0.0</td>\n",
       "      <td>1800.0</td>\n",
       "      <td>Y</td>\n",
       "      <td>54164</td>\n",
       "    </tr>\n",
       "    <tr>\n",
       "      <th>24764</th>\n",
       "      <td>1811070212309446</td>\n",
       "      <td>4</td>\n",
       "      <td>2018-11-07 02:21:54</td>\n",
       "      <td>결제완료</td>\n",
       "      <td>충북 청주시 상당구 단재로 316</td>\n",
       "      <td>G1806051452_0740</td>\n",
       "      <td>[월플랜] 풀바른합지벽지 (샤인패브릭 바이올렛)_LG54021-6</td>\n",
       "      <td>종류:만능풀바른벽지,벽높이 선택:230cm</td>\n",
       "      <td>9</td>\n",
       "      <td>53100.0</td>\n",
       "      <td>0.0</td>\n",
       "      <td>7970.0</td>\n",
       "      <td>Y</td>\n",
       "      <td>54164</td>\n",
       "    </tr>\n",
       "    <tr>\n",
       "      <th>24765</th>\n",
       "      <td>1811070853389462</td>\n",
       "      <td>2</td>\n",
       "      <td>2018-11-07 08:58:05</td>\n",
       "      <td>결제완료</td>\n",
       "      <td>전남 광양시 진등2길 13</td>\n",
       "      <td>G1805311646_8841</td>\n",
       "      <td>[월플랜] 풀바른실크벽지 (제인 그레이네이비)_SH70170-6</td>\n",
       "      <td>종류:만능풀바른벽지,벽높이 선택:230cm</td>\n",
       "      <td>4</td>\n",
       "      <td>39600.0</td>\n",
       "      <td>0.0</td>\n",
       "      <td>0.0</td>\n",
       "      <td>Y</td>\n",
       "      <td>57768</td>\n",
       "    </tr>\n",
       "  </tbody>\n",
       "</table>\n",
       "<p>24766 rows × 14 columns</p>\n",
       "</div>"
      ],
      "text/plain": [
       "                   주문번호  순번                 주문일시  진행구분                    배송지  \\\n",
       "0      1711080845542139   1  2017-11-08 08:46:26  환불완료     서울 영등포구 국제금융로2길 32   \n",
       "1      1711080902432145   1  2017-11-08 09:04:28  결제취소     서울 영등포구 국제금융로2길 32   \n",
       "2      1711080932562165   1  2017-11-08 09:33:20  결제취소     서울 영등포구 국제금융로2길 32   \n",
       "3      1711080934572167   1  2017-11-08 09:35:19  환불완료     서울 영등포구 국제금융로2길 32   \n",
       "4      1711080944432170   1  2017-11-08 09:45:08  결제취소     서울 영등포구 국제금융로2길 32   \n",
       "...                 ...  ..                  ...   ...                    ...   \n",
       "24761  1811062357169433   5  2018-11-06 23:59:03  결제완료  경남 진주시 내동면 순환로 425-61   \n",
       "24762  1811070212309446   2  2018-11-07 02:21:54  결제완료     충북 청주시 상당구 단재로 316   \n",
       "24763  1811070212309446   3  2018-11-07 02:21:54  결제완료     충북 청주시 상당구 단재로 316   \n",
       "24764  1811070212309446   4  2018-11-07 02:21:54  결제완료     충북 청주시 상당구 단재로 316   \n",
       "24765  1811070853389462   2  2018-11-07 08:58:05  결제완료         전남 광양시 진등2길 13   \n",
       "\n",
       "                   상품번호                                            상품명  \\\n",
       "0      G1710311847_6746                  (임직원 전용)[케라미카] 바뎀 2인홈세트 (11p)   \n",
       "1      G1710311849_6973   (임직원 전용)[아름다운공간] 스윗도자기 원형디스펜서 (2color/400ml)   \n",
       "2      G1710311843_6700  (임직원 전용)[런드레스] 울 캐시미어 스프레이 세다 cedar (4 fl.oz)   \n",
       "3      G1710311906_7061               (임직원 전용)[트레비앙] 전동 와인 오프너_DM-503    \n",
       "4      G1710311843_6698     (임직원 전용)[런드레스] 패브릭 프레쉬 베이비 Baby (4 fl.oz.)   \n",
       "...                 ...                                            ...   \n",
       "24761  G1805311432_8296               [월플랜] 셀프도배 전문가세트_(풀바른벽지 /롤벽지 택1)   \n",
       "24762  G1805311443_8348              [월플랜] 풀바른실크벽지 (뮬리 트윙클화이트)_H7011-1   \n",
       "24763  G1805311729_8951                                      [월플랜] 정배솔   \n",
       "24764  G1806051452_0740           [월플랜] 풀바른합지벽지 (샤인패브릭 바이올렛)_LG54021-6   \n",
       "24765  G1805311646_8841            [월플랜] 풀바른실크벽지 (제인 그레이네이비)_SH70170-6   \n",
       "\n",
       "                           옵션명  수량      판매가     배송비   쿠폰할인액 회원주문여부   회원번호  \n",
       "0                          NaN   1  48840.0     0.0  9760.0      Y   1876  \n",
       "1                        색상:핑크   1   7800.0  2500.0  1560.0      Y   1876  \n",
       "2                          NaN   1  16200.0     0.0  3240.0      Y   1882  \n",
       "3                          NaN   1  35040.0  3000.0  7000.0      Y   1882  \n",
       "4                          NaN   1  16200.0     0.0  3240.0      Y   1882  \n",
       "...                        ...  ..      ...     ...     ...    ...    ...  \n",
       "24761         종류:전문가세트(풀바른벽지편)   1  28000.0     0.0     0.0      Y  57778  \n",
       "24762  종류:만능풀바른벽지,벽높이 선택:230cm   3  29700.0     0.0  4460.0      Y  54164  \n",
       "24763                      NaN   1  12000.0     0.0  1800.0      Y  54164  \n",
       "24764  종류:만능풀바른벽지,벽높이 선택:230cm   9  53100.0     0.0  7970.0      Y  54164  \n",
       "24765  종류:만능풀바른벽지,벽높이 선택:230cm   4  39600.0     0.0     0.0      Y  57768  \n",
       "\n",
       "[24766 rows x 14 columns]"
      ]
     },
     "execution_count": 8,
     "metadata": {},
     "output_type": "execute_result"
    }
   ],
   "source": [
    "o_info"
   ]
  },
  {
   "cell_type": "markdown",
   "id": "6a215551",
   "metadata": {},
   "source": [
    "주문번호 : 회원들이 주문 정보를 담은 항목"
   ]
  },
  {
   "cell_type": "markdown",
   "id": "4fc49fd3",
   "metadata": {},
   "source": [
    "순번 : 주문 순번을 담은 항목"
   ]
  },
  {
   "cell_type": "markdown",
   "id": "fc6450bb",
   "metadata": {},
   "source": [
    "주문일시 : 회원들이 주문한 시간을 담은 항목"
   ]
  },
  {
   "cell_type": "markdown",
   "id": "9495c623",
   "metadata": {},
   "source": [
    "진행구분 : 환불처리여부, 결제여부 등 주문 수량과 연관되는 항목"
   ]
  },
  {
   "cell_type": "markdown",
   "id": "b96ddd58",
   "metadata": {},
   "source": [
    "배송지 : 회원들이 원하는 배송지 정보를 담은 항목"
   ]
  },
  {
   "cell_type": "markdown",
   "id": "045b09ed",
   "metadata": {},
   "source": [
    "상품번호 :  상품에 대한 정보를 담은 번호"
   ]
  },
  {
   "cell_type": "markdown",
   "id": "3ded4abc",
   "metadata": {},
   "source": [
    "상품명 : 상품의 이름을 담은 항목"
   ]
  },
  {
   "cell_type": "markdown",
   "id": "de8a090d",
   "metadata": {},
   "source": [
    "옵션명 : 회원들이 원하는 색상 사이즈 등의 정보를 담은 항목"
   ]
  },
  {
   "cell_type": "markdown",
   "id": "cfdd8e15",
   "metadata": {},
   "source": [
    "판매가 : 상품의 판매가"
   ]
  },
  {
   "cell_type": "markdown",
   "id": "56cff995",
   "metadata": {},
   "source": [
    "배송비 : 거리에 따른 배송비용"
   ]
  },
  {
   "cell_type": "markdown",
   "id": "0a82cc33",
   "metadata": {},
   "source": [
    "쿠폰할인액 : 적용가능한 쿠폰의 할인액"
   ]
  },
  {
   "cell_type": "markdown",
   "id": "2e89926e",
   "metadata": {},
   "source": [
    "회원주문여부 : 회원들의 주문 여부를 담은 항목"
   ]
  },
  {
   "cell_type": "markdown",
   "id": "5b244ab5",
   "metadata": {},
   "source": [
    "회원번호 : 1-1 고객정보 참고"
   ]
  },
  {
   "cell_type": "markdown",
   "id": "9ae68dcd",
   "metadata": {},
   "source": [
    "#### 4-1 결제정보"
   ]
  },
  {
   "cell_type": "code",
   "execution_count": 9,
   "id": "80e56164",
   "metadata": {},
   "outputs": [
    {
     "data": {
      "text/html": [
       "<div>\n",
       "<style scoped>\n",
       "    .dataframe tbody tr th:only-of-type {\n",
       "        vertical-align: middle;\n",
       "    }\n",
       "\n",
       "    .dataframe tbody tr th {\n",
       "        vertical-align: top;\n",
       "    }\n",
       "\n",
       "    .dataframe thead th {\n",
       "        text-align: right;\n",
       "    }\n",
       "</style>\n",
       "<table border=\"1\" class=\"dataframe\">\n",
       "  <thead>\n",
       "    <tr style=\"text-align: right;\">\n",
       "      <th></th>\n",
       "      <th>주문번호</th>\n",
       "      <th>결제번호</th>\n",
       "      <th>결제일시</th>\n",
       "      <th>진행구분명</th>\n",
       "      <th>결제수단</th>\n",
       "      <th>결제금액</th>\n",
       "      <th>카드사</th>\n",
       "      <th>할부개월</th>\n",
       "    </tr>\n",
       "  </thead>\n",
       "  <tbody>\n",
       "    <tr>\n",
       "      <th>0</th>\n",
       "      <td>1709061018150051</td>\n",
       "      <td>18</td>\n",
       "      <td>2017-09-06 10:19:59</td>\n",
       "      <td>완료</td>\n",
       "      <td>신용카드</td>\n",
       "      <td>10500.0</td>\n",
       "      <td>삼성카드</td>\n",
       "      <td>0.0</td>\n",
       "    </tr>\n",
       "    <tr>\n",
       "      <th>1</th>\n",
       "      <td>1709111530200146</td>\n",
       "      <td>46</td>\n",
       "      <td>2017-09-11 15:32:42</td>\n",
       "      <td>완료</td>\n",
       "      <td>신용카드</td>\n",
       "      <td>27500.0</td>\n",
       "      <td>삼성카드</td>\n",
       "      <td>0.0</td>\n",
       "    </tr>\n",
       "    <tr>\n",
       "      <th>2</th>\n",
       "      <td>1709241514300410</td>\n",
       "      <td>161</td>\n",
       "      <td>2017-09-24 15:24:39</td>\n",
       "      <td>완료</td>\n",
       "      <td>가상계좌</td>\n",
       "      <td>30500.0</td>\n",
       "      <td>NaN</td>\n",
       "      <td>NaN</td>\n",
       "    </tr>\n",
       "    <tr>\n",
       "      <th>3</th>\n",
       "      <td>1709261646470481</td>\n",
       "      <td>210</td>\n",
       "      <td>2017-09-26 17:05:03</td>\n",
       "      <td>완료</td>\n",
       "      <td>신용카드</td>\n",
       "      <td>0.0</td>\n",
       "      <td>삼성카드</td>\n",
       "      <td>0.0</td>\n",
       "    </tr>\n",
       "    <tr>\n",
       "      <th>4</th>\n",
       "      <td>1709262044350511</td>\n",
       "      <td>233</td>\n",
       "      <td>2017-09-26 20:55:24</td>\n",
       "      <td>완료</td>\n",
       "      <td>신용카드</td>\n",
       "      <td>7500.0</td>\n",
       "      <td>신한카드</td>\n",
       "      <td>0.0</td>\n",
       "    </tr>\n",
       "    <tr>\n",
       "      <th>...</th>\n",
       "      <td>...</td>\n",
       "      <td>...</td>\n",
       "      <td>...</td>\n",
       "      <td>...</td>\n",
       "      <td>...</td>\n",
       "      <td>...</td>\n",
       "      <td>...</td>\n",
       "      <td>...</td>\n",
       "    </tr>\n",
       "    <tr>\n",
       "      <th>25494</th>\n",
       "      <td>1811070919599475</td>\n",
       "      <td>31813</td>\n",
       "      <td>2018-11-07 09:21:33</td>\n",
       "      <td>완료</td>\n",
       "      <td>적립금</td>\n",
       "      <td>10.0</td>\n",
       "      <td>NaN</td>\n",
       "      <td>NaN</td>\n",
       "    </tr>\n",
       "    <tr>\n",
       "      <th>25495</th>\n",
       "      <td>1811070935129481</td>\n",
       "      <td>31817</td>\n",
       "      <td>2018-11-07 09:40:01</td>\n",
       "      <td>완료</td>\n",
       "      <td>적립금</td>\n",
       "      <td>4000.0</td>\n",
       "      <td>NaN</td>\n",
       "      <td>NaN</td>\n",
       "    </tr>\n",
       "    <tr>\n",
       "      <th>25496</th>\n",
       "      <td>1811070946109482</td>\n",
       "      <td>31819</td>\n",
       "      <td>2018-11-07 09:47:55</td>\n",
       "      <td>완료</td>\n",
       "      <td>적립금</td>\n",
       "      <td>110.0</td>\n",
       "      <td>NaN</td>\n",
       "      <td>NaN</td>\n",
       "    </tr>\n",
       "    <tr>\n",
       "      <th>25497</th>\n",
       "      <td>1811071000329493</td>\n",
       "      <td>31822</td>\n",
       "      <td>2018-11-07 10:02:05</td>\n",
       "      <td>완료</td>\n",
       "      <td>적립금</td>\n",
       "      <td>4000.0</td>\n",
       "      <td>NaN</td>\n",
       "      <td>NaN</td>\n",
       "    </tr>\n",
       "    <tr>\n",
       "      <th>25498</th>\n",
       "      <td>1811071019389507</td>\n",
       "      <td>31824</td>\n",
       "      <td>2018-11-07 10:22:15</td>\n",
       "      <td>완료</td>\n",
       "      <td>적립금</td>\n",
       "      <td>1240.0</td>\n",
       "      <td>NaN</td>\n",
       "      <td>NaN</td>\n",
       "    </tr>\n",
       "  </tbody>\n",
       "</table>\n",
       "<p>25499 rows × 8 columns</p>\n",
       "</div>"
      ],
      "text/plain": [
       "                   주문번호   결제번호                 결제일시 진행구분명  결제수단     결제금액  \\\n",
       "0      1709061018150051     18  2017-09-06 10:19:59    완료  신용카드  10500.0   \n",
       "1      1709111530200146     46  2017-09-11 15:32:42    완료  신용카드  27500.0   \n",
       "2      1709241514300410    161  2017-09-24 15:24:39    완료  가상계좌  30500.0   \n",
       "3      1709261646470481    210  2017-09-26 17:05:03    완료  신용카드      0.0   \n",
       "4      1709262044350511    233  2017-09-26 20:55:24    완료  신용카드   7500.0   \n",
       "...                 ...    ...                  ...   ...   ...      ...   \n",
       "25494  1811070919599475  31813  2018-11-07 09:21:33    완료   적립금     10.0   \n",
       "25495  1811070935129481  31817  2018-11-07 09:40:01    완료   적립금   4000.0   \n",
       "25496  1811070946109482  31819  2018-11-07 09:47:55    완료   적립금    110.0   \n",
       "25497  1811071000329493  31822  2018-11-07 10:02:05    완료   적립금   4000.0   \n",
       "25498  1811071019389507  31824  2018-11-07 10:22:15    완료   적립금   1240.0   \n",
       "\n",
       "        카드사  할부개월  \n",
       "0      삼성카드   0.0  \n",
       "1      삼성카드   0.0  \n",
       "2       NaN   NaN  \n",
       "3      삼성카드   0.0  \n",
       "4      신한카드   0.0  \n",
       "...     ...   ...  \n",
       "25494   NaN   NaN  \n",
       "25495   NaN   NaN  \n",
       "25496   NaN   NaN  \n",
       "25497   NaN   NaN  \n",
       "25498   NaN   NaN  \n",
       "\n",
       "[25499 rows x 8 columns]"
      ]
     },
     "execution_count": 9,
     "metadata": {},
     "output_type": "execute_result"
    }
   ],
   "source": [
    "p_info"
   ]
  },
  {
   "cell_type": "markdown",
   "id": "35bbc5f5",
   "metadata": {},
   "source": [
    "주문번호 : 3-1 주문정보 참고"
   ]
  },
  {
   "cell_type": "markdown",
   "id": "a27b1ce1",
   "metadata": {},
   "source": [
    "결제번호 : 결제시간을 기준으로 만든 순서를 담은 항목"
   ]
  },
  {
   "cell_type": "markdown",
   "id": "93f5f970",
   "metadata": {},
   "source": [
    "진행구분명 : 결제 진행 여부"
   ]
  },
  {
   "cell_type": "markdown",
   "id": "f9f0565f",
   "metadata": {},
   "source": [
    "결제수단 : 회원들의 결제수단을 담은 항목"
   ]
  },
  {
   "cell_type": "markdown",
   "id": "8a0a746b",
   "metadata": {},
   "source": [
    "결제금액 : 상품을 결제수단으로 결제한 금액을 담은 항목"
   ]
  },
  {
   "cell_type": "markdown",
   "id": "e5c0fd49",
   "metadata": {},
   "source": [
    "카드사 : 결제수단-신용카드일 경우, 이용한 카드사를 담은 항목"
   ]
  },
  {
   "cell_type": "markdown",
   "id": "85dd0c08",
   "metadata": {},
   "source": [
    "할부개월 : 카드결제 시의 할부개월을 담은 항목"
   ]
  },
  {
   "cell_type": "markdown",
   "id": "ec683349",
   "metadata": {},
   "source": [
    "#### 5-1 환불정보"
   ]
  },
  {
   "cell_type": "code",
   "execution_count": 10,
   "id": "9f847108",
   "metadata": {},
   "outputs": [
    {
     "data": {
      "text/html": [
       "<div>\n",
       "<style scoped>\n",
       "    .dataframe tbody tr th:only-of-type {\n",
       "        vertical-align: middle;\n",
       "    }\n",
       "\n",
       "    .dataframe tbody tr th {\n",
       "        vertical-align: top;\n",
       "    }\n",
       "\n",
       "    .dataframe thead th {\n",
       "        text-align: right;\n",
       "    }\n",
       "</style>\n",
       "<table border=\"1\" class=\"dataframe\">\n",
       "  <thead>\n",
       "    <tr style=\"text-align: right;\">\n",
       "      <th></th>\n",
       "      <th>주문번호</th>\n",
       "      <th>환불번호</th>\n",
       "      <th>진행구분</th>\n",
       "      <th>결제수단</th>\n",
       "      <th>환불금액</th>\n",
       "      <th>할부개월</th>\n",
       "      <th>환불일자</th>\n",
       "    </tr>\n",
       "  </thead>\n",
       "  <tbody>\n",
       "    <tr>\n",
       "      <th>0</th>\n",
       "      <td>1709061012340050</td>\n",
       "      <td>17</td>\n",
       "      <td>취소</td>\n",
       "      <td>신용카드</td>\n",
       "      <td>37000.0</td>\n",
       "      <td>0.0</td>\n",
       "      <td>2017-09-06 10:14:22</td>\n",
       "    </tr>\n",
       "    <tr>\n",
       "      <th>1</th>\n",
       "      <td>1709111558160149</td>\n",
       "      <td>48</td>\n",
       "      <td>취소</td>\n",
       "      <td>가상계좌</td>\n",
       "      <td>6850.0</td>\n",
       "      <td>NaN</td>\n",
       "      <td>2017-09-12 16:42:22</td>\n",
       "    </tr>\n",
       "    <tr>\n",
       "      <th>2</th>\n",
       "      <td>1709121552530178</td>\n",
       "      <td>71</td>\n",
       "      <td>취소</td>\n",
       "      <td>가상계좌</td>\n",
       "      <td>249500.0</td>\n",
       "      <td>NaN</td>\n",
       "      <td>2017-09-12 15:56:20</td>\n",
       "    </tr>\n",
       "    <tr>\n",
       "      <th>3</th>\n",
       "      <td>1709211749040335</td>\n",
       "      <td>121</td>\n",
       "      <td>취소</td>\n",
       "      <td>가상계좌</td>\n",
       "      <td>409200.0</td>\n",
       "      <td>NaN</td>\n",
       "      <td>2017-09-21 17:51:50</td>\n",
       "    </tr>\n",
       "    <tr>\n",
       "      <th>4</th>\n",
       "      <td>1709221305150350</td>\n",
       "      <td>128</td>\n",
       "      <td>취소</td>\n",
       "      <td>신용카드</td>\n",
       "      <td>12060.0</td>\n",
       "      <td>0.0</td>\n",
       "      <td>2017-09-22 13:12:27</td>\n",
       "    </tr>\n",
       "    <tr>\n",
       "      <th>...</th>\n",
       "      <td>...</td>\n",
       "      <td>...</td>\n",
       "      <td>...</td>\n",
       "      <td>...</td>\n",
       "      <td>...</td>\n",
       "      <td>...</td>\n",
       "      <td>...</td>\n",
       "    </tr>\n",
       "    <tr>\n",
       "      <th>3785</th>\n",
       "      <td>1811061326479156</td>\n",
       "      <td>31675</td>\n",
       "      <td>취소</td>\n",
       "      <td>적립금</td>\n",
       "      <td>4000.0</td>\n",
       "      <td>NaN</td>\n",
       "      <td>2018-11-06 13:35:36</td>\n",
       "    </tr>\n",
       "    <tr>\n",
       "      <th>3786</th>\n",
       "      <td>1811061404459176</td>\n",
       "      <td>31690</td>\n",
       "      <td>취소</td>\n",
       "      <td>적립금</td>\n",
       "      <td>4000.0</td>\n",
       "      <td>NaN</td>\n",
       "      <td>2018-11-06 14:42:59</td>\n",
       "    </tr>\n",
       "    <tr>\n",
       "      <th>3787</th>\n",
       "      <td>1811061417069182</td>\n",
       "      <td>31693</td>\n",
       "      <td>취소</td>\n",
       "      <td>적립금</td>\n",
       "      <td>4000.0</td>\n",
       "      <td>NaN</td>\n",
       "      <td>2018-11-06 19:27:50</td>\n",
       "    </tr>\n",
       "    <tr>\n",
       "      <th>3788</th>\n",
       "      <td>1811061527359259</td>\n",
       "      <td>31741</td>\n",
       "      <td>취소</td>\n",
       "      <td>적립금</td>\n",
       "      <td>4000.0</td>\n",
       "      <td>NaN</td>\n",
       "      <td>2018-11-06 16:23:20</td>\n",
       "    </tr>\n",
       "    <tr>\n",
       "      <th>3789</th>\n",
       "      <td>1811061623189309</td>\n",
       "      <td>31746</td>\n",
       "      <td>취소</td>\n",
       "      <td>적립금</td>\n",
       "      <td>1000.0</td>\n",
       "      <td>NaN</td>\n",
       "      <td>2018-11-06 17:11:17</td>\n",
       "    </tr>\n",
       "  </tbody>\n",
       "</table>\n",
       "<p>3790 rows × 7 columns</p>\n",
       "</div>"
      ],
      "text/plain": [
       "                  주문번호   환불번호 진행구분  결제수단      환불금액  할부개월                환불일자\n",
       "0     1709061012340050     17   취소  신용카드   37000.0   0.0 2017-09-06 10:14:22\n",
       "1     1709111558160149     48   취소  가상계좌    6850.0   NaN 2017-09-12 16:42:22\n",
       "2     1709121552530178     71   취소  가상계좌  249500.0   NaN 2017-09-12 15:56:20\n",
       "3     1709211749040335    121   취소  가상계좌  409200.0   NaN 2017-09-21 17:51:50\n",
       "4     1709221305150350    128   취소  신용카드   12060.0   0.0 2017-09-22 13:12:27\n",
       "...                ...    ...  ...   ...       ...   ...                 ...\n",
       "3785  1811061326479156  31675   취소   적립금    4000.0   NaN 2018-11-06 13:35:36\n",
       "3786  1811061404459176  31690   취소   적립금    4000.0   NaN 2018-11-06 14:42:59\n",
       "3787  1811061417069182  31693   취소   적립금    4000.0   NaN 2018-11-06 19:27:50\n",
       "3788  1811061527359259  31741   취소   적립금    4000.0   NaN 2018-11-06 16:23:20\n",
       "3789  1811061623189309  31746   취소   적립금    1000.0   NaN 2018-11-06 17:11:17\n",
       "\n",
       "[3790 rows x 7 columns]"
      ]
     },
     "execution_count": 10,
     "metadata": {},
     "output_type": "execute_result"
    }
   ],
   "source": [
    "r_info"
   ]
  },
  {
   "cell_type": "markdown",
   "id": "601eb293",
   "metadata": {},
   "source": [
    "주문번호 : 3-1주문정보 참고"
   ]
  },
  {
   "cell_type": "markdown",
   "id": "a3233144",
   "metadata": {},
   "source": [
    "환불번호 : 환불완료 시간을 기준으로 생성한 번호"
   ]
  },
  {
   "cell_type": "markdown",
   "id": "a1bc5080",
   "metadata": {},
   "source": [
    "진행구분 : 환불 진행상황을 담은 항목"
   ]
  },
  {
   "cell_type": "markdown",
   "id": "4eb457a7",
   "metadata": {},
   "source": [
    "환불금액 : 환불완료 시, 회원들이 받을 수 있는 환불금액을 담은 항목"
   ]
  },
  {
   "cell_type": "markdown",
   "id": "fc8947a1",
   "metadata": {},
   "source": [
    "할부개월 : 4-1 할부개월 참고"
   ]
  },
  {
   "cell_type": "markdown",
   "id": "b28dc172",
   "metadata": {},
   "source": [
    "환불일자 : 환불완료된 시간을 담은 항목"
   ]
  },
  {
   "cell_type": "markdown",
   "id": "bac3db34",
   "metadata": {},
   "source": [
    "#### 6.1 옵션정보"
   ]
  },
  {
   "cell_type": "code",
   "execution_count": 11,
   "id": "e9d1145d",
   "metadata": {},
   "outputs": [
    {
     "data": {
      "text/html": [
       "<div>\n",
       "<style scoped>\n",
       "    .dataframe tbody tr th:only-of-type {\n",
       "        vertical-align: middle;\n",
       "    }\n",
       "\n",
       "    .dataframe tbody tr th {\n",
       "        vertical-align: top;\n",
       "    }\n",
       "\n",
       "    .dataframe thead th {\n",
       "        text-align: right;\n",
       "    }\n",
       "</style>\n",
       "<table border=\"1\" class=\"dataframe\">\n",
       "  <thead>\n",
       "    <tr style=\"text-align: right;\">\n",
       "      <th></th>\n",
       "      <th>상품번호</th>\n",
       "      <th>옵션번호</th>\n",
       "      <th>옵션명</th>\n",
       "      <th>판매가</th>\n",
       "      <th>과세구분</th>\n",
       "      <th>등록일</th>\n",
       "    </tr>\n",
       "  </thead>\n",
       "  <tbody>\n",
       "    <tr>\n",
       "      <th>0</th>\n",
       "      <td>G1708291036_0216</td>\n",
       "      <td>I1708291046_0181</td>\n",
       "      <td>[라이마스] 에어_630630</td>\n",
       "      <td>220000.0</td>\n",
       "      <td>과세</td>\n",
       "      <td>2017-08-29 10:46:31</td>\n",
       "    </tr>\n",
       "    <tr>\n",
       "      <th>1</th>\n",
       "      <td>G1708291049_0217</td>\n",
       "      <td>I1708291054_0182</td>\n",
       "      <td>[라이마스] 에어_730350</td>\n",
       "      <td>275000.0</td>\n",
       "      <td>과세</td>\n",
       "      <td>2017-08-29 10:54:01</td>\n",
       "    </tr>\n",
       "    <tr>\n",
       "      <th>2</th>\n",
       "      <td>G1708291054_0220</td>\n",
       "      <td>I1708291054_0183</td>\n",
       "      <td>[라이마스] 에어_1200190</td>\n",
       "      <td>270000.0</td>\n",
       "      <td>과세</td>\n",
       "      <td>2017-08-29 10:54:24</td>\n",
       "    </tr>\n",
       "    <tr>\n",
       "      <th>3</th>\n",
       "      <td>G1708291058_0221</td>\n",
       "      <td>I1708291058_0184</td>\n",
       "      <td>[라이마스] 에어_730190</td>\n",
       "      <td>165000.0</td>\n",
       "      <td>과세</td>\n",
       "      <td>2017-08-29 10:58:47</td>\n",
       "    </tr>\n",
       "    <tr>\n",
       "      <th>4</th>\n",
       "      <td>G1708291109_0222</td>\n",
       "      <td>I1708291114_0185</td>\n",
       "      <td>[라이마스] 에어_730750</td>\n",
       "      <td>565000.0</td>\n",
       "      <td>과세</td>\n",
       "      <td>2017-08-29 11:14:50</td>\n",
       "    </tr>\n",
       "    <tr>\n",
       "      <th>...</th>\n",
       "      <td>...</td>\n",
       "      <td>...</td>\n",
       "      <td>...</td>\n",
       "      <td>...</td>\n",
       "      <td>...</td>\n",
       "      <td>...</td>\n",
       "    </tr>\n",
       "    <tr>\n",
       "      <th>72042</th>\n",
       "      <td>G1804232017_4172</td>\n",
       "      <td>I1811070953_9427</td>\n",
       "      <td>[렌탈] 코웨이 스스로살균 가습공기청정기 APMS-1014D / 등록비 설치비면제 ...</td>\n",
       "      <td>32400.0</td>\n",
       "      <td>과세</td>\n",
       "      <td>2018-11-07 09:53:20</td>\n",
       "    </tr>\n",
       "    <tr>\n",
       "      <th>72043</th>\n",
       "      <td>G1804232017_4167</td>\n",
       "      <td>I1811070953_9428</td>\n",
       "      <td>[렌탈] 코웨이 스스로살균 가습공기청정기 APMS-0815C / 등록비 설치비면제 ...</td>\n",
       "      <td>30900.0</td>\n",
       "      <td>과세</td>\n",
       "      <td>2018-11-07 09:53:57</td>\n",
       "    </tr>\n",
       "    <tr>\n",
       "      <th>72044</th>\n",
       "      <td>G1804232017_4165</td>\n",
       "      <td>I1811070954_9429</td>\n",
       "      <td>[렌탈] 코웨이 공기청정기 AP-1013F / 등록비 설치비면제 / 36개월 의무사...</td>\n",
       "      <td>22900.0</td>\n",
       "      <td>과세</td>\n",
       "      <td>2018-11-07 09:54:37</td>\n",
       "    </tr>\n",
       "    <tr>\n",
       "      <th>72045</th>\n",
       "      <td>G1804231906_3394</td>\n",
       "      <td>I1811070956_9430</td>\n",
       "      <td>[렌탈] LG전자 퓨리케어 360º 공기청정기 AS181DRWT (18평형) / 등...</td>\n",
       "      <td>29900.0</td>\n",
       "      <td>과세</td>\n",
       "      <td>2018-11-07 09:56:56</td>\n",
       "    </tr>\n",
       "    <tr>\n",
       "      <th>72046</th>\n",
       "      <td>G1804231906_3393</td>\n",
       "      <td>I1811070957_9431</td>\n",
       "      <td>[렌탈] LG전자 퓨리케어 360º 공기청정기 AS161DRWT (16평형) / 등...</td>\n",
       "      <td>24900.0</td>\n",
       "      <td>과세</td>\n",
       "      <td>2018-11-07 09:57:36</td>\n",
       "    </tr>\n",
       "  </tbody>\n",
       "</table>\n",
       "<p>72047 rows × 6 columns</p>\n",
       "</div>"
      ],
      "text/plain": [
       "                   상품번호              옵션번호  \\\n",
       "0      G1708291036_0216  I1708291046_0181   \n",
       "1      G1708291049_0217  I1708291054_0182   \n",
       "2      G1708291054_0220  I1708291054_0183   \n",
       "3      G1708291058_0221  I1708291058_0184   \n",
       "4      G1708291109_0222  I1708291114_0185   \n",
       "...                 ...               ...   \n",
       "72042  G1804232017_4172  I1811070953_9427   \n",
       "72043  G1804232017_4167  I1811070953_9428   \n",
       "72044  G1804232017_4165  I1811070954_9429   \n",
       "72045  G1804231906_3394  I1811070956_9430   \n",
       "72046  G1804231906_3393  I1811070957_9431   \n",
       "\n",
       "                                                     옵션명       판매가 과세구분  \\\n",
       "0                                       [라이마스] 에어_630630  220000.0   과세   \n",
       "1                                       [라이마스] 에어_730350  275000.0   과세   \n",
       "2                                      [라이마스] 에어_1200190  270000.0   과세   \n",
       "3                                       [라이마스] 에어_730190  165000.0   과세   \n",
       "4                                       [라이마스] 에어_730750  565000.0   과세   \n",
       "...                                                  ...       ...  ...   \n",
       "72042  [렌탈] 코웨이 스스로살균 가습공기청정기 APMS-1014D / 등록비 설치비면제 ...   32400.0   과세   \n",
       "72043  [렌탈] 코웨이 스스로살균 가습공기청정기 APMS-0815C / 등록비 설치비면제 ...   30900.0   과세   \n",
       "72044  [렌탈] 코웨이 공기청정기 AP-1013F / 등록비 설치비면제 / 36개월 의무사...   22900.0   과세   \n",
       "72045  [렌탈] LG전자 퓨리케어 360º 공기청정기 AS181DRWT (18평형) / 등...   29900.0   과세   \n",
       "72046  [렌탈] LG전자 퓨리케어 360º 공기청정기 AS161DRWT (16평형) / 등...   24900.0   과세   \n",
       "\n",
       "                      등록일  \n",
       "0     2017-08-29 10:46:31  \n",
       "1     2017-08-29 10:54:01  \n",
       "2     2017-08-29 10:54:24  \n",
       "3     2017-08-29 10:58:47  \n",
       "4     2017-08-29 11:14:50  \n",
       "...                   ...  \n",
       "72042 2018-11-07 09:53:20  \n",
       "72043 2018-11-07 09:53:57  \n",
       "72044 2018-11-07 09:54:37  \n",
       "72045 2018-11-07 09:56:56  \n",
       "72046 2018-11-07 09:57:36  \n",
       "\n",
       "[72047 rows x 6 columns]"
      ]
     },
     "execution_count": 11,
     "metadata": {},
     "output_type": "execute_result"
    }
   ],
   "source": [
    "op_info"
   ]
  },
  {
   "cell_type": "markdown",
   "id": "6c7140f4",
   "metadata": {},
   "source": [
    "상품번호 : 2-1 상품정보 참고"
   ]
  },
  {
   "cell_type": "markdown",
   "id": "7e390270",
   "metadata": {},
   "source": [
    "옵션번호 : 상품의 사이즈, 색상, 종류 등의 정보를 번호로 만든 항목"
   ]
  },
  {
   "cell_type": "markdown",
   "id": "dca73597",
   "metadata": {},
   "source": [
    "옵션명 :  상품의 사이즈, 색상, 종류 등의 정보를 담음 항목"
   ]
  },
  {
   "cell_type": "markdown",
   "id": "6f34cb2d",
   "metadata": {},
   "source": [
    "판매가 : 3-1 주문정보 참고"
   ]
  },
  {
   "cell_type": "markdown",
   "id": "3ce682ad",
   "metadata": {},
   "source": [
    "과세구분 : 과세여부를 구분해놓은 항목"
   ]
  },
  {
   "cell_type": "markdown",
   "id": "9321ef82",
   "metadata": {},
   "source": [
    "등록일 : 업체가 상품을 등록해놓은 시간을 담은 항목"
   ]
  },
  {
   "cell_type": "markdown",
   "id": "521d0bf2",
   "metadata": {},
   "source": [
    "## 탐색적 데이터 분석 및 데이터 전처리"
   ]
  },
  {
   "cell_type": "markdown",
   "id": "78f6a99d",
   "metadata": {},
   "source": [
    "주문량을 기준으로 데이터 분석"
   ]
  },
  {
   "cell_type": "code",
   "execution_count": 12,
   "id": "7b2018cc",
   "metadata": {},
   "outputs": [
    {
     "name": "stdout",
     "output_type": "stream",
     "text": [
      "['환불완료' '결제취소' '주문취소' '구매확정' '교환완료' '배송준비중' '환불신청' '배송완료' '배송중' '결제완료'\n",
      " '교환신청' '주문완료']\n"
     ]
    }
   ],
   "source": [
    "df_주문정보 = o_info.copy()#3-1 데이터 사본 생성\n",
    "print(df_주문정보['진행구분'].unique()) #진행 구분 내 실질적으로 주문한 내용을 전처리하기 위함"
   ]
  },
  {
   "cell_type": "markdown",
   "id": "d42a1054",
   "metadata": {},
   "source": [
    "### 주문정보 내 주문량 관련 컬럼 외 제거"
   ]
  },
  {
   "cell_type": "code",
   "execution_count": 13,
   "id": "fbae976c",
   "metadata": {},
   "outputs": [
    {
     "data": {
      "text/html": [
       "<div>\n",
       "<style scoped>\n",
       "    .dataframe tbody tr th:only-of-type {\n",
       "        vertical-align: middle;\n",
       "    }\n",
       "\n",
       "    .dataframe tbody tr th {\n",
       "        vertical-align: top;\n",
       "    }\n",
       "\n",
       "    .dataframe thead th {\n",
       "        text-align: right;\n",
       "    }\n",
       "</style>\n",
       "<table border=\"1\" class=\"dataframe\">\n",
       "  <thead>\n",
       "    <tr style=\"text-align: right;\">\n",
       "      <th></th>\n",
       "      <th>진행구분</th>\n",
       "      <th>수량</th>\n",
       "    </tr>\n",
       "    <tr>\n",
       "      <th>주문일시</th>\n",
       "      <th></th>\n",
       "      <th></th>\n",
       "    </tr>\n",
       "  </thead>\n",
       "  <tbody>\n",
       "    <tr>\n",
       "      <th>2017-11-08 08:46:26</th>\n",
       "      <td>환불완료</td>\n",
       "      <td>1</td>\n",
       "    </tr>\n",
       "    <tr>\n",
       "      <th>2017-11-08 09:04:28</th>\n",
       "      <td>결제취소</td>\n",
       "      <td>1</td>\n",
       "    </tr>\n",
       "    <tr>\n",
       "      <th>2017-11-08 09:33:20</th>\n",
       "      <td>결제취소</td>\n",
       "      <td>1</td>\n",
       "    </tr>\n",
       "    <tr>\n",
       "      <th>2017-11-08 09:35:19</th>\n",
       "      <td>환불완료</td>\n",
       "      <td>1</td>\n",
       "    </tr>\n",
       "    <tr>\n",
       "      <th>2017-11-08 09:45:08</th>\n",
       "      <td>결제취소</td>\n",
       "      <td>1</td>\n",
       "    </tr>\n",
       "    <tr>\n",
       "      <th>...</th>\n",
       "      <td>...</td>\n",
       "      <td>...</td>\n",
       "    </tr>\n",
       "    <tr>\n",
       "      <th>2018-11-06 23:59:03</th>\n",
       "      <td>결제완료</td>\n",
       "      <td>1</td>\n",
       "    </tr>\n",
       "    <tr>\n",
       "      <th>2018-11-07 02:21:54</th>\n",
       "      <td>결제완료</td>\n",
       "      <td>3</td>\n",
       "    </tr>\n",
       "    <tr>\n",
       "      <th>2018-11-07 02:21:54</th>\n",
       "      <td>결제완료</td>\n",
       "      <td>1</td>\n",
       "    </tr>\n",
       "    <tr>\n",
       "      <th>2018-11-07 02:21:54</th>\n",
       "      <td>결제완료</td>\n",
       "      <td>9</td>\n",
       "    </tr>\n",
       "    <tr>\n",
       "      <th>2018-11-07 08:58:05</th>\n",
       "      <td>결제완료</td>\n",
       "      <td>4</td>\n",
       "    </tr>\n",
       "  </tbody>\n",
       "</table>\n",
       "<p>24766 rows × 2 columns</p>\n",
       "</div>"
      ],
      "text/plain": [
       "                     진행구분  수량\n",
       "주문일시                         \n",
       "2017-11-08 08:46:26  환불완료   1\n",
       "2017-11-08 09:04:28  결제취소   1\n",
       "2017-11-08 09:33:20  결제취소   1\n",
       "2017-11-08 09:35:19  환불완료   1\n",
       "2017-11-08 09:45:08  결제취소   1\n",
       "...                   ...  ..\n",
       "2018-11-06 23:59:03  결제완료   1\n",
       "2018-11-07 02:21:54  결제완료   3\n",
       "2018-11-07 02:21:54  결제완료   1\n",
       "2018-11-07 02:21:54  결제완료   9\n",
       "2018-11-07 08:58:05  결제완료   4\n",
       "\n",
       "[24766 rows x 2 columns]"
      ]
     },
     "execution_count": 13,
     "metadata": {},
     "output_type": "execute_result"
    }
   ],
   "source": [
    "df_주문정보.drop(columns = ['순번','주문번호', '배송지', '상품번호', '상품명', '옵션명', '판매가', '배송비','쿠폰할인액','회원주문여부','회원번호'],inplace = True)\n",
    "df_주문정보.set_index('주문일시')"
   ]
  },
  {
   "cell_type": "markdown",
   "id": "9aaf4601",
   "metadata": {},
   "source": [
    "### 진행구분 컬럼 내 실 주문량과 상관없는 값 제거"
   ]
  },
  {
   "cell_type": "code",
   "execution_count": 14,
   "id": "592c0383",
   "metadata": {},
   "outputs": [
    {
     "data": {
      "text/html": [
       "<div>\n",
       "<style scoped>\n",
       "    .dataframe tbody tr th:only-of-type {\n",
       "        vertical-align: middle;\n",
       "    }\n",
       "\n",
       "    .dataframe tbody tr th {\n",
       "        vertical-align: top;\n",
       "    }\n",
       "\n",
       "    .dataframe thead th {\n",
       "        text-align: right;\n",
       "    }\n",
       "</style>\n",
       "<table border=\"1\" class=\"dataframe\">\n",
       "  <thead>\n",
       "    <tr style=\"text-align: right;\">\n",
       "      <th></th>\n",
       "      <th>진행구분</th>\n",
       "      <th>수량</th>\n",
       "    </tr>\n",
       "    <tr>\n",
       "      <th>주문일시</th>\n",
       "      <th></th>\n",
       "      <th></th>\n",
       "    </tr>\n",
       "  </thead>\n",
       "  <tbody>\n",
       "    <tr>\n",
       "      <th>2017-11-09 11:23:07</th>\n",
       "      <td>구매확정</td>\n",
       "      <td>5</td>\n",
       "    </tr>\n",
       "    <tr>\n",
       "      <th>2017-11-09 11:49:04</th>\n",
       "      <td>구매확정</td>\n",
       "      <td>1</td>\n",
       "    </tr>\n",
       "    <tr>\n",
       "      <th>2017-11-09 13:33:28</th>\n",
       "      <td>구매확정</td>\n",
       "      <td>1</td>\n",
       "    </tr>\n",
       "    <tr>\n",
       "      <th>2017-11-10 19:11:26</th>\n",
       "      <td>구매확정</td>\n",
       "      <td>1</td>\n",
       "    </tr>\n",
       "    <tr>\n",
       "      <th>2017-11-11 08:33:10</th>\n",
       "      <td>구매확정</td>\n",
       "      <td>1</td>\n",
       "    </tr>\n",
       "    <tr>\n",
       "      <th>...</th>\n",
       "      <td>...</td>\n",
       "      <td>...</td>\n",
       "    </tr>\n",
       "    <tr>\n",
       "      <th>2018-11-06 23:59:03</th>\n",
       "      <td>결제완료</td>\n",
       "      <td>1</td>\n",
       "    </tr>\n",
       "    <tr>\n",
       "      <th>2018-11-07 02:21:54</th>\n",
       "      <td>결제완료</td>\n",
       "      <td>3</td>\n",
       "    </tr>\n",
       "    <tr>\n",
       "      <th>2018-11-07 02:21:54</th>\n",
       "      <td>결제완료</td>\n",
       "      <td>1</td>\n",
       "    </tr>\n",
       "    <tr>\n",
       "      <th>2018-11-07 02:21:54</th>\n",
       "      <td>결제완료</td>\n",
       "      <td>9</td>\n",
       "    </tr>\n",
       "    <tr>\n",
       "      <th>2018-11-07 08:58:05</th>\n",
       "      <td>결제완료</td>\n",
       "      <td>4</td>\n",
       "    </tr>\n",
       "  </tbody>\n",
       "</table>\n",
       "<p>20712 rows × 2 columns</p>\n",
       "</div>"
      ],
      "text/plain": [
       "                     진행구분  수량\n",
       "주문일시                         \n",
       "2017-11-09 11:23:07  구매확정   5\n",
       "2017-11-09 11:49:04  구매확정   1\n",
       "2017-11-09 13:33:28  구매확정   1\n",
       "2017-11-10 19:11:26  구매확정   1\n",
       "2017-11-11 08:33:10  구매확정   1\n",
       "...                   ...  ..\n",
       "2018-11-06 23:59:03  결제완료   1\n",
       "2018-11-07 02:21:54  결제완료   3\n",
       "2018-11-07 02:21:54  결제완료   1\n",
       "2018-11-07 02:21:54  결제완료   9\n",
       "2018-11-07 08:58:05  결제완료   4\n",
       "\n",
       "[20712 rows x 2 columns]"
      ]
     },
     "execution_count": 14,
     "metadata": {},
     "output_type": "execute_result"
    }
   ],
   "source": [
    "df_주문정보.drop(df_주문정보.loc[df_주문정보.진행구분 == '환불완료'].index,inplace = True)\n",
    "df_주문정보.drop(df_주문정보.loc[df_주문정보.진행구분 == '결제취소'].index,inplace = True)\n",
    "df_주문정보.drop(df_주문정보.loc[df_주문정보.진행구분 == '환불신청'].index,inplace = True)\n",
    "df_주문정보.drop(df_주문정보.loc[df_주문정보.진행구분 == '주문취소'].index,inplace = True)\n",
    "df_주문정보.set_index('주문일시')"
   ]
  },
  {
   "cell_type": "markdown",
   "id": "dba0213d",
   "metadata": {},
   "source": [
    "### 결측치 확인"
   ]
  },
  {
   "cell_type": "code",
   "execution_count": 15,
   "id": "1b16a360",
   "metadata": {},
   "outputs": [
    {
     "data": {
      "text/plain": [
       "주문일시    0\n",
       "진행구분    0\n",
       "수량      0\n",
       "dtype: int64"
      ]
     },
     "execution_count": 15,
     "metadata": {},
     "output_type": "execute_result"
    }
   ],
   "source": [
    "df_주문정보.isnull().sum()"
   ]
  },
  {
   "cell_type": "markdown",
   "id": "c1fb1e34",
   "metadata": {},
   "source": [
    "추출한 데이터 내 결측치는 없음"
   ]
  },
  {
   "cell_type": "markdown",
   "id": "8f478268",
   "metadata": {},
   "source": [
    "### 주문일시 날짜화"
   ]
  },
  {
   "cell_type": "code",
   "execution_count": 16,
   "id": "7880ed57",
   "metadata": {},
   "outputs": [],
   "source": [
    "#데이터를 시각적 및 분석적으로 용이하게 위해 날짜변환"
   ]
  },
  {
   "cell_type": "code",
   "execution_count": 17,
   "id": "7f755af1",
   "metadata": {},
   "outputs": [
    {
     "data": {
      "text/plain": [
       "12       2017-11-09\n",
       "13       2017-11-09\n",
       "14       2017-11-09\n",
       "16       2017-11-10\n",
       "17       2017-11-11\n",
       "            ...    \n",
       "24761    2018-11-06\n",
       "24762    2018-11-07\n",
       "24763    2018-11-07\n",
       "24764    2018-11-07\n",
       "24765    2018-11-07\n",
       "Name: 주문일시, Length: 20712, dtype: object"
      ]
     },
     "execution_count": 17,
     "metadata": {},
     "output_type": "execute_result"
    }
   ],
   "source": [
    "df_주문정보['주문일시'] = pd.to_datetime(df_주문정보['주문일시'])\n",
    "df_주문정보['주문일시'] = df_주문정보['주문일시'].dt.date\n",
    "df_주문정보['주문일시']"
   ]
  },
  {
   "cell_type": "markdown",
   "id": "3ced1481",
   "metadata": {},
   "source": [
    "### 데이터 시각화를 통한 분석 및 분석 결과"
   ]
  },
  {
   "cell_type": "code",
   "execution_count": 18,
   "id": "c7aa288f",
   "metadata": {},
   "outputs": [
    {
     "data": {
      "image/png": "[encoded data removed]",
      "text/plain": [
       "<Figure size 432x288 with 1 Axes>"
      ]
     },
     "metadata": {
      "needs_background": "light"
     },
     "output_type": "display_data"
    }
   ],
   "source": [
    "index = np.arange(len(df_주문정보['주문일시']))\n",
    "index2 = np.arange(len(df_주문정보['수량']))\n",
    "plt.bar(df_주문정보['주문일시'], df_주문정보['수량'])\n",
    "\n",
    "plt.show()\n"
   ]
  },
  {
   "cell_type": "markdown",
   "id": "ae4c4bbd",
   "metadata": {},
   "source": [
    "분석 결과 : 2017년부터 주문량이 증가하긴 하지만 2018년 7월 이후부터 표본 데이터가 적음"
   ]
  },
  {
   "cell_type": "markdown",
   "id": "db6ffd33",
   "metadata": {},
   "source": [
    "------>  누적 데이터 이용해보기"
   ]
  },
  {
   "cell_type": "markdown",
   "id": "f017ce79",
   "metadata": {},
   "source": [
    "### 주문일자 기준 날짜별 주문 총량 구하기"
   ]
  },
  {
   "cell_type": "code",
   "execution_count": 19,
   "id": "33a537b5",
   "metadata": {},
   "outputs": [
    {
     "name": "stdout",
     "output_type": "stream",
     "text": [
      "<bound method DataFrame.value_counts of              수량\n",
      "주문일시           \n",
      "2017-11-09    7\n",
      "2017-11-10    1\n",
      "2017-11-11   45\n",
      "2017-11-12   20\n",
      "2017-11-13   85\n",
      "...         ...\n",
      "2018-11-03   80\n",
      "2018-11-04  101\n",
      "2018-11-05  247\n",
      "2018-11-06  315\n",
      "2018-11-07   62\n",
      "\n",
      "[359 rows x 1 columns]>\n",
      "[7]\n"
     ]
    }
   ],
   "source": [
    "df_주문일시_기준 = df_주문정보.groupby(['주문일시']).sum()\n",
    "print(df_주문일시_기준.value_counts)\n",
    "print(df_주문일시_기준.iloc[0].values)"
   ]
  },
  {
   "cell_type": "code",
   "execution_count": 20,
   "id": "c03447b4",
   "metadata": {},
   "outputs": [
    {
     "data": {
      "text/html": [
       "<div>\n",
       "<style scoped>\n",
       "    .dataframe tbody tr th:only-of-type {\n",
       "        vertical-align: middle;\n",
       "    }\n",
       "\n",
       "    .dataframe tbody tr th {\n",
       "        vertical-align: top;\n",
       "    }\n",
       "\n",
       "    .dataframe thead th {\n",
       "        text-align: right;\n",
       "    }\n",
       "</style>\n",
       "<table border=\"1\" class=\"dataframe\">\n",
       "  <thead>\n",
       "    <tr style=\"text-align: right;\">\n",
       "      <th></th>\n",
       "      <th>수량</th>\n",
       "      <th>누적주문량</th>\n",
       "      <th>누적일수</th>\n",
       "    </tr>\n",
       "    <tr>\n",
       "      <th>주문일시</th>\n",
       "      <th></th>\n",
       "      <th></th>\n",
       "      <th></th>\n",
       "    </tr>\n",
       "  </thead>\n",
       "  <tbody>\n",
       "    <tr>\n",
       "      <th>2017-11-09</th>\n",
       "      <td>7</td>\n",
       "      <td>7</td>\n",
       "      <td>1</td>\n",
       "    </tr>\n",
       "    <tr>\n",
       "      <th>2017-11-10</th>\n",
       "      <td>1</td>\n",
       "      <td>8</td>\n",
       "      <td>2</td>\n",
       "    </tr>\n",
       "    <tr>\n",
       "      <th>2017-11-11</th>\n",
       "      <td>45</td>\n",
       "      <td>53</td>\n",
       "      <td>3</td>\n",
       "    </tr>\n",
       "    <tr>\n",
       "      <th>2017-11-12</th>\n",
       "      <td>20</td>\n",
       "      <td>73</td>\n",
       "      <td>4</td>\n",
       "    </tr>\n",
       "    <tr>\n",
       "      <th>2017-11-13</th>\n",
       "      <td>85</td>\n",
       "      <td>158</td>\n",
       "      <td>5</td>\n",
       "    </tr>\n",
       "    <tr>\n",
       "      <th>...</th>\n",
       "      <td>...</td>\n",
       "      <td>...</td>\n",
       "      <td>...</td>\n",
       "    </tr>\n",
       "    <tr>\n",
       "      <th>2018-11-03</th>\n",
       "      <td>80</td>\n",
       "      <td>36761</td>\n",
       "      <td>355</td>\n",
       "    </tr>\n",
       "    <tr>\n",
       "      <th>2018-11-04</th>\n",
       "      <td>101</td>\n",
       "      <td>36862</td>\n",
       "      <td>356</td>\n",
       "    </tr>\n",
       "    <tr>\n",
       "      <th>2018-11-05</th>\n",
       "      <td>247</td>\n",
       "      <td>37109</td>\n",
       "      <td>357</td>\n",
       "    </tr>\n",
       "    <tr>\n",
       "      <th>2018-11-06</th>\n",
       "      <td>315</td>\n",
       "      <td>37424</td>\n",
       "      <td>358</td>\n",
       "    </tr>\n",
       "    <tr>\n",
       "      <th>2018-11-07</th>\n",
       "      <td>62</td>\n",
       "      <td>37486</td>\n",
       "      <td>359</td>\n",
       "    </tr>\n",
       "  </tbody>\n",
       "</table>\n",
       "<p>359 rows × 3 columns</p>\n",
       "</div>"
      ],
      "text/plain": [
       "             수량  누적주문량  누적일수\n",
       "주문일시                        \n",
       "2017-11-09    7      7     1\n",
       "2017-11-10    1      8     2\n",
       "2017-11-11   45     53     3\n",
       "2017-11-12   20     73     4\n",
       "2017-11-13   85    158     5\n",
       "...         ...    ...   ...\n",
       "2018-11-03   80  36761   355\n",
       "2018-11-04  101  36862   356\n",
       "2018-11-05  247  37109   357\n",
       "2018-11-06  315  37424   358\n",
       "2018-11-07   62  37486   359\n",
       "\n",
       "[359 rows x 3 columns]"
      ]
     },
     "execution_count": 20,
     "metadata": {},
     "output_type": "execute_result"
    }
   ],
   "source": [
    "누적주문량_리스트= [7] #누적 주문량을 담을 리스트\n",
    "for x in range(0,len(df_주문일시_기준)-1):#리스트에 넣기위한 반복문\n",
    "    sub = 누적주문량_리스트[x] +df_주문일시_기준['수량'].iat[x+1]# 값 추출\n",
    "    누적주문량_리스트.append(sub) #리스트 안에 저장하기\n",
    "    \n",
    "# 누적 일수는 주문일시가 빠짐없이 기록되었다는 전제하에 인덱스 크기를 기준으로 작성\n",
    "df_주문일시_기준['누적주문량'] = 누적주문량_리스트 #데이터 프레임에 새 컬럼 추가\n",
    "df_주문일시_기준['누적일수'] = range(1,len(df_주문일시_기준)+1) #누적일수 = 인덱스 총량\n",
    "df_주문일시_기준\n"
   ]
  },
  {
   "cell_type": "markdown",
   "id": "1d27fec7",
   "metadata": {},
   "source": [
    "# 데이터 선형 회귀 분석"
   ]
  },
  {
   "cell_type": "markdown",
   "id": "26bd19a5",
   "metadata": {},
   "source": [
    "## x,y값 선정"
   ]
  },
  {
   "cell_type": "markdown",
   "id": "5e9b7b07",
   "metadata": {},
   "source": [
    "x 값 = 누적 일수\n",
    "y 값 = 누적 주문량"
   ]
  },
  {
   "cell_type": "markdown",
   "id": "2ecea3bc",
   "metadata": {},
   "source": [
    "## 단순 선형 회귀 그래프 (y = ax+b) 시각화"
   ]
  },
  {
   "cell_type": "code",
   "execution_count": 21,
   "id": "ed107586",
   "metadata": {},
   "outputs": [
    {
     "name": "stdout",
     "output_type": "stream",
     "text": [
      "[  105.94611169 -7356.08561958]\n"
     ]
    },
    {
     "data": {
      "image/png": "[encoded data removed]",
      "text/plain": [
       "<Figure size 432x288 with 1 Axes>"
      ]
     },
     "metadata": {
      "needs_background": "light"
     },
     "output_type": "display_data"
    }
   ],
   "source": [
    "from sklearn.metrics import r2_score\n",
    "df_주문일시_기준[\"누적일수\"]\n",
    "\n",
    "fit_line = np.polyfit(df_주문일시_기준[\"누적일수\"],df_주문일시_기준[\"누적주문량\"],1)\n",
    "# y = 105.9461x - 7356.0856\n",
    "print(fit_line)\n",
    "누적일수_minmax = np.array([min(df_주문일시_기준[\"누적일수\"]),max(df_주문일시_기준[\"누적일수\"])])\n",
    "\n",
    "plt.scatter(df_주문일시_기준[\"누적일수\"], df_주문일시_기준[\"누적주문량\"], label = '주문량')\n",
    "\n",
    "fit_test1수량 = 누적일수_minmax * fit_line[0] +fit_line[1]#x 축 최소 최대값을 회귀식에 대입한 값\n",
    "\n",
    "plt.plot(누적일수_minmax, fit_test1수량, color = 'red')\n",
    "plt.xlabel('누적 일수')\n",
    "plt.ylabel('누적 주문량')\n",
    "plt.text(7,30000, \"y = 105.9461x - 7356.0856\",size = 12)\n",
    "plt.show()"
   ]
  },
  {
   "cell_type": "markdown",
   "id": "47ebd560",
   "metadata": {},
   "source": [
    "## 결정계수(r2)을 통한 정확도 분석"
   ]
  },
  {
   "cell_type": "code",
   "execution_count": 22,
   "id": "70a23d4f",
   "metadata": {},
   "outputs": [
    {
     "name": "stdout",
     "output_type": "stream",
     "text": [
      "r2 :   0.9\n",
      "\n",
      "r2값이 1에 가까우므로 신뢰도 높음\n"
     ]
    }
   ],
   "source": [
    "추정치_주문건수 = np.array(df_주문일시_기준[\"누적일수\"])*fit_line[0] + fit_line[1]\n",
    "r2 = r2_score(df_주문일시_기준[\"누적주문량\"],추정치_주문건수)\n",
    "print(\"r2 :  \", round(r2,1))\n",
    "print(\"\\nr2값이 1에 가까우므로 신뢰도 높음\")"
   ]
  },
  {
   "cell_type": "markdown",
   "id": "0bd0d5f1",
   "metadata": {},
   "source": [
    "# 700일 후의 유통량 예측"
   ]
  },
  {
   "cell_type": "code",
   "execution_count": 23,
   "id": "7d2b6756",
   "metadata": {},
   "outputs": [
    {
     "name": "stdout",
     "output_type": "stream",
     "text": [
      "위 데이터를 토대로 한 해당 온라인 쇼핑몰 개설 후 700일 후의 누적 주문량은 66806건 입니다 \n"
     ]
    }
   ],
   "source": [
    "pre_day = 700\n",
    "\n",
    "pre_order = round(105.9461 * pre_day + -7356.0856)\n",
    "\n",
    "print(f\"위 데이터를 토대로 한 해당 온라인 쇼핑몰 개설 후 700일 후의 누적 주문량은 {pre_order}건 입니다 \")"
   ]
  }
 ],
 "metadata": {
  "kernelspec": {
   "display_name": "Python 3 (ipykernel)",
   "language": "python",
   "name": "python3"
  },
  "language_info": {
   "codemirror_mode": {
    "name": "ipython",
    "version": 3
   },
   "file_extension": ".py",
   "mimetype": "text/x-python",
   "name": "python",
   "nbconvert_exporter": "python",
   "pygments_lexer": "ipython3",
   "version": "3.9.12"
  },
  "toc": {
   "base_numbering": 1,
   "nav_menu": {},
   "number_sections": false,
   "sideBar": true,
   "skip_h1_title": false,
   "title_cell": "Table of Contents",
   "title_sidebar": "Contents",
   "toc_cell": false,
   "toc_position": {
    "height": "calc(100% - 180px)",
    "left": "10px",
    "top": "150px",
    "width": "384px"
   },
   "toc_section_display": true,
   "toc_window_display": true
  }
 },
 "nbformat": 4,
 "nbformat_minor": 5
}
