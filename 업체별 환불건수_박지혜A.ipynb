{
 "cells": [
  {
   "cell_type": "code",
   "execution_count": 1,
   "id": "003ea647",
   "metadata": {},
   "outputs": [],
   "source": [
    "import pandas as pd\n",
    "import matplotlib.pyplot as plt\n",
    "\n",
    "# 그래프에 한글 설정\n",
    "plt.rcParams['font.family']='Malgun Gothic'\n",
    "\n",
    "# 그래프에 마이너스 기호 깨지는 문제 해결\n",
    "plt.rcParams['axes.unicode_minus'] = False\n",
    "\n",
    "df_order1 = pd.read_excel (r'3.1 주문정보(개인정보 제외)_추출.xlsx')\n",
    "df_items1 = pd.read_excel (r'2.1 상품정보_추출.xlsx')\n",
    "df_refund1 = pd.read_excel (r'5.1 환불정보(개인정보 제외)_추출.xlsx')\n"
   ]
  },
  {
   "cell_type": "markdown",
   "id": "7756b01e",
   "metadata": {},
   "source": [
    "# 주문, 환불 정보 결합\n",
    "- 주분 구분에서 4가지 값(환불완료, 결제취소, 주문취소, 환불신청)은 제외"
   ]
  },
  {
   "cell_type": "code",
   "execution_count": 2,
   "id": "0347704b",
   "metadata": {},
   "outputs": [
    {
     "data": {
      "text/html": [
       "<div>\n",
       "<style scoped>\n",
       "    .dataframe tbody tr th:only-of-type {\n",
       "        vertical-align: middle;\n",
       "    }\n",
       "\n",
       "    .dataframe tbody tr th {\n",
       "        vertical-align: top;\n",
       "    }\n",
       "\n",
       "    .dataframe thead th {\n",
       "        text-align: right;\n",
       "    }\n",
       "</style>\n",
       "<table border=\"1\" class=\"dataframe\">\n",
       "  <thead>\n",
       "    <tr style=\"text-align: right;\">\n",
       "      <th></th>\n",
       "      <th>주문번호</th>\n",
       "      <th>순번</th>\n",
       "      <th>주문일시</th>\n",
       "      <th>진행구분</th>\n",
       "      <th>배송지</th>\n",
       "      <th>상품번호</th>\n",
       "      <th>상품명</th>\n",
       "      <th>옵션명</th>\n",
       "      <th>수량</th>\n",
       "      <th>판매가</th>\n",
       "      <th>배송비</th>\n",
       "      <th>쿠폰할인액</th>\n",
       "      <th>회원주문여부</th>\n",
       "      <th>회원번호</th>\n",
       "    </tr>\n",
       "  </thead>\n",
       "  <tbody>\n",
       "    <tr>\n",
       "      <th>0</th>\n",
       "      <td>1711080845542139</td>\n",
       "      <td>1</td>\n",
       "      <td>2017-11-08 08:46:26</td>\n",
       "      <td>환불완료</td>\n",
       "      <td>서울 영등포구 국제금융로2길 32</td>\n",
       "      <td>G1710311847_6746</td>\n",
       "      <td>(임직원 전용)[케라미카] 바뎀 2인홈세트 (11p)</td>\n",
       "      <td>NaN</td>\n",
       "      <td>1</td>\n",
       "      <td>48840.0</td>\n",
       "      <td>0.0</td>\n",
       "      <td>9760.0</td>\n",
       "      <td>Y</td>\n",
       "      <td>1876</td>\n",
       "    </tr>\n",
       "    <tr>\n",
       "      <th>1</th>\n",
       "      <td>1711080902432145</td>\n",
       "      <td>1</td>\n",
       "      <td>2017-11-08 09:04:28</td>\n",
       "      <td>결제취소</td>\n",
       "      <td>서울 영등포구 국제금융로2길 32</td>\n",
       "      <td>G1710311849_6973</td>\n",
       "      <td>(임직원 전용)[아름다운공간] 스윗도자기 원형디스펜서 (2color/400ml)</td>\n",
       "      <td>색상:핑크</td>\n",
       "      <td>1</td>\n",
       "      <td>7800.0</td>\n",
       "      <td>2500.0</td>\n",
       "      <td>1560.0</td>\n",
       "      <td>Y</td>\n",
       "      <td>1876</td>\n",
       "    </tr>\n",
       "  </tbody>\n",
       "</table>\n",
       "</div>"
      ],
      "text/plain": [
       "               주문번호  순번                 주문일시  진행구분                 배송지  \\\n",
       "0  1711080845542139   1  2017-11-08 08:46:26  환불완료  서울 영등포구 국제금융로2길 32   \n",
       "1  1711080902432145   1  2017-11-08 09:04:28  결제취소  서울 영등포구 국제금융로2길 32   \n",
       "\n",
       "               상품번호                                           상품명    옵션명  수량  \\\n",
       "0  G1710311847_6746                 (임직원 전용)[케라미카] 바뎀 2인홈세트 (11p)    NaN   1   \n",
       "1  G1710311849_6973  (임직원 전용)[아름다운공간] 스윗도자기 원형디스펜서 (2color/400ml)  색상:핑크   1   \n",
       "\n",
       "       판매가     배송비   쿠폰할인액 회원주문여부  회원번호  \n",
       "0  48840.0     0.0  9760.0      Y  1876  \n",
       "1   7800.0  2500.0  1560.0      Y  1876  "
      ]
     },
     "execution_count": 2,
     "metadata": {},
     "output_type": "execute_result"
    }
   ],
   "source": [
    "df_order1.head(2)"
   ]
  },
  {
   "cell_type": "code",
   "execution_count": 10,
   "id": "57aebba0",
   "metadata": {},
   "outputs": [
    {
     "data": {
      "text/html": [
       "<div>\n",
       "<style scoped>\n",
       "    .dataframe tbody tr th:only-of-type {\n",
       "        vertical-align: middle;\n",
       "    }\n",
       "\n",
       "    .dataframe tbody tr th {\n",
       "        vertical-align: top;\n",
       "    }\n",
       "\n",
       "    .dataframe thead th {\n",
       "        text-align: right;\n",
       "    }\n",
       "</style>\n",
       "<table border=\"1\" class=\"dataframe\">\n",
       "  <thead>\n",
       "    <tr style=\"text-align: right;\">\n",
       "      <th></th>\n",
       "      <th>주문번호</th>\n",
       "      <th>순번</th>\n",
       "      <th>주문일시</th>\n",
       "      <th>진행구분</th>\n",
       "      <th>배송지</th>\n",
       "      <th>상품번호</th>\n",
       "      <th>상품명</th>\n",
       "      <th>옵션명</th>\n",
       "      <th>수량</th>\n",
       "      <th>판매가</th>\n",
       "      <th>배송비</th>\n",
       "      <th>쿠폰할인액</th>\n",
       "      <th>회원주문여부</th>\n",
       "      <th>회원번호</th>\n",
       "    </tr>\n",
       "  </thead>\n",
       "  <tbody>\n",
       "    <tr>\n",
       "      <th>1</th>\n",
       "      <td>1711080902432145</td>\n",
       "      <td>1</td>\n",
       "      <td>2017-11-08 09:04:28</td>\n",
       "      <td>결제취소</td>\n",
       "      <td>서울 영등포구 국제금융로2길 32</td>\n",
       "      <td>G1710311849_6973</td>\n",
       "      <td>(임직원 전용)[아름다운공간] 스윗도자기 원형디스펜서 (2color/400ml)</td>\n",
       "      <td>색상:핑크</td>\n",
       "      <td>1</td>\n",
       "      <td>7800.0</td>\n",
       "      <td>2500.0</td>\n",
       "      <td>1560.0</td>\n",
       "      <td>Y</td>\n",
       "      <td>1876</td>\n",
       "    </tr>\n",
       "    <tr>\n",
       "      <th>778</th>\n",
       "      <td>1711080902432145</td>\n",
       "      <td>2</td>\n",
       "      <td>2017-11-08 09:04:28</td>\n",
       "      <td>결제취소</td>\n",
       "      <td>서울 영등포구 국제금융로2길 32</td>\n",
       "      <td>G1710311849_6973</td>\n",
       "      <td>(임직원 전용)[아름다운공간] 스윗도자기 원형디스펜서 (2color/400ml)</td>\n",
       "      <td>색상:스카이블루</td>\n",
       "      <td>1</td>\n",
       "      <td>7800.0</td>\n",
       "      <td>0.0</td>\n",
       "      <td>1560.0</td>\n",
       "      <td>Y</td>\n",
       "      <td>1876</td>\n",
       "    </tr>\n",
       "  </tbody>\n",
       "</table>\n",
       "</div>"
      ],
      "text/plain": [
       "                 주문번호  순번                 주문일시  진행구분                 배송지  \\\n",
       "1    1711080902432145   1  2017-11-08 09:04:28  결제취소  서울 영등포구 국제금융로2길 32   \n",
       "778  1711080902432145   2  2017-11-08 09:04:28  결제취소  서울 영등포구 국제금융로2길 32   \n",
       "\n",
       "                 상품번호                                           상품명       옵션명  \\\n",
       "1    G1710311849_6973  (임직원 전용)[아름다운공간] 스윗도자기 원형디스펜서 (2color/400ml)     색상:핑크   \n",
       "778  G1710311849_6973  (임직원 전용)[아름다운공간] 스윗도자기 원형디스펜서 (2color/400ml)  색상:스카이블루   \n",
       "\n",
       "     수량     판매가     배송비   쿠폰할인액 회원주문여부  회원번호  \n",
       "1     1  7800.0  2500.0  1560.0      Y  1876  \n",
       "778   1  7800.0     0.0  1560.0      Y  1876  "
      ]
     },
     "execution_count": 10,
     "metadata": {},
     "output_type": "execute_result"
    }
   ],
   "source": [
    "df_order1 [df_order1['주문번호'] == 1711080902432145]"
   ]
  },
  {
   "cell_type": "code",
   "execution_count": 11,
   "id": "6492e553",
   "metadata": {},
   "outputs": [
    {
     "data": {
      "text/plain": [
       "주문번호        int64\n",
       "순번          int64\n",
       "주문일시       object\n",
       "진행구분       object\n",
       "배송지        object\n",
       "상품번호       object\n",
       "상품명        object\n",
       "옵션명        object\n",
       "수량          int64\n",
       "판매가       float64\n",
       "배송비       float64\n",
       "쿠폰할인액     float64\n",
       "회원주문여부     object\n",
       "회원번호        int64\n",
       "dtype: object"
      ]
     },
     "execution_count": 11,
     "metadata": {},
     "output_type": "execute_result"
    }
   ],
   "source": [
    "df_order1.dtypes"
   ]
  },
  {
   "cell_type": "code",
   "execution_count": 12,
   "id": "d2b93e0e",
   "metadata": {},
   "outputs": [],
   "source": [
    "# datetime형으로 변경 : 주문일시\n",
    "df_order1['주문일시'] = pd.to_datetime(df_order1['주문일시'])"
   ]
  },
  {
   "cell_type": "code",
   "execution_count": 13,
   "id": "2690ac64",
   "metadata": {},
   "outputs": [],
   "source": [
    "df_order1['주문일자'] = df_order1['주문일시'].dt.date"
   ]
  },
  {
   "cell_type": "code",
   "execution_count": 14,
   "id": "1af2ab14",
   "metadata": {},
   "outputs": [
    {
     "data": {
      "text/html": [
       "<div>\n",
       "<style scoped>\n",
       "    .dataframe tbody tr th:only-of-type {\n",
       "        vertical-align: middle;\n",
       "    }\n",
       "\n",
       "    .dataframe tbody tr th {\n",
       "        vertical-align: top;\n",
       "    }\n",
       "\n",
       "    .dataframe thead th {\n",
       "        text-align: right;\n",
       "    }\n",
       "</style>\n",
       "<table border=\"1\" class=\"dataframe\">\n",
       "  <thead>\n",
       "    <tr style=\"text-align: right;\">\n",
       "      <th></th>\n",
       "      <th>주문번호</th>\n",
       "      <th>순번</th>\n",
       "      <th>주문일시</th>\n",
       "      <th>진행구분</th>\n",
       "      <th>배송지</th>\n",
       "      <th>상품번호</th>\n",
       "      <th>상품명</th>\n",
       "      <th>옵션명</th>\n",
       "      <th>수량</th>\n",
       "      <th>판매가</th>\n",
       "      <th>배송비</th>\n",
       "      <th>쿠폰할인액</th>\n",
       "      <th>회원주문여부</th>\n",
       "      <th>회원번호</th>\n",
       "      <th>주문일자</th>\n",
       "    </tr>\n",
       "  </thead>\n",
       "  <tbody>\n",
       "    <tr>\n",
       "      <th>0</th>\n",
       "      <td>1711080845542139</td>\n",
       "      <td>1</td>\n",
       "      <td>2017-11-08 08:46:26</td>\n",
       "      <td>환불완료</td>\n",
       "      <td>서울 영등포구 국제금융로2길 32</td>\n",
       "      <td>G1710311847_6746</td>\n",
       "      <td>(임직원 전용)[케라미카] 바뎀 2인홈세트 (11p)</td>\n",
       "      <td>NaN</td>\n",
       "      <td>1</td>\n",
       "      <td>48840.0</td>\n",
       "      <td>0.0</td>\n",
       "      <td>9760.0</td>\n",
       "      <td>Y</td>\n",
       "      <td>1876</td>\n",
       "      <td>2017-11-08</td>\n",
       "    </tr>\n",
       "    <tr>\n",
       "      <th>1</th>\n",
       "      <td>1711080902432145</td>\n",
       "      <td>1</td>\n",
       "      <td>2017-11-08 09:04:28</td>\n",
       "      <td>결제취소</td>\n",
       "      <td>서울 영등포구 국제금융로2길 32</td>\n",
       "      <td>G1710311849_6973</td>\n",
       "      <td>(임직원 전용)[아름다운공간] 스윗도자기 원형디스펜서 (2color/400ml)</td>\n",
       "      <td>색상:핑크</td>\n",
       "      <td>1</td>\n",
       "      <td>7800.0</td>\n",
       "      <td>2500.0</td>\n",
       "      <td>1560.0</td>\n",
       "      <td>Y</td>\n",
       "      <td>1876</td>\n",
       "      <td>2017-11-08</td>\n",
       "    </tr>\n",
       "  </tbody>\n",
       "</table>\n",
       "</div>"
      ],
      "text/plain": [
       "               주문번호  순번                주문일시  진행구분                 배송지  \\\n",
       "0  1711080845542139   1 2017-11-08 08:46:26  환불완료  서울 영등포구 국제금융로2길 32   \n",
       "1  1711080902432145   1 2017-11-08 09:04:28  결제취소  서울 영등포구 국제금융로2길 32   \n",
       "\n",
       "               상품번호                                           상품명    옵션명  수량  \\\n",
       "0  G1710311847_6746                 (임직원 전용)[케라미카] 바뎀 2인홈세트 (11p)    NaN   1   \n",
       "1  G1710311849_6973  (임직원 전용)[아름다운공간] 스윗도자기 원형디스펜서 (2color/400ml)  색상:핑크   1   \n",
       "\n",
       "       판매가     배송비   쿠폰할인액 회원주문여부  회원번호        주문일자  \n",
       "0  48840.0     0.0  9760.0      Y  1876  2017-11-08  \n",
       "1   7800.0  2500.0  1560.0      Y  1876  2017-11-08  "
      ]
     },
     "execution_count": 14,
     "metadata": {},
     "output_type": "execute_result"
    }
   ],
   "source": [
    "df_order1.head(2)"
   ]
  },
  {
   "cell_type": "code",
   "execution_count": null,
   "id": "f926f40b",
   "metadata": {},
   "outputs": [],
   "source": [
    "df_order1.drop(df_order1[df_order1[\"진행구분\"] == '환불완료'].index, inplace=True)\n",
    "df_order1.drop(df_order1[df_order1[\"진행구분\"] == '결제취소'].index, inplace=True)\n",
    "df_order1.drop(df_order1[df_order1[\"진행구분\"] == '환불신청'].index, inplace=True)\n",
    "df_order1.drop(df_order1[df_order1[\"진행구분\"] == '주문취소'].index, inplace=True)"
   ]
  },
  {
   "cell_type": "code",
   "execution_count": 75,
   "id": "ab49d278",
   "metadata": {},
   "outputs": [
    {
     "data": {
      "text/plain": [
       "(4054, 15)"
      ]
     },
     "execution_count": 75,
     "metadata": {},
     "output_type": "execute_result"
    }
   ],
   "source": [
    "df_환불완료 = df_order1[df_order1[\"진행구분\"] == '환불완료']\n",
    "df_결제취소 = df_order1[df_order1[\"진행구분\"] == '결제취소']\n",
    "df_환불신청 = df_order1[df_order1[\"진행구분\"] == '환불신청']\n",
    "df_주문취소 = df_order1[df_order1[\"진행구분\"] == '주문취소']\n",
    "\n",
    "df_order1_canceled = pd.concat([df_환불완료, df_결제취소, df_환불신청, df_주문취소 ], axis = 0)\n",
    "df_order1_canceled.shape"
   ]
  },
  {
   "cell_type": "code",
   "execution_count": 58,
   "id": "d1c2a84c",
   "metadata": {},
   "outputs": [
    {
     "data": {
      "text/plain": [
       "(24766, 24)"
      ]
     },
     "execution_count": 58,
     "metadata": {},
     "output_type": "execute_result"
    }
   ],
   "source": [
    "df_order1.shape"
   ]
  },
  {
   "cell_type": "code",
   "execution_count": 77,
   "id": "7f2672e2",
   "metadata": {},
   "outputs": [
    {
     "data": {
      "text/plain": [
       "(3790, 7)"
      ]
     },
     "execution_count": 77,
     "metadata": {},
     "output_type": "execute_result"
    }
   ],
   "source": [
    "df_refund1.shape"
   ]
  },
  {
   "cell_type": "code",
   "execution_count": 81,
   "id": "31fc222b",
   "metadata": {},
   "outputs": [
    {
     "data": {
      "text/plain": [
       "Index(['주문번호', '순번', '주문일시', '진행구분', '배송지', '상품번호', '상품명', '옵션명', '수량', '판매가',\n",
       "       '배송비', '쿠폰할인액', '회원주문여부', '회원번호', '주문일자'],\n",
       "      dtype='object')"
      ]
     },
     "execution_count": 81,
     "metadata": {},
     "output_type": "execute_result"
    }
   ],
   "source": [
    "df_order1_canceled.columns"
   ]
  },
  {
   "cell_type": "code",
   "execution_count": 84,
   "id": "177a19ec",
   "metadata": {},
   "outputs": [],
   "source": [
    "df_order1_canceled.drop(columns = ['배송지', '옵션명', '수량', '판매가', '배송비', '쿠폰할인액', '회원주문여부', '회원번호'], inplace=True)"
   ]
  },
  {
   "cell_type": "code",
   "execution_count": 85,
   "id": "2b7cf41b",
   "metadata": {},
   "outputs": [
    {
     "data": {
      "text/html": [
       "<div>\n",
       "<style scoped>\n",
       "    .dataframe tbody tr th:only-of-type {\n",
       "        vertical-align: middle;\n",
       "    }\n",
       "\n",
       "    .dataframe tbody tr th {\n",
       "        vertical-align: top;\n",
       "    }\n",
       "\n",
       "    .dataframe thead th {\n",
       "        text-align: right;\n",
       "    }\n",
       "</style>\n",
       "<table border=\"1\" class=\"dataframe\">\n",
       "  <thead>\n",
       "    <tr style=\"text-align: right;\">\n",
       "      <th></th>\n",
       "      <th>주문번호</th>\n",
       "      <th>순번</th>\n",
       "      <th>주문일시</th>\n",
       "      <th>진행구분</th>\n",
       "      <th>상품번호</th>\n",
       "      <th>상품명</th>\n",
       "      <th>주문일자</th>\n",
       "    </tr>\n",
       "  </thead>\n",
       "  <tbody>\n",
       "    <tr>\n",
       "      <th>0</th>\n",
       "      <td>1711080845542139</td>\n",
       "      <td>1</td>\n",
       "      <td>2017-11-08 08:46:26</td>\n",
       "      <td>환불완료</td>\n",
       "      <td>G1710311847_6746</td>\n",
       "      <td>(임직원 전용)[케라미카] 바뎀 2인홈세트 (11p)</td>\n",
       "      <td>2017-11-08</td>\n",
       "    </tr>\n",
       "    <tr>\n",
       "      <th>3</th>\n",
       "      <td>1711080934572167</td>\n",
       "      <td>1</td>\n",
       "      <td>2017-11-08 09:35:19</td>\n",
       "      <td>환불완료</td>\n",
       "      <td>G1710311906_7061</td>\n",
       "      <td>(임직원 전용)[트레비앙] 전동 와인 오프너_DM-503</td>\n",
       "      <td>2017-11-08</td>\n",
       "    </tr>\n",
       "    <tr>\n",
       "      <th>7</th>\n",
       "      <td>1711081303002187</td>\n",
       "      <td>1</td>\n",
       "      <td>2017-11-08 13:04:02</td>\n",
       "      <td>환불완료</td>\n",
       "      <td>G1710131404_3328</td>\n",
       "      <td>[전동댐퍼] MDD-P100DP-P</td>\n",
       "      <td>2017-11-08</td>\n",
       "    </tr>\n",
       "    <tr>\n",
       "      <th>32</th>\n",
       "      <td>1711111052252419</td>\n",
       "      <td>1</td>\n",
       "      <td>2017-11-11 10:59:11</td>\n",
       "      <td>환불완료</td>\n",
       "      <td>G1710311847_6748</td>\n",
       "      <td>(임직원 전용)[케라미카] 바뎀 4인홈세트 (23p)</td>\n",
       "      <td>2017-11-11</td>\n",
       "    </tr>\n",
       "    <tr>\n",
       "      <th>96</th>\n",
       "      <td>1711131003142773</td>\n",
       "      <td>1</td>\n",
       "      <td>2017-11-13 10:05:59</td>\n",
       "      <td>환불완료</td>\n",
       "      <td>G1710131302_3317</td>\n",
       "      <td>[싸이크론] 저소음 환풍기_JV-201</td>\n",
       "      <td>2017-11-13</td>\n",
       "    </tr>\n",
       "  </tbody>\n",
       "</table>\n",
       "</div>"
      ],
      "text/plain": [
       "                주문번호  순번                주문일시  진행구분              상품번호  \\\n",
       "0   1711080845542139   1 2017-11-08 08:46:26  환불완료  G1710311847_6746   \n",
       "3   1711080934572167   1 2017-11-08 09:35:19  환불완료  G1710311906_7061   \n",
       "7   1711081303002187   1 2017-11-08 13:04:02  환불완료  G1710131404_3328   \n",
       "32  1711111052252419   1 2017-11-11 10:59:11  환불완료  G1710311847_6748   \n",
       "96  1711131003142773   1 2017-11-13 10:05:59  환불완료  G1710131302_3317   \n",
       "\n",
       "                                 상품명        주문일자  \n",
       "0      (임직원 전용)[케라미카] 바뎀 2인홈세트 (11p)  2017-11-08  \n",
       "3   (임직원 전용)[트레비앙] 전동 와인 오프너_DM-503   2017-11-08  \n",
       "7               [전동댐퍼] MDD-P100DP-P   2017-11-08  \n",
       "32     (임직원 전용)[케라미카] 바뎀 4인홈세트 (23p)  2017-11-11  \n",
       "96             [싸이크론] 저소음 환풍기_JV-201  2017-11-13  "
      ]
     },
     "execution_count": 85,
     "metadata": {},
     "output_type": "execute_result"
    }
   ],
   "source": [
    "df_order1_canceled.head()"
   ]
  },
  {
   "cell_type": "code",
   "execution_count": 87,
   "id": "e6a280e7",
   "metadata": {},
   "outputs": [
    {
     "data": {
      "text/html": [
       "<div>\n",
       "<style scoped>\n",
       "    .dataframe tbody tr th:only-of-type {\n",
       "        vertical-align: middle;\n",
       "    }\n",
       "\n",
       "    .dataframe tbody tr th {\n",
       "        vertical-align: top;\n",
       "    }\n",
       "\n",
       "    .dataframe thead th {\n",
       "        text-align: right;\n",
       "    }\n",
       "</style>\n",
       "<table border=\"1\" class=\"dataframe\">\n",
       "  <thead>\n",
       "    <tr style=\"text-align: right;\">\n",
       "      <th></th>\n",
       "      <th>주문번호</th>\n",
       "      <th>환불번호</th>\n",
       "      <th>진행구분</th>\n",
       "      <th>결제수단</th>\n",
       "      <th>환불금액</th>\n",
       "      <th>할부개월</th>\n",
       "      <th>환불일자</th>\n",
       "    </tr>\n",
       "  </thead>\n",
       "  <tbody>\n",
       "    <tr>\n",
       "      <th>0</th>\n",
       "      <td>1709061012340050</td>\n",
       "      <td>17</td>\n",
       "      <td>취소</td>\n",
       "      <td>신용카드</td>\n",
       "      <td>37000.0</td>\n",
       "      <td>0.0</td>\n",
       "      <td>2017-09-06 10:14:22</td>\n",
       "    </tr>\n",
       "    <tr>\n",
       "      <th>1</th>\n",
       "      <td>1709111558160149</td>\n",
       "      <td>48</td>\n",
       "      <td>취소</td>\n",
       "      <td>가상계좌</td>\n",
       "      <td>6850.0</td>\n",
       "      <td>NaN</td>\n",
       "      <td>2017-09-12 16:42:22</td>\n",
       "    </tr>\n",
       "    <tr>\n",
       "      <th>2</th>\n",
       "      <td>1709121552530178</td>\n",
       "      <td>71</td>\n",
       "      <td>취소</td>\n",
       "      <td>가상계좌</td>\n",
       "      <td>249500.0</td>\n",
       "      <td>NaN</td>\n",
       "      <td>2017-09-12 15:56:20</td>\n",
       "    </tr>\n",
       "    <tr>\n",
       "      <th>3</th>\n",
       "      <td>1709211749040335</td>\n",
       "      <td>121</td>\n",
       "      <td>취소</td>\n",
       "      <td>가상계좌</td>\n",
       "      <td>409200.0</td>\n",
       "      <td>NaN</td>\n",
       "      <td>2017-09-21 17:51:50</td>\n",
       "    </tr>\n",
       "    <tr>\n",
       "      <th>4</th>\n",
       "      <td>1709221305150350</td>\n",
       "      <td>128</td>\n",
       "      <td>취소</td>\n",
       "      <td>신용카드</td>\n",
       "      <td>12060.0</td>\n",
       "      <td>0.0</td>\n",
       "      <td>2017-09-22 13:12:27</td>\n",
       "    </tr>\n",
       "  </tbody>\n",
       "</table>\n",
       "</div>"
      ],
      "text/plain": [
       "               주문번호  환불번호 진행구분  결제수단      환불금액  할부개월                환불일자\n",
       "0  1709061012340050    17   취소  신용카드   37000.0   0.0 2017-09-06 10:14:22\n",
       "1  1709111558160149    48   취소  가상계좌    6850.0   NaN 2017-09-12 16:42:22\n",
       "2  1709121552530178    71   취소  가상계좌  249500.0   NaN 2017-09-12 15:56:20\n",
       "3  1709211749040335   121   취소  가상계좌  409200.0   NaN 2017-09-21 17:51:50\n",
       "4  1709221305150350   128   취소  신용카드   12060.0   0.0 2017-09-22 13:12:27"
      ]
     },
     "execution_count": 87,
     "metadata": {},
     "output_type": "execute_result"
    }
   ],
   "source": [
    "df_refund1.head()"
   ]
  },
  {
   "cell_type": "code",
   "execution_count": 89,
   "id": "45307bc5",
   "metadata": {},
   "outputs": [],
   "source": [
    "df_refund1.drop(columns = ['진행구분','결제수단', '환불금액', '할부개월'], inplace = True)"
   ]
  },
  {
   "cell_type": "code",
   "execution_count": null,
   "id": "1ef5937b",
   "metadata": {},
   "outputs": [],
   "source": []
  },
  {
   "cell_type": "code",
   "execution_count": null,
   "id": "14d811ce",
   "metadata": {},
   "outputs": [],
   "source": []
  },
  {
   "cell_type": "code",
   "execution_count": null,
   "id": "6dbf8d35",
   "metadata": {},
   "outputs": [],
   "source": [
    "pd.concat([df1, df2], axis = 1)"
   ]
  },
  {
   "cell_type": "code",
   "execution_count": 79,
   "id": "a2306a5f",
   "metadata": {},
   "outputs": [
    {
     "data": {
      "text/plain": [
       "(1215, 15)"
      ]
     },
     "execution_count": 79,
     "metadata": {},
     "output_type": "execute_result"
    }
   ],
   "source": [
    "\n",
    "df_refund1_itemno = pd.merge(df_refund1, df_solditems, on = '주문번호', how='left')\n",
    "df_solditems_refund.shape"
   ]
  },
  {
   "cell_type": "code",
   "execution_count": null,
   "id": "67faf45a",
   "metadata": {},
   "outputs": [],
   "source": []
  },
  {
   "cell_type": "code",
   "execution_count": null,
   "id": "09bbb35f",
   "metadata": {},
   "outputs": [],
   "source": []
  },
  {
   "cell_type": "code",
   "execution_count": 80,
   "id": "d61856f2",
   "metadata": {},
   "outputs": [
    {
     "data": {
      "text/plain": [
       "2839"
      ]
     },
     "execution_count": 80,
     "metadata": {},
     "output_type": "execute_result"
    }
   ],
   "source": []
  },
  {
   "cell_type": "code",
   "execution_count": 67,
   "id": "ea8ff0ee",
   "metadata": {},
   "outputs": [
    {
     "data": {
      "text/html": [
       "<div>\n",
       "<style scoped>\n",
       "    .dataframe tbody tr th:only-of-type {\n",
       "        vertical-align: middle;\n",
       "    }\n",
       "\n",
       "    .dataframe tbody tr th {\n",
       "        vertical-align: top;\n",
       "    }\n",
       "\n",
       "    .dataframe thead th {\n",
       "        text-align: right;\n",
       "    }\n",
       "</style>\n",
       "<table border=\"1\" class=\"dataframe\">\n",
       "  <thead>\n",
       "    <tr style=\"text-align: right;\">\n",
       "      <th></th>\n",
       "      <th>주문번호</th>\n",
       "      <th>환불번호</th>\n",
       "      <th>진행구분</th>\n",
       "      <th>결제수단</th>\n",
       "      <th>환불금액</th>\n",
       "      <th>할부개월</th>\n",
       "      <th>환불일자</th>\n",
       "    </tr>\n",
       "  </thead>\n",
       "  <tbody>\n",
       "    <tr>\n",
       "      <th>0</th>\n",
       "      <td>1709061012340050</td>\n",
       "      <td>17</td>\n",
       "      <td>취소</td>\n",
       "      <td>신용카드</td>\n",
       "      <td>37000.0</td>\n",
       "      <td>0.0</td>\n",
       "      <td>2017-09-06 10:14:22</td>\n",
       "    </tr>\n",
       "    <tr>\n",
       "      <th>1</th>\n",
       "      <td>1709111558160149</td>\n",
       "      <td>48</td>\n",
       "      <td>취소</td>\n",
       "      <td>가상계좌</td>\n",
       "      <td>6850.0</td>\n",
       "      <td>NaN</td>\n",
       "      <td>2017-09-12 16:42:22</td>\n",
       "    </tr>\n",
       "    <tr>\n",
       "      <th>2</th>\n",
       "      <td>1709121552530178</td>\n",
       "      <td>71</td>\n",
       "      <td>취소</td>\n",
       "      <td>가상계좌</td>\n",
       "      <td>249500.0</td>\n",
       "      <td>NaN</td>\n",
       "      <td>2017-09-12 15:56:20</td>\n",
       "    </tr>\n",
       "    <tr>\n",
       "      <th>3</th>\n",
       "      <td>1709211749040335</td>\n",
       "      <td>121</td>\n",
       "      <td>취소</td>\n",
       "      <td>가상계좌</td>\n",
       "      <td>409200.0</td>\n",
       "      <td>NaN</td>\n",
       "      <td>2017-09-21 17:51:50</td>\n",
       "    </tr>\n",
       "    <tr>\n",
       "      <th>4</th>\n",
       "      <td>1709221305150350</td>\n",
       "      <td>128</td>\n",
       "      <td>취소</td>\n",
       "      <td>신용카드</td>\n",
       "      <td>12060.0</td>\n",
       "      <td>0.0</td>\n",
       "      <td>2017-09-22 13:12:27</td>\n",
       "    </tr>\n",
       "  </tbody>\n",
       "</table>\n",
       "</div>"
      ],
      "text/plain": [
       "               주문번호  환불번호 진행구분  결제수단      환불금액  할부개월                환불일자\n",
       "0  1709061012340050    17   취소  신용카드   37000.0   0.0 2017-09-06 10:14:22\n",
       "1  1709111558160149    48   취소  가상계좌    6850.0   NaN 2017-09-12 16:42:22\n",
       "2  1709121552530178    71   취소  가상계좌  249500.0   NaN 2017-09-12 15:56:20\n",
       "3  1709211749040335   121   취소  가상계좌  409200.0   NaN 2017-09-21 17:51:50\n",
       "4  1709221305150350   128   취소  신용카드   12060.0   0.0 2017-09-22 13:12:27"
      ]
     },
     "execution_count": 67,
     "metadata": {},
     "output_type": "execute_result"
    }
   ],
   "source": [
    "df_refund1.head()"
   ]
  },
  {
   "cell_type": "code",
   "execution_count": 60,
   "id": "11394829",
   "metadata": {},
   "outputs": [
    {
     "data": {
      "text/plain": [
       "(20712, 24)"
      ]
     },
     "execution_count": 60,
     "metadata": {},
     "output_type": "execute_result"
    }
   ],
   "source": [
    "df_solditems.shape"
   ]
  },
  {
   "cell_type": "code",
   "execution_count": 52,
   "id": "2de4c767",
   "metadata": {},
   "outputs": [
    {
     "data": {
      "text/plain": [
       "(4542, 17)"
      ]
     },
     "execution_count": 52,
     "metadata": {},
     "output_type": "execute_result"
    }
   ],
   "source": [
    "# 주문상품,환불정보 결합\n",
    "\n",
    "df_solditems_refund = pd.merge(df_refund1, df_solditems, on = '주문번호', how='left')\n",
    "df_solditems_refund.shape"
   ]
  },
  {
   "cell_type": "code",
   "execution_count": 53,
   "id": "66e26d9d",
   "metadata": {},
   "outputs": [
    {
     "data": {
      "text/plain": [
       "array([nan, '환불완료', '결제취소', '주문취소', '배송준비중'], dtype=object)"
      ]
     },
     "execution_count": 53,
     "metadata": {},
     "output_type": "execute_result"
    }
   ],
   "source": [
    "df_solditems_refund.진행구분_y.unique()"
   ]
  },
  {
   "cell_type": "code",
   "execution_count": 54,
   "id": "d567e1ea",
   "metadata": {},
   "outputs": [
    {
     "data": {
      "text/plain": [
       "array(['취소'], dtype=object)"
      ]
     },
     "execution_count": 54,
     "metadata": {},
     "output_type": "execute_result"
    }
   ],
   "source": [
    "df_refund1.진행구분_y.unique()"
   ]
  },
  {
   "cell_type": "code",
   "execution_count": 55,
   "id": "e23f75dd",
   "metadata": {},
   "outputs": [
    {
     "data": {
      "text/html": [
       "<div>\n",
       "<style scoped>\n",
       "    .dataframe tbody tr th:only-of-type {\n",
       "        vertical-align: middle;\n",
       "    }\n",
       "\n",
       "    .dataframe tbody tr th {\n",
       "        vertical-align: top;\n",
       "    }\n",
       "\n",
       "    .dataframe thead th {\n",
       "        text-align: right;\n",
       "    }\n",
       "</style>\n",
       "<table border=\"1\" class=\"dataframe\">\n",
       "  <thead>\n",
       "    <tr style=\"text-align: right;\">\n",
       "      <th></th>\n",
       "      <th>주문번호</th>\n",
       "      <th>환불번호</th>\n",
       "      <th>진행구분_x</th>\n",
       "      <th>결제수단</th>\n",
       "      <th>환불금액</th>\n",
       "      <th>할부개월</th>\n",
       "      <th>환불일자</th>\n",
       "      <th>순번</th>\n",
       "      <th>주문일시</th>\n",
       "      <th>진행구분_y</th>\n",
       "      <th>상품번호</th>\n",
       "      <th>상품명_x</th>\n",
       "      <th>회원번호</th>\n",
       "      <th>주문일자</th>\n",
       "      <th>업체명</th>\n",
       "      <th>판매상태</th>\n",
       "      <th>전시상태</th>\n",
       "    </tr>\n",
       "  </thead>\n",
       "  <tbody>\n",
       "    <tr>\n",
       "      <th>0</th>\n",
       "      <td>1709061012340050</td>\n",
       "      <td>17</td>\n",
       "      <td>취소</td>\n",
       "      <td>신용카드</td>\n",
       "      <td>37000.0</td>\n",
       "      <td>0.0</td>\n",
       "      <td>2017-09-06 10:14:22</td>\n",
       "      <td>NaN</td>\n",
       "      <td>NaT</td>\n",
       "      <td>NaN</td>\n",
       "      <td>NaN</td>\n",
       "      <td>NaN</td>\n",
       "      <td>NaN</td>\n",
       "      <td>NaN</td>\n",
       "      <td>NaN</td>\n",
       "      <td>NaN</td>\n",
       "      <td>NaN</td>\n",
       "    </tr>\n",
       "    <tr>\n",
       "      <th>1</th>\n",
       "      <td>1709111558160149</td>\n",
       "      <td>48</td>\n",
       "      <td>취소</td>\n",
       "      <td>가상계좌</td>\n",
       "      <td>6850.0</td>\n",
       "      <td>NaN</td>\n",
       "      <td>2017-09-12 16:42:22</td>\n",
       "      <td>NaN</td>\n",
       "      <td>NaT</td>\n",
       "      <td>NaN</td>\n",
       "      <td>NaN</td>\n",
       "      <td>NaN</td>\n",
       "      <td>NaN</td>\n",
       "      <td>NaN</td>\n",
       "      <td>NaN</td>\n",
       "      <td>NaN</td>\n",
       "      <td>NaN</td>\n",
       "    </tr>\n",
       "  </tbody>\n",
       "</table>\n",
       "</div>"
      ],
      "text/plain": [
       "               주문번호  환불번호 진행구분_x  결제수단     환불금액  할부개월                환불일자  순번  \\\n",
       "0  1709061012340050    17     취소  신용카드  37000.0   0.0 2017-09-06 10:14:22 NaN   \n",
       "1  1709111558160149    48     취소  가상계좌   6850.0   NaN 2017-09-12 16:42:22 NaN   \n",
       "\n",
       "  주문일시 진행구분_y 상품번호 상품명_x  회원번호 주문일자  업체명 판매상태 전시상태  \n",
       "0  NaT    NaN  NaN   NaN   NaN  NaN  NaN  NaN  NaN  \n",
       "1  NaT    NaN  NaN   NaN   NaN  NaN  NaN  NaN  NaN  "
      ]
     },
     "execution_count": 55,
     "metadata": {},
     "output_type": "execute_result"
    }
   ],
   "source": [
    "df_solditems_refund.head(2)"
   ]
  },
  {
   "cell_type": "code",
   "execution_count": null,
   "id": "ec4acd11",
   "metadata": {},
   "outputs": [],
   "source": []
  },
  {
   "cell_type": "code",
   "execution_count": null,
   "id": "3629078f",
   "metadata": {},
   "outputs": [],
   "source": []
  },
  {
   "cell_type": "code",
   "execution_count": null,
   "id": "2fff2e56",
   "metadata": {},
   "outputs": [],
   "source": [
    "# 주분 구분 제외 항목(환불완료, 결제취소, 주문취소, 환불신청)\n",
    "df_order1.drop(df_order1[df_order1[\"진행구분\"] == '환불완료'].index, inplace=True)\n",
    "df_order1.drop(df_order1[df_order1[\"진행구분\"] == '결제취소'].index, inplace=True)\n",
    "df_order1.drop(df_order1[df_order1[\"진행구분\"] == '환불신청'].index, inplace=True)\n",
    "df_order1.drop(df_order1[df_order1[\"진행구분\"] == '주문취소'].index, inplace=True)"
   ]
  },
  {
   "cell_type": "code",
   "execution_count": null,
   "id": "b783dd69",
   "metadata": {},
   "outputs": [],
   "source": [
    "df_items1.head()"
   ]
  },
  {
   "cell_type": "code",
   "execution_count": null,
   "id": "410b7c09",
   "metadata": {},
   "outputs": [],
   "source": []
  },
  {
   "cell_type": "code",
   "execution_count": null,
   "id": "81ac8f73",
   "metadata": {},
   "outputs": [],
   "source": [
    "df_refund1.head()"
   ]
  },
  {
   "cell_type": "code",
   "execution_count": null,
   "id": "b89a6a0f",
   "metadata": {},
   "outputs": [],
   "source": [
    "df_실제_구매정보 = df_주문정보[df_주문정보[\"회원번호\"].isin(df_고객정보[\"회원번호\"])] "
   ]
  },
  {
   "cell_type": "code",
   "execution_count": null,
   "id": "f6612c83",
   "metadata": {},
   "outputs": [],
   "source": [
    "df_실제_구매고객 = df_고객정보[df_고객정보[\"회원번호\"].isin(df_주문정보[\"회원번호\"])]"
   ]
  },
  {
   "cell_type": "code",
   "execution_count": null,
   "id": "a194985d",
   "metadata": {},
   "outputs": [],
   "source": []
  },
  {
   "cell_type": "code",
   "execution_count": null,
   "id": "5d08c3cc",
   "metadata": {},
   "outputs": [],
   "source": []
  },
  {
   "cell_type": "code",
   "execution_count": null,
   "id": "b14c6b93",
   "metadata": {},
   "outputs": [],
   "source": [
    "df_solditems_incl_refund = pd.merge(df_solditems, df_refund1)\n",
    "df_solditems_incl_refund"
   ]
  },
  {
   "cell_type": "code",
   "execution_count": null,
   "id": "1604cb6b",
   "metadata": {},
   "outputs": [],
   "source": [
    "df_order1[ df_order1['상품번호'] == 'G1710311847_6746' ]"
   ]
  },
  {
   "cell_type": "code",
   "execution_count": null,
   "id": "9a951fa9",
   "metadata": {},
   "outputs": [],
   "source": [
    "df_items1[df_items1['상품번호'] == 'G1710311847_6746' ]"
   ]
  },
  {
   "cell_type": "code",
   "execution_count": null,
   "id": "ca319eb7",
   "metadata": {},
   "outputs": [],
   "source": [
    "df_solditems.head(2)"
   ]
  },
  {
   "cell_type": "code",
   "execution_count": null,
   "id": "a673be58",
   "metadata": {},
   "outputs": [],
   "source": [
    "df_vendors = df_solditems['업체명'].value_counts().to_frame()\n",
    "df_vendors.reset_index(drop=False, inplace =True)\n",
    "\n",
    "df_vendors.columns = ['업체명', '주문건수']\n",
    "df_vendors.head()"
   ]
  },
  {
   "cell_type": "code",
   "execution_count": null,
   "id": "70eb3bc7",
   "metadata": {
    "scrolled": true
   },
   "outputs": [],
   "source": [
    "df_vendors.tail()"
   ]
  },
  {
   "cell_type": "code",
   "execution_count": null,
   "id": "e5dece61",
   "metadata": {},
   "outputs": [],
   "source": [
    "plt.rcParams['figure.figsize']=(10,5)\n",
    "x = df_vendors.index\n",
    "y = df_vendors.주문건수\n",
    "\n",
    "plt.xlabel('업체 순위')\n",
    "plt.ylabel('주문 건수')\n",
    "\n",
    "plt.bar(x,y)\n",
    "plt.show()"
   ]
  },
  {
   "cell_type": "code",
   "execution_count": null,
   "id": "ebaea440",
   "metadata": {},
   "outputs": [],
   "source": [
    "df_vendors_top = df_vendors [df_vendors['주문건수'] > 50]\n",
    "df_vendors_top.tail()"
   ]
  },
  {
   "cell_type": "code",
   "execution_count": null,
   "id": "e7a50270",
   "metadata": {},
   "outputs": [],
   "source": [
    "plt.rcParams['figure.figsize']=(5,5)\n",
    "x = df_vendors_top.index\n",
    "y = df_vendors_top.주문건수\n",
    "\n",
    "plt.xlabel('업체 순위')\n",
    "plt.ylabel('주문 건수')\n",
    "\n",
    "plt.bar(x,y)\n",
    "plt.show()"
   ]
  },
  {
   "cell_type": "code",
   "execution_count": null,
   "id": "dcaf1000",
   "metadata": {},
   "outputs": [],
   "source": [
    "# 주문건수 top 업체의 일자별 주문 현황\n",
    "df_vendors_top.head()"
   ]
  },
  {
   "cell_type": "code",
   "execution_count": null,
   "id": "8b9d8678",
   "metadata": {},
   "outputs": [],
   "source": [
    "df_solditems_오름 = df_solditems [df_solditems['업체명'] == '오름']\n",
    "df_solditems_오름.head(2)"
   ]
  },
  {
   "cell_type": "code",
   "execution_count": null,
   "id": "289197f4",
   "metadata": {},
   "outputs": [],
   "source": [
    "df_solditems_오름_count = df_solditems_오름.groupby('주문일자').주문일시.count().to_frame()\n",
    "df_solditems_오름_count.columns = ['주문건수']\n",
    "df_solditems_오름_count"
   ]
  },
  {
   "cell_type": "code",
   "execution_count": null,
   "id": "7ed9039a",
   "metadata": {
    "scrolled": true
   },
   "outputs": [],
   "source": [
    "plt.rcParams['figure.figsize']=(10,5)\n",
    "\n",
    "plt.scatter(df_solditems_오름_count.index, df_solditems_오름_count.values, marker = '.', color = 'c')\n",
    "\n",
    "plt.title('주문건수 1위 업체 오름 일자별 주문건수')\n",
    "plt.show()\n"
   ]
  },
  {
   "cell_type": "code",
   "execution_count": null,
   "id": "523dadb5",
   "metadata": {},
   "outputs": [],
   "source": [
    "topvendors = df_vendors_top['업체명']\n",
    "topvendors[0:10]"
   ]
  },
  {
   "cell_type": "code",
   "execution_count": null,
   "id": "a0a57737",
   "metadata": {},
   "outputs": [],
   "source": [
    "for vendor in topvendors[1:5] :\n",
    "    name = 'df_solditems_'+ vendor\n",
    "    \n",
    "    namefiltering = name + \" = df_solditems [df_solditems['업체명'] == \" + \"'\" + vendor + \"'\" + ']'\n",
    "    grouping = name + '_count = ' + name + \".groupby('주문일자').주문일시.count().to_frame()\"\n",
    "    columnchange = name + \"_count.columns = ['주문건수']\"\n",
    "        \n",
    "    print(namefiltering)\n",
    "    print(grouping)\n",
    "    print(columnchange)\n",
    "    print()\n",
    "    "
   ]
  },
  {
   "cell_type": "code",
   "execution_count": null,
   "id": "b01bb5dc",
   "metadata": {},
   "outputs": [],
   "source": [
    "df_solditems_두닷 = df_solditems [df_solditems['업체명'] == '두닷']\n",
    "df_solditems_두닷_count = df_solditems_두닷.groupby('주문일자').주문일시.count().to_frame()\n",
    "df_solditems_두닷_count.columns = ['주문건수']\n",
    "df_solditems_세상담기 = df_solditems [df_solditems['업체명'] == '(주)세상담기']\n",
    "df_solditems_세상담기_count = df_solditems_세상담기.groupby('주문일자').주문일시.count().to_frame()\n",
    "df_solditems_세상담기_count.columns = ['주문건수']\n",
    "df_solditems_주식회사소프시스 = df_solditems [df_solditems['업체명'] == '주식회사 소프시스']\n",
    "df_solditems_주식회사소프시스_count = df_solditems_주식회사소프시스.groupby('주문일자').주문일시.count().to_frame()\n",
    "df_solditems_주식회사소프시스_count.columns = ['주문건수']\n",
    "df_solditems_에드가인터네셔날 = df_solditems [df_solditems['업체명'] == '에드가인터네셔날']\n",
    "df_solditems_에드가인터네셔날_count = df_solditems_에드가인터네셔날.groupby('주문일자').주문일시.count().to_frame()\n",
    "df_solditems_에드가인터네셔날_count.columns = ['주문건수']"
   ]
  },
  {
   "cell_type": "code",
   "execution_count": null,
   "id": "0d6992dd",
   "metadata": {},
   "outputs": [],
   "source": [
    "plt.rcParams['figure.figsize']=(10,5)\n",
    "\n",
    "plt.scatter(df_solditems_두닷_count.index, df_solditems_두닷_count.values, marker = '.', color = 'c')\n",
    "\n",
    "plt.title('주문건수 2위 업체 두닷 일자별 주문건수')\n",
    "plt.show()"
   ]
  },
  {
   "cell_type": "code",
   "execution_count": null,
   "id": "9f2fd905",
   "metadata": {},
   "outputs": [],
   "source": [
    "plt.rcParams['figure.figsize']=(10,5)\n",
    "\n",
    "plt.scatter(df_solditems_세상담기_count.index, df_solditems_세상담기_count.values, marker = '.', color = 'c')\n",
    "\n",
    "plt.title('주문건수 3위 (주)세상담기 일자별 주문건수')\n",
    "plt.show()"
   ]
  },
  {
   "cell_type": "code",
   "execution_count": null,
   "id": "4a54e2a4",
   "metadata": {},
   "outputs": [],
   "source": [
    "plt.rcParams['figure.figsize']=(10,5)\n",
    "\n",
    "plt.scatter(df_solditems_주식회사소프시스_count.index, df_solditems_주식회사소프시스_count.values, marker = '.', color = 'c')\n",
    "\n",
    "plt.title('주문건수 4위 주식회사 소프시스 일자별 주문건수')\n",
    "plt.show()"
   ]
  },
  {
   "cell_type": "code",
   "execution_count": null,
   "id": "dcdf6920",
   "metadata": {},
   "outputs": [],
   "source": [
    "plt.rcParams['figure.figsize']=(10,5)\n",
    "\n",
    "plt.scatter(df_solditems_에드가인터네셔날_count.index, df_solditems_에드가인터네셔날_count.values, marker = '.', color = 'c')\n",
    "\n",
    "plt.title('주문건수 5위 에드가인터네셔날 일자별 주문건수')\n",
    "plt.show()"
   ]
  },
  {
   "cell_type": "code",
   "execution_count": null,
   "id": "0050f93f",
   "metadata": {},
   "outputs": [],
   "source": [
    "fig = plt.figure(figsize=(20,5))\n",
    "ax1 = fig.add_subplot(2,3,1)\n",
    "ax2 = fig.add_subplot(2,3,2)\n",
    "ax3 = fig.add_subplot(2,3,3)\n",
    "ax4 = fig.add_subplot(2,3,4)\n",
    "ax5 = fig.add_subplot(2,3,5)\n",
    "\n",
    "ax1.scatter(df_solditems_오름_count.index, df_solditems_오름_count.values, marker = '.', color = 'c')\n",
    "ax2.scatter(df_solditems_두닷_count.index, df_solditems_두닷_count.values, marker = '.', color = 'c')\n",
    "ax3.scatter(df_solditems_세상담기_count.index, df_solditems_세상담기_count.values, marker = '.', color = 'c')\n",
    "ax4.scatter(df_solditems_주식회사소프시스_count.index, df_solditems_주식회사소프시스_count.values, marker = '.', color = 'c')\n",
    "ax5.scatter(df_solditems_에드가인터네셔날_count.index, df_solditems_에드가인터네셔날_count.values, marker = '.', color = 'c')\n",
    "\n",
    "\n",
    "ax1.set_yticks(range(0,100,10))\n",
    "ax2.set_yticks(range(0,100,10))\n",
    "ax3.set_yticks(range(0,100,10))\n",
    "ax4.set_yticks(range(0,100,10))\n",
    "ax5.set_yticks(range(0,100,10))\n",
    "\n",
    "ax1.set_title('오름')\n",
    "ax2.set_title('두닷')\n",
    "ax3.set_title('세상담기')\n",
    "ax4.set_title('주식회사 소프시스')\n",
    "ax5.set_title('에드가인터네셔날')\n",
    "\n",
    "\n",
    "fig.suptitle('XX 온라인 쇼핑몰 매출상위업체 주문건수', size=20)\n",
    "fig.tight_layout()\n",
    "\n",
    "plt.show()"
   ]
  },
  {
   "cell_type": "code",
   "execution_count": null,
   "id": "132d5991",
   "metadata": {},
   "outputs": [],
   "source": []
  }
 ],
 "metadata": {
  "kernelspec": {
   "display_name": "Python 3 (ipykernel)",
   "language": "python",
   "name": "python3"
  },
  "language_info": {
   "codemirror_mode": {
    "name": "ipython",
    "version": 3
   },
   "file_extension": ".py",
   "mimetype": "text/x-python",
   "name": "python",
   "nbconvert_exporter": "python",
   "pygments_lexer": "ipython3",
   "version": "3.9.7"
  },
  "toc": {
   "base_numbering": 1,
   "nav_menu": {},
   "number_sections": true,
   "sideBar": true,
   "skip_h1_title": false,
   "title_cell": "Table of Contents",
   "title_sidebar": "Contents",
   "toc_cell": false,
   "toc_position": {},
   "toc_section_display": true,
   "toc_window_display": false
  }
 },
 "nbformat": 4,
 "nbformat_minor": 5
}
