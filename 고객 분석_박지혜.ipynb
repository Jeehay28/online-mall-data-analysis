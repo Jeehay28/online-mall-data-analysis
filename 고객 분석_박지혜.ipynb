{
 "cells": [
  {
   "cell_type": "code",
   "execution_count": 1,
   "id": "f91afd3b",
   "metadata": {},
   "outputs": [],
   "source": [
    "import pandas as pd\n",
    "import matplotlib.pyplot as plt\n",
    "\n",
    "# 그래프에 한글 설정\n",
    "plt.rcParams['font.family']='Malgun Gothic'\n",
    "\n",
    "# 그래프에 마이너스 기호 깨지는 문제 해결\n",
    "plt.rcParams['axes.unicode_minus'] = False\n",
    "\n",
    "# df1_customer = pd.read_csv('1.1 고객기본정보(개인정보 제외)_추출.xlsx', encoding ='cp949')\n",
    "\n",
    "df_customer1 = pd.read_excel (r'1.1 고객기본정보(개인정보 제외)_추출.xlsx')"
   ]
  },
  {
   "cell_type": "code",
   "execution_count": 2,
   "id": "678103e9",
   "metadata": {},
   "outputs": [
    {
     "data": {
      "text/html": [
       "<div>\n",
       "<style scoped>\n",
       "    .dataframe tbody tr th:only-of-type {\n",
       "        vertical-align: middle;\n",
       "    }\n",
       "\n",
       "    .dataframe tbody tr th {\n",
       "        vertical-align: top;\n",
       "    }\n",
       "\n",
       "    .dataframe thead th {\n",
       "        text-align: right;\n",
       "    }\n",
       "</style>\n",
       "<table border=\"1\" class=\"dataframe\">\n",
       "  <thead>\n",
       "    <tr style=\"text-align: right;\">\n",
       "      <th></th>\n",
       "      <th>회원번호</th>\n",
       "      <th>회원등급</th>\n",
       "      <th>가입일</th>\n",
       "      <th>최종방문일</th>\n",
       "      <th>본인인증</th>\n",
       "      <th>성별</th>\n",
       "      <th>나이</th>\n",
       "      <th>자주쓰는배송지 도로명</th>\n",
       "      <th>자주쓰는배송지 지번</th>\n",
       "    </tr>\n",
       "  </thead>\n",
       "  <tbody>\n",
       "    <tr>\n",
       "      <th>50283</th>\n",
       "      <td>57789</td>\n",
       "      <td>일반</td>\n",
       "      <td>2018-11-07 08:57:25</td>\n",
       "      <td>2018-11-07 08:57:41</td>\n",
       "      <td>MOBILE</td>\n",
       "      <td>M</td>\n",
       "      <td>NaN</td>\n",
       "      <td>-</td>\n",
       "      <td>-</td>\n",
       "    </tr>\n",
       "    <tr>\n",
       "      <th>50284</th>\n",
       "      <td>57790</td>\n",
       "      <td>일반</td>\n",
       "      <td>2018-11-07 08:58:23</td>\n",
       "      <td>2018-11-07 08:58:38</td>\n",
       "      <td>NaN</td>\n",
       "      <td>-</td>\n",
       "      <td>NaN</td>\n",
       "      <td>-</td>\n",
       "      <td>-</td>\n",
       "    </tr>\n",
       "    <tr>\n",
       "      <th>50285</th>\n",
       "      <td>57791</td>\n",
       "      <td>일반</td>\n",
       "      <td>2018-11-07 09:33:48</td>\n",
       "      <td>2018-11-07 09:34:10</td>\n",
       "      <td>MOBILE</td>\n",
       "      <td>F</td>\n",
       "      <td>NaN</td>\n",
       "      <td>-</td>\n",
       "      <td>-</td>\n",
       "    </tr>\n",
       "    <tr>\n",
       "      <th>50286</th>\n",
       "      <td>57792</td>\n",
       "      <td>일반</td>\n",
       "      <td>2018-11-07 09:49:43</td>\n",
       "      <td>2018-11-07 09:49:43</td>\n",
       "      <td>NaN</td>\n",
       "      <td>-</td>\n",
       "      <td>NaN</td>\n",
       "      <td>-</td>\n",
       "      <td>-</td>\n",
       "    </tr>\n",
       "    <tr>\n",
       "      <th>50287</th>\n",
       "      <td>57793</td>\n",
       "      <td>일반</td>\n",
       "      <td>2018-11-07 10:06:54</td>\n",
       "      <td>2018-11-07 10:07:07</td>\n",
       "      <td>MOBILE</td>\n",
       "      <td>M</td>\n",
       "      <td>NaN</td>\n",
       "      <td>-</td>\n",
       "      <td>-</td>\n",
       "    </tr>\n",
       "  </tbody>\n",
       "</table>\n",
       "</div>"
      ],
      "text/plain": [
       "        회원번호 회원등급                  가입일                최종방문일    본인인증 성별   나이  \\\n",
       "50283  57789   일반  2018-11-07 08:57:25  2018-11-07 08:57:41  MOBILE  M  NaN   \n",
       "50284  57790   일반  2018-11-07 08:58:23  2018-11-07 08:58:38     NaN  -  NaN   \n",
       "50285  57791   일반  2018-11-07 09:33:48  2018-11-07 09:34:10  MOBILE  F  NaN   \n",
       "50286  57792   일반  2018-11-07 09:49:43  2018-11-07 09:49:43     NaN  -  NaN   \n",
       "50287  57793   일반  2018-11-07 10:06:54  2018-11-07 10:07:07  MOBILE  M  NaN   \n",
       "\n",
       "      자주쓰는배송지 도로명 자주쓰는배송지 지번  \n",
       "50283           -          -  \n",
       "50284           -          -  \n",
       "50285           -          -  \n",
       "50286           -          -  \n",
       "50287           -          -  "
      ]
     },
     "execution_count": 2,
     "metadata": {},
     "output_type": "execute_result"
    }
   ],
   "source": [
    "df_customer1.tail()"
   ]
  },
  {
   "cell_type": "code",
   "execution_count": 3,
   "id": "1e666224",
   "metadata": {},
   "outputs": [
    {
     "data": {
      "text/html": [
       "<div>\n",
       "<style scoped>\n",
       "    .dataframe tbody tr th:only-of-type {\n",
       "        vertical-align: middle;\n",
       "    }\n",
       "\n",
       "    .dataframe tbody tr th {\n",
       "        vertical-align: top;\n",
       "    }\n",
       "\n",
       "    .dataframe thead th {\n",
       "        text-align: right;\n",
       "    }\n",
       "</style>\n",
       "<table border=\"1\" class=\"dataframe\">\n",
       "  <thead>\n",
       "    <tr style=\"text-align: right;\">\n",
       "      <th></th>\n",
       "      <th>회원번호</th>\n",
       "      <th>회원등급</th>\n",
       "      <th>가입일</th>\n",
       "      <th>최종방문일</th>\n",
       "      <th>본인인증</th>\n",
       "      <th>성별</th>\n",
       "      <th>나이</th>\n",
       "      <th>자주쓰는배송지 도로명</th>\n",
       "      <th>자주쓰는배송지 지번</th>\n",
       "    </tr>\n",
       "  </thead>\n",
       "  <tbody>\n",
       "    <tr>\n",
       "      <th>0</th>\n",
       "      <td>1476</td>\n",
       "      <td>임직원</td>\n",
       "      <td>2016-11-05 00:00:00</td>\n",
       "      <td>2018-04-30 17:34:58</td>\n",
       "      <td>-</td>\n",
       "      <td>M</td>\n",
       "      <td>31</td>\n",
       "      <td>서울 금천구 가마산로 70</td>\n",
       "      <td>-</td>\n",
       "    </tr>\n",
       "    <tr>\n",
       "      <th>1</th>\n",
       "      <td>1873</td>\n",
       "      <td>임직원</td>\n",
       "      <td>2017-11-02 15:54:32</td>\n",
       "      <td>2018-11-05 10:12:51</td>\n",
       "      <td>MOBILE</td>\n",
       "      <td>M</td>\n",
       "      <td>32</td>\n",
       "      <td>경기 고양시 일산서구 고양대로 620</td>\n",
       "      <td>경기 고양시 일산서구 일산동 960-6</td>\n",
       "    </tr>\n",
       "    <tr>\n",
       "      <th>2</th>\n",
       "      <td>1874</td>\n",
       "      <td>임직원</td>\n",
       "      <td>2017-11-02 15:55:11</td>\n",
       "      <td>2018-11-07 07:27:31</td>\n",
       "      <td>MOBILE</td>\n",
       "      <td>M</td>\n",
       "      <td>39</td>\n",
       "      <td>경기 성남시 분당구 판교역로 4</td>\n",
       "      <td>경기 성남시 분당구 백현동 582-7</td>\n",
       "    </tr>\n",
       "    <tr>\n",
       "      <th>3</th>\n",
       "      <td>1875</td>\n",
       "      <td>임직원</td>\n",
       "      <td>2017-11-02 16:08:18</td>\n",
       "      <td>2018-11-05 08:35:48</td>\n",
       "      <td>MOBILE</td>\n",
       "      <td>F</td>\n",
       "      <td>29</td>\n",
       "      <td>서울 은평구 연서로34가길 10-16</td>\n",
       "      <td>서울 은평구 불광동 346-87</td>\n",
       "    </tr>\n",
       "    <tr>\n",
       "      <th>4</th>\n",
       "      <td>1876</td>\n",
       "      <td>임직원</td>\n",
       "      <td>2017-11-02 16:10:06</td>\n",
       "      <td>2018-11-06 14:51:02</td>\n",
       "      <td>MOBILE</td>\n",
       "      <td>M</td>\n",
       "      <td>30</td>\n",
       "      <td>서울 영등포구 국제금융로2길 32</td>\n",
       "      <td>서울 영등포구 여의도동 23-8</td>\n",
       "    </tr>\n",
       "  </tbody>\n",
       "</table>\n",
       "</div>"
      ],
      "text/plain": [
       "   회원번호 회원등급                  가입일                최종방문일    본인인증 성별  나이  \\\n",
       "0  1476  임직원  2016-11-05 00:00:00  2018-04-30 17:34:58       -  M  31   \n",
       "1  1873  임직원  2017-11-02 15:54:32  2018-11-05 10:12:51  MOBILE  M  32   \n",
       "2  1874  임직원  2017-11-02 15:55:11  2018-11-07 07:27:31  MOBILE  M  39   \n",
       "3  1875  임직원  2017-11-02 16:08:18  2018-11-05 08:35:48  MOBILE  F  29   \n",
       "4  1876  임직원  2017-11-02 16:10:06  2018-11-06 14:51:02  MOBILE  M  30   \n",
       "\n",
       "            자주쓰는배송지 도로명             자주쓰는배송지 지번  \n",
       "0        서울 금천구 가마산로 70                      -  \n",
       "1  경기 고양시 일산서구 고양대로 620  경기 고양시 일산서구 일산동 960-6  \n",
       "2     경기 성남시 분당구 판교역로 4   경기 성남시 분당구 백현동 582-7  \n",
       "3  서울 은평구 연서로34가길 10-16      서울 은평구 불광동 346-87  \n",
       "4    서울 영등포구 국제금융로2길 32      서울 영등포구 여의도동 23-8  "
      ]
     },
     "execution_count": 3,
     "metadata": {},
     "output_type": "execute_result"
    }
   ],
   "source": [
    "df_customer1.head()"
   ]
  },
  {
   "cell_type": "code",
   "execution_count": 4,
   "id": "39945d73",
   "metadata": {},
   "outputs": [
    {
     "data": {
      "text/plain": [
       "(50288, 9)"
      ]
     },
     "execution_count": 4,
     "metadata": {},
     "output_type": "execute_result"
    }
   ],
   "source": [
    "df_customer1.shape"
   ]
  },
  {
   "cell_type": "code",
   "execution_count": 5,
   "id": "24849e5f",
   "metadata": {},
   "outputs": [
    {
     "name": "stdout",
     "output_type": "stream",
     "text": [
      "<class 'pandas.core.frame.DataFrame'>\n",
      "RangeIndex: 50288 entries, 0 to 50287\n",
      "Data columns (total 9 columns):\n",
      " #   Column       Non-Null Count  Dtype \n",
      "---  ------       --------------  ----- \n",
      " 0   회원번호         50288 non-null  int64 \n",
      " 1   회원등급         50288 non-null  object\n",
      " 2   가입일          50288 non-null  object\n",
      " 3   최종방문일        50288 non-null  object\n",
      " 4   본인인증         43019 non-null  object\n",
      " 5   성별           50288 non-null  object\n",
      " 6   나이           32085 non-null  object\n",
      " 7   자주쓰는배송지 도로명  50288 non-null  object\n",
      " 8   자주쓰는배송지 지번   50288 non-null  object\n",
      "dtypes: int64(1), object(8)\n",
      "memory usage: 3.5+ MB\n"
     ]
    }
   ],
   "source": [
    "df_customer1.info()"
   ]
  },
  {
   "cell_type": "code",
   "execution_count": 6,
   "id": "8db787c4",
   "metadata": {},
   "outputs": [
    {
     "data": {
      "text/plain": [
       "회원번호               0\n",
       "회원등급               0\n",
       "가입일                0\n",
       "최종방문일              0\n",
       "본인인증            7269\n",
       "성별                 0\n",
       "나이             18203\n",
       "자주쓰는배송지 도로명        0\n",
       "자주쓰는배송지 지번         0\n",
       "dtype: int64"
      ]
     },
     "execution_count": 6,
     "metadata": {},
     "output_type": "execute_result"
    }
   ],
   "source": [
    "df_customer1.isnull().sum()"
   ]
  },
  {
   "cell_type": "code",
   "execution_count": 7,
   "id": "67e14189",
   "metadata": {},
   "outputs": [
    {
     "data": {
      "text/plain": [
       "False    43019\n",
       "True      7269\n",
       "Name: 본인인증, dtype: int64"
      ]
     },
     "execution_count": 7,
     "metadata": {},
     "output_type": "execute_result"
    }
   ],
   "source": [
    "df_customer1['본인인증'].isnull().value_counts()\n",
    "# 본인 인증 미기입 : 7269명"
   ]
  },
  {
   "cell_type": "code",
   "execution_count": 8,
   "id": "d14502a1",
   "metadata": {},
   "outputs": [
    {
     "data": {
      "text/plain": [
       "False    32085\n",
       "True     18203\n",
       "Name: 나이, dtype: int64"
      ]
     },
     "execution_count": 8,
     "metadata": {},
     "output_type": "execute_result"
    }
   ],
   "source": [
    "df_customer1['나이'].isnull().value_counts()\n",
    "# 나이 미 기입 : 18203명"
   ]
  },
  {
   "cell_type": "markdown",
   "id": "1021a7f5",
   "metadata": {},
   "source": [
    "# 결측치 처리\n",
    "- 본인인증 : 미기입은 '정보 없음'으로 처리\n",
    "- 나이 : 미기입은 '0'으로 처리"
   ]
  },
  {
   "cell_type": "code",
   "execution_count": 9,
   "id": "85735f4f",
   "metadata": {},
   "outputs": [
    {
     "data": {
      "text/plain": [
       "array(['-', 'MOBILE', 'IPIN', '정보 없음', 'BTOB'], dtype=object)"
      ]
     },
     "execution_count": 9,
     "metadata": {},
     "output_type": "execute_result"
    }
   ],
   "source": [
    "# 본인인증 미기입\n",
    "df_customer1['본인인증'] = df_customer1['본인인증'].fillna('정보 없음')\n",
    "df_customer1['본인인증'].unique()"
   ]
  },
  {
   "cell_type": "code",
   "execution_count": 10,
   "id": "ca26598e",
   "metadata": {},
   "outputs": [
    {
     "data": {
      "text/plain": [
       "array(['31', '32', '39', '29', '30', '20', '23', '28', '38', '41', '36',\n",
       "       '48', '24', '47', '26', '45', '44', '-', '58', '63', '21', '52',\n",
       "       '35', '25', '34', '43', '50', '42', '37', '27', '40', '49', '53',\n",
       "       '46', '54', '66', '55', '57', '56', '51', '33', '22', '61', '59',\n",
       "       '65', '67', '68', '62', '60', '18', '64', '17', '69', '71', '19',\n",
       "       '15', '16', '70', '13', '78', '73', '14', '79', '77', '85', '76',\n",
       "       '74', '72', '80', '75', '8', '87', '100', '84', '12', '81', '82',\n",
       "       '86', '83', '10', '90', '98', '9', '11', '95', '94', '88', '91',\n",
       "       '89', 0], dtype=object)"
      ]
     },
     "execution_count": 10,
     "metadata": {},
     "output_type": "execute_result"
    }
   ],
   "source": [
    "# 나이 미기입\n",
    "df_customer1['나이'] = df_customer1['나이'].fillna(0)\n",
    "df_customer1['나이'].unique()"
   ]
  },
  {
   "cell_type": "code",
   "execution_count": 11,
   "id": "29102978",
   "metadata": {},
   "outputs": [
    {
     "data": {
      "text/html": [
       "<div>\n",
       "<style scoped>\n",
       "    .dataframe tbody tr th:only-of-type {\n",
       "        vertical-align: middle;\n",
       "    }\n",
       "\n",
       "    .dataframe tbody tr th {\n",
       "        vertical-align: top;\n",
       "    }\n",
       "\n",
       "    .dataframe thead th {\n",
       "        text-align: right;\n",
       "    }\n",
       "</style>\n",
       "<table border=\"1\" class=\"dataframe\">\n",
       "  <thead>\n",
       "    <tr style=\"text-align: right;\">\n",
       "      <th></th>\n",
       "      <th>회원번호</th>\n",
       "      <th>회원등급</th>\n",
       "      <th>가입일</th>\n",
       "      <th>최종방문일</th>\n",
       "      <th>본인인증</th>\n",
       "      <th>성별</th>\n",
       "      <th>나이</th>\n",
       "      <th>자주쓰는배송지 도로명</th>\n",
       "      <th>자주쓰는배송지 지번</th>\n",
       "    </tr>\n",
       "  </thead>\n",
       "  <tbody>\n",
       "    <tr>\n",
       "      <th>0</th>\n",
       "      <td>1476</td>\n",
       "      <td>임직원</td>\n",
       "      <td>2016-11-05 00:00:00</td>\n",
       "      <td>2018-04-30 17:34:58</td>\n",
       "      <td>-</td>\n",
       "      <td>M</td>\n",
       "      <td>31</td>\n",
       "      <td>서울 금천구 가마산로 70</td>\n",
       "      <td>-</td>\n",
       "    </tr>\n",
       "    <tr>\n",
       "      <th>1</th>\n",
       "      <td>1873</td>\n",
       "      <td>임직원</td>\n",
       "      <td>2017-11-02 15:54:32</td>\n",
       "      <td>2018-11-05 10:12:51</td>\n",
       "      <td>MOBILE</td>\n",
       "      <td>M</td>\n",
       "      <td>32</td>\n",
       "      <td>경기 고양시 일산서구 고양대로 620</td>\n",
       "      <td>경기 고양시 일산서구 일산동 960-6</td>\n",
       "    </tr>\n",
       "    <tr>\n",
       "      <th>2</th>\n",
       "      <td>1874</td>\n",
       "      <td>임직원</td>\n",
       "      <td>2017-11-02 15:55:11</td>\n",
       "      <td>2018-11-07 07:27:31</td>\n",
       "      <td>MOBILE</td>\n",
       "      <td>M</td>\n",
       "      <td>39</td>\n",
       "      <td>경기 성남시 분당구 판교역로 4</td>\n",
       "      <td>경기 성남시 분당구 백현동 582-7</td>\n",
       "    </tr>\n",
       "    <tr>\n",
       "      <th>3</th>\n",
       "      <td>1875</td>\n",
       "      <td>임직원</td>\n",
       "      <td>2017-11-02 16:08:18</td>\n",
       "      <td>2018-11-05 08:35:48</td>\n",
       "      <td>MOBILE</td>\n",
       "      <td>F</td>\n",
       "      <td>29</td>\n",
       "      <td>서울 은평구 연서로34가길 10-16</td>\n",
       "      <td>서울 은평구 불광동 346-87</td>\n",
       "    </tr>\n",
       "    <tr>\n",
       "      <th>4</th>\n",
       "      <td>1876</td>\n",
       "      <td>임직원</td>\n",
       "      <td>2017-11-02 16:10:06</td>\n",
       "      <td>2018-11-06 14:51:02</td>\n",
       "      <td>MOBILE</td>\n",
       "      <td>M</td>\n",
       "      <td>30</td>\n",
       "      <td>서울 영등포구 국제금융로2길 32</td>\n",
       "      <td>서울 영등포구 여의도동 23-8</td>\n",
       "    </tr>\n",
       "    <tr>\n",
       "      <th>...</th>\n",
       "      <td>...</td>\n",
       "      <td>...</td>\n",
       "      <td>...</td>\n",
       "      <td>...</td>\n",
       "      <td>...</td>\n",
       "      <td>...</td>\n",
       "      <td>...</td>\n",
       "      <td>...</td>\n",
       "      <td>...</td>\n",
       "    </tr>\n",
       "    <tr>\n",
       "      <th>50283</th>\n",
       "      <td>57789</td>\n",
       "      <td>일반</td>\n",
       "      <td>2018-11-07 08:57:25</td>\n",
       "      <td>2018-11-07 08:57:41</td>\n",
       "      <td>MOBILE</td>\n",
       "      <td>M</td>\n",
       "      <td>0</td>\n",
       "      <td>-</td>\n",
       "      <td>-</td>\n",
       "    </tr>\n",
       "    <tr>\n",
       "      <th>50284</th>\n",
       "      <td>57790</td>\n",
       "      <td>일반</td>\n",
       "      <td>2018-11-07 08:58:23</td>\n",
       "      <td>2018-11-07 08:58:38</td>\n",
       "      <td>정보 없음</td>\n",
       "      <td>-</td>\n",
       "      <td>0</td>\n",
       "      <td>-</td>\n",
       "      <td>-</td>\n",
       "    </tr>\n",
       "    <tr>\n",
       "      <th>50285</th>\n",
       "      <td>57791</td>\n",
       "      <td>일반</td>\n",
       "      <td>2018-11-07 09:33:48</td>\n",
       "      <td>2018-11-07 09:34:10</td>\n",
       "      <td>MOBILE</td>\n",
       "      <td>F</td>\n",
       "      <td>0</td>\n",
       "      <td>-</td>\n",
       "      <td>-</td>\n",
       "    </tr>\n",
       "    <tr>\n",
       "      <th>50286</th>\n",
       "      <td>57792</td>\n",
       "      <td>일반</td>\n",
       "      <td>2018-11-07 09:49:43</td>\n",
       "      <td>2018-11-07 09:49:43</td>\n",
       "      <td>정보 없음</td>\n",
       "      <td>-</td>\n",
       "      <td>0</td>\n",
       "      <td>-</td>\n",
       "      <td>-</td>\n",
       "    </tr>\n",
       "    <tr>\n",
       "      <th>50287</th>\n",
       "      <td>57793</td>\n",
       "      <td>일반</td>\n",
       "      <td>2018-11-07 10:06:54</td>\n",
       "      <td>2018-11-07 10:07:07</td>\n",
       "      <td>MOBILE</td>\n",
       "      <td>M</td>\n",
       "      <td>0</td>\n",
       "      <td>-</td>\n",
       "      <td>-</td>\n",
       "    </tr>\n",
       "  </tbody>\n",
       "</table>\n",
       "<p>50288 rows × 9 columns</p>\n",
       "</div>"
      ],
      "text/plain": [
       "        회원번호 회원등급                  가입일                최종방문일    본인인증 성별  나이  \\\n",
       "0       1476  임직원  2016-11-05 00:00:00  2018-04-30 17:34:58       -  M  31   \n",
       "1       1873  임직원  2017-11-02 15:54:32  2018-11-05 10:12:51  MOBILE  M  32   \n",
       "2       1874  임직원  2017-11-02 15:55:11  2018-11-07 07:27:31  MOBILE  M  39   \n",
       "3       1875  임직원  2017-11-02 16:08:18  2018-11-05 08:35:48  MOBILE  F  29   \n",
       "4       1876  임직원  2017-11-02 16:10:06  2018-11-06 14:51:02  MOBILE  M  30   \n",
       "...      ...  ...                  ...                  ...     ... ..  ..   \n",
       "50283  57789   일반  2018-11-07 08:57:25  2018-11-07 08:57:41  MOBILE  M   0   \n",
       "50284  57790   일반  2018-11-07 08:58:23  2018-11-07 08:58:38   정보 없음  -   0   \n",
       "50285  57791   일반  2018-11-07 09:33:48  2018-11-07 09:34:10  MOBILE  F   0   \n",
       "50286  57792   일반  2018-11-07 09:49:43  2018-11-07 09:49:43   정보 없음  -   0   \n",
       "50287  57793   일반  2018-11-07 10:06:54  2018-11-07 10:07:07  MOBILE  M   0   \n",
       "\n",
       "                자주쓰는배송지 도로명             자주쓰는배송지 지번  \n",
       "0            서울 금천구 가마산로 70                      -  \n",
       "1      경기 고양시 일산서구 고양대로 620  경기 고양시 일산서구 일산동 960-6  \n",
       "2         경기 성남시 분당구 판교역로 4   경기 성남시 분당구 백현동 582-7  \n",
       "3      서울 은평구 연서로34가길 10-16      서울 은평구 불광동 346-87  \n",
       "4        서울 영등포구 국제금융로2길 32      서울 영등포구 여의도동 23-8  \n",
       "...                     ...                    ...  \n",
       "50283                     -                      -  \n",
       "50284                     -                      -  \n",
       "50285                     -                      -  \n",
       "50286                     -                      -  \n",
       "50287                     -                      -  \n",
       "\n",
       "[50288 rows x 9 columns]"
      ]
     },
     "execution_count": 11,
     "metadata": {},
     "output_type": "execute_result"
    }
   ],
   "source": [
    "df_customer1"
   ]
  },
  {
   "cell_type": "markdown",
   "id": "a2076093",
   "metadata": {},
   "source": [
    "# 고객의 회원 등급\n",
    " - XX 온라인 쇼핑몰 회원의 등급은 3가지로 나뉨\n",
    " - 임직원, 일반, MRO(소모성자재구매)\n",
    " - 일반과 임직원이 대다수를 차지함"
   ]
  },
  {
   "cell_type": "code",
   "execution_count": 12,
   "id": "df406659",
   "metadata": {},
   "outputs": [
    {
     "data": {
      "text/plain": [
       "array(['임직원', '일반', 'MRO'], dtype=object)"
      ]
     },
     "execution_count": 12,
     "metadata": {},
     "output_type": "execute_result"
    }
   ],
   "source": [
    "df_customer1['회원등급'].unique()"
   ]
  },
  {
   "cell_type": "code",
   "execution_count": 13,
   "id": "1186af94",
   "metadata": {},
   "outputs": [
    {
     "data": {
      "text/plain": [
       "일반     48472\n",
       "임직원     1813\n",
       "MRO        3\n",
       "Name: 회원등급, dtype: int64"
      ]
     },
     "execution_count": 13,
     "metadata": {},
     "output_type": "execute_result"
    }
   ],
   "source": [
    "df_customer1_member = df_customer1['회원등급'].value_counts()\n",
    "df_customer1_member"
   ]
  },
  {
   "cell_type": "code",
   "execution_count": 14,
   "id": "2c205878",
   "metadata": {},
   "outputs": [
    {
     "data": {
      "image/png": "[encoded data removed]",
      "text/plain": [
       "<Figure size 432x288 with 1 Axes>"
      ]
     },
     "metadata": {
      "needs_background": "light"
     },
     "output_type": "display_data"
    }
   ],
   "source": [
    "import matplotlib.pyplot as plt\n",
    "\n",
    "x = df_customer1_member.index\n",
    "y = df_customer1_member.values\n",
    "\n",
    "plt.plot(x,y)\n",
    "plt.title('고객의 회원 등급', size=15)\n",
    "plt.xlabel('등급')\n",
    "plt.ylabel('회원수')\n",
    "plt.show()"
   ]
  },
  {
   "cell_type": "code",
   "execution_count": 15,
   "id": "06600244",
   "metadata": {},
   "outputs": [
    {
     "data": {
      "image/png": "[encoded data removed]",
      "text/plain": [
       "<Figure size 432x288 with 1 Axes>"
      ]
     },
     "metadata": {
      "needs_background": "light"
     },
     "output_type": "display_data"
    }
   ],
   "source": [
    "plt.bar(x,y)\n",
    "plt.title('고객의 회원 등급', size=15)\n",
    "plt.xlabel('등급')\n",
    "plt.ylabel('회원수')\n",
    "plt.show()"
   ]
  },
  {
   "cell_type": "code",
   "execution_count": 16,
   "id": "40c66b88",
   "metadata": {},
   "outputs": [
    {
     "data": {
      "image/png": "[encoded data removed]",
      "text/plain": [
       "<Figure size 432x288 with 1 Axes>"
      ]
     },
     "metadata": {
      "needs_background": "light"
     },
     "output_type": "display_data"
    }
   ],
   "source": [
    "plt.barh(x,y)\n",
    "plt.title('고객의 회원 등급', size=15)\n",
    "plt.xlabel('회원수')\n",
    "plt.ylabel('등급')\n",
    "plt.show()"
   ]
  },
  {
   "cell_type": "code",
   "execution_count": 17,
   "id": "1a88acd7",
   "metadata": {},
   "outputs": [
    {
     "data": {
      "image/png": "[encoded data removed]",
      "text/plain": [
       "<Figure size 432x288 with 1 Axes>"
      ]
     },
     "metadata": {},
     "output_type": "display_data"
    }
   ],
   "source": [
    "import matplotlib.pyplot as plt\n",
    "import numpy as np\n",
    "\n",
    "y = df_customer1_member.values\n",
    "mylabels = df_customer1_member.index\n",
    "plt.title('고객의 회원 등급', size=15)\n",
    "plt.pie(y, labels = mylabels)\n",
    "plt.show()"
   ]
  },
  {
   "cell_type": "markdown",
   "id": "5c68a933",
   "metadata": {},
   "source": [
    "# 고객의 본인 인증\n",
    " - 인증 방법은 3가지로 나뉨\n",
    " - Mobile, IPIN, BTOB(Business-to-Business)\n",
    " - 본인인증에 대한 미기입 회원 수도 다수를 차지 함\n",
    " - BTOB 고객의 매출액 비중 확인 필요"
   ]
  },
  {
   "cell_type": "code",
   "execution_count": 18,
   "id": "46230e9b",
   "metadata": {},
   "outputs": [
    {
     "data": {
      "text/html": [
       "<div>\n",
       "<style scoped>\n",
       "    .dataframe tbody tr th:only-of-type {\n",
       "        vertical-align: middle;\n",
       "    }\n",
       "\n",
       "    .dataframe tbody tr th {\n",
       "        vertical-align: top;\n",
       "    }\n",
       "\n",
       "    .dataframe thead th {\n",
       "        text-align: right;\n",
       "    }\n",
       "</style>\n",
       "<table border=\"1\" class=\"dataframe\">\n",
       "  <thead>\n",
       "    <tr style=\"text-align: right;\">\n",
       "      <th></th>\n",
       "      <th>회원번호</th>\n",
       "      <th>회원등급</th>\n",
       "      <th>가입일</th>\n",
       "      <th>최종방문일</th>\n",
       "      <th>본인인증</th>\n",
       "      <th>성별</th>\n",
       "      <th>나이</th>\n",
       "      <th>자주쓰는배송지 도로명</th>\n",
       "      <th>자주쓰는배송지 지번</th>\n",
       "    </tr>\n",
       "  </thead>\n",
       "  <tbody>\n",
       "    <tr>\n",
       "      <th>0</th>\n",
       "      <td>1476</td>\n",
       "      <td>임직원</td>\n",
       "      <td>2016-11-05 00:00:00</td>\n",
       "      <td>2018-04-30 17:34:58</td>\n",
       "      <td>-</td>\n",
       "      <td>M</td>\n",
       "      <td>31</td>\n",
       "      <td>서울 금천구 가마산로 70</td>\n",
       "      <td>-</td>\n",
       "    </tr>\n",
       "    <tr>\n",
       "      <th>1</th>\n",
       "      <td>1873</td>\n",
       "      <td>임직원</td>\n",
       "      <td>2017-11-02 15:54:32</td>\n",
       "      <td>2018-11-05 10:12:51</td>\n",
       "      <td>MOBILE</td>\n",
       "      <td>M</td>\n",
       "      <td>32</td>\n",
       "      <td>경기 고양시 일산서구 고양대로 620</td>\n",
       "      <td>경기 고양시 일산서구 일산동 960-6</td>\n",
       "    </tr>\n",
       "    <tr>\n",
       "      <th>2</th>\n",
       "      <td>1874</td>\n",
       "      <td>임직원</td>\n",
       "      <td>2017-11-02 15:55:11</td>\n",
       "      <td>2018-11-07 07:27:31</td>\n",
       "      <td>MOBILE</td>\n",
       "      <td>M</td>\n",
       "      <td>39</td>\n",
       "      <td>경기 성남시 분당구 판교역로 4</td>\n",
       "      <td>경기 성남시 분당구 백현동 582-7</td>\n",
       "    </tr>\n",
       "    <tr>\n",
       "      <th>3</th>\n",
       "      <td>1875</td>\n",
       "      <td>임직원</td>\n",
       "      <td>2017-11-02 16:08:18</td>\n",
       "      <td>2018-11-05 08:35:48</td>\n",
       "      <td>MOBILE</td>\n",
       "      <td>F</td>\n",
       "      <td>29</td>\n",
       "      <td>서울 은평구 연서로34가길 10-16</td>\n",
       "      <td>서울 은평구 불광동 346-87</td>\n",
       "    </tr>\n",
       "    <tr>\n",
       "      <th>4</th>\n",
       "      <td>1876</td>\n",
       "      <td>임직원</td>\n",
       "      <td>2017-11-02 16:10:06</td>\n",
       "      <td>2018-11-06 14:51:02</td>\n",
       "      <td>MOBILE</td>\n",
       "      <td>M</td>\n",
       "      <td>30</td>\n",
       "      <td>서울 영등포구 국제금융로2길 32</td>\n",
       "      <td>서울 영등포구 여의도동 23-8</td>\n",
       "    </tr>\n",
       "    <tr>\n",
       "      <th>...</th>\n",
       "      <td>...</td>\n",
       "      <td>...</td>\n",
       "      <td>...</td>\n",
       "      <td>...</td>\n",
       "      <td>...</td>\n",
       "      <td>...</td>\n",
       "      <td>...</td>\n",
       "      <td>...</td>\n",
       "      <td>...</td>\n",
       "    </tr>\n",
       "    <tr>\n",
       "      <th>50283</th>\n",
       "      <td>57789</td>\n",
       "      <td>일반</td>\n",
       "      <td>2018-11-07 08:57:25</td>\n",
       "      <td>2018-11-07 08:57:41</td>\n",
       "      <td>MOBILE</td>\n",
       "      <td>M</td>\n",
       "      <td>0</td>\n",
       "      <td>-</td>\n",
       "      <td>-</td>\n",
       "    </tr>\n",
       "    <tr>\n",
       "      <th>50284</th>\n",
       "      <td>57790</td>\n",
       "      <td>일반</td>\n",
       "      <td>2018-11-07 08:58:23</td>\n",
       "      <td>2018-11-07 08:58:38</td>\n",
       "      <td>정보 없음</td>\n",
       "      <td>-</td>\n",
       "      <td>0</td>\n",
       "      <td>-</td>\n",
       "      <td>-</td>\n",
       "    </tr>\n",
       "    <tr>\n",
       "      <th>50285</th>\n",
       "      <td>57791</td>\n",
       "      <td>일반</td>\n",
       "      <td>2018-11-07 09:33:48</td>\n",
       "      <td>2018-11-07 09:34:10</td>\n",
       "      <td>MOBILE</td>\n",
       "      <td>F</td>\n",
       "      <td>0</td>\n",
       "      <td>-</td>\n",
       "      <td>-</td>\n",
       "    </tr>\n",
       "    <tr>\n",
       "      <th>50286</th>\n",
       "      <td>57792</td>\n",
       "      <td>일반</td>\n",
       "      <td>2018-11-07 09:49:43</td>\n",
       "      <td>2018-11-07 09:49:43</td>\n",
       "      <td>정보 없음</td>\n",
       "      <td>-</td>\n",
       "      <td>0</td>\n",
       "      <td>-</td>\n",
       "      <td>-</td>\n",
       "    </tr>\n",
       "    <tr>\n",
       "      <th>50287</th>\n",
       "      <td>57793</td>\n",
       "      <td>일반</td>\n",
       "      <td>2018-11-07 10:06:54</td>\n",
       "      <td>2018-11-07 10:07:07</td>\n",
       "      <td>MOBILE</td>\n",
       "      <td>M</td>\n",
       "      <td>0</td>\n",
       "      <td>-</td>\n",
       "      <td>-</td>\n",
       "    </tr>\n",
       "  </tbody>\n",
       "</table>\n",
       "<p>50288 rows × 9 columns</p>\n",
       "</div>"
      ],
      "text/plain": [
       "        회원번호 회원등급                  가입일                최종방문일    본인인증 성별  나이  \\\n",
       "0       1476  임직원  2016-11-05 00:00:00  2018-04-30 17:34:58       -  M  31   \n",
       "1       1873  임직원  2017-11-02 15:54:32  2018-11-05 10:12:51  MOBILE  M  32   \n",
       "2       1874  임직원  2017-11-02 15:55:11  2018-11-07 07:27:31  MOBILE  M  39   \n",
       "3       1875  임직원  2017-11-02 16:08:18  2018-11-05 08:35:48  MOBILE  F  29   \n",
       "4       1876  임직원  2017-11-02 16:10:06  2018-11-06 14:51:02  MOBILE  M  30   \n",
       "...      ...  ...                  ...                  ...     ... ..  ..   \n",
       "50283  57789   일반  2018-11-07 08:57:25  2018-11-07 08:57:41  MOBILE  M   0   \n",
       "50284  57790   일반  2018-11-07 08:58:23  2018-11-07 08:58:38   정보 없음  -   0   \n",
       "50285  57791   일반  2018-11-07 09:33:48  2018-11-07 09:34:10  MOBILE  F   0   \n",
       "50286  57792   일반  2018-11-07 09:49:43  2018-11-07 09:49:43   정보 없음  -   0   \n",
       "50287  57793   일반  2018-11-07 10:06:54  2018-11-07 10:07:07  MOBILE  M   0   \n",
       "\n",
       "                자주쓰는배송지 도로명             자주쓰는배송지 지번  \n",
       "0            서울 금천구 가마산로 70                      -  \n",
       "1      경기 고양시 일산서구 고양대로 620  경기 고양시 일산서구 일산동 960-6  \n",
       "2         경기 성남시 분당구 판교역로 4   경기 성남시 분당구 백현동 582-7  \n",
       "3      서울 은평구 연서로34가길 10-16      서울 은평구 불광동 346-87  \n",
       "4        서울 영등포구 국제금융로2길 32      서울 영등포구 여의도동 23-8  \n",
       "...                     ...                    ...  \n",
       "50283                     -                      -  \n",
       "50284                     -                      -  \n",
       "50285                     -                      -  \n",
       "50286                     -                      -  \n",
       "50287                     -                      -  \n",
       "\n",
       "[50288 rows x 9 columns]"
      ]
     },
     "execution_count": 18,
     "metadata": {},
     "output_type": "execute_result"
    }
   ],
   "source": [
    "df_customer1"
   ]
  },
  {
   "cell_type": "code",
   "execution_count": 19,
   "id": "759adbe5",
   "metadata": {},
   "outputs": [
    {
     "data": {
      "text/plain": [
       "array(['-', 'MOBILE', 'IPIN', '정보 없음', 'BTOB'], dtype=object)"
      ]
     },
     "execution_count": 19,
     "metadata": {},
     "output_type": "execute_result"
    }
   ],
   "source": [
    "df_customer1['본인인증'].unique()"
   ]
  },
  {
   "cell_type": "code",
   "execution_count": 20,
   "id": "9d82ac8c",
   "metadata": {},
   "outputs": [],
   "source": [
    "# 결측치 처리 : '-'\n",
    "df_customer1['본인인증'] = df_customer1['본인인증'].replace('-', '정보 없음') "
   ]
  },
  {
   "cell_type": "code",
   "execution_count": 21,
   "id": "8108026a",
   "metadata": {},
   "outputs": [
    {
     "data": {
      "text/plain": [
       "array(['정보 없음', 'MOBILE', 'IPIN', 'BTOB'], dtype=object)"
      ]
     },
     "execution_count": 21,
     "metadata": {},
     "output_type": "execute_result"
    }
   ],
   "source": [
    "df_customer1['본인인증'].unique()"
   ]
  },
  {
   "cell_type": "code",
   "execution_count": 22,
   "id": "e67f2154",
   "metadata": {},
   "outputs": [
    {
     "data": {
      "text/html": [
       "<div>\n",
       "<style scoped>\n",
       "    .dataframe tbody tr th:only-of-type {\n",
       "        vertical-align: middle;\n",
       "    }\n",
       "\n",
       "    .dataframe tbody tr th {\n",
       "        vertical-align: top;\n",
       "    }\n",
       "\n",
       "    .dataframe thead th {\n",
       "        text-align: right;\n",
       "    }\n",
       "</style>\n",
       "<table border=\"1\" class=\"dataframe\">\n",
       "  <thead>\n",
       "    <tr style=\"text-align: right;\">\n",
       "      <th></th>\n",
       "      <th>회원번호</th>\n",
       "      <th>회원등급</th>\n",
       "      <th>가입일</th>\n",
       "      <th>최종방문일</th>\n",
       "      <th>본인인증</th>\n",
       "      <th>성별</th>\n",
       "      <th>나이</th>\n",
       "      <th>자주쓰는배송지 도로명</th>\n",
       "      <th>자주쓰는배송지 지번</th>\n",
       "    </tr>\n",
       "  </thead>\n",
       "  <tbody>\n",
       "    <tr>\n",
       "      <th>0</th>\n",
       "      <td>1476</td>\n",
       "      <td>임직원</td>\n",
       "      <td>2016-11-05 00:00:00</td>\n",
       "      <td>2018-04-30 17:34:58</td>\n",
       "      <td>정보 없음</td>\n",
       "      <td>M</td>\n",
       "      <td>31</td>\n",
       "      <td>서울 금천구 가마산로 70</td>\n",
       "      <td>-</td>\n",
       "    </tr>\n",
       "    <tr>\n",
       "      <th>1</th>\n",
       "      <td>1873</td>\n",
       "      <td>임직원</td>\n",
       "      <td>2017-11-02 15:54:32</td>\n",
       "      <td>2018-11-05 10:12:51</td>\n",
       "      <td>MOBILE</td>\n",
       "      <td>M</td>\n",
       "      <td>32</td>\n",
       "      <td>경기 고양시 일산서구 고양대로 620</td>\n",
       "      <td>경기 고양시 일산서구 일산동 960-6</td>\n",
       "    </tr>\n",
       "    <tr>\n",
       "      <th>2</th>\n",
       "      <td>1874</td>\n",
       "      <td>임직원</td>\n",
       "      <td>2017-11-02 15:55:11</td>\n",
       "      <td>2018-11-07 07:27:31</td>\n",
       "      <td>MOBILE</td>\n",
       "      <td>M</td>\n",
       "      <td>39</td>\n",
       "      <td>경기 성남시 분당구 판교역로 4</td>\n",
       "      <td>경기 성남시 분당구 백현동 582-7</td>\n",
       "    </tr>\n",
       "    <tr>\n",
       "      <th>3</th>\n",
       "      <td>1875</td>\n",
       "      <td>임직원</td>\n",
       "      <td>2017-11-02 16:08:18</td>\n",
       "      <td>2018-11-05 08:35:48</td>\n",
       "      <td>MOBILE</td>\n",
       "      <td>F</td>\n",
       "      <td>29</td>\n",
       "      <td>서울 은평구 연서로34가길 10-16</td>\n",
       "      <td>서울 은평구 불광동 346-87</td>\n",
       "    </tr>\n",
       "    <tr>\n",
       "      <th>4</th>\n",
       "      <td>1876</td>\n",
       "      <td>임직원</td>\n",
       "      <td>2017-11-02 16:10:06</td>\n",
       "      <td>2018-11-06 14:51:02</td>\n",
       "      <td>MOBILE</td>\n",
       "      <td>M</td>\n",
       "      <td>30</td>\n",
       "      <td>서울 영등포구 국제금융로2길 32</td>\n",
       "      <td>서울 영등포구 여의도동 23-8</td>\n",
       "    </tr>\n",
       "    <tr>\n",
       "      <th>...</th>\n",
       "      <td>...</td>\n",
       "      <td>...</td>\n",
       "      <td>...</td>\n",
       "      <td>...</td>\n",
       "      <td>...</td>\n",
       "      <td>...</td>\n",
       "      <td>...</td>\n",
       "      <td>...</td>\n",
       "      <td>...</td>\n",
       "    </tr>\n",
       "    <tr>\n",
       "      <th>50283</th>\n",
       "      <td>57789</td>\n",
       "      <td>일반</td>\n",
       "      <td>2018-11-07 08:57:25</td>\n",
       "      <td>2018-11-07 08:57:41</td>\n",
       "      <td>MOBILE</td>\n",
       "      <td>M</td>\n",
       "      <td>0</td>\n",
       "      <td>-</td>\n",
       "      <td>-</td>\n",
       "    </tr>\n",
       "    <tr>\n",
       "      <th>50284</th>\n",
       "      <td>57790</td>\n",
       "      <td>일반</td>\n",
       "      <td>2018-11-07 08:58:23</td>\n",
       "      <td>2018-11-07 08:58:38</td>\n",
       "      <td>정보 없음</td>\n",
       "      <td>-</td>\n",
       "      <td>0</td>\n",
       "      <td>-</td>\n",
       "      <td>-</td>\n",
       "    </tr>\n",
       "    <tr>\n",
       "      <th>50285</th>\n",
       "      <td>57791</td>\n",
       "      <td>일반</td>\n",
       "      <td>2018-11-07 09:33:48</td>\n",
       "      <td>2018-11-07 09:34:10</td>\n",
       "      <td>MOBILE</td>\n",
       "      <td>F</td>\n",
       "      <td>0</td>\n",
       "      <td>-</td>\n",
       "      <td>-</td>\n",
       "    </tr>\n",
       "    <tr>\n",
       "      <th>50286</th>\n",
       "      <td>57792</td>\n",
       "      <td>일반</td>\n",
       "      <td>2018-11-07 09:49:43</td>\n",
       "      <td>2018-11-07 09:49:43</td>\n",
       "      <td>정보 없음</td>\n",
       "      <td>-</td>\n",
       "      <td>0</td>\n",
       "      <td>-</td>\n",
       "      <td>-</td>\n",
       "    </tr>\n",
       "    <tr>\n",
       "      <th>50287</th>\n",
       "      <td>57793</td>\n",
       "      <td>일반</td>\n",
       "      <td>2018-11-07 10:06:54</td>\n",
       "      <td>2018-11-07 10:07:07</td>\n",
       "      <td>MOBILE</td>\n",
       "      <td>M</td>\n",
       "      <td>0</td>\n",
       "      <td>-</td>\n",
       "      <td>-</td>\n",
       "    </tr>\n",
       "  </tbody>\n",
       "</table>\n",
       "<p>50288 rows × 9 columns</p>\n",
       "</div>"
      ],
      "text/plain": [
       "        회원번호 회원등급                  가입일                최종방문일    본인인증 성별  나이  \\\n",
       "0       1476  임직원  2016-11-05 00:00:00  2018-04-30 17:34:58   정보 없음  M  31   \n",
       "1       1873  임직원  2017-11-02 15:54:32  2018-11-05 10:12:51  MOBILE  M  32   \n",
       "2       1874  임직원  2017-11-02 15:55:11  2018-11-07 07:27:31  MOBILE  M  39   \n",
       "3       1875  임직원  2017-11-02 16:08:18  2018-11-05 08:35:48  MOBILE  F  29   \n",
       "4       1876  임직원  2017-11-02 16:10:06  2018-11-06 14:51:02  MOBILE  M  30   \n",
       "...      ...  ...                  ...                  ...     ... ..  ..   \n",
       "50283  57789   일반  2018-11-07 08:57:25  2018-11-07 08:57:41  MOBILE  M   0   \n",
       "50284  57790   일반  2018-11-07 08:58:23  2018-11-07 08:58:38   정보 없음  -   0   \n",
       "50285  57791   일반  2018-11-07 09:33:48  2018-11-07 09:34:10  MOBILE  F   0   \n",
       "50286  57792   일반  2018-11-07 09:49:43  2018-11-07 09:49:43   정보 없음  -   0   \n",
       "50287  57793   일반  2018-11-07 10:06:54  2018-11-07 10:07:07  MOBILE  M   0   \n",
       "\n",
       "                자주쓰는배송지 도로명             자주쓰는배송지 지번  \n",
       "0            서울 금천구 가마산로 70                      -  \n",
       "1      경기 고양시 일산서구 고양대로 620  경기 고양시 일산서구 일산동 960-6  \n",
       "2         경기 성남시 분당구 판교역로 4   경기 성남시 분당구 백현동 582-7  \n",
       "3      서울 은평구 연서로34가길 10-16      서울 은평구 불광동 346-87  \n",
       "4        서울 영등포구 국제금융로2길 32      서울 영등포구 여의도동 23-8  \n",
       "...                     ...                    ...  \n",
       "50283                     -                      -  \n",
       "50284                     -                      -  \n",
       "50285                     -                      -  \n",
       "50286                     -                      -  \n",
       "50287                     -                      -  \n",
       "\n",
       "[50288 rows x 9 columns]"
      ]
     },
     "execution_count": 22,
     "metadata": {},
     "output_type": "execute_result"
    }
   ],
   "source": [
    "df_customer1"
   ]
  },
  {
   "cell_type": "code",
   "execution_count": 23,
   "id": "b4d286cb",
   "metadata": {},
   "outputs": [
    {
     "data": {
      "text/plain": [
       "MOBILE    41528\n",
       "정보 없음      7270\n",
       "IPIN       1486\n",
       "BTOB          4\n",
       "Name: 본인인증, dtype: int64"
      ]
     },
     "execution_count": 23,
     "metadata": {},
     "output_type": "execute_result"
    }
   ],
   "source": [
    "df_customer1_verification = df_customer1['본인인증'].value_counts()\n",
    "df_customer1_verification"
   ]
  },
  {
   "cell_type": "code",
   "execution_count": 24,
   "id": "1e7715d9",
   "metadata": {},
   "outputs": [
    {
     "data": {
      "image/png": "[encoded data removed]",
      "text/plain": [
       "<Figure size 432x288 with 1 Axes>"
      ]
     },
     "metadata": {
      "needs_background": "light"
     },
     "output_type": "display_data"
    }
   ],
   "source": [
    "import matplotlib.pyplot as plt\n",
    "\n",
    "x = df_customer1_verification.index\n",
    "y = df_customer1_verification.values\n",
    "\n",
    "plt.barh(x,y, color = 'orange')\n",
    "plt.title('고객의 본인 인증', size=15)\n",
    "plt.xlabel('회원수')\n",
    "plt.ylabel('인증 구분')\n",
    "plt.show()"
   ]
  },
  {
   "cell_type": "code",
   "execution_count": 25,
   "id": "789927d9",
   "metadata": {},
   "outputs": [
    {
     "data": {
      "image/png": "[encoded data removed]",
      "text/plain": [
       "<Figure size 432x288 with 1 Axes>"
      ]
     },
     "metadata": {
      "needs_background": "light"
     },
     "output_type": "display_data"
    }
   ],
   "source": [
    "import matplotlib.pyplot as plt\n",
    "\n",
    "x = df_customer1_verification.index\n",
    "y = df_customer1_verification.values\n",
    "\n",
    "plt.bar(x,y, color = 'orange')\n",
    "plt.title('고객의 본인 인증', size=15)\n",
    "plt.xlabel('인증 구분')\n",
    "plt.ylabel('회원 수')\n",
    "plt.show()"
   ]
  },
  {
   "cell_type": "code",
   "execution_count": null,
   "id": "311c614a",
   "metadata": {},
   "outputs": [],
   "source": []
  },
  {
   "cell_type": "markdown",
   "id": "73d8538b",
   "metadata": {},
   "source": [
    "# 고객의 성별 분포 \n",
    "- 남자 고객 수가 많음\n",
    "- 고객의 성별이 파악되지 않는 건수도 상당 수 있음"
   ]
  },
  {
   "cell_type": "code",
   "execution_count": 26,
   "id": "c8ded8ad",
   "metadata": {},
   "outputs": [
    {
     "data": {
      "text/plain": [
       "array(['M', 'F', '-'], dtype=object)"
      ]
     },
     "execution_count": 26,
     "metadata": {},
     "output_type": "execute_result"
    }
   ],
   "source": [
    "df_customer1['성별'].unique()"
   ]
  },
  {
   "cell_type": "code",
   "execution_count": 27,
   "id": "208e5f13",
   "metadata": {},
   "outputs": [],
   "source": [
    "# 결측치 처리 : '-'\n",
    "df_customer1['성별'] = df_customer1['성별'].replace('-', '정보 없음') "
   ]
  },
  {
   "cell_type": "code",
   "execution_count": 28,
   "id": "4beedd15",
   "metadata": {},
   "outputs": [
    {
     "data": {
      "text/plain": [
       "M        24088\n",
       "F        17691\n",
       "정보 없음     8509\n",
       "Name: 성별, dtype: int64"
      ]
     },
     "execution_count": 28,
     "metadata": {},
     "output_type": "execute_result"
    }
   ],
   "source": [
    "df_customer1_gender = df_customer1['성별'].value_counts()\n",
    "df_customer1_gender"
   ]
  },
  {
   "cell_type": "code",
   "execution_count": 29,
   "id": "f9493cc2",
   "metadata": {},
   "outputs": [
    {
     "data": {
      "image/png": "[encoded data removed]",
      "text/plain": [
       "<Figure size 432x288 with 1 Axes>"
      ]
     },
     "metadata": {
      "needs_background": "light"
     },
     "output_type": "display_data"
    }
   ],
   "source": [
    "import matplotlib.pyplot as plt\n",
    "\n",
    "x = df_customer1_gender.index\n",
    "y = df_customer1_gender.values\n",
    "\n",
    "plt.bar(x,y, color = 'green')\n",
    "plt.xticks([0, 1, 2], ['남자', '여자', '정보 없음'])\n",
    "plt.title('고객의 성별 분포', size=15)\n",
    "plt.xlabel('성별 구분')\n",
    "plt.ylabel('회원 수')\n",
    "plt.show()"
   ]
  },
  {
   "cell_type": "code",
   "execution_count": 30,
   "id": "5058ec74",
   "metadata": {},
   "outputs": [
    {
     "data": {
      "image/png": "[encoded data removed]",
      "text/plain": [
       "<Figure size 1080x360 with 1 Axes>"
      ]
     },
     "metadata": {},
     "output_type": "display_data"
    }
   ],
   "source": [
    "plt.rcParams['figure.figsize']=(15,5)\n",
    "\n",
    "labels = df_customer1_gender.index\n",
    "size = df_customer1_gender.values\n",
    "\n",
    "plt.pie(size, labels=labels, autopct='%1.1f%%')\n",
    "plt.show()"
   ]
  },
  {
   "cell_type": "code",
   "execution_count": null,
   "id": "7aa55dcc",
   "metadata": {},
   "outputs": [],
   "source": []
  },
  {
   "cell_type": "markdown",
   "id": "c4099f69",
   "metadata": {},
   "source": [
    "# 고객의 연령 분포\n",
    "- 상당 수의 고객의 연령 미파악 됨"
   ]
  },
  {
   "cell_type": "code",
   "execution_count": 31,
   "id": "65cdad31",
   "metadata": {},
   "outputs": [
    {
     "data": {
      "text/plain": [
       "array(['31', '32', '39', '29', '30', '20', '23', '28', '38', '41', '36',\n",
       "       '48', '24', '47', '26', '45', '44', '-', '58', '63', '21', '52',\n",
       "       '35', '25', '34', '43', '50', '42', '37', '27', '40', '49', '53',\n",
       "       '46', '54', '66', '55', '57', '56', '51', '33', '22', '61', '59',\n",
       "       '65', '67', '68', '62', '60', '18', '64', '17', '69', '71', '19',\n",
       "       '15', '16', '70', '13', '78', '73', '14', '79', '77', '85', '76',\n",
       "       '74', '72', '80', '75', '8', '87', '100', '84', '12', '81', '82',\n",
       "       '86', '83', '10', '90', '98', '9', '11', '95', '94', '88', '91',\n",
       "       '89', 0], dtype=object)"
      ]
     },
     "execution_count": 31,
     "metadata": {},
     "output_type": "execute_result"
    }
   ],
   "source": [
    "df_customer1['나이'].unique()"
   ]
  },
  {
   "cell_type": "code",
   "execution_count": 32,
   "id": "81915433",
   "metadata": {},
   "outputs": [],
   "source": [
    "# 결측치 처리 : '-'\n",
    "df_customer1['나이'] = df_customer1['나이'].replace('-', 0) "
   ]
  },
  {
   "cell_type": "code",
   "execution_count": 33,
   "id": "9064845f",
   "metadata": {},
   "outputs": [
    {
     "data": {
      "text/plain": [
       "array(['31', '32', '39', '29', '30', '20', '23', '28', '38', '41', '36',\n",
       "       '48', '24', '47', '26', '45', '44', 0, '58', '63', '21', '52',\n",
       "       '35', '25', '34', '43', '50', '42', '37', '27', '40', '49', '53',\n",
       "       '46', '54', '66', '55', '57', '56', '51', '33', '22', '61', '59',\n",
       "       '65', '67', '68', '62', '60', '18', '64', '17', '69', '71', '19',\n",
       "       '15', '16', '70', '13', '78', '73', '14', '79', '77', '85', '76',\n",
       "       '74', '72', '80', '75', '8', '87', '100', '84', '12', '81', '82',\n",
       "       '86', '83', '10', '90', '98', '9', '11', '95', '94', '88', '91',\n",
       "       '89'], dtype=object)"
      ]
     },
     "execution_count": 33,
     "metadata": {},
     "output_type": "execute_result"
    }
   ],
   "source": [
    "df_customer1['나이'].unique()"
   ]
  },
  {
   "cell_type": "code",
   "execution_count": 34,
   "id": "f98c0f32",
   "metadata": {},
   "outputs": [
    {
     "data": {
      "text/plain": [
       "array([ 31,  32,  39,  29,  30,  20,  23,  28,  38,  41,  36,  48,  24,\n",
       "        47,  26,  45,  44,   0,  58,  63,  21,  52,  35,  25,  34,  43,\n",
       "        50,  42,  37,  27,  40,  49,  53,  46,  54,  66,  55,  57,  56,\n",
       "        51,  33,  22,  61,  59,  65,  67,  68,  62,  60,  18,  64,  17,\n",
       "        69,  71,  19,  15,  16,  70,  13,  78,  73,  14,  79,  77,  85,\n",
       "        76,  74,  72,  80,  75,   8,  87, 100,  84,  12,  81,  82,  86,\n",
       "        83,  10,  90,  98,   9,  11,  95,  94,  88,  91,  89])"
      ]
     },
     "execution_count": 34,
     "metadata": {},
     "output_type": "execute_result"
    }
   ],
   "source": [
    "# 자료형 변환 (string -> integer)\n",
    "df_customer1['나이'] = df_customer1['나이'].astype('float64')\n",
    "df_customer1['나이'] = df_customer1['나이'].astype('int')\n",
    "df_customer1['나이'].unique()"
   ]
  },
  {
   "cell_type": "code",
   "execution_count": 35,
   "id": "eec66b5a",
   "metadata": {},
   "outputs": [
    {
     "data": {
      "image/png": "[encoded data removed]",
      "text/plain": [
       "<Figure size 1440x360 with 1 Axes>"
      ]
     },
     "metadata": {
      "needs_background": "light"
     },
     "output_type": "display_data"
    }
   ],
   "source": [
    "plt.rcParams['figure.figsize']=(20,5)\n",
    "\n",
    "df_customer1_age = df_customer1['나이']\n",
    "df_customer1_age.hist(bins=20)\n",
    "\n",
    "plt.title('고객의 연령 분포', size=15)\n",
    "plt.xlabel('연령')\n",
    "plt.ylabel('회원 수')\n",
    "plt.show()"
   ]
  },
  {
   "cell_type": "code",
   "execution_count": 36,
   "id": "4582eaee",
   "metadata": {},
   "outputs": [
    {
     "data": {
      "text/plain": [
       "26.0"
      ]
     },
     "execution_count": 36,
     "metadata": {},
     "output_type": "execute_result"
    }
   ],
   "source": [
    "df_customer1['나이'].median()"
   ]
  }
 ],
 "metadata": {
  "kernelspec": {
   "display_name": "Python 3 (ipykernel)",
   "language": "python",
   "name": "python3"
  },
  "language_info": {
   "codemirror_mode": {
    "name": "ipython",
    "version": 3
   },
   "file_extension": ".py",
   "mimetype": "text/x-python",
   "name": "python",
   "nbconvert_exporter": "python",
   "pygments_lexer": "ipython3",
   "version": "3.9.12"
  },
  "toc": {
   "base_numbering": 1,
   "nav_menu": {},
   "number_sections": true,
   "sideBar": true,
   "skip_h1_title": false,
   "title_cell": "Table of Contents",
   "title_sidebar": "Contents",
   "toc_cell": false,
   "toc_position": {},
   "toc_section_display": true,
   "toc_window_display": true
  }
 },
 "nbformat": 4,
 "nbformat_minor": 5
}
