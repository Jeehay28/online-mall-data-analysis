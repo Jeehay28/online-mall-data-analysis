{
 "cells": [
  {
   "cell_type": "code",
   "execution_count": 1,
   "id": "003ea647",
   "metadata": {},
   "outputs": [],
   "source": [
    "import pandas as pd\n",
    "import matplotlib.pyplot as plt\n",
    "\n",
    "# 그래프에 한글 설정\n",
    "plt.rcParams['font.family']='Malgun Gothic'\n",
    "\n",
    "# 그래프에 마이너스 기호 깨지는 문제 해결\n",
    "plt.rcParams['axes.unicode_minus'] = False\n",
    "\n",
    "df_order1 = pd.read_excel (r'3.1 주문정보(개인정보 제외)_추출.xlsx')\n",
    "df_items1 = pd.read_excel (r'2.1 상품정보_추출.xlsx')\n"
   ]
  },
  {
   "cell_type": "markdown",
   "id": "7756b01e",
   "metadata": {},
   "source": [
    "# 주문 상품\n",
    "- 주분 구분에서 4가지 값(환불완료, 결제취소, 주문취소, 환불신청)은 제외"
   ]
  },
  {
   "cell_type": "code",
   "execution_count": 2,
   "id": "0347704b",
   "metadata": {},
   "outputs": [
    {
     "data": {
      "text/html": [
       "<div>\n",
       "<style scoped>\n",
       "    .dataframe tbody tr th:only-of-type {\n",
       "        vertical-align: middle;\n",
       "    }\n",
       "\n",
       "    .dataframe tbody tr th {\n",
       "        vertical-align: top;\n",
       "    }\n",
       "\n",
       "    .dataframe thead th {\n",
       "        text-align: right;\n",
       "    }\n",
       "</style>\n",
       "<table border=\"1\" class=\"dataframe\">\n",
       "  <thead>\n",
       "    <tr style=\"text-align: right;\">\n",
       "      <th></th>\n",
       "      <th>주문번호</th>\n",
       "      <th>순번</th>\n",
       "      <th>주문일시</th>\n",
       "      <th>진행구분</th>\n",
       "      <th>배송지</th>\n",
       "      <th>상품번호</th>\n",
       "      <th>상품명</th>\n",
       "      <th>옵션명</th>\n",
       "      <th>수량</th>\n",
       "      <th>판매가</th>\n",
       "      <th>배송비</th>\n",
       "      <th>쿠폰할인액</th>\n",
       "      <th>회원주문여부</th>\n",
       "      <th>회원번호</th>\n",
       "    </tr>\n",
       "  </thead>\n",
       "  <tbody>\n",
       "    <tr>\n",
       "      <th>0</th>\n",
       "      <td>1711080845542139</td>\n",
       "      <td>1</td>\n",
       "      <td>2017-11-08 08:46:26</td>\n",
       "      <td>환불완료</td>\n",
       "      <td>서울 영등포구 국제금융로2길 32</td>\n",
       "      <td>G1710311847_6746</td>\n",
       "      <td>(임직원 전용)[케라미카] 바뎀 2인홈세트 (11p)</td>\n",
       "      <td>NaN</td>\n",
       "      <td>1</td>\n",
       "      <td>48840.0</td>\n",
       "      <td>0.0</td>\n",
       "      <td>9760.0</td>\n",
       "      <td>Y</td>\n",
       "      <td>1876</td>\n",
       "    </tr>\n",
       "    <tr>\n",
       "      <th>1</th>\n",
       "      <td>1711080902432145</td>\n",
       "      <td>1</td>\n",
       "      <td>2017-11-08 09:04:28</td>\n",
       "      <td>결제취소</td>\n",
       "      <td>서울 영등포구 국제금융로2길 32</td>\n",
       "      <td>G1710311849_6973</td>\n",
       "      <td>(임직원 전용)[아름다운공간] 스윗도자기 원형디스펜서 (2color/400ml)</td>\n",
       "      <td>색상:핑크</td>\n",
       "      <td>1</td>\n",
       "      <td>7800.0</td>\n",
       "      <td>2500.0</td>\n",
       "      <td>1560.0</td>\n",
       "      <td>Y</td>\n",
       "      <td>1876</td>\n",
       "    </tr>\n",
       "  </tbody>\n",
       "</table>\n",
       "</div>"
      ],
      "text/plain": [
       "               주문번호  순번                 주문일시  진행구분                 배송지  \\\n",
       "0  1711080845542139   1  2017-11-08 08:46:26  환불완료  서울 영등포구 국제금융로2길 32   \n",
       "1  1711080902432145   1  2017-11-08 09:04:28  결제취소  서울 영등포구 국제금융로2길 32   \n",
       "\n",
       "               상품번호                                           상품명    옵션명  수량  \\\n",
       "0  G1710311847_6746                 (임직원 전용)[케라미카] 바뎀 2인홈세트 (11p)    NaN   1   \n",
       "1  G1710311849_6973  (임직원 전용)[아름다운공간] 스윗도자기 원형디스펜서 (2color/400ml)  색상:핑크   1   \n",
       "\n",
       "       판매가     배송비   쿠폰할인액 회원주문여부  회원번호  \n",
       "0  48840.0     0.0  9760.0      Y  1876  \n",
       "1   7800.0  2500.0  1560.0      Y  1876  "
      ]
     },
     "execution_count": 2,
     "metadata": {},
     "output_type": "execute_result"
    }
   ],
   "source": [
    "df_order1.head(2)"
   ]
  },
  {
   "cell_type": "code",
   "execution_count": 3,
   "id": "6492e553",
   "metadata": {},
   "outputs": [
    {
     "data": {
      "text/plain": [
       "주문번호        int64\n",
       "순번          int64\n",
       "주문일시       object\n",
       "진행구분       object\n",
       "배송지        object\n",
       "상품번호       object\n",
       "상품명        object\n",
       "옵션명        object\n",
       "수량          int64\n",
       "판매가       float64\n",
       "배송비       float64\n",
       "쿠폰할인액     float64\n",
       "회원주문여부     object\n",
       "회원번호        int64\n",
       "dtype: object"
      ]
     },
     "execution_count": 3,
     "metadata": {},
     "output_type": "execute_result"
    }
   ],
   "source": [
    "df_order1.dtypes"
   ]
  },
  {
   "cell_type": "code",
   "execution_count": 4,
   "id": "d2b93e0e",
   "metadata": {},
   "outputs": [],
   "source": [
    "# datetime형으로 변경 : 주문일시\n",
    "df_order1['주문일시'] = pd.to_datetime(df_order1['주문일시'])"
   ]
  },
  {
   "cell_type": "code",
   "execution_count": 5,
   "id": "2690ac64",
   "metadata": {},
   "outputs": [],
   "source": [
    "df_order1['주문일자'] = df_order1['주문일시'].dt.date"
   ]
  },
  {
   "cell_type": "code",
   "execution_count": 6,
   "id": "1af2ab14",
   "metadata": {},
   "outputs": [
    {
     "data": {
      "text/html": [
       "<div>\n",
       "<style scoped>\n",
       "    .dataframe tbody tr th:only-of-type {\n",
       "        vertical-align: middle;\n",
       "    }\n",
       "\n",
       "    .dataframe tbody tr th {\n",
       "        vertical-align: top;\n",
       "    }\n",
       "\n",
       "    .dataframe thead th {\n",
       "        text-align: right;\n",
       "    }\n",
       "</style>\n",
       "<table border=\"1\" class=\"dataframe\">\n",
       "  <thead>\n",
       "    <tr style=\"text-align: right;\">\n",
       "      <th></th>\n",
       "      <th>주문번호</th>\n",
       "      <th>순번</th>\n",
       "      <th>주문일시</th>\n",
       "      <th>진행구분</th>\n",
       "      <th>배송지</th>\n",
       "      <th>상품번호</th>\n",
       "      <th>상품명</th>\n",
       "      <th>옵션명</th>\n",
       "      <th>수량</th>\n",
       "      <th>판매가</th>\n",
       "      <th>배송비</th>\n",
       "      <th>쿠폰할인액</th>\n",
       "      <th>회원주문여부</th>\n",
       "      <th>회원번호</th>\n",
       "      <th>주문일자</th>\n",
       "    </tr>\n",
       "  </thead>\n",
       "  <tbody>\n",
       "    <tr>\n",
       "      <th>0</th>\n",
       "      <td>1711080845542139</td>\n",
       "      <td>1</td>\n",
       "      <td>2017-11-08 08:46:26</td>\n",
       "      <td>환불완료</td>\n",
       "      <td>서울 영등포구 국제금융로2길 32</td>\n",
       "      <td>G1710311847_6746</td>\n",
       "      <td>(임직원 전용)[케라미카] 바뎀 2인홈세트 (11p)</td>\n",
       "      <td>NaN</td>\n",
       "      <td>1</td>\n",
       "      <td>48840.0</td>\n",
       "      <td>0.0</td>\n",
       "      <td>9760.0</td>\n",
       "      <td>Y</td>\n",
       "      <td>1876</td>\n",
       "      <td>2017-11-08</td>\n",
       "    </tr>\n",
       "    <tr>\n",
       "      <th>1</th>\n",
       "      <td>1711080902432145</td>\n",
       "      <td>1</td>\n",
       "      <td>2017-11-08 09:04:28</td>\n",
       "      <td>결제취소</td>\n",
       "      <td>서울 영등포구 국제금융로2길 32</td>\n",
       "      <td>G1710311849_6973</td>\n",
       "      <td>(임직원 전용)[아름다운공간] 스윗도자기 원형디스펜서 (2color/400ml)</td>\n",
       "      <td>색상:핑크</td>\n",
       "      <td>1</td>\n",
       "      <td>7800.0</td>\n",
       "      <td>2500.0</td>\n",
       "      <td>1560.0</td>\n",
       "      <td>Y</td>\n",
       "      <td>1876</td>\n",
       "      <td>2017-11-08</td>\n",
       "    </tr>\n",
       "  </tbody>\n",
       "</table>\n",
       "</div>"
      ],
      "text/plain": [
       "               주문번호  순번                주문일시  진행구분                 배송지  \\\n",
       "0  1711080845542139   1 2017-11-08 08:46:26  환불완료  서울 영등포구 국제금융로2길 32   \n",
       "1  1711080902432145   1 2017-11-08 09:04:28  결제취소  서울 영등포구 국제금융로2길 32   \n",
       "\n",
       "               상품번호                                           상품명    옵션명  수량  \\\n",
       "0  G1710311847_6746                 (임직원 전용)[케라미카] 바뎀 2인홈세트 (11p)    NaN   1   \n",
       "1  G1710311849_6973  (임직원 전용)[아름다운공간] 스윗도자기 원형디스펜서 (2color/400ml)  색상:핑크   1   \n",
       "\n",
       "       판매가     배송비   쿠폰할인액 회원주문여부  회원번호        주문일자  \n",
       "0  48840.0     0.0  9760.0      Y  1876  2017-11-08  \n",
       "1   7800.0  2500.0  1560.0      Y  1876  2017-11-08  "
      ]
     },
     "execution_count": 6,
     "metadata": {},
     "output_type": "execute_result"
    }
   ],
   "source": [
    "df_order1.head(2)"
   ]
  },
  {
   "cell_type": "code",
   "execution_count": 7,
   "id": "2fff2e56",
   "metadata": {},
   "outputs": [],
   "source": [
    "# 주분 구분 제외 항목(환불완료, 결제취소, 주문취소, 환불신청)\n",
    "df_order1.drop(df_order1[df_order1[\"진행구분\"] == '환불완료'].index, inplace=True)\n",
    "df_order1.drop(df_order1[df_order1[\"진행구분\"] == '결제취소'].index, inplace=True)\n",
    "df_order1.drop(df_order1[df_order1[\"진행구분\"] == '환불신청'].index, inplace=True)\n",
    "df_order1.drop(df_order1[df_order1[\"진행구분\"] == '주문취소'].index, inplace=True)"
   ]
  },
  {
   "cell_type": "code",
   "execution_count": 8,
   "id": "b783dd69",
   "metadata": {},
   "outputs": [
    {
     "data": {
      "text/html": [
       "<div>\n",
       "<style scoped>\n",
       "    .dataframe tbody tr th:only-of-type {\n",
       "        vertical-align: middle;\n",
       "    }\n",
       "\n",
       "    .dataframe tbody tr th {\n",
       "        vertical-align: top;\n",
       "    }\n",
       "\n",
       "    .dataframe thead th {\n",
       "        text-align: right;\n",
       "    }\n",
       "</style>\n",
       "<table border=\"1\" class=\"dataframe\">\n",
       "  <thead>\n",
       "    <tr style=\"text-align: right;\">\n",
       "      <th></th>\n",
       "      <th>상품번호</th>\n",
       "      <th>상품명</th>\n",
       "      <th>업체명</th>\n",
       "      <th>카테고리명</th>\n",
       "      <th>브랜드명</th>\n",
       "      <th>상품구분</th>\n",
       "      <th>대표판매가</th>\n",
       "      <th>배송비</th>\n",
       "      <th>판매상태</th>\n",
       "      <th>전시상태</th>\n",
       "    </tr>\n",
       "  </thead>\n",
       "  <tbody>\n",
       "    <tr>\n",
       "      <th>0</th>\n",
       "      <td>G1708291036_0216</td>\n",
       "      <td>[라이마스] 에어_630630</td>\n",
       "      <td>(주)라이마스</td>\n",
       "      <td>홈데코레이션</td>\n",
       "      <td>LIMAS</td>\n",
       "      <td>일반</td>\n",
       "      <td>220000.0</td>\n",
       "      <td>50000.00 이하 5500.00</td>\n",
       "      <td>품절</td>\n",
       "      <td>N</td>\n",
       "    </tr>\n",
       "    <tr>\n",
       "      <th>1</th>\n",
       "      <td>G1708291049_0217</td>\n",
       "      <td>[라이마스] 에어_730350</td>\n",
       "      <td>(주)라이마스</td>\n",
       "      <td>홈데코레이션</td>\n",
       "      <td>LIMAS</td>\n",
       "      <td>일반</td>\n",
       "      <td>275000.0</td>\n",
       "      <td>50000.00 이하 5500.00</td>\n",
       "      <td>품절</td>\n",
       "      <td>N</td>\n",
       "    </tr>\n",
       "    <tr>\n",
       "      <th>2</th>\n",
       "      <td>G1708291054_0220</td>\n",
       "      <td>[라이마스] 에어_1200190</td>\n",
       "      <td>(주)라이마스</td>\n",
       "      <td>홈데코레이션</td>\n",
       "      <td>LIMAS</td>\n",
       "      <td>일반</td>\n",
       "      <td>270000.0</td>\n",
       "      <td>50000.00 이하 5500.00</td>\n",
       "      <td>판매중</td>\n",
       "      <td>Y</td>\n",
       "    </tr>\n",
       "    <tr>\n",
       "      <th>3</th>\n",
       "      <td>G1708291058_0221</td>\n",
       "      <td>[라이마스] 에어_730190</td>\n",
       "      <td>(주)라이마스</td>\n",
       "      <td>홈데코레이션</td>\n",
       "      <td>LIMAS</td>\n",
       "      <td>일반</td>\n",
       "      <td>165000.0</td>\n",
       "      <td>50000.00 이하 5500.00</td>\n",
       "      <td>판매중</td>\n",
       "      <td>Y</td>\n",
       "    </tr>\n",
       "    <tr>\n",
       "      <th>4</th>\n",
       "      <td>G1708291109_0222</td>\n",
       "      <td>[라이마스] 에어_730750</td>\n",
       "      <td>(주)라이마스</td>\n",
       "      <td>홈데코레이션</td>\n",
       "      <td>LIMAS</td>\n",
       "      <td>일반</td>\n",
       "      <td>565000.0</td>\n",
       "      <td>50000.00 이하 5500.00</td>\n",
       "      <td>품절</td>\n",
       "      <td>N</td>\n",
       "    </tr>\n",
       "  </tbody>\n",
       "</table>\n",
       "</div>"
      ],
      "text/plain": [
       "               상품번호                상품명      업체명   카테고리명   브랜드명 상품구분     대표판매가  \\\n",
       "0  G1708291036_0216   [라이마스] 에어_630630  (주)라이마스  홈데코레이션  LIMAS   일반  220000.0   \n",
       "1  G1708291049_0217   [라이마스] 에어_730350  (주)라이마스  홈데코레이션  LIMAS   일반  275000.0   \n",
       "2  G1708291054_0220  [라이마스] 에어_1200190  (주)라이마스  홈데코레이션  LIMAS   일반  270000.0   \n",
       "3  G1708291058_0221   [라이마스] 에어_730190  (주)라이마스  홈데코레이션  LIMAS   일반  165000.0   \n",
       "4  G1708291109_0222   [라이마스] 에어_730750  (주)라이마스  홈데코레이션  LIMAS   일반  565000.0   \n",
       "\n",
       "                   배송비 판매상태 전시상태  \n",
       "0  50000.00 이하 5500.00   품절    N  \n",
       "1  50000.00 이하 5500.00   품절    N  \n",
       "2  50000.00 이하 5500.00  판매중    Y  \n",
       "3  50000.00 이하 5500.00  판매중    Y  \n",
       "4  50000.00 이하 5500.00   품절    N  "
      ]
     },
     "execution_count": 8,
     "metadata": {},
     "output_type": "execute_result"
    }
   ],
   "source": [
    "df_items1.head()"
   ]
  },
  {
   "cell_type": "code",
   "execution_count": 9,
   "id": "246254b7",
   "metadata": {},
   "outputs": [
    {
     "data": {
      "text/plain": [
       "(110798, 10)"
      ]
     },
     "execution_count": 9,
     "metadata": {},
     "output_type": "execute_result"
    }
   ],
   "source": [
    "df_items1.shape"
   ]
  },
  {
   "cell_type": "code",
   "execution_count": 10,
   "id": "77052dbe",
   "metadata": {},
   "outputs": [
    {
     "data": {
      "text/plain": [
       "(20712, 15)"
      ]
     },
     "execution_count": 10,
     "metadata": {},
     "output_type": "execute_result"
    }
   ],
   "source": [
    "df_order1.shape"
   ]
  },
  {
   "cell_type": "code",
   "execution_count": 11,
   "id": "de14b8a6",
   "metadata": {},
   "outputs": [
    {
     "data": {
      "text/html": [
       "<div>\n",
       "<style scoped>\n",
       "    .dataframe tbody tr th:only-of-type {\n",
       "        vertical-align: middle;\n",
       "    }\n",
       "\n",
       "    .dataframe tbody tr th {\n",
       "        vertical-align: top;\n",
       "    }\n",
       "\n",
       "    .dataframe thead th {\n",
       "        text-align: right;\n",
       "    }\n",
       "</style>\n",
       "<table border=\"1\" class=\"dataframe\">\n",
       "  <thead>\n",
       "    <tr style=\"text-align: right;\">\n",
       "      <th></th>\n",
       "      <th>주문번호</th>\n",
       "      <th>순번</th>\n",
       "      <th>주문일시</th>\n",
       "      <th>진행구분</th>\n",
       "      <th>배송지</th>\n",
       "      <th>상품번호</th>\n",
       "      <th>상품명_x</th>\n",
       "      <th>옵션명</th>\n",
       "      <th>수량</th>\n",
       "      <th>판매가</th>\n",
       "      <th>...</th>\n",
       "      <th>주문일자</th>\n",
       "      <th>상품명_y</th>\n",
       "      <th>업체명</th>\n",
       "      <th>카테고리명</th>\n",
       "      <th>브랜드명</th>\n",
       "      <th>상품구분</th>\n",
       "      <th>대표판매가</th>\n",
       "      <th>배송비_y</th>\n",
       "      <th>판매상태</th>\n",
       "      <th>전시상태</th>\n",
       "    </tr>\n",
       "  </thead>\n",
       "  <tbody>\n",
       "    <tr>\n",
       "      <th>0</th>\n",
       "      <td>1711091120092237</td>\n",
       "      <td>1</td>\n",
       "      <td>2017-11-09 11:23:07</td>\n",
       "      <td>구매확정</td>\n",
       "      <td>강원 춘천시 동산면 영서로 915</td>\n",
       "      <td>G1709201602_1482</td>\n",
       "      <td>[3M] 작업용 보호안경</td>\n",
       "      <td>NaN</td>\n",
       "      <td>5</td>\n",
       "      <td>16000.0</td>\n",
       "      <td>...</td>\n",
       "      <td>2017-11-09</td>\n",
       "      <td>[3M] 작업용 보호안경</td>\n",
       "      <td>하우스플러스(주)</td>\n",
       "      <td>벽지/바닥재/타일</td>\n",
       "      <td>책임 크레텍</td>\n",
       "      <td>일반</td>\n",
       "      <td>3200.0</td>\n",
       "      <td>30000.00 이하 2500.00</td>\n",
       "      <td>판매중지</td>\n",
       "      <td>N</td>\n",
       "    </tr>\n",
       "    <tr>\n",
       "      <th>1</th>\n",
       "      <td>1711091146582243</td>\n",
       "      <td>1</td>\n",
       "      <td>2017-11-09 11:49:04</td>\n",
       "      <td>구매확정</td>\n",
       "      <td>경기 고양시 일산서구 고양대로 633</td>\n",
       "      <td>G1710161420_3420</td>\n",
       "      <td>[씨원] 듀얼 프리미엄 3단요추의자</td>\n",
       "      <td>색상:와인</td>\n",
       "      <td>1</td>\n",
       "      <td>52900.0</td>\n",
       "      <td>...</td>\n",
       "      <td>2017-11-09</td>\n",
       "      <td>[씨원] 듀얼 프리미엄 3단요추의자</td>\n",
       "      <td>에이젯</td>\n",
       "      <td>학생/사무/유아동가구</td>\n",
       "      <td>CONE</td>\n",
       "      <td>일반</td>\n",
       "      <td>52900.0</td>\n",
       "      <td>0</td>\n",
       "      <td>판매중</td>\n",
       "      <td>N</td>\n",
       "    </tr>\n",
       "    <tr>\n",
       "      <th>2</th>\n",
       "      <td>1711091330402269</td>\n",
       "      <td>1</td>\n",
       "      <td>2017-11-09 13:33:28</td>\n",
       "      <td>구매확정</td>\n",
       "      <td>인천 연수구 송도과학로27번길 30</td>\n",
       "      <td>G1710121442_3146</td>\n",
       "      <td>[케라미카] 바뎀 도자기 시리즈 파티 세트 (8p)</td>\n",
       "      <td>NaN</td>\n",
       "      <td>1</td>\n",
       "      <td>43000.0</td>\n",
       "      <td>...</td>\n",
       "      <td>2017-11-09</td>\n",
       "      <td>[케라미카] 바뎀 도자기 시리즈 파티 세트 (8p)</td>\n",
       "      <td>에이젯</td>\n",
       "      <td>주방/욕실/청소용품</td>\n",
       "      <td>KERAMIKA</td>\n",
       "      <td>일반</td>\n",
       "      <td>116100.0</td>\n",
       "      <td>0</td>\n",
       "      <td>판매중</td>\n",
       "      <td>Y</td>\n",
       "    </tr>\n",
       "    <tr>\n",
       "      <th>3</th>\n",
       "      <td>1711101906332340</td>\n",
       "      <td>1</td>\n",
       "      <td>2017-11-10 19:11:26</td>\n",
       "      <td>구매확정</td>\n",
       "      <td>서울 영등포구 국제금융로2길 32</td>\n",
       "      <td>G1711011727_7485</td>\n",
       "      <td>(임직원 전용)[루나스퀘어] 루나스피어 북유럽풍 국민수유등_IoT 감성조명</td>\n",
       "      <td>NaN</td>\n",
       "      <td>1</td>\n",
       "      <td>59400.0</td>\n",
       "      <td>...</td>\n",
       "      <td>2017-11-10</td>\n",
       "      <td>[루나스퀘어] 루나스피어 북유럽풍 국민수유등_IoT 감성조명</td>\n",
       "      <td>(주)엠앤지인터내셔널</td>\n",
       "      <td>임직원 매장</td>\n",
       "      <td>LUNASQUARE</td>\n",
       "      <td>일반</td>\n",
       "      <td>59400.0</td>\n",
       "      <td>0</td>\n",
       "      <td>판매중지</td>\n",
       "      <td>N</td>\n",
       "    </tr>\n",
       "    <tr>\n",
       "      <th>4</th>\n",
       "      <td>1711110827422358</td>\n",
       "      <td>1</td>\n",
       "      <td>2017-11-11 08:33:10</td>\n",
       "      <td>구매확정</td>\n",
       "      <td>세종특별자치시 금남면 두만길 12-1</td>\n",
       "      <td>G1710161740_3520</td>\n",
       "      <td>[아름다운공간] 사각 우드벨 저소음 탁상시계</td>\n",
       "      <td>NaN</td>\n",
       "      <td>1</td>\n",
       "      <td>11690.0</td>\n",
       "      <td>...</td>\n",
       "      <td>2017-11-11</td>\n",
       "      <td>[아름다운공간] 사각 우드벨 저소음 탁상시계</td>\n",
       "      <td>아름다운공간</td>\n",
       "      <td>홈데코레이션</td>\n",
       "      <td>BEAUTIFULROOM</td>\n",
       "      <td>일반</td>\n",
       "      <td>13030.0</td>\n",
       "      <td>50000.00 이하 2500.00</td>\n",
       "      <td>판매중</td>\n",
       "      <td>Y</td>\n",
       "    </tr>\n",
       "  </tbody>\n",
       "</table>\n",
       "<p>5 rows × 24 columns</p>\n",
       "</div>"
      ],
      "text/plain": [
       "               주문번호  순번                주문일시  진행구분                   배송지  \\\n",
       "0  1711091120092237   1 2017-11-09 11:23:07  구매확정    강원 춘천시 동산면 영서로 915   \n",
       "1  1711091146582243   1 2017-11-09 11:49:04  구매확정  경기 고양시 일산서구 고양대로 633   \n",
       "2  1711091330402269   1 2017-11-09 13:33:28  구매확정   인천 연수구 송도과학로27번길 30   \n",
       "3  1711101906332340   1 2017-11-10 19:11:26  구매확정    서울 영등포구 국제금융로2길 32   \n",
       "4  1711110827422358   1 2017-11-11 08:33:10  구매확정  세종특별자치시 금남면 두만길 12-1   \n",
       "\n",
       "               상품번호                                      상품명_x    옵션명  수량  \\\n",
       "0  G1709201602_1482                              [3M] 작업용 보호안경    NaN   5   \n",
       "1  G1710161420_3420                        [씨원] 듀얼 프리미엄 3단요추의자  색상:와인   1   \n",
       "2  G1710121442_3146               [케라미카] 바뎀 도자기 시리즈 파티 세트 (8p)    NaN   1   \n",
       "3  G1711011727_7485  (임직원 전용)[루나스퀘어] 루나스피어 북유럽풍 국민수유등_IoT 감성조명    NaN   1   \n",
       "4  G1710161740_3520                   [아름다운공간] 사각 우드벨 저소음 탁상시계    NaN   1   \n",
       "\n",
       "       판매가  ...        주문일자                              상품명_y          업체명  \\\n",
       "0  16000.0  ...  2017-11-09                      [3M] 작업용 보호안경    하우스플러스(주)   \n",
       "1  52900.0  ...  2017-11-09                [씨원] 듀얼 프리미엄 3단요추의자          에이젯   \n",
       "2  43000.0  ...  2017-11-09       [케라미카] 바뎀 도자기 시리즈 파티 세트 (8p)          에이젯   \n",
       "3  59400.0  ...  2017-11-10  [루나스퀘어] 루나스피어 북유럽풍 국민수유등_IoT 감성조명  (주)엠앤지인터내셔널   \n",
       "4  11690.0  ...  2017-11-11           [아름다운공간] 사각 우드벨 저소음 탁상시계       아름다운공간   \n",
       "\n",
       "         카테고리명           브랜드명 상품구분     대표판매가                배송비_y  판매상태 전시상태  \n",
       "0    벽지/바닥재/타일         책임 크레텍   일반    3200.0  30000.00 이하 2500.00  판매중지    N  \n",
       "1  학생/사무/유아동가구           CONE   일반   52900.0                    0   판매중    N  \n",
       "2   주방/욕실/청소용품       KERAMIKA   일반  116100.0                    0   판매중    Y  \n",
       "3       임직원 매장     LUNASQUARE   일반   59400.0                    0  판매중지    N  \n",
       "4       홈데코레이션  BEAUTIFULROOM   일반   13030.0  50000.00 이하 2500.00   판매중    Y  \n",
       "\n",
       "[5 rows x 24 columns]"
      ]
     },
     "execution_count": 11,
     "metadata": {},
     "output_type": "execute_result"
    }
   ],
   "source": [
    "# 주문과 상품정보 결합\n",
    "\n",
    "df_solditems = pd.merge(df_order1, df_items1, on = '상품번호', how='left')\n",
    "df_solditems.head()"
   ]
  },
  {
   "cell_type": "code",
   "execution_count": 12,
   "id": "15adb2b4",
   "metadata": {},
   "outputs": [
    {
     "data": {
      "text/plain": [
       "(20712, 24)"
      ]
     },
     "execution_count": 12,
     "metadata": {},
     "output_type": "execute_result"
    }
   ],
   "source": [
    "df_solditems.shape"
   ]
  },
  {
   "cell_type": "code",
   "execution_count": 13,
   "id": "1604cb6b",
   "metadata": {},
   "outputs": [
    {
     "data": {
      "text/html": [
       "<div>\n",
       "<style scoped>\n",
       "    .dataframe tbody tr th:only-of-type {\n",
       "        vertical-align: middle;\n",
       "    }\n",
       "\n",
       "    .dataframe tbody tr th {\n",
       "        vertical-align: top;\n",
       "    }\n",
       "\n",
       "    .dataframe thead th {\n",
       "        text-align: right;\n",
       "    }\n",
       "</style>\n",
       "<table border=\"1\" class=\"dataframe\">\n",
       "  <thead>\n",
       "    <tr style=\"text-align: right;\">\n",
       "      <th></th>\n",
       "      <th>주문번호</th>\n",
       "      <th>순번</th>\n",
       "      <th>주문일시</th>\n",
       "      <th>진행구분</th>\n",
       "      <th>배송지</th>\n",
       "      <th>상품번호</th>\n",
       "      <th>상품명</th>\n",
       "      <th>옵션명</th>\n",
       "      <th>수량</th>\n",
       "      <th>판매가</th>\n",
       "      <th>배송비</th>\n",
       "      <th>쿠폰할인액</th>\n",
       "      <th>회원주문여부</th>\n",
       "      <th>회원번호</th>\n",
       "      <th>주문일자</th>\n",
       "    </tr>\n",
       "  </thead>\n",
       "  <tbody>\n",
       "    <tr>\n",
       "      <th>196</th>\n",
       "      <td>1711211129593553</td>\n",
       "      <td>1</td>\n",
       "      <td>2017-11-21 11:30:20</td>\n",
       "      <td>구매확정</td>\n",
       "      <td>서울 영등포구 여의대방로 25</td>\n",
       "      <td>G1710311847_6746</td>\n",
       "      <td>(임직원 전용)[케라미카] 바뎀 2인홈세트 (11p)</td>\n",
       "      <td>NaN</td>\n",
       "      <td>2</td>\n",
       "      <td>97680.0</td>\n",
       "      <td>0.0</td>\n",
       "      <td>19530.0</td>\n",
       "      <td>Y</td>\n",
       "      <td>1874</td>\n",
       "      <td>2017-11-21</td>\n",
       "    </tr>\n",
       "    <tr>\n",
       "      <th>205</th>\n",
       "      <td>1711211517343577</td>\n",
       "      <td>1</td>\n",
       "      <td>2017-11-21 15:20:02</td>\n",
       "      <td>구매확정</td>\n",
       "      <td>경기 고양시 일산서구 고양대로 620</td>\n",
       "      <td>G1710311847_6746</td>\n",
       "      <td>(임직원 전용)[케라미카] 바뎀 2인홈세트 (11p)</td>\n",
       "      <td>NaN</td>\n",
       "      <td>1</td>\n",
       "      <td>48840.0</td>\n",
       "      <td>0.0</td>\n",
       "      <td>9760.0</td>\n",
       "      <td>Y</td>\n",
       "      <td>1873</td>\n",
       "      <td>2017-11-21</td>\n",
       "    </tr>\n",
       "    <tr>\n",
       "      <th>2260</th>\n",
       "      <td>1804071522092693</td>\n",
       "      <td>1</td>\n",
       "      <td>2018-04-07 15:24:32</td>\n",
       "      <td>구매확정</td>\n",
       "      <td>부산 남구 용소로8번길 48</td>\n",
       "      <td>G1710311847_6746</td>\n",
       "      <td>(임직원 전용)[케라미카] 바뎀 2인홈세트 (11p)</td>\n",
       "      <td>NaN</td>\n",
       "      <td>1</td>\n",
       "      <td>48840.0</td>\n",
       "      <td>0.0</td>\n",
       "      <td>0.0</td>\n",
       "      <td>Y</td>\n",
       "      <td>3276</td>\n",
       "      <td>2018-04-07</td>\n",
       "    </tr>\n",
       "    <tr>\n",
       "      <th>2473</th>\n",
       "      <td>1804160919453623</td>\n",
       "      <td>1</td>\n",
       "      <td>2018-04-16 09:22:47</td>\n",
       "      <td>구매확정</td>\n",
       "      <td>전남 광양시 중마1길 21</td>\n",
       "      <td>G1710311847_6746</td>\n",
       "      <td>(임직원 전용)[케라미카] 바뎀 2인홈세트 (11p)</td>\n",
       "      <td>NaN</td>\n",
       "      <td>1</td>\n",
       "      <td>48840.0</td>\n",
       "      <td>0.0</td>\n",
       "      <td>9760.0</td>\n",
       "      <td>Y</td>\n",
       "      <td>3139</td>\n",
       "      <td>2018-04-16</td>\n",
       "    </tr>\n",
       "  </tbody>\n",
       "</table>\n",
       "</div>"
      ],
      "text/plain": [
       "                  주문번호  순번                주문일시  진행구분                   배송지  \\\n",
       "196   1711211129593553   1 2017-11-21 11:30:20  구매확정      서울 영등포구 여의대방로 25   \n",
       "205   1711211517343577   1 2017-11-21 15:20:02  구매확정  경기 고양시 일산서구 고양대로 620   \n",
       "2260  1804071522092693   1 2018-04-07 15:24:32  구매확정       부산 남구 용소로8번길 48   \n",
       "2473  1804160919453623   1 2018-04-16 09:22:47  구매확정        전남 광양시 중마1길 21   \n",
       "\n",
       "                  상품번호                            상품명  옵션명  수량      판매가  배송비  \\\n",
       "196   G1710311847_6746  (임직원 전용)[케라미카] 바뎀 2인홈세트 (11p)  NaN   2  97680.0  0.0   \n",
       "205   G1710311847_6746  (임직원 전용)[케라미카] 바뎀 2인홈세트 (11p)  NaN   1  48840.0  0.0   \n",
       "2260  G1710311847_6746  (임직원 전용)[케라미카] 바뎀 2인홈세트 (11p)  NaN   1  48840.0  0.0   \n",
       "2473  G1710311847_6746  (임직원 전용)[케라미카] 바뎀 2인홈세트 (11p)  NaN   1  48840.0  0.0   \n",
       "\n",
       "        쿠폰할인액 회원주문여부  회원번호        주문일자  \n",
       "196   19530.0      Y  1874  2017-11-21  \n",
       "205    9760.0      Y  1873  2017-11-21  \n",
       "2260      0.0      Y  3276  2018-04-07  \n",
       "2473   9760.0      Y  3139  2018-04-16  "
      ]
     },
     "execution_count": 13,
     "metadata": {},
     "output_type": "execute_result"
    }
   ],
   "source": [
    "df_order1[ df_order1['상품번호'] == 'G1710311847_6746' ]"
   ]
  },
  {
   "cell_type": "code",
   "execution_count": 14,
   "id": "ff7dda58",
   "metadata": {},
   "outputs": [
    {
     "data": {
      "text/plain": [
       "주문번호               int64\n",
       "순번                 int64\n",
       "주문일시      datetime64[ns]\n",
       "진행구분              object\n",
       "배송지               object\n",
       "상품번호              object\n",
       "상품명               object\n",
       "옵션명               object\n",
       "수량                 int64\n",
       "판매가              float64\n",
       "배송비              float64\n",
       "쿠폰할인액            float64\n",
       "회원주문여부            object\n",
       "회원번호               int64\n",
       "주문일자              object\n",
       "dtype: object"
      ]
     },
     "execution_count": 14,
     "metadata": {},
     "output_type": "execute_result"
    }
   ],
   "source": [
    "df_order1.dtypes"
   ]
  },
  {
   "cell_type": "code",
   "execution_count": 15,
   "id": "9a951fa9",
   "metadata": {},
   "outputs": [
    {
     "data": {
      "text/html": [
       "<div>\n",
       "<style scoped>\n",
       "    .dataframe tbody tr th:only-of-type {\n",
       "        vertical-align: middle;\n",
       "    }\n",
       "\n",
       "    .dataframe tbody tr th {\n",
       "        vertical-align: top;\n",
       "    }\n",
       "\n",
       "    .dataframe thead th {\n",
       "        text-align: right;\n",
       "    }\n",
       "</style>\n",
       "<table border=\"1\" class=\"dataframe\">\n",
       "  <thead>\n",
       "    <tr style=\"text-align: right;\">\n",
       "      <th></th>\n",
       "      <th>상품번호</th>\n",
       "      <th>상품명</th>\n",
       "      <th>업체명</th>\n",
       "      <th>카테고리명</th>\n",
       "      <th>브랜드명</th>\n",
       "      <th>상품구분</th>\n",
       "      <th>대표판매가</th>\n",
       "      <th>배송비</th>\n",
       "      <th>판매상태</th>\n",
       "      <th>전시상태</th>\n",
       "    </tr>\n",
       "  </thead>\n",
       "  <tbody>\n",
       "    <tr>\n",
       "      <th>3277</th>\n",
       "      <td>G1710311847_6746</td>\n",
       "      <td>[케라미카] 바뎀 2인홈세트 (11p)</td>\n",
       "      <td>에이젯</td>\n",
       "      <td>임직원 매장</td>\n",
       "      <td>KERAMIKA</td>\n",
       "      <td>일반</td>\n",
       "      <td>48840.0</td>\n",
       "      <td>0</td>\n",
       "      <td>판매중지</td>\n",
       "      <td>Y</td>\n",
       "    </tr>\n",
       "  </tbody>\n",
       "</table>\n",
       "</div>"
      ],
      "text/plain": [
       "                  상품번호                    상품명  업체명   카테고리명      브랜드명 상품구분  \\\n",
       "3277  G1710311847_6746  [케라미카] 바뎀 2인홈세트 (11p)  에이젯  임직원 매장  KERAMIKA   일반   \n",
       "\n",
       "        대표판매가 배송비  판매상태 전시상태  \n",
       "3277  48840.0   0  판매중지    Y  "
      ]
     },
     "execution_count": 15,
     "metadata": {},
     "output_type": "execute_result"
    }
   ],
   "source": [
    "df_items1[df_items1['상품번호'] == 'G1710311847_6746' ]"
   ]
  },
  {
   "cell_type": "code",
   "execution_count": 16,
   "id": "ca319eb7",
   "metadata": {},
   "outputs": [
    {
     "data": {
      "text/html": [
       "<div>\n",
       "<style scoped>\n",
       "    .dataframe tbody tr th:only-of-type {\n",
       "        vertical-align: middle;\n",
       "    }\n",
       "\n",
       "    .dataframe tbody tr th {\n",
       "        vertical-align: top;\n",
       "    }\n",
       "\n",
       "    .dataframe thead th {\n",
       "        text-align: right;\n",
       "    }\n",
       "</style>\n",
       "<table border=\"1\" class=\"dataframe\">\n",
       "  <thead>\n",
       "    <tr style=\"text-align: right;\">\n",
       "      <th></th>\n",
       "      <th>주문번호</th>\n",
       "      <th>순번</th>\n",
       "      <th>주문일시</th>\n",
       "      <th>진행구분</th>\n",
       "      <th>배송지</th>\n",
       "      <th>상품번호</th>\n",
       "      <th>상품명_x</th>\n",
       "      <th>옵션명</th>\n",
       "      <th>수량</th>\n",
       "      <th>판매가</th>\n",
       "      <th>...</th>\n",
       "      <th>주문일자</th>\n",
       "      <th>상품명_y</th>\n",
       "      <th>업체명</th>\n",
       "      <th>카테고리명</th>\n",
       "      <th>브랜드명</th>\n",
       "      <th>상품구분</th>\n",
       "      <th>대표판매가</th>\n",
       "      <th>배송비_y</th>\n",
       "      <th>판매상태</th>\n",
       "      <th>전시상태</th>\n",
       "    </tr>\n",
       "  </thead>\n",
       "  <tbody>\n",
       "    <tr>\n",
       "      <th>0</th>\n",
       "      <td>1711091120092237</td>\n",
       "      <td>1</td>\n",
       "      <td>2017-11-09 11:23:07</td>\n",
       "      <td>구매확정</td>\n",
       "      <td>강원 춘천시 동산면 영서로 915</td>\n",
       "      <td>G1709201602_1482</td>\n",
       "      <td>[3M] 작업용 보호안경</td>\n",
       "      <td>NaN</td>\n",
       "      <td>5</td>\n",
       "      <td>16000.0</td>\n",
       "      <td>...</td>\n",
       "      <td>2017-11-09</td>\n",
       "      <td>[3M] 작업용 보호안경</td>\n",
       "      <td>하우스플러스(주)</td>\n",
       "      <td>벽지/바닥재/타일</td>\n",
       "      <td>책임 크레텍</td>\n",
       "      <td>일반</td>\n",
       "      <td>3200.0</td>\n",
       "      <td>30000.00 이하 2500.00</td>\n",
       "      <td>판매중지</td>\n",
       "      <td>N</td>\n",
       "    </tr>\n",
       "    <tr>\n",
       "      <th>1</th>\n",
       "      <td>1711091146582243</td>\n",
       "      <td>1</td>\n",
       "      <td>2017-11-09 11:49:04</td>\n",
       "      <td>구매확정</td>\n",
       "      <td>경기 고양시 일산서구 고양대로 633</td>\n",
       "      <td>G1710161420_3420</td>\n",
       "      <td>[씨원] 듀얼 프리미엄 3단요추의자</td>\n",
       "      <td>색상:와인</td>\n",
       "      <td>1</td>\n",
       "      <td>52900.0</td>\n",
       "      <td>...</td>\n",
       "      <td>2017-11-09</td>\n",
       "      <td>[씨원] 듀얼 프리미엄 3단요추의자</td>\n",
       "      <td>에이젯</td>\n",
       "      <td>학생/사무/유아동가구</td>\n",
       "      <td>CONE</td>\n",
       "      <td>일반</td>\n",
       "      <td>52900.0</td>\n",
       "      <td>0</td>\n",
       "      <td>판매중</td>\n",
       "      <td>N</td>\n",
       "    </tr>\n",
       "  </tbody>\n",
       "</table>\n",
       "<p>2 rows × 24 columns</p>\n",
       "</div>"
      ],
      "text/plain": [
       "               주문번호  순번                주문일시  진행구분                   배송지  \\\n",
       "0  1711091120092237   1 2017-11-09 11:23:07  구매확정    강원 춘천시 동산면 영서로 915   \n",
       "1  1711091146582243   1 2017-11-09 11:49:04  구매확정  경기 고양시 일산서구 고양대로 633   \n",
       "\n",
       "               상품번호                상품명_x    옵션명  수량      판매가  ...        주문일자  \\\n",
       "0  G1709201602_1482        [3M] 작업용 보호안경    NaN   5  16000.0  ...  2017-11-09   \n",
       "1  G1710161420_3420  [씨원] 듀얼 프리미엄 3단요추의자  색상:와인   1  52900.0  ...  2017-11-09   \n",
       "\n",
       "                 상품명_y        업체명        카테고리명    브랜드명 상품구분    대표판매가  \\\n",
       "0        [3M] 작업용 보호안경  하우스플러스(주)    벽지/바닥재/타일  책임 크레텍   일반   3200.0   \n",
       "1  [씨원] 듀얼 프리미엄 3단요추의자        에이젯  학생/사무/유아동가구    CONE   일반  52900.0   \n",
       "\n",
       "                 배송비_y  판매상태 전시상태  \n",
       "0  30000.00 이하 2500.00  판매중지    N  \n",
       "1                    0   판매중    N  \n",
       "\n",
       "[2 rows x 24 columns]"
      ]
     },
     "execution_count": 16,
     "metadata": {},
     "output_type": "execute_result"
    }
   ],
   "source": [
    "df_solditems.head(2)"
   ]
  },
  {
   "cell_type": "code",
   "execution_count": 17,
   "id": "a673be58",
   "metadata": {},
   "outputs": [
    {
     "data": {
      "text/html": [
       "<div>\n",
       "<style scoped>\n",
       "    .dataframe tbody tr th:only-of-type {\n",
       "        vertical-align: middle;\n",
       "    }\n",
       "\n",
       "    .dataframe tbody tr th {\n",
       "        vertical-align: top;\n",
       "    }\n",
       "\n",
       "    .dataframe thead th {\n",
       "        text-align: right;\n",
       "    }\n",
       "</style>\n",
       "<table border=\"1\" class=\"dataframe\">\n",
       "  <thead>\n",
       "    <tr style=\"text-align: right;\">\n",
       "      <th></th>\n",
       "      <th>업체명</th>\n",
       "      <th>주문건수</th>\n",
       "    </tr>\n",
       "  </thead>\n",
       "  <tbody>\n",
       "    <tr>\n",
       "      <th>0</th>\n",
       "      <td>오름</td>\n",
       "      <td>1220</td>\n",
       "    </tr>\n",
       "    <tr>\n",
       "      <th>1</th>\n",
       "      <td>창신리빙</td>\n",
       "      <td>1189</td>\n",
       "    </tr>\n",
       "    <tr>\n",
       "      <th>2</th>\n",
       "      <td>(주)여우미</td>\n",
       "      <td>932</td>\n",
       "    </tr>\n",
       "    <tr>\n",
       "      <th>3</th>\n",
       "      <td>(주)세상담기</td>\n",
       "      <td>874</td>\n",
       "    </tr>\n",
       "    <tr>\n",
       "      <th>4</th>\n",
       "      <td>하우스플러스(주)</td>\n",
       "      <td>734</td>\n",
       "    </tr>\n",
       "  </tbody>\n",
       "</table>\n",
       "</div>"
      ],
      "text/plain": [
       "         업체명  주문건수\n",
       "0         오름  1220\n",
       "1       창신리빙  1189\n",
       "2     (주)여우미   932\n",
       "3    (주)세상담기   874\n",
       "4  하우스플러스(주)   734"
      ]
     },
     "execution_count": 17,
     "metadata": {},
     "output_type": "execute_result"
    }
   ],
   "source": [
    "df_vendors = df_solditems['업체명'].value_counts().to_frame()\n",
    "df_vendors.reset_index(drop=False, inplace =True)\n",
    "\n",
    "df_vendors.columns = ['업체명', '주문건수']\n",
    "df_vendors.head()"
   ]
  },
  {
   "cell_type": "code",
   "execution_count": 18,
   "id": "70eb3bc7",
   "metadata": {
    "scrolled": true
   },
   "outputs": [
    {
     "data": {
      "text/html": [
       "<div>\n",
       "<style scoped>\n",
       "    .dataframe tbody tr th:only-of-type {\n",
       "        vertical-align: middle;\n",
       "    }\n",
       "\n",
       "    .dataframe tbody tr th {\n",
       "        vertical-align: top;\n",
       "    }\n",
       "\n",
       "    .dataframe thead th {\n",
       "        text-align: right;\n",
       "    }\n",
       "</style>\n",
       "<table border=\"1\" class=\"dataframe\">\n",
       "  <thead>\n",
       "    <tr style=\"text-align: right;\">\n",
       "      <th></th>\n",
       "      <th>업체명</th>\n",
       "      <th>주문건수</th>\n",
       "    </tr>\n",
       "  </thead>\n",
       "  <tbody>\n",
       "    <tr>\n",
       "      <th>260</th>\n",
       "      <td>(주)누리마루</td>\n",
       "      <td>1</td>\n",
       "    </tr>\n",
       "    <tr>\n",
       "      <th>261</th>\n",
       "      <td>아시컴퍼니</td>\n",
       "      <td>1</td>\n",
       "    </tr>\n",
       "    <tr>\n",
       "      <th>262</th>\n",
       "      <td>프라임에너텍</td>\n",
       "      <td>1</td>\n",
       "    </tr>\n",
       "    <tr>\n",
       "      <th>263</th>\n",
       "      <td>(주)라인커뮤니티</td>\n",
       "      <td>1</td>\n",
       "    </tr>\n",
       "    <tr>\n",
       "      <th>264</th>\n",
       "      <td>어반테고</td>\n",
       "      <td>1</td>\n",
       "    </tr>\n",
       "  </tbody>\n",
       "</table>\n",
       "</div>"
      ],
      "text/plain": [
       "           업체명  주문건수\n",
       "260    (주)누리마루     1\n",
       "261      아시컴퍼니     1\n",
       "262     프라임에너텍     1\n",
       "263  (주)라인커뮤니티     1\n",
       "264       어반테고     1"
      ]
     },
     "execution_count": 18,
     "metadata": {},
     "output_type": "execute_result"
    }
   ],
   "source": [
    "df_vendors.tail()"
   ]
  },
  {
   "cell_type": "code",
   "execution_count": 19,
   "id": "e5dece61",
   "metadata": {},
   "outputs": [
    {
     "data": {
      "image/png": "[encoded data removed]",
      "text/plain": [
       "<Figure size 720x360 with 1 Axes>"
      ]
     },
     "metadata": {
      "needs_background": "light"
     },
     "output_type": "display_data"
    }
   ],
   "source": [
    "plt.rcParams['figure.figsize']=(10,5)\n",
    "x = df_vendors.index\n",
    "y = df_vendors.주문건수\n",
    "\n",
    "plt.xlabel('업체 순위')\n",
    "plt.ylabel('주문 건수')\n",
    "\n",
    "plt.bar(x,y)\n",
    "plt.show()"
   ]
  },
  {
   "cell_type": "code",
   "execution_count": 20,
   "id": "ebaea440",
   "metadata": {},
   "outputs": [
    {
     "data": {
      "text/html": [
       "<div>\n",
       "<style scoped>\n",
       "    .dataframe tbody tr th:only-of-type {\n",
       "        vertical-align: middle;\n",
       "    }\n",
       "\n",
       "    .dataframe tbody tr th {\n",
       "        vertical-align: top;\n",
       "    }\n",
       "\n",
       "    .dataframe thead th {\n",
       "        text-align: right;\n",
       "    }\n",
       "</style>\n",
       "<table border=\"1\" class=\"dataframe\">\n",
       "  <thead>\n",
       "    <tr style=\"text-align: right;\">\n",
       "      <th></th>\n",
       "      <th>업체명</th>\n",
       "      <th>주문건수</th>\n",
       "    </tr>\n",
       "  </thead>\n",
       "  <tbody>\n",
       "    <tr>\n",
       "      <th>77</th>\n",
       "      <td>벤트리</td>\n",
       "      <td>54</td>\n",
       "    </tr>\n",
       "    <tr>\n",
       "      <th>78</th>\n",
       "      <td>인프라텍</td>\n",
       "      <td>53</td>\n",
       "    </tr>\n",
       "    <tr>\n",
       "      <th>79</th>\n",
       "      <td>네오커머스</td>\n",
       "      <td>52</td>\n",
       "    </tr>\n",
       "    <tr>\n",
       "      <th>80</th>\n",
       "      <td>주식회사 프라임티에이시</td>\n",
       "      <td>52</td>\n",
       "    </tr>\n",
       "    <tr>\n",
       "      <th>81</th>\n",
       "      <td>(주)테라토닉</td>\n",
       "      <td>51</td>\n",
       "    </tr>\n",
       "  </tbody>\n",
       "</table>\n",
       "</div>"
      ],
      "text/plain": [
       "             업체명  주문건수\n",
       "77           벤트리    54\n",
       "78          인프라텍    53\n",
       "79         네오커머스    52\n",
       "80  주식회사 프라임티에이시    52\n",
       "81       (주)테라토닉    51"
      ]
     },
     "execution_count": 20,
     "metadata": {},
     "output_type": "execute_result"
    }
   ],
   "source": [
    "df_vendors_top = df_vendors [df_vendors['주문건수'] > 50]\n",
    "df_vendors_top.tail()"
   ]
  },
  {
   "cell_type": "code",
   "execution_count": 21,
   "id": "e7a50270",
   "metadata": {},
   "outputs": [
    {
     "data": {
      "image/png": "[encoded data removed]",
      "text/plain": [
       "<Figure size 360x360 with 1 Axes>"
      ]
     },
     "metadata": {
      "needs_background": "light"
     },
     "output_type": "display_data"
    }
   ],
   "source": [
    "plt.rcParams['figure.figsize']=(5,5)\n",
    "x = df_vendors_top.index\n",
    "y = df_vendors_top.주문건수\n",
    "\n",
    "plt.xlabel('업체 순위')\n",
    "plt.ylabel('주문 건수')\n",
    "\n",
    "plt.bar(x,y)\n",
    "plt.show()"
   ]
  },
  {
   "cell_type": "code",
   "execution_count": 22,
   "id": "dcaf1000",
   "metadata": {},
   "outputs": [
    {
     "data": {
      "text/html": [
       "<div>\n",
       "<style scoped>\n",
       "    .dataframe tbody tr th:only-of-type {\n",
       "        vertical-align: middle;\n",
       "    }\n",
       "\n",
       "    .dataframe tbody tr th {\n",
       "        vertical-align: top;\n",
       "    }\n",
       "\n",
       "    .dataframe thead th {\n",
       "        text-align: right;\n",
       "    }\n",
       "</style>\n",
       "<table border=\"1\" class=\"dataframe\">\n",
       "  <thead>\n",
       "    <tr style=\"text-align: right;\">\n",
       "      <th></th>\n",
       "      <th>업체명</th>\n",
       "      <th>주문건수</th>\n",
       "    </tr>\n",
       "  </thead>\n",
       "  <tbody>\n",
       "    <tr>\n",
       "      <th>0</th>\n",
       "      <td>오름</td>\n",
       "      <td>1220</td>\n",
       "    </tr>\n",
       "    <tr>\n",
       "      <th>1</th>\n",
       "      <td>창신리빙</td>\n",
       "      <td>1189</td>\n",
       "    </tr>\n",
       "    <tr>\n",
       "      <th>2</th>\n",
       "      <td>(주)여우미</td>\n",
       "      <td>932</td>\n",
       "    </tr>\n",
       "    <tr>\n",
       "      <th>3</th>\n",
       "      <td>(주)세상담기</td>\n",
       "      <td>874</td>\n",
       "    </tr>\n",
       "    <tr>\n",
       "      <th>4</th>\n",
       "      <td>하우스플러스(주)</td>\n",
       "      <td>734</td>\n",
       "    </tr>\n",
       "  </tbody>\n",
       "</table>\n",
       "</div>"
      ],
      "text/plain": [
       "         업체명  주문건수\n",
       "0         오름  1220\n",
       "1       창신리빙  1189\n",
       "2     (주)여우미   932\n",
       "3    (주)세상담기   874\n",
       "4  하우스플러스(주)   734"
      ]
     },
     "execution_count": 22,
     "metadata": {},
     "output_type": "execute_result"
    }
   ],
   "source": [
    "# 주문건수 top 업체의 일자별 주문 현황\n",
    "df_vendors_top.head()"
   ]
  },
  {
   "cell_type": "code",
   "execution_count": 23,
   "id": "a64e0f7e",
   "metadata": {},
   "outputs": [
    {
     "data": {
      "text/html": [
       "<div>\n",
       "<style scoped>\n",
       "    .dataframe tbody tr th:only-of-type {\n",
       "        vertical-align: middle;\n",
       "    }\n",
       "\n",
       "    .dataframe tbody tr th {\n",
       "        vertical-align: top;\n",
       "    }\n",
       "\n",
       "    .dataframe thead th {\n",
       "        text-align: right;\n",
       "    }\n",
       "</style>\n",
       "<table border=\"1\" class=\"dataframe\">\n",
       "  <thead>\n",
       "    <tr style=\"text-align: right;\">\n",
       "      <th></th>\n",
       "      <th>주문번호</th>\n",
       "      <th>순번</th>\n",
       "      <th>주문일시</th>\n",
       "      <th>진행구분</th>\n",
       "      <th>배송지</th>\n",
       "      <th>상품번호</th>\n",
       "      <th>상품명_x</th>\n",
       "      <th>옵션명</th>\n",
       "      <th>수량</th>\n",
       "      <th>판매가</th>\n",
       "      <th>...</th>\n",
       "      <th>주문일자</th>\n",
       "      <th>상품명_y</th>\n",
       "      <th>업체명</th>\n",
       "      <th>카테고리명</th>\n",
       "      <th>브랜드명</th>\n",
       "      <th>상품구분</th>\n",
       "      <th>대표판매가</th>\n",
       "      <th>배송비_y</th>\n",
       "      <th>판매상태</th>\n",
       "      <th>전시상태</th>\n",
       "    </tr>\n",
       "  </thead>\n",
       "  <tbody>\n",
       "    <tr>\n",
       "      <th>9051</th>\n",
       "      <td>1808021052211023</td>\n",
       "      <td>1</td>\n",
       "      <td>2018-08-02 10:59:34</td>\n",
       "      <td>구매확정</td>\n",
       "      <td>서울 양천구 목동서로 225</td>\n",
       "      <td>G1808011449_5989</td>\n",
       "      <td>(상품평 이벤트)[앳홈]삼나무 원목 발받침대 1+1</td>\n",
       "      <td>NaN</td>\n",
       "      <td>1</td>\n",
       "      <td>16860.0</td>\n",
       "      <td>...</td>\n",
       "      <td>2018-08-02</td>\n",
       "      <td>[앳홈]삼나무 원목 발받침대 1+1</td>\n",
       "      <td>오름</td>\n",
       "      <td>학생/사무/유아동가구</td>\n",
       "      <td>앳홈</td>\n",
       "      <td>일반</td>\n",
       "      <td>18900.0</td>\n",
       "      <td>0</td>\n",
       "      <td>판매중</td>\n",
       "      <td>Y</td>\n",
       "    </tr>\n",
       "    <tr>\n",
       "      <th>9292</th>\n",
       "      <td>1808070855541982</td>\n",
       "      <td>1</td>\n",
       "      <td>2018-08-07 08:57:44</td>\n",
       "      <td>구매확정</td>\n",
       "      <td>서울 영등포구 도영로7길 7</td>\n",
       "      <td>G1808011520_6049</td>\n",
       "      <td>(상품평 이벤트)[앳홈]원목 컬러 접이식 테이블</td>\n",
       "      <td>색상:블랙</td>\n",
       "      <td>1</td>\n",
       "      <td>18780.0</td>\n",
       "      <td>...</td>\n",
       "      <td>2018-08-07</td>\n",
       "      <td>[앳홈]원목 컬러 접이식 테이블</td>\n",
       "      <td>오름</td>\n",
       "      <td>침실/거실/주방가구</td>\n",
       "      <td>앳홈</td>\n",
       "      <td>일반</td>\n",
       "      <td>19900.0</td>\n",
       "      <td>0</td>\n",
       "      <td>판매중</td>\n",
       "      <td>Y</td>\n",
       "    </tr>\n",
       "  </tbody>\n",
       "</table>\n",
       "<p>2 rows × 24 columns</p>\n",
       "</div>"
      ],
      "text/plain": [
       "                  주문번호  순번                주문일시  진행구분              배송지  \\\n",
       "9051  1808021052211023   1 2018-08-02 10:59:34  구매확정  서울 양천구 목동서로 225   \n",
       "9292  1808070855541982   1 2018-08-07 08:57:44  구매확정  서울 영등포구 도영로7길 7   \n",
       "\n",
       "                  상품번호                         상품명_x    옵션명  수량      판매가  ...  \\\n",
       "9051  G1808011449_5989  (상품평 이벤트)[앳홈]삼나무 원목 발받침대 1+1    NaN   1  16860.0  ...   \n",
       "9292  G1808011520_6049    (상품평 이벤트)[앳홈]원목 컬러 접이식 테이블  색상:블랙   1  18780.0  ...   \n",
       "\n",
       "            주문일자                상품명_y 업체명        카테고리명 브랜드명 상품구분    대표판매가  \\\n",
       "9051  2018-08-02  [앳홈]삼나무 원목 발받침대 1+1  오름  학생/사무/유아동가구   앳홈   일반  18900.0   \n",
       "9292  2018-08-07    [앳홈]원목 컬러 접이식 테이블  오름   침실/거실/주방가구   앳홈   일반  19900.0   \n",
       "\n",
       "     배송비_y 판매상태 전시상태  \n",
       "9051     0  판매중    Y  \n",
       "9292     0  판매중    Y  \n",
       "\n",
       "[2 rows x 24 columns]"
      ]
     },
     "execution_count": 23,
     "metadata": {},
     "output_type": "execute_result"
    }
   ],
   "source": [
    "df_solditems_오름 = df_solditems [df_solditems['업체명'] == '오름']\n",
    "df_solditems_오름.head(2)"
   ]
  },
  {
   "cell_type": "code",
   "execution_count": 57,
   "id": "1f2e9fd2",
   "metadata": {},
   "outputs": [
    {
     "data": {
      "text/plain": [
       "(1220, 24)"
      ]
     },
     "execution_count": 57,
     "metadata": {},
     "output_type": "execute_result"
    }
   ],
   "source": [
    "df_solditems_오름.shape"
   ]
  },
  {
   "cell_type": "code",
   "execution_count": 24,
   "id": "289197f4",
   "metadata": {},
   "outputs": [
    {
     "data": {
      "text/html": [
       "<div>\n",
       "<style scoped>\n",
       "    .dataframe tbody tr th:only-of-type {\n",
       "        vertical-align: middle;\n",
       "    }\n",
       "\n",
       "    .dataframe tbody tr th {\n",
       "        vertical-align: top;\n",
       "    }\n",
       "\n",
       "    .dataframe thead th {\n",
       "        text-align: right;\n",
       "    }\n",
       "</style>\n",
       "<table border=\"1\" class=\"dataframe\">\n",
       "  <thead>\n",
       "    <tr style=\"text-align: right;\">\n",
       "      <th></th>\n",
       "      <th>주문건수</th>\n",
       "    </tr>\n",
       "    <tr>\n",
       "      <th>주문일자</th>\n",
       "      <th></th>\n",
       "    </tr>\n",
       "  </thead>\n",
       "  <tbody>\n",
       "    <tr>\n",
       "      <th>2018-08-02</th>\n",
       "      <td>1</td>\n",
       "    </tr>\n",
       "    <tr>\n",
       "      <th>2018-08-07</th>\n",
       "      <td>1</td>\n",
       "    </tr>\n",
       "    <tr>\n",
       "      <th>2018-08-09</th>\n",
       "      <td>3</td>\n",
       "    </tr>\n",
       "    <tr>\n",
       "      <th>2018-08-10</th>\n",
       "      <td>1</td>\n",
       "    </tr>\n",
       "    <tr>\n",
       "      <th>2018-08-13</th>\n",
       "      <td>2</td>\n",
       "    </tr>\n",
       "    <tr>\n",
       "      <th>...</th>\n",
       "      <td>...</td>\n",
       "    </tr>\n",
       "    <tr>\n",
       "      <th>2018-11-03</th>\n",
       "      <td>6</td>\n",
       "    </tr>\n",
       "    <tr>\n",
       "      <th>2018-11-04</th>\n",
       "      <td>6</td>\n",
       "    </tr>\n",
       "    <tr>\n",
       "      <th>2018-11-05</th>\n",
       "      <td>22</td>\n",
       "    </tr>\n",
       "    <tr>\n",
       "      <th>2018-11-06</th>\n",
       "      <td>1</td>\n",
       "    </tr>\n",
       "    <tr>\n",
       "      <th>2018-11-07</th>\n",
       "      <td>4</td>\n",
       "    </tr>\n",
       "  </tbody>\n",
       "</table>\n",
       "<p>78 rows × 1 columns</p>\n",
       "</div>"
      ],
      "text/plain": [
       "            주문건수\n",
       "주문일자            \n",
       "2018-08-02     1\n",
       "2018-08-07     1\n",
       "2018-08-09     3\n",
       "2018-08-10     1\n",
       "2018-08-13     2\n",
       "...          ...\n",
       "2018-11-03     6\n",
       "2018-11-04     6\n",
       "2018-11-05    22\n",
       "2018-11-06     1\n",
       "2018-11-07     4\n",
       "\n",
       "[78 rows x 1 columns]"
      ]
     },
     "execution_count": 24,
     "metadata": {},
     "output_type": "execute_result"
    }
   ],
   "source": [
    "df_solditems_오름_count = df_solditems_오름.groupby('주문일자').주문일시.count().to_frame()\n",
    "df_solditems_오름_count.columns = ['주문건수']\n",
    "df_solditems_오름_count"
   ]
  },
  {
   "cell_type": "code",
   "execution_count": 25,
   "id": "7ed9039a",
   "metadata": {
    "scrolled": true
   },
   "outputs": [
    {
     "data": {
      "image/png": "[encoded data removed]",
      "text/plain": [
       "<Figure size 720x360 with 1 Axes>"
      ]
     },
     "metadata": {
      "needs_background": "light"
     },
     "output_type": "display_data"
    }
   ],
   "source": [
    "plt.rcParams['figure.figsize']=(10,5)\n",
    "\n",
    "plt.scatter(df_solditems_오름_count.index, df_solditems_오름_count.values, marker = '.', color = 'c')\n",
    "\n",
    "plt.title('주문건수 1위 업체 오름 일자별 주문건수')\n",
    "plt.show()\n"
   ]
  },
  {
   "cell_type": "code",
   "execution_count": 26,
   "id": "211b635e",
   "metadata": {},
   "outputs": [
    {
     "data": {
      "text/plain": [
       "(78, 1)"
      ]
     },
     "execution_count": 26,
     "metadata": {},
     "output_type": "execute_result"
    }
   ],
   "source": [
    "df_solditems_오름_count.shape"
   ]
  },
  {
   "cell_type": "code",
   "execution_count": 27,
   "id": "626541ee",
   "metadata": {},
   "outputs": [
    {
     "data": {
      "text/plain": [
       "주문건수    int64\n",
       "dtype: object"
      ]
     },
     "execution_count": 27,
     "metadata": {},
     "output_type": "execute_result"
    }
   ],
   "source": [
    "df_solditems_오름_count.dtypes"
   ]
  },
  {
   "cell_type": "code",
   "execution_count": 28,
   "id": "a39e6502",
   "metadata": {},
   "outputs": [],
   "source": [
    "x = []\n",
    "for i in range(0, 78) :\n",
    "    x.append(i)"
   ]
  },
  {
   "cell_type": "code",
   "execution_count": 29,
   "id": "008b83ec",
   "metadata": {},
   "outputs": [
    {
     "data": {
      "text/html": [
       "<div>\n",
       "<style scoped>\n",
       "    .dataframe tbody tr th:only-of-type {\n",
       "        vertical-align: middle;\n",
       "    }\n",
       "\n",
       "    .dataframe tbody tr th {\n",
       "        vertical-align: top;\n",
       "    }\n",
       "\n",
       "    .dataframe thead th {\n",
       "        text-align: right;\n",
       "    }\n",
       "</style>\n",
       "<table border=\"1\" class=\"dataframe\">\n",
       "  <thead>\n",
       "    <tr style=\"text-align: right;\">\n",
       "      <th></th>\n",
       "      <th>주문건수</th>\n",
       "      <th>dateno</th>\n",
       "    </tr>\n",
       "    <tr>\n",
       "      <th>주문일자</th>\n",
       "      <th></th>\n",
       "      <th></th>\n",
       "    </tr>\n",
       "  </thead>\n",
       "  <tbody>\n",
       "    <tr>\n",
       "      <th>2018-08-02</th>\n",
       "      <td>1</td>\n",
       "      <td>0</td>\n",
       "    </tr>\n",
       "    <tr>\n",
       "      <th>2018-08-07</th>\n",
       "      <td>1</td>\n",
       "      <td>1</td>\n",
       "    </tr>\n",
       "    <tr>\n",
       "      <th>2018-08-09</th>\n",
       "      <td>3</td>\n",
       "      <td>2</td>\n",
       "    </tr>\n",
       "    <tr>\n",
       "      <th>2018-08-10</th>\n",
       "      <td>1</td>\n",
       "      <td>3</td>\n",
       "    </tr>\n",
       "    <tr>\n",
       "      <th>2018-08-13</th>\n",
       "      <td>2</td>\n",
       "      <td>4</td>\n",
       "    </tr>\n",
       "    <tr>\n",
       "      <th>...</th>\n",
       "      <td>...</td>\n",
       "      <td>...</td>\n",
       "    </tr>\n",
       "    <tr>\n",
       "      <th>2018-11-03</th>\n",
       "      <td>6</td>\n",
       "      <td>73</td>\n",
       "    </tr>\n",
       "    <tr>\n",
       "      <th>2018-11-04</th>\n",
       "      <td>6</td>\n",
       "      <td>74</td>\n",
       "    </tr>\n",
       "    <tr>\n",
       "      <th>2018-11-05</th>\n",
       "      <td>22</td>\n",
       "      <td>75</td>\n",
       "    </tr>\n",
       "    <tr>\n",
       "      <th>2018-11-06</th>\n",
       "      <td>1</td>\n",
       "      <td>76</td>\n",
       "    </tr>\n",
       "    <tr>\n",
       "      <th>2018-11-07</th>\n",
       "      <td>4</td>\n",
       "      <td>77</td>\n",
       "    </tr>\n",
       "  </tbody>\n",
       "</table>\n",
       "<p>78 rows × 2 columns</p>\n",
       "</div>"
      ],
      "text/plain": [
       "            주문건수  dateno\n",
       "주문일자                    \n",
       "2018-08-02     1       0\n",
       "2018-08-07     1       1\n",
       "2018-08-09     3       2\n",
       "2018-08-10     1       3\n",
       "2018-08-13     2       4\n",
       "...          ...     ...\n",
       "2018-11-03     6      73\n",
       "2018-11-04     6      74\n",
       "2018-11-05    22      75\n",
       "2018-11-06     1      76\n",
       "2018-11-07     4      77\n",
       "\n",
       "[78 rows x 2 columns]"
      ]
     },
     "execution_count": 29,
     "metadata": {},
     "output_type": "execute_result"
    }
   ],
   "source": [
    "df_solditems_오름_count['dateno'] = x\n",
    "df_solditems_오름_count"
   ]
  },
  {
   "cell_type": "code",
   "execution_count": 30,
   "id": "917f27cd",
   "metadata": {},
   "outputs": [
    {
     "data": {
      "image/png": "[encoded data removed]",
      "text/plain": [
       "<Figure size 864x432 with 1 Axes>"
      ]
     },
     "metadata": {
      "needs_background": "light"
     },
     "output_type": "display_data"
    }
   ],
   "source": [
    "import seaborn as sns\n",
    "import numpy as np\n",
    "\n",
    "\n",
    "plt.rcParams[\"figure.figsize\"] = (12,6) \n",
    "\n",
    "sns.regplot(x = df_solditems_오름_count['dateno'], y = df_solditems_오름_count['주문건수'], data =df_solditems_오름_count)\n",
    "plt.xticks(np.arange(78), df_solditems_오름_count.index, rotation = 90, size = 10)\n",
    "plt.xlabel('주문 일자')\n",
    "plt.grid()\n",
    "plt.show()\n"
   ]
  },
  {
   "cell_type": "code",
   "execution_count": 31,
   "id": "df6368f8",
   "metadata": {},
   "outputs": [
    {
     "name": "stdout",
     "output_type": "stream",
     "text": [
      "0.14010504388413944\n"
     ]
    }
   ],
   "source": [
    "z = np.polyfit(df_solditems_오름_count['주문건수'], df_solditems_오름_count['dateno'], 1)\n",
    "f = np.poly1d(z)\n",
    "x_minmax = np.array([min(df_solditems_오름_count['주문건수']), max(df_solditems_오름_count['주문건수'])])\n",
    "print(z[0])\n",
    "\n",
    "fit_y = x_minmax * z[0] + z[1]"
   ]
  },
  {
   "cell_type": "code",
   "execution_count": 32,
   "id": "d6dc3ab7",
   "metadata": {},
   "outputs": [
    {
     "data": {
      "image/png": "[encoded data removed]",
      "text/plain": [
       "<Figure size 864x432 with 1 Axes>"
      ]
     },
     "metadata": {
      "needs_background": "light"
     },
     "output_type": "display_data"
    }
   ],
   "source": [
    "sns.regplot(x = df_solditems_오름_count['dateno'], y = df_solditems_오름_count['주문건수'], data =df_solditems_오름_count)\n",
    "plt.plot(x_minmax, fit_y, color = 'red') \n",
    "plt.xticks(np.arange(78), df_solditems_오름_count.index, rotation = 90, size = 10)\n",
    "plt.grid()\n",
    "plt.show()"
   ]
  },
  {
   "cell_type": "code",
   "execution_count": 33,
   "id": "936ee171",
   "metadata": {},
   "outputs": [],
   "source": [
    "est_y = np.array(df_solditems_오름_count['주문건수']) * z[0] + z[1]"
   ]
  },
  {
   "cell_type": "code",
   "execution_count": 34,
   "id": "741a4e57",
   "metadata": {},
   "outputs": [
    {
     "data": {
      "text/plain": [
       "0.022341261313104654"
      ]
     },
     "execution_count": 34,
     "metadata": {},
     "output_type": "execute_result"
    }
   ],
   "source": [
    "from sklearn.metrics import r2_score\n",
    "r2 = r2_score(df_solditems_오름_count['dateno'], est_y)\n",
    "r2"
   ]
  },
  {
   "cell_type": "code",
   "execution_count": 35,
   "id": "4ea787a1",
   "metadata": {},
   "outputs": [
    {
     "data": {
      "text/html": [
       "<div>\n",
       "<style scoped>\n",
       "    .dataframe tbody tr th:only-of-type {\n",
       "        vertical-align: middle;\n",
       "    }\n",
       "\n",
       "    .dataframe tbody tr th {\n",
       "        vertical-align: top;\n",
       "    }\n",
       "\n",
       "    .dataframe thead th {\n",
       "        text-align: right;\n",
       "    }\n",
       "</style>\n",
       "<table border=\"1\" class=\"dataframe\">\n",
       "  <thead>\n",
       "    <tr style=\"text-align: right;\">\n",
       "      <th></th>\n",
       "      <th>주문건수</th>\n",
       "      <th>dateno</th>\n",
       "    </tr>\n",
       "    <tr>\n",
       "      <th>주문일자</th>\n",
       "      <th></th>\n",
       "      <th></th>\n",
       "    </tr>\n",
       "  </thead>\n",
       "  <tbody>\n",
       "    <tr>\n",
       "      <th>2018-09-13</th>\n",
       "      <td>44</td>\n",
       "      <td>25</td>\n",
       "    </tr>\n",
       "    <tr>\n",
       "      <th>2018-09-27</th>\n",
       "      <td>87</td>\n",
       "      <td>38</td>\n",
       "    </tr>\n",
       "    <tr>\n",
       "      <th>2018-09-28</th>\n",
       "      <td>114</td>\n",
       "      <td>39</td>\n",
       "    </tr>\n",
       "    <tr>\n",
       "      <th>2018-10-01</th>\n",
       "      <td>88</td>\n",
       "      <td>42</td>\n",
       "    </tr>\n",
       "    <tr>\n",
       "      <th>2018-10-02</th>\n",
       "      <td>98</td>\n",
       "      <td>43</td>\n",
       "    </tr>\n",
       "    <tr>\n",
       "      <th>2018-10-04</th>\n",
       "      <td>56</td>\n",
       "      <td>45</td>\n",
       "    </tr>\n",
       "    <tr>\n",
       "      <th>2018-10-05</th>\n",
       "      <td>53</td>\n",
       "      <td>46</td>\n",
       "    </tr>\n",
       "    <tr>\n",
       "      <th>2018-10-08</th>\n",
       "      <td>55</td>\n",
       "      <td>49</td>\n",
       "    </tr>\n",
       "    <tr>\n",
       "      <th>2018-10-11</th>\n",
       "      <td>41</td>\n",
       "      <td>52</td>\n",
       "    </tr>\n",
       "    <tr>\n",
       "      <th>2018-11-02</th>\n",
       "      <td>68</td>\n",
       "      <td>72</td>\n",
       "    </tr>\n",
       "  </tbody>\n",
       "</table>\n",
       "</div>"
      ],
      "text/plain": [
       "            주문건수  dateno\n",
       "주문일자                    \n",
       "2018-09-13    44      25\n",
       "2018-09-27    87      38\n",
       "2018-09-28   114      39\n",
       "2018-10-01    88      42\n",
       "2018-10-02    98      43\n",
       "2018-10-04    56      45\n",
       "2018-10-05    53      46\n",
       "2018-10-08    55      49\n",
       "2018-10-11    41      52\n",
       "2018-11-02    68      72"
      ]
     },
     "execution_count": 35,
     "metadata": {},
     "output_type": "execute_result"
    }
   ],
   "source": [
    "df_solditems_오름_count [df_solditems_오름_count['주문건수'] > 40]"
   ]
  },
  {
   "cell_type": "code",
   "execution_count": 36,
   "id": "5b412359",
   "metadata": {},
   "outputs": [],
   "source": [
    "df_solditems_오름_count_copy = df_solditems_오름_count"
   ]
  },
  {
   "cell_type": "code",
   "execution_count": 37,
   "id": "87b6b077",
   "metadata": {},
   "outputs": [
    {
     "data": {
      "text/plain": [
       "(68, 2)"
      ]
     },
     "execution_count": 37,
     "metadata": {},
     "output_type": "execute_result"
    }
   ],
   "source": [
    "outlier = df_solditems_오름_count [df_solditems_오름_count['주문건수'] > 40].index\n",
    "df_solditems_오름_count_copy.drop(outlier, inplace = True)\n",
    "df_solditems_오름_count_copy.shape"
   ]
  },
  {
   "cell_type": "code",
   "execution_count": 38,
   "id": "53f5c112",
   "metadata": {},
   "outputs": [],
   "source": [
    "from datetime import datetime\n",
    "\n",
    "Year = []\n",
    "MD = []\n",
    "\n",
    "\n",
    "for i in range(68) :\n",
    "    \n",
    "    y = df_solditems_오름_count_copy.index[i].strftime(\"%Y\") \n",
    "    md = df_solditems_오름_count_copy.index[i].strftime(\"%m-%d\")\n",
    "    Year.append(y)\n",
    "    MD.append(md)"
   ]
  },
  {
   "cell_type": "code",
   "execution_count": 39,
   "id": "79a51080",
   "metadata": {},
   "outputs": [],
   "source": [
    "df_solditems_오름_count_copy['Year'] = Year\n",
    "df_solditems_오름_count_copy['MandD'] = MD"
   ]
  },
  {
   "cell_type": "code",
   "execution_count": 40,
   "id": "25ba08ef",
   "metadata": {},
   "outputs": [
    {
     "data": {
      "image/png": "[encoded data removed]",
      "text/plain": [
       "<Figure size 864x432 with 1 Axes>"
      ]
     },
     "metadata": {
      "needs_background": "light"
     },
     "output_type": "display_data"
    }
   ],
   "source": [
    "plt.rcParams[\"figure.figsize\"] = (12,6) \n",
    "\n",
    "sns.regplot(x = df_solditems_오름_count_copy['dateno'], y = df_solditems_오름_count_copy['주문건수'], data =df_solditems_오름_count_copy)\n",
    "plt.xticks(np.arange(68), df_solditems_오름_count_copy['MandD'], rotation = 90, size = 10)\n",
    "plt.xlabel('주문 일자')\n",
    "plt.grid()\n",
    "plt.show()"
   ]
  },
  {
   "cell_type": "code",
   "execution_count": 42,
   "id": "74cdcbef",
   "metadata": {},
   "outputs": [
    {
     "data": {
      "image/png": "[encoded data removed]",
      "text/plain": [
       "<Figure size 864x432 with 1 Axes>"
      ]
     },
     "metadata": {
      "needs_background": "light"
     },
     "output_type": "display_data"
    }
   ],
   "source": [
    "sns.regplot(x = df_solditems_오름_count_copy['dateno'], y = df_solditems_오름_count_copy['주문건수'], data =df_solditems_오름_count_copy)\n",
    "plt.plot(x_minmax, fit_y, color = 'red') \n",
    "plt.xticks(np.arange(68), df_solditems_오름_count_copy.index, rotation = 90, size = 10)\n",
    "plt.grid()\n",
    "plt.show()"
   ]
  },
  {
   "cell_type": "code",
   "execution_count": 43,
   "id": "c34e3a22",
   "metadata": {},
   "outputs": [
    {
     "name": "stdout",
     "output_type": "stream",
     "text": [
      "0.4890153458650132\n"
     ]
    }
   ],
   "source": [
    "z = np.polyfit(df_solditems_오름_count_copy['주문건수'], df_solditems_오름_count_copy['dateno'], 1)\n",
    "f = np.poly1d(z)\n",
    "x_minmax = np.array([min(df_solditems_오름_count_copy['주문건수']), max(df_solditems_오름_count_copy['주문건수'])])\n",
    "print(z[0])\n",
    "\n",
    "fit_y = x_minmax * z[0] + z[1]"
   ]
  },
  {
   "cell_type": "code",
   "execution_count": 44,
   "id": "00027567",
   "metadata": {},
   "outputs": [],
   "source": [
    "est_y = np.array(df_solditems_오름_count_copy['주문건수']) * z[0] + z[1]"
   ]
  },
  {
   "cell_type": "code",
   "execution_count": 45,
   "id": "f69a8394",
   "metadata": {},
   "outputs": [
    {
     "data": {
      "text/plain": [
       "0.03195794212261116"
      ]
     },
     "execution_count": 45,
     "metadata": {},
     "output_type": "execute_result"
    }
   ],
   "source": [
    "from sklearn.metrics import r2_score\n",
    "r2 = r2_score(df_solditems_오름_count_copy['dateno'], est_y)\n",
    "r2"
   ]
  },
  {
   "cell_type": "code",
   "execution_count": 46,
   "id": "523dadb5",
   "metadata": {},
   "outputs": [
    {
     "data": {
      "text/plain": [
       "0           오름\n",
       "1         창신리빙\n",
       "2       (주)여우미\n",
       "3      (주)세상담기\n",
       "4    하우스플러스(주)\n",
       "5    영성산업 로제까사\n",
       "6           두닷\n",
       "7           고웰\n",
       "8    (주)에스엠퓨처스\n",
       "9          바이올\n",
       "Name: 업체명, dtype: object"
      ]
     },
     "execution_count": 46,
     "metadata": {},
     "output_type": "execute_result"
    }
   ],
   "source": [
    "topvendors = df_vendors_top['업체명']\n",
    "topvendors[0:10]"
   ]
  },
  {
   "cell_type": "code",
   "execution_count": 47,
   "id": "a0a57737",
   "metadata": {},
   "outputs": [
    {
     "name": "stdout",
     "output_type": "stream",
     "text": [
      "df_solditems_창신리빙 = df_solditems [df_solditems['업체명'] == '창신리빙']\n",
      "df_solditems_창신리빙_count = df_solditems_창신리빙.groupby('주문일자').주문일시.count().to_frame()\n",
      "df_solditems_창신리빙_count.columns = ['주문건수']\n",
      "\n",
      "df_solditems_(주)여우미 = df_solditems [df_solditems['업체명'] == '(주)여우미']\n",
      "df_solditems_(주)여우미_count = df_solditems_(주)여우미.groupby('주문일자').주문일시.count().to_frame()\n",
      "df_solditems_(주)여우미_count.columns = ['주문건수']\n",
      "\n",
      "df_solditems_(주)세상담기 = df_solditems [df_solditems['업체명'] == '(주)세상담기']\n",
      "df_solditems_(주)세상담기_count = df_solditems_(주)세상담기.groupby('주문일자').주문일시.count().to_frame()\n",
      "df_solditems_(주)세상담기_count.columns = ['주문건수']\n",
      "\n",
      "df_solditems_하우스플러스(주) = df_solditems [df_solditems['업체명'] == '하우스플러스(주)']\n",
      "df_solditems_하우스플러스(주)_count = df_solditems_하우스플러스(주).groupby('주문일자').주문일시.count().to_frame()\n",
      "df_solditems_하우스플러스(주)_count.columns = ['주문건수']\n",
      "\n"
     ]
    }
   ],
   "source": [
    "for vendor in topvendors[1:5] :\n",
    "    name = 'df_solditems_'+ vendor\n",
    "    \n",
    "    namefiltering = name + \" = df_solditems [df_solditems['업체명'] == \" + \"'\" + vendor + \"'\" + ']'\n",
    "    grouping = name + '_count = ' + name + \".groupby('주문일자').주문일시.count().to_frame()\"\n",
    "    columnchange = name + \"_count.columns = ['주문건수']\"\n",
    "        \n",
    "    print(namefiltering)\n",
    "    print(grouping)\n",
    "    print(columnchange)\n",
    "    print()\n",
    "    "
   ]
  },
  {
   "cell_type": "code",
   "execution_count": 58,
   "id": "b01bb5dc",
   "metadata": {},
   "outputs": [],
   "source": [
    "df_solditems_오름 = df_solditems [df_solditems['업체명'] == '오름']\n",
    "df_solditems_오름_count = df_solditems_창신리빙.groupby('주문일자').주문일시.count().to_frame()\n",
    "df_solditems_오름_count.columns = ['주문건수']\n",
    "\n",
    "df_solditems_창신리빙 = df_solditems [df_solditems['업체명'] == '창신리빙']\n",
    "df_solditems_창신리빙_count = df_solditems_창신리빙.groupby('주문일자').주문일시.count().to_frame()\n",
    "df_solditems_창신리빙_count.columns = ['주문건수']\n",
    "\n",
    "df_solditems_여우미 = df_solditems [df_solditems['업체명'] == '(주)여우미']\n",
    "df_solditems_여우미_count = df_solditems_여우미.groupby('주문일자').주문일시.count().to_frame()\n",
    "df_solditems_여우미_count.columns = ['주문건수']\n",
    "\n",
    "df_solditems_세상담기 = df_solditems [df_solditems['업체명'] == '(주)세상담기']\n",
    "df_solditems_세상담기_count = df_solditems_세상담기.groupby('주문일자').주문일시.count().to_frame()\n",
    "df_solditems_세상담기_count.columns = ['주문건수']\n",
    "\n",
    "df_solditems_하우스플러스 = df_solditems [df_solditems['업체명'] == '하우스플러스(주)']\n",
    "df_solditems_하우스플러스_count = df_solditems_하우스플러스.groupby('주문일자').주문일시.count().to_frame()\n",
    "df_solditems_하우스플러스_count.columns = ['주문건수']"
   ]
  },
  {
   "cell_type": "code",
   "execution_count": 49,
   "id": "0d6992dd",
   "metadata": {},
   "outputs": [
    {
     "data": {
      "image/png": "[encoded data removed]",
      "text/plain": [
       "<Figure size 720x360 with 1 Axes>"
      ]
     },
     "metadata": {
      "needs_background": "light"
     },
     "output_type": "display_data"
    }
   ],
   "source": [
    "plt.rcParams['figure.figsize']=(10,5)\n",
    "\n",
    "plt.scatter(df_solditems_창신리빙_count.index, df_solditems_창신리빙_count.values, marker = '.', color = 'c')\n",
    "\n",
    "plt.title('주문건수 2위 업체 창신리빙 일자별 주문건수')\n",
    "plt.show()"
   ]
  },
  {
   "cell_type": "code",
   "execution_count": 50,
   "id": "9f2fd905",
   "metadata": {},
   "outputs": [
    {
     "data": {
      "image/png": "[encoded data removed]",
      "text/plain": [
       "<Figure size 720x360 with 1 Axes>"
      ]
     },
     "metadata": {
      "needs_background": "light"
     },
     "output_type": "display_data"
    }
   ],
   "source": [
    "plt.rcParams['figure.figsize']=(10,5)\n",
    "\n",
    "plt.scatter(df_solditems_여우미_count.index, df_solditems_여우미_count.values, marker = '.', color = 'c')\n",
    "\n",
    "plt.title('주문건수 3위 (주)여우미 일자별 주문건수')\n",
    "plt.show()"
   ]
  },
  {
   "cell_type": "code",
   "execution_count": 51,
   "id": "4a54e2a4",
   "metadata": {},
   "outputs": [
    {
     "data": {
      "image/png": "[encoded data removed]",
      "text/plain": [
       "<Figure size 720x360 with 1 Axes>"
      ]
     },
     "metadata": {
      "needs_background": "light"
     },
     "output_type": "display_data"
    }
   ],
   "source": [
    "plt.rcParams['figure.figsize']=(10,5)\n",
    "\n",
    "plt.scatter(df_solditems_세상담기_count.index, df_solditems_세상담기_count.values, marker = '.', color = 'c')\n",
    "\n",
    "plt.title('주문건수 4위 (주)세상담기 일자별 주문건수')\n",
    "plt.show()"
   ]
  },
  {
   "cell_type": "code",
   "execution_count": 52,
   "id": "dcdf6920",
   "metadata": {},
   "outputs": [
    {
     "data": {
      "image/png": "[encoded data removed]",
      "text/plain": [
       "<Figure size 720x360 with 1 Axes>"
      ]
     },
     "metadata": {
      "needs_background": "light"
     },
     "output_type": "display_data"
    }
   ],
   "source": [
    "plt.rcParams['figure.figsize']=(10,5)\n",
    "\n",
    "plt.scatter(df_solditems_하우스플러스_count.index, df_solditems_하우스플러스_count.values, marker = '.', color = 'c')\n",
    "\n",
    "plt.title('주문건수 5위 하우스플러스(주) 일자별 주문건수')\n",
    "plt.show()"
   ]
  },
  {
   "cell_type": "code",
   "execution_count": 59,
   "id": "0050f93f",
   "metadata": {},
   "outputs": [
    {
     "data": {
      "image/png": "[encoded data removed]",
      "text/plain": [
       "<Figure size 1440x360 with 5 Axes>"
      ]
     },
     "metadata": {
      "needs_background": "light"
     },
     "output_type": "display_data"
    }
   ],
   "source": [
    "fig = plt.figure(figsize=(20,5))\n",
    "ax1 = fig.add_subplot(2,3,1)\n",
    "ax2 = fig.add_subplot(2,3,2)\n",
    "ax3 = fig.add_subplot(2,3,3)\n",
    "ax4 = fig.add_subplot(2,3,4)\n",
    "ax5 = fig.add_subplot(2,3,5)\n",
    "\n",
    "ax1.scatter(df_solditems_오름_count.index, df_solditems_오름_count.values, marker = '.', color = 'c')\n",
    "ax2.scatter(df_solditems_창신리빙_count.index, df_solditems_창신리빙_count.values, marker = '.', color = 'c')\n",
    "ax3.scatter(df_solditems_여우미_count.index, df_solditems_여우미_count.values, marker = '.', color = 'c')\n",
    "ax4.scatter(df_solditems_세상담기_count.index, df_solditems_세상담기_count.values, marker = '.', color = 'c')\n",
    "ax5.scatter(df_solditems_하우스플러스_count.index, df_solditems_하우스플러스_count.values, marker = '.', color = 'c')\n",
    "\n",
    "ax1.set_yticks(range(0,400,100))\n",
    "ax2.set_yticks(range(0,400,100))\n",
    "ax3.set_yticks(range(0,400,100))\n",
    "ax4.set_yticks(range(0,400,100))\n",
    "ax5.set_yticks(range(0,400,100))\n",
    "\n",
    "ax1.set_title('오름')\n",
    "ax2.set_title('창신리빙')\n",
    "ax3.set_title('(주)여우미')\n",
    "ax4.set_title('(주)세상담기')\n",
    "ax5.set_title('하우스플러스(주)')\n",
    "\n",
    "\n",
    "fig.suptitle('XX 온라인 쇼핑몰 매출상위업체 주문건수', size=20)\n",
    "fig.tight_layout()\n",
    "\n",
    "plt.show()"
   ]
  }
 ],
 "metadata": {
  "kernelspec": {
   "display_name": "Python 3 (ipykernel)",
   "language": "python",
   "name": "python3"
  },
  "language_info": {
   "codemirror_mode": {
    "name": "ipython",
    "version": 3
   },
   "file_extension": ".py",
   "mimetype": "text/x-python",
   "name": "python",
   "nbconvert_exporter": "python",
   "pygments_lexer": "ipython3",
   "version": "3.9.12"
  },
  "toc": {
   "base_numbering": 1,
   "nav_menu": {},
   "number_sections": true,
   "sideBar": true,
   "skip_h1_title": false,
   "title_cell": "Table of Contents",
   "title_sidebar": "Contents",
   "toc_cell": false,
   "toc_position": {},
   "toc_section_display": true,
   "toc_window_display": false
  }
 },
 "nbformat": 4,
 "nbformat_minor": 5
}
